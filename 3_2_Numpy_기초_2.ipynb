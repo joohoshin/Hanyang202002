{
  "nbformat": 4,
  "nbformat_minor": 0,
  "metadata": {
    "kernelspec": {
      "display_name": "Python 3",
      "language": "python",
      "name": "python3"
    },
    "language_info": {
      "codemirror_mode": {
        "name": "ipython",
        "version": 3
      },
      "file_extension": ".py",
      "mimetype": "text/x-python",
      "name": "python",
      "nbconvert_exporter": "python",
      "pygments_lexer": "ipython3",
      "version": "3.7.3"
    },
    "colab": {
      "name": "3-2. Numpy 기초 2.ipynb",
      "provenance": [],
      "include_colab_link": true
    }
  },
  "cells": [
    {
      "cell_type": "markdown",
      "metadata": {
        "id": "view-in-github",
        "colab_type": "text"
      },
      "source": [
        "<a href=\"https://colab.research.google.com/github/joohoshin/MLDL_Basic/blob/master/3_2_Numpy_%EA%B8%B0%EC%B4%88_2.ipynb\" target=\"_parent\"><img src=\"https://colab.research.google.com/assets/colab-badge.svg\" alt=\"Open In Colab\"/></a>"
      ]
    },
    {
      "cell_type": "markdown",
      "metadata": {
        "id": "hl1m_GHM7mEJ",
        "colab_type": "text"
      },
      "source": [
        "# 배열 자동 생성\n",
        "* random을 통해서 자동으로 생성가능함\n",
        "* randint(start, end, size = (row size, column size)) 형태로 사용 (end는 포함되지 않음)"
      ]
    },
    {
      "cell_type": "code",
      "metadata": {
        "id": "DTaWkS187mEK",
        "colab_type": "code",
        "colab": {}
      },
      "source": [
        "import numpy as np"
      ],
      "execution_count": null,
      "outputs": []
    },
    {
      "cell_type": "code",
      "metadata": {
        "id": "AvK2vzub7mEN",
        "colab_type": "code",
        "colab": {
          "base_uri": "https://localhost:8080/",
          "height": 70
        },
        "outputId": "3e2e03f5-83ac-49c7-aa8b-088478877a7d"
      },
      "source": [
        "arr1 = np.random.randint(0,10, size=(2,3))\n",
        "print(arr1)\n",
        "\n",
        "arr2 = np.random.randint(0,10, size = 10)\n",
        "print(arr2)"
      ],
      "execution_count": null,
      "outputs": [
        {
          "output_type": "stream",
          "text": [
            "[[7 4 0]\n",
            " [7 3 4]]\n",
            "[3 5 3 4 2 0 8 8 1 0]\n"
          ],
          "name": "stdout"
        }
      ]
    },
    {
      "cell_type": "markdown",
      "metadata": {
        "id": "V-qYANcR7mEQ",
        "colab_type": "text"
      },
      "source": [
        "* rand(row size, column size)는 0~1 사이의 값을 랜덤 선택 (1은 미포함)\n"
      ]
    },
    {
      "cell_type": "code",
      "metadata": {
        "id": "QZ8owffg7mER",
        "colab_type": "code",
        "colab": {
          "base_uri": "https://localhost:8080/",
          "height": 105
        },
        "outputId": "0e456feb-18f4-4601-ddbd-0b0f3144a7b5"
      },
      "source": [
        "arr3 = np.random.rand(5,3)\n",
        "print(arr3)"
      ],
      "execution_count": null,
      "outputs": [
        {
          "output_type": "stream",
          "text": [
            "[[0.13506137 0.74429129 0.79234368]\n",
            " [0.36866682 0.92896132 0.56316011]\n",
            " [0.06738341 0.61495675 0.92124939]\n",
            " [0.12153414 0.68831947 0.59615814]\n",
            " [0.27323113 0.55526047 0.70250251]]\n"
          ],
          "name": "stdout"
        }
      ]
    },
    {
      "cell_type": "code",
      "metadata": {
        "id": "yQT2kZVX7mEW",
        "colab_type": "code",
        "colab": {
          "base_uri": "https://localhost:8080/",
          "height": 105
        },
        "outputId": "65315981-50f0-4faa-c04a-53eed5e9ef93"
      },
      "source": [
        "arr4 = np.random.rand(5,3)\n",
        "print(arr4)"
      ],
      "execution_count": null,
      "outputs": [
        {
          "output_type": "stream",
          "text": [
            "[[0.54890163 0.13012969 0.50730345]\n",
            " [0.80947023 0.86995128 0.9919448 ]\n",
            " [0.05885575 0.47590606 0.46764917]\n",
            " [0.82826764 0.89907778 0.30360596]\n",
            " [0.27291213 0.33055165 0.59864073]]\n"
          ],
          "name": "stdout"
        }
      ]
    },
    {
      "cell_type": "markdown",
      "metadata": {
        "id": "z5AZUifD7mEY",
        "colab_type": "text"
      },
      "source": [
        "* 그 외에도 여러가지 행렬 연산 기능이 있음\n",
        "* https://www.bogotobogo.com/python/python_numpy_matrix_tutorial.php"
      ]
    },
    {
      "cell_type": "markdown",
      "metadata": {
        "id": "5ctMD3kj7mEY",
        "colab_type": "text"
      },
      "source": [
        "##### 주요 통계값\n",
        "* 리스트와 마찬가지로 min(), count() 등 되며\n",
        "* 평균 및 표준편차도 쉽게 구할 수 있다 mean(), std() "
      ]
    },
    {
      "cell_type": "code",
      "metadata": {
        "id": "ZRFj0k7Y7mEZ",
        "colab_type": "code",
        "colab": {
          "base_uri": "https://localhost:8080/",
          "height": 122
        },
        "outputId": "505131d6-fc2a-4268-d9b6-c50ce482614f"
      },
      "source": [
        "print(arr4.sum())\n",
        "print(arr4.min())\n",
        "print(arr4.max())\n",
        "print(arr4.mean()) # 평균\n",
        "print(arr4.std()) # 표준편차\n",
        "print(arr4.var()) # 분산\n"
      ],
      "execution_count": null,
      "outputs": [
        {
          "output_type": "stream",
          "text": [
            "8.093167944366154\n",
            "0.058855748340324365\n",
            "0.9919448018089624\n",
            "0.5395445296244102\n",
            "0.2807463837808541\n",
            "0.07881853200602662\n"
          ],
          "name": "stdout"
        }
      ]
    },
    {
      "cell_type": "markdown",
      "metadata": {
        "id": "Rl4j2f7y7mEb",
        "colab_type": "text"
      },
      "source": [
        "##### 특정 범위 가져오기\n",
        "* arr[start:end:step]으로 특정 범위 데이터를 가져올 수 있다\n",
        "  (end 는 미포함)\n",
        "* 리스트와 동일함"
      ]
    },
    {
      "cell_type": "code",
      "metadata": {
        "id": "DhT9SrDM7mEc",
        "colab_type": "code",
        "colab": {
          "base_uri": "https://localhost:8080/",
          "height": 34
        },
        "outputId": "a494d53d-76a5-485c-a235-232f99a3d71e"
      },
      "source": [
        "arr5 = np.random.randint(10, size = 10)\n",
        "print(arr5)"
      ],
      "execution_count": null,
      "outputs": [
        {
          "output_type": "stream",
          "text": [
            "[5 2 6 3 6 1 1 7 6 7]\n"
          ],
          "name": "stdout"
        }
      ]
    },
    {
      "cell_type": "code",
      "metadata": {
        "id": "bN5HGCvi7mEf",
        "colab_type": "code",
        "colab": {
          "base_uri": "https://localhost:8080/",
          "height": 34
        },
        "outputId": "a4684a3a-e1e3-46a9-cda7-4706435a8d6e"
      },
      "source": [
        "arr5[:5] "
      ],
      "execution_count": null,
      "outputs": [
        {
          "output_type": "execute_result",
          "data": {
            "text/plain": [
              "array([5, 2, 6, 3, 6])"
            ]
          },
          "metadata": {
            "tags": []
          },
          "execution_count": 15
        }
      ]
    },
    {
      "cell_type": "code",
      "metadata": {
        "id": "OD-Y9MfH7mEi",
        "colab_type": "code",
        "colab": {
          "base_uri": "https://localhost:8080/",
          "height": 34
        },
        "outputId": "c601e2f1-2765-46d4-b18c-4d2175ea476f"
      },
      "source": [
        "arr5[1:3]"
      ],
      "execution_count": null,
      "outputs": [
        {
          "output_type": "execute_result",
          "data": {
            "text/plain": [
              "array([2, 6])"
            ]
          },
          "metadata": {
            "tags": []
          },
          "execution_count": 16
        }
      ]
    },
    {
      "cell_type": "code",
      "metadata": {
        "id": "1SkSn9vR7mEk",
        "colab_type": "code",
        "colab": {}
      },
      "source": [
        ""
      ],
      "execution_count": null,
      "outputs": []
    }
  ]
}