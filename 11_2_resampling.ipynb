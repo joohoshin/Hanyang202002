{
  "nbformat": 4,
  "nbformat_minor": 0,
  "metadata": {
    "colab": {
      "name": "11-2. resampling.ipynb",
      "provenance": [],
      "collapsed_sections": [],
      "mount_file_id": "1dHqYFAxQDaxnyMnl8xsL4w_LsyOj3sAn",
      "authorship_tag": "ABX9TyNgew4TIXh95oUrxGdrT1kE",
      "include_colab_link": true
    },
    "kernelspec": {
      "name": "python3",
      "display_name": "Python 3"
    }
  },
  "cells": [
    {
      "cell_type": "markdown",
      "metadata": {
        "id": "view-in-github",
        "colab_type": "text"
      },
      "source": [
        "<a href=\"https://colab.research.google.com/github/joohoshin/MLDL_Basic/blob/master/11_2_resampling.ipynb\" target=\"_parent\"><img src=\"https://colab.research.google.com/assets/colab-badge.svg\" alt=\"Open In Colab\"/></a>"
      ]
    },
    {
      "cell_type": "markdown",
      "metadata": {
        "id": "OyV6JnbJGpHZ"
      },
      "source": [
        "불균형한 데이터를 다룰때에는 데이터를 균형을 맞춰주는 것이 좋음"
      ]
    },
    {
      "cell_type": "markdown",
      "metadata": {
        "id": "o4f9aIJ2gAT0"
      },
      "source": [
        "https://www.kaggle.com/sammy123/lower-back-pain-symptoms-dataset/notebooks"
      ]
    },
    {
      "cell_type": "code",
      "metadata": {
        "id": "ezqJdu3YltRh"
      },
      "source": [
        "import pandas as pd\n",
        "\n",
        "raw_df = pd.read_csv('/content/drive/My Drive/ML_DL_202002/Dataset_spine.csv')"
      ],
      "execution_count": null,
      "outputs": []
    },
    {
      "cell_type": "code",
      "metadata": {
        "id": "bWb1q18nl28R",
        "outputId": "c9c0a01e-b584-4571-a12a-8df5ca5243f0",
        "colab": {
          "base_uri": "https://localhost:8080/",
          "height": 375
        }
      },
      "source": [
        "raw_df.drop(columns='Unnamed: 13',inplace=True)\n",
        "col_name = ['pelvic_incidnece','pelvic_tilt','lumbar_lordosis_angle','sacral_slope','pelvic_radius','degree_spondylolisthesis',\n",
        "           'pelvic_slope','Direct_tilt','thoracic_slope','cervical_tilt','sacrum_angle','scoliosis_slope','Class_att']\n",
        "raw_df.columns = col_name\n",
        "\n",
        "raw_df.head(10)"
      ],
      "execution_count": null,
      "outputs": [
        {
          "output_type": "execute_result",
          "data": {
            "text/html": [
              "<div>\n",
              "<style scoped>\n",
              "    .dataframe tbody tr th:only-of-type {\n",
              "        vertical-align: middle;\n",
              "    }\n",
              "\n",
              "    .dataframe tbody tr th {\n",
              "        vertical-align: top;\n",
              "    }\n",
              "\n",
              "    .dataframe thead th {\n",
              "        text-align: right;\n",
              "    }\n",
              "</style>\n",
              "<table border=\"1\" class=\"dataframe\">\n",
              "  <thead>\n",
              "    <tr style=\"text-align: right;\">\n",
              "      <th></th>\n",
              "      <th>pelvic_incidnece</th>\n",
              "      <th>pelvic_tilt</th>\n",
              "      <th>lumbar_lordosis_angle</th>\n",
              "      <th>sacral_slope</th>\n",
              "      <th>pelvic_radius</th>\n",
              "      <th>degree_spondylolisthesis</th>\n",
              "      <th>pelvic_slope</th>\n",
              "      <th>Direct_tilt</th>\n",
              "      <th>thoracic_slope</th>\n",
              "      <th>cervical_tilt</th>\n",
              "      <th>sacrum_angle</th>\n",
              "      <th>scoliosis_slope</th>\n",
              "      <th>Class_att</th>\n",
              "    </tr>\n",
              "  </thead>\n",
              "  <tbody>\n",
              "    <tr>\n",
              "      <th>0</th>\n",
              "      <td>63.027818</td>\n",
              "      <td>22.552586</td>\n",
              "      <td>39.609117</td>\n",
              "      <td>40.475232</td>\n",
              "      <td>98.672917</td>\n",
              "      <td>-0.254400</td>\n",
              "      <td>0.744503</td>\n",
              "      <td>12.5661</td>\n",
              "      <td>14.5386</td>\n",
              "      <td>15.30468</td>\n",
              "      <td>-28.658501</td>\n",
              "      <td>43.5123</td>\n",
              "      <td>Abnormal</td>\n",
              "    </tr>\n",
              "    <tr>\n",
              "      <th>1</th>\n",
              "      <td>39.056951</td>\n",
              "      <td>10.060991</td>\n",
              "      <td>25.015378</td>\n",
              "      <td>28.995960</td>\n",
              "      <td>114.405425</td>\n",
              "      <td>4.564259</td>\n",
              "      <td>0.415186</td>\n",
              "      <td>12.8874</td>\n",
              "      <td>17.5323</td>\n",
              "      <td>16.78486</td>\n",
              "      <td>-25.530607</td>\n",
              "      <td>16.1102</td>\n",
              "      <td>Abnormal</td>\n",
              "    </tr>\n",
              "    <tr>\n",
              "      <th>2</th>\n",
              "      <td>68.832021</td>\n",
              "      <td>22.218482</td>\n",
              "      <td>50.092194</td>\n",
              "      <td>46.613539</td>\n",
              "      <td>105.985135</td>\n",
              "      <td>-3.530317</td>\n",
              "      <td>0.474889</td>\n",
              "      <td>26.8343</td>\n",
              "      <td>17.4861</td>\n",
              "      <td>16.65897</td>\n",
              "      <td>-29.031888</td>\n",
              "      <td>19.2221</td>\n",
              "      <td>Abnormal</td>\n",
              "    </tr>\n",
              "    <tr>\n",
              "      <th>3</th>\n",
              "      <td>69.297008</td>\n",
              "      <td>24.652878</td>\n",
              "      <td>44.311238</td>\n",
              "      <td>44.644130</td>\n",
              "      <td>101.868495</td>\n",
              "      <td>11.211523</td>\n",
              "      <td>0.369345</td>\n",
              "      <td>23.5603</td>\n",
              "      <td>12.7074</td>\n",
              "      <td>11.42447</td>\n",
              "      <td>-30.470246</td>\n",
              "      <td>18.8329</td>\n",
              "      <td>Abnormal</td>\n",
              "    </tr>\n",
              "    <tr>\n",
              "      <th>4</th>\n",
              "      <td>49.712859</td>\n",
              "      <td>9.652075</td>\n",
              "      <td>28.317406</td>\n",
              "      <td>40.060784</td>\n",
              "      <td>108.168725</td>\n",
              "      <td>7.918501</td>\n",
              "      <td>0.543360</td>\n",
              "      <td>35.4940</td>\n",
              "      <td>15.9546</td>\n",
              "      <td>8.87237</td>\n",
              "      <td>-16.378376</td>\n",
              "      <td>24.9171</td>\n",
              "      <td>Abnormal</td>\n",
              "    </tr>\n",
              "    <tr>\n",
              "      <th>5</th>\n",
              "      <td>40.250200</td>\n",
              "      <td>13.921907</td>\n",
              "      <td>25.124950</td>\n",
              "      <td>26.328293</td>\n",
              "      <td>130.327871</td>\n",
              "      <td>2.230652</td>\n",
              "      <td>0.789993</td>\n",
              "      <td>29.3230</td>\n",
              "      <td>12.0036</td>\n",
              "      <td>10.40462</td>\n",
              "      <td>-1.512209</td>\n",
              "      <td>9.6548</td>\n",
              "      <td>Abnormal</td>\n",
              "    </tr>\n",
              "    <tr>\n",
              "      <th>6</th>\n",
              "      <td>53.432928</td>\n",
              "      <td>15.864336</td>\n",
              "      <td>37.165934</td>\n",
              "      <td>37.568592</td>\n",
              "      <td>120.567523</td>\n",
              "      <td>5.988551</td>\n",
              "      <td>0.198920</td>\n",
              "      <td>13.8514</td>\n",
              "      <td>10.7146</td>\n",
              "      <td>11.37832</td>\n",
              "      <td>-20.510434</td>\n",
              "      <td>25.9477</td>\n",
              "      <td>Abnormal</td>\n",
              "    </tr>\n",
              "    <tr>\n",
              "      <th>7</th>\n",
              "      <td>45.366754</td>\n",
              "      <td>10.755611</td>\n",
              "      <td>29.038349</td>\n",
              "      <td>34.611142</td>\n",
              "      <td>117.270068</td>\n",
              "      <td>-10.675871</td>\n",
              "      <td>0.131973</td>\n",
              "      <td>28.8165</td>\n",
              "      <td>7.7676</td>\n",
              "      <td>7.60961</td>\n",
              "      <td>-25.111459</td>\n",
              "      <td>26.3543</td>\n",
              "      <td>Abnormal</td>\n",
              "    </tr>\n",
              "    <tr>\n",
              "      <th>8</th>\n",
              "      <td>43.790190</td>\n",
              "      <td>13.533753</td>\n",
              "      <td>42.690814</td>\n",
              "      <td>30.256437</td>\n",
              "      <td>125.002893</td>\n",
              "      <td>13.289018</td>\n",
              "      <td>0.190408</td>\n",
              "      <td>22.7085</td>\n",
              "      <td>11.4234</td>\n",
              "      <td>10.59188</td>\n",
              "      <td>-20.020075</td>\n",
              "      <td>40.0276</td>\n",
              "      <td>Abnormal</td>\n",
              "    </tr>\n",
              "    <tr>\n",
              "      <th>9</th>\n",
              "      <td>36.686353</td>\n",
              "      <td>5.010884</td>\n",
              "      <td>41.948751</td>\n",
              "      <td>31.675469</td>\n",
              "      <td>84.241415</td>\n",
              "      <td>0.664437</td>\n",
              "      <td>0.367700</td>\n",
              "      <td>26.2011</td>\n",
              "      <td>8.7380</td>\n",
              "      <td>14.91416</td>\n",
              "      <td>-1.702097</td>\n",
              "      <td>21.4320</td>\n",
              "      <td>Abnormal</td>\n",
              "    </tr>\n",
              "  </tbody>\n",
              "</table>\n",
              "</div>"
            ],
            "text/plain": [
              "   pelvic_incidnece  pelvic_tilt  ...  scoliosis_slope  Class_att\n",
              "0         63.027818    22.552586  ...          43.5123   Abnormal\n",
              "1         39.056951    10.060991  ...          16.1102   Abnormal\n",
              "2         68.832021    22.218482  ...          19.2221   Abnormal\n",
              "3         69.297008    24.652878  ...          18.8329   Abnormal\n",
              "4         49.712859     9.652075  ...          24.9171   Abnormal\n",
              "5         40.250200    13.921907  ...           9.6548   Abnormal\n",
              "6         53.432928    15.864336  ...          25.9477   Abnormal\n",
              "7         45.366754    10.755611  ...          26.3543   Abnormal\n",
              "8         43.790190    13.533753  ...          40.0276   Abnormal\n",
              "9         36.686353     5.010884  ...          21.4320   Abnormal\n",
              "\n",
              "[10 rows x 13 columns]"
            ]
          },
          "metadata": {
            "tags": []
          },
          "execution_count": 169
        }
      ]
    },
    {
      "cell_type": "code",
      "metadata": {
        "id": "ou1srOkUhaKM"
      },
      "source": [
        "df= raw_df.copy()"
      ],
      "execution_count": null,
      "outputs": []
    },
    {
      "cell_type": "code",
      "metadata": {
        "id": "phLGMPbGJUst",
        "outputId": "a71a3b3a-55bd-4d76-f778-787112b24215",
        "colab": {
          "base_uri": "https://localhost:8080/",
          "height": 73
        }
      },
      "source": [
        "df.Class_att.value_counts()"
      ],
      "execution_count": null,
      "outputs": [
        {
          "output_type": "execute_result",
          "data": {
            "text/plain": [
              "Abnormal    210\n",
              "Normal      100\n",
              "Name: Class_att, dtype: int64"
            ]
          },
          "metadata": {
            "tags": []
          },
          "execution_count": 171
        }
      ]
    },
    {
      "cell_type": "code",
      "metadata": {
        "id": "N998YRu3iC8b"
      },
      "source": [
        "df['Class'] = df.Class_att.apply(lambda x: 1 if x=='Abnormal' else 0)"
      ],
      "execution_count": null,
      "outputs": []
    },
    {
      "cell_type": "code",
      "metadata": {
        "id": "3QojrbQFiKtC",
        "outputId": "f09d85fc-c7c4-430a-cdd3-4c5c8ff67eac",
        "colab": {
          "base_uri": "https://localhost:8080/",
          "height": 222
        }
      },
      "source": [
        "df.head()"
      ],
      "execution_count": null,
      "outputs": [
        {
          "output_type": "execute_result",
          "data": {
            "text/html": [
              "<div>\n",
              "<style scoped>\n",
              "    .dataframe tbody tr th:only-of-type {\n",
              "        vertical-align: middle;\n",
              "    }\n",
              "\n",
              "    .dataframe tbody tr th {\n",
              "        vertical-align: top;\n",
              "    }\n",
              "\n",
              "    .dataframe thead th {\n",
              "        text-align: right;\n",
              "    }\n",
              "</style>\n",
              "<table border=\"1\" class=\"dataframe\">\n",
              "  <thead>\n",
              "    <tr style=\"text-align: right;\">\n",
              "      <th></th>\n",
              "      <th>pelvic_incidnece</th>\n",
              "      <th>pelvic_tilt</th>\n",
              "      <th>lumbar_lordosis_angle</th>\n",
              "      <th>sacral_slope</th>\n",
              "      <th>pelvic_radius</th>\n",
              "      <th>degree_spondylolisthesis</th>\n",
              "      <th>pelvic_slope</th>\n",
              "      <th>Direct_tilt</th>\n",
              "      <th>thoracic_slope</th>\n",
              "      <th>cervical_tilt</th>\n",
              "      <th>sacrum_angle</th>\n",
              "      <th>scoliosis_slope</th>\n",
              "      <th>Class_att</th>\n",
              "      <th>Class</th>\n",
              "    </tr>\n",
              "  </thead>\n",
              "  <tbody>\n",
              "    <tr>\n",
              "      <th>0</th>\n",
              "      <td>63.027818</td>\n",
              "      <td>22.552586</td>\n",
              "      <td>39.609117</td>\n",
              "      <td>40.475232</td>\n",
              "      <td>98.672917</td>\n",
              "      <td>-0.254400</td>\n",
              "      <td>0.744503</td>\n",
              "      <td>12.5661</td>\n",
              "      <td>14.5386</td>\n",
              "      <td>15.30468</td>\n",
              "      <td>-28.658501</td>\n",
              "      <td>43.5123</td>\n",
              "      <td>Abnormal</td>\n",
              "      <td>1</td>\n",
              "    </tr>\n",
              "    <tr>\n",
              "      <th>1</th>\n",
              "      <td>39.056951</td>\n",
              "      <td>10.060991</td>\n",
              "      <td>25.015378</td>\n",
              "      <td>28.995960</td>\n",
              "      <td>114.405425</td>\n",
              "      <td>4.564259</td>\n",
              "      <td>0.415186</td>\n",
              "      <td>12.8874</td>\n",
              "      <td>17.5323</td>\n",
              "      <td>16.78486</td>\n",
              "      <td>-25.530607</td>\n",
              "      <td>16.1102</td>\n",
              "      <td>Abnormal</td>\n",
              "      <td>1</td>\n",
              "    </tr>\n",
              "    <tr>\n",
              "      <th>2</th>\n",
              "      <td>68.832021</td>\n",
              "      <td>22.218482</td>\n",
              "      <td>50.092194</td>\n",
              "      <td>46.613539</td>\n",
              "      <td>105.985135</td>\n",
              "      <td>-3.530317</td>\n",
              "      <td>0.474889</td>\n",
              "      <td>26.8343</td>\n",
              "      <td>17.4861</td>\n",
              "      <td>16.65897</td>\n",
              "      <td>-29.031888</td>\n",
              "      <td>19.2221</td>\n",
              "      <td>Abnormal</td>\n",
              "      <td>1</td>\n",
              "    </tr>\n",
              "    <tr>\n",
              "      <th>3</th>\n",
              "      <td>69.297008</td>\n",
              "      <td>24.652878</td>\n",
              "      <td>44.311238</td>\n",
              "      <td>44.644130</td>\n",
              "      <td>101.868495</td>\n",
              "      <td>11.211523</td>\n",
              "      <td>0.369345</td>\n",
              "      <td>23.5603</td>\n",
              "      <td>12.7074</td>\n",
              "      <td>11.42447</td>\n",
              "      <td>-30.470246</td>\n",
              "      <td>18.8329</td>\n",
              "      <td>Abnormal</td>\n",
              "      <td>1</td>\n",
              "    </tr>\n",
              "    <tr>\n",
              "      <th>4</th>\n",
              "      <td>49.712859</td>\n",
              "      <td>9.652075</td>\n",
              "      <td>28.317406</td>\n",
              "      <td>40.060784</td>\n",
              "      <td>108.168725</td>\n",
              "      <td>7.918501</td>\n",
              "      <td>0.543360</td>\n",
              "      <td>35.4940</td>\n",
              "      <td>15.9546</td>\n",
              "      <td>8.87237</td>\n",
              "      <td>-16.378376</td>\n",
              "      <td>24.9171</td>\n",
              "      <td>Abnormal</td>\n",
              "      <td>1</td>\n",
              "    </tr>\n",
              "  </tbody>\n",
              "</table>\n",
              "</div>"
            ],
            "text/plain": [
              "   pelvic_incidnece  pelvic_tilt  ...  Class_att  Class\n",
              "0         63.027818    22.552586  ...   Abnormal      1\n",
              "1         39.056951    10.060991  ...   Abnormal      1\n",
              "2         68.832021    22.218482  ...   Abnormal      1\n",
              "3         69.297008    24.652878  ...   Abnormal      1\n",
              "4         49.712859     9.652075  ...   Abnormal      1\n",
              "\n",
              "[5 rows x 14 columns]"
            ]
          },
          "metadata": {
            "tags": []
          },
          "execution_count": 143
        }
      ]
    },
    {
      "cell_type": "code",
      "metadata": {
        "id": "yzhqh0d4iSZu"
      },
      "source": [
        "df.drop(columns=['Class_att'], inplace=True)"
      ],
      "execution_count": null,
      "outputs": []
    },
    {
      "cell_type": "code",
      "metadata": {
        "id": "cQ2aYnWuilj9",
        "outputId": "8c554a40-5f67-41e8-ab9e-9d1885a1f02b",
        "colab": {
          "base_uri": "https://localhost:8080/",
          "height": 222
        }
      },
      "source": [
        "df.head()"
      ],
      "execution_count": null,
      "outputs": [
        {
          "output_type": "execute_result",
          "data": {
            "text/html": [
              "<div>\n",
              "<style scoped>\n",
              "    .dataframe tbody tr th:only-of-type {\n",
              "        vertical-align: middle;\n",
              "    }\n",
              "\n",
              "    .dataframe tbody tr th {\n",
              "        vertical-align: top;\n",
              "    }\n",
              "\n",
              "    .dataframe thead th {\n",
              "        text-align: right;\n",
              "    }\n",
              "</style>\n",
              "<table border=\"1\" class=\"dataframe\">\n",
              "  <thead>\n",
              "    <tr style=\"text-align: right;\">\n",
              "      <th></th>\n",
              "      <th>pelvic_incidnece</th>\n",
              "      <th>pelvic_tilt</th>\n",
              "      <th>lumbar_lordosis_angle</th>\n",
              "      <th>sacral_slope</th>\n",
              "      <th>pelvic_radius</th>\n",
              "      <th>degree_spondylolisthesis</th>\n",
              "      <th>pelvic_slope</th>\n",
              "      <th>Direct_tilt</th>\n",
              "      <th>thoracic_slope</th>\n",
              "      <th>cervical_tilt</th>\n",
              "      <th>sacrum_angle</th>\n",
              "      <th>scoliosis_slope</th>\n",
              "      <th>Class</th>\n",
              "    </tr>\n",
              "  </thead>\n",
              "  <tbody>\n",
              "    <tr>\n",
              "      <th>0</th>\n",
              "      <td>63.027818</td>\n",
              "      <td>22.552586</td>\n",
              "      <td>39.609117</td>\n",
              "      <td>40.475232</td>\n",
              "      <td>98.672917</td>\n",
              "      <td>-0.254400</td>\n",
              "      <td>0.744503</td>\n",
              "      <td>12.5661</td>\n",
              "      <td>14.5386</td>\n",
              "      <td>15.30468</td>\n",
              "      <td>-28.658501</td>\n",
              "      <td>43.5123</td>\n",
              "      <td>1</td>\n",
              "    </tr>\n",
              "    <tr>\n",
              "      <th>1</th>\n",
              "      <td>39.056951</td>\n",
              "      <td>10.060991</td>\n",
              "      <td>25.015378</td>\n",
              "      <td>28.995960</td>\n",
              "      <td>114.405425</td>\n",
              "      <td>4.564259</td>\n",
              "      <td>0.415186</td>\n",
              "      <td>12.8874</td>\n",
              "      <td>17.5323</td>\n",
              "      <td>16.78486</td>\n",
              "      <td>-25.530607</td>\n",
              "      <td>16.1102</td>\n",
              "      <td>1</td>\n",
              "    </tr>\n",
              "    <tr>\n",
              "      <th>2</th>\n",
              "      <td>68.832021</td>\n",
              "      <td>22.218482</td>\n",
              "      <td>50.092194</td>\n",
              "      <td>46.613539</td>\n",
              "      <td>105.985135</td>\n",
              "      <td>-3.530317</td>\n",
              "      <td>0.474889</td>\n",
              "      <td>26.8343</td>\n",
              "      <td>17.4861</td>\n",
              "      <td>16.65897</td>\n",
              "      <td>-29.031888</td>\n",
              "      <td>19.2221</td>\n",
              "      <td>1</td>\n",
              "    </tr>\n",
              "    <tr>\n",
              "      <th>3</th>\n",
              "      <td>69.297008</td>\n",
              "      <td>24.652878</td>\n",
              "      <td>44.311238</td>\n",
              "      <td>44.644130</td>\n",
              "      <td>101.868495</td>\n",
              "      <td>11.211523</td>\n",
              "      <td>0.369345</td>\n",
              "      <td>23.5603</td>\n",
              "      <td>12.7074</td>\n",
              "      <td>11.42447</td>\n",
              "      <td>-30.470246</td>\n",
              "      <td>18.8329</td>\n",
              "      <td>1</td>\n",
              "    </tr>\n",
              "    <tr>\n",
              "      <th>4</th>\n",
              "      <td>49.712859</td>\n",
              "      <td>9.652075</td>\n",
              "      <td>28.317406</td>\n",
              "      <td>40.060784</td>\n",
              "      <td>108.168725</td>\n",
              "      <td>7.918501</td>\n",
              "      <td>0.543360</td>\n",
              "      <td>35.4940</td>\n",
              "      <td>15.9546</td>\n",
              "      <td>8.87237</td>\n",
              "      <td>-16.378376</td>\n",
              "      <td>24.9171</td>\n",
              "      <td>1</td>\n",
              "    </tr>\n",
              "  </tbody>\n",
              "</table>\n",
              "</div>"
            ],
            "text/plain": [
              "   pelvic_incidnece  pelvic_tilt  ...  scoliosis_slope  Class\n",
              "0         63.027818    22.552586  ...          43.5123      1\n",
              "1         39.056951    10.060991  ...          16.1102      1\n",
              "2         68.832021    22.218482  ...          19.2221      1\n",
              "3         69.297008    24.652878  ...          18.8329      1\n",
              "4         49.712859     9.652075  ...          24.9171      1\n",
              "\n",
              "[5 rows x 13 columns]"
            ]
          },
          "metadata": {
            "tags": []
          },
          "execution_count": 145
        }
      ]
    },
    {
      "cell_type": "code",
      "metadata": {
        "id": "lVEhhTG2uTTc",
        "outputId": "00ab9858-ebd0-4b52-dad6-522cd4cf9d09",
        "colab": {
          "base_uri": "https://localhost:8080/",
          "height": 73
        }
      },
      "source": [
        "df['Class'].value_counts()"
      ],
      "execution_count": null,
      "outputs": [
        {
          "output_type": "execute_result",
          "data": {
            "text/plain": [
              "1    210\n",
              "0    100\n",
              "Name: Class, dtype: int64"
            ]
          },
          "metadata": {
            "tags": []
          },
          "execution_count": 174
        }
      ]
    },
    {
      "cell_type": "code",
      "metadata": {
        "id": "xxUM-lrLkQ7l"
      },
      "source": [
        "from sklearn.ensemble import RandomForestClassifier\n",
        "from sklearn.model_selection import train_test_split\n",
        "X = df.iloc[:,:-1].values\n",
        "y = df['Class'].values\n"
      ],
      "execution_count": null,
      "outputs": []
    },
    {
      "cell_type": "code",
      "metadata": {
        "id": "oXMMQ9OhnQ21"
      },
      "source": [
        "X_train, X_test, y_train, y_test = train_test_split(X, y, test_size=0.3, random_state=0, stratify = y)"
      ],
      "execution_count": null,
      "outputs": []
    },
    {
      "cell_type": "markdown",
      "metadata": {
        "id": "0N9y9jdZNDCd"
      },
      "source": [
        "sklearn의 resample을 사용하면 데이터를 랜덤으로 생성 가능함"
      ]
    },
    {
      "cell_type": "code",
      "metadata": {
        "id": "A6ZCTju6NCU9",
        "outputId": "ad66be27-7ee4-40b2-bdf1-ccf3797ace1d",
        "colab": {
          "base_uri": "https://localhost:8080/",
          "height": 92
        }
      },
      "source": [
        "# resample 사용법 설명\n",
        "from sklearn.utils import resample\n",
        "import numpy as np\n",
        "\n",
        "X= np.array([[1,1],[2,2],[1,1],[3,3],[4,4]])\n",
        "y= np.array([0,0,1,1,1])\n",
        "X_up, y_up=resample(X[y==0], y[y==0], replace=True, n_samples =3)\n",
        "print(X_up)\n",
        "print(y_up)"
      ],
      "execution_count": null,
      "outputs": [
        {
          "output_type": "stream",
          "text": [
            "[[1 1]\n",
            " [1 1]\n",
            " [2 2]]\n",
            "[0 0 0]\n"
          ],
          "name": "stdout"
        }
      ]
    },
    {
      "cell_type": "code",
      "metadata": {
        "id": "m5EroW5KLGbo",
        "outputId": "63826d7b-f9f1-41f8-a403-6650a69ecbb3",
        "colab": {
          "base_uri": "https://localhost:8080/",
          "height": 73
        }
      },
      "source": [
        "print(len(X_train))\n",
        "print(len(X_train[y_train==1]))\n",
        "print(len(X_train[y_train==0]))"
      ],
      "execution_count": null,
      "outputs": [
        {
          "output_type": "stream",
          "text": [
            "217\n",
            "147\n",
            "70\n"
          ],
          "name": "stdout"
        }
      ]
    },
    {
      "cell_type": "code",
      "metadata": {
        "id": "Q31y8Z8EvNJ-"
      },
      "source": [
        "from sklearn.utils import resample\n",
        "\n",
        "n_samples = len(X_train[y_train==1]) - len(X_train[y_train==0])\n",
        "\n",
        "X_up, y_up = resample(X_train[y_train==0], y_train[y_train==0], replace=True, \n",
        "                      n_samples = n_samples)"
      ],
      "execution_count": null,
      "outputs": []
    },
    {
      "cell_type": "code",
      "metadata": {
        "id": "lsM-9ZNnwsxi",
        "outputId": "b743777f-fd38-452b-94a9-f49b39eefcea",
        "colab": {
          "base_uri": "https://localhost:8080/",
          "height": 36
        }
      },
      "source": [
        "len(X_up)"
      ],
      "execution_count": null,
      "outputs": [
        {
          "output_type": "execute_result",
          "data": {
            "text/plain": [
              "77"
            ]
          },
          "metadata": {
            "tags": []
          },
          "execution_count": 181
        }
      ]
    },
    {
      "cell_type": "code",
      "metadata": {
        "id": "cWMHkO7iLW0m",
        "outputId": "90f88b9d-2e8f-43de-d18b-9568aed24316",
        "colab": {
          "base_uri": "https://localhost:8080/",
          "height": 1000
        }
      },
      "source": [
        "X_up"
      ],
      "execution_count": null,
      "outputs": [
        {
          "output_type": "execute_result",
          "data": {
            "text/plain": [
              "array([[ 3.93587053e+01,  7.01126181e+00,  3.70000000e+01,\n",
              "         3.23474435e+01,  1.17818760e+02,  1.90404820e+00,\n",
              "         5.87753840e-01,  2.91291000e+01,  9.81680000e+00,\n",
              "         1.59340200e+01, -8.87179300e+00,  1.25514000e+01],\n",
              "       [ 3.90872645e+01,  5.53660248e+00,  2.69320383e+01,\n",
              "         3.35506620e+01,  1.31584420e+02, -7.59461350e-01,\n",
              "         2.52511739e-01,  2.62684000e+01,  1.26508000e+01,\n",
              "         1.23605600e+01, -3.40716110e+01,  4.37183000e+01],\n",
              "       [ 3.90872645e+01,  5.53660248e+00,  2.69320383e+01,\n",
              "         3.35506620e+01,  1.31584420e+02, -7.59461350e-01,\n",
              "         2.52511739e-01,  2.62684000e+01,  1.26508000e+01,\n",
              "         1.23605600e+01, -3.40716110e+01,  4.37183000e+01],\n",
              "       [ 5.49509702e+01,  5.86535342e+00,  5.30000000e+01,\n",
              "         4.90856168e+01,  1.26970328e+02, -6.31602951e-01,\n",
              "         7.77717236e-01,  1.67774000e+01,  1.05263000e+01,\n",
              "         1.64625000e+01, -3.19370380e+01,  2.21518000e+01],\n",
              "       [ 3.43822994e+01,  2.06268288e+00,  3.23908200e+01,\n",
              "         3.23196165e+01,  1.28300199e+02, -3.36551555e+00,\n",
              "         5.81168695e-01,  1.20774000e+01,  1.66255000e+01,\n",
              "         7.20496000e+00, -3.13748230e+01,  2.95748000e+01],\n",
              "       [ 6.30263001e+01,  2.73362402e+01,  5.16050167e+01,\n",
              "         3.56900598e+01,  1.14506608e+02,  7.43986980e+00,\n",
              "         5.77847158e-01,  1.12203000e+01,  1.40752000e+01,\n",
              "         7.38995000e+00,  6.63505100e+00,  1.34565000e+01],\n",
              "       [ 6.93988184e+01,  1.88984069e+01,  7.59663614e+01,\n",
              "         5.05004115e+01,  1.03582540e+02, -4.43660810e-01,\n",
              "         6.47608649e-01,  2.90187000e+01,  1.31408000e+01,\n",
              "         9.58711000e+00, -2.24036520e+01,  1.25917000e+01],\n",
              "       [ 4.43624902e+01,  8.94543489e+00,  4.69020963e+01,\n",
              "         3.54170553e+01,  1.29220682e+02,  4.99419529e+00,\n",
              "         5.37574087e-01,  3.30601000e+01,  7.80800000e+00,\n",
              "         1.13766000e+01, -5.20236200e+00,  3.32503000e+01],\n",
              "       [ 4.44307010e+01,  1.41742639e+01,  3.22434952e+01,\n",
              "         3.02564372e+01,  1.31717613e+02, -3.60425534e+00,\n",
              "         1.26792054e-01,  1.51269000e+01,  7.99120000e+00,\n",
              "         1.22305500e+01, -2.63401440e+01,  3.23929000e+01],\n",
              "       [ 4.62363991e+01,  1.00627701e+01,  3.70000000e+01,\n",
              "         3.61736291e+01,  1.28063620e+02, -5.10005333e+00,\n",
              "         8.60783838e-01,  9.59120000e+00,  1.51769000e+01,\n",
              "         1.64998900e+01, -2.24200210e+01,  4.02061000e+01],\n",
              "       [ 4.25172725e+01,  1.43756713e+01,  2.53235654e+01,\n",
              "         2.81416012e+01,  1.28905689e+02,  7.57020140e-01,\n",
              "         6.25180876e-01,  3.56342000e+01,  1.87123000e+01,\n",
              "         8.97822000e+00, -1.45105740e+01,  2.26375000e+01],\n",
              "       [ 3.71401498e+01,  1.64812397e+01,  2.40000000e+01,\n",
              "         2.06589101e+01,  1.25014361e+02,  7.36642540e+00,\n",
              "         8.51140631e-01,  1.07294000e+01,  1.82159000e+01,\n",
              "         9.41780000e+00, -3.14275340e+01,  3.57839000e+01],\n",
              "       [ 5.16246718e+01,  1.59693437e+01,  3.50000000e+01,\n",
              "         3.56553281e+01,  1.29385308e+02,  1.00922834e+00,\n",
              "         5.04538000e-03,  3.24200000e+01,  1.38149000e+01,\n",
              "         1.12849000e+01, -2.57709560e+01,  3.56191000e+01],\n",
              "       [ 3.81265885e+01,  6.55761741e+00,  5.04450747e+01,\n",
              "         3.15689711e+01,  1.32114805e+02,  6.33819934e+00,\n",
              "         2.30945660e-02,  1.97932000e+01,  1.13293000e+01,\n",
              "         1.41762800e+01, -3.03127420e+01,  3.81538000e+01],\n",
              "       [ 3.81265885e+01,  6.55761741e+00,  5.04450747e+01,\n",
              "         3.15689711e+01,  1.32114805e+02,  6.33819934e+00,\n",
              "         2.30945660e-02,  1.97932000e+01,  1.13293000e+01,\n",
              "         1.41762800e+01, -3.03127420e+01,  3.81538000e+01],\n",
              "       [ 3.93587053e+01,  7.01126181e+00,  3.70000000e+01,\n",
              "         3.23474435e+01,  1.17818760e+02,  1.90404820e+00,\n",
              "         5.87753840e-01,  2.91291000e+01,  9.81680000e+00,\n",
              "         1.59340200e+01, -8.87179300e+00,  1.25514000e+01],\n",
              "       [ 3.64224855e+01,  1.38794245e+01,  2.02425619e+01,\n",
              "         2.25430610e+01,  1.26076861e+02,  1.79717077e-01,\n",
              "         6.86409465e-01,  8.39090000e+00,  1.08700000e+01,\n",
              "         7.27404000e+00, -2.61959880e+01,  2.18465000e+01],\n",
              "       [ 3.46499224e+01,  7.51478278e+00,  4.30000000e+01,\n",
              "         2.71351396e+01,  1.23987741e+02, -4.08293760e+00,\n",
              "         4.19743489e-01,  2.97200000e+01,  1.52790000e+01,\n",
              "         1.64924100e+01, -3.43770900e+00,  2.18868000e+01],\n",
              "       [ 5.49208575e+01,  1.89684295e+01,  5.16014554e+01,\n",
              "         3.59524280e+01,  1.25846646e+02,  2.00164247e+00,\n",
              "         1.06174649e-01,  7.39070000e+00,  1.13014000e+01,\n",
              "         8.37076000e+00, -1.77234570e+01,  9.87110000e+00],\n",
              "       [ 5.06766767e+01,  6.46150127e+00,  3.50000000e+01,\n",
              "         4.42151754e+01,  1.16587970e+02, -2.14710615e-01,\n",
              "         2.11782850e-02,  1.87846000e+01,  8.00700000e+00,\n",
              "         9.74352000e+00, -1.22860400e+00,  1.42547000e+01],\n",
              "       [ 5.41424078e+01,  1.19351101e+01,  4.30000000e+01,\n",
              "         4.22072976e+01,  1.22209083e+02,  1.53549242e-01,\n",
              "         3.54894839e-01,  2.21191000e+01,  9.34920000e+00,\n",
              "         1.43498100e+01, -1.94449640e+01,  4.08512000e+01],\n",
              "       [ 4.06832291e+01,  9.14843719e+00,  3.10215925e+01,\n",
              "         3.15347919e+01,  1.39118472e+02, -2.51161860e+00,\n",
              "         7.75688024e-01,  3.12682000e+01,  1.36632000e+01,\n",
              "         1.30150000e+01, -4.59191700e+00,  1.99869000e+01],\n",
              "       [ 4.25172725e+01,  1.43756713e+01,  2.53235654e+01,\n",
              "         2.81416012e+01,  1.28905689e+02,  7.57020140e-01,\n",
              "         6.25180876e-01,  3.56342000e+01,  1.87123000e+01,\n",
              "         8.97822000e+00, -1.45105740e+01,  2.26375000e+01],\n",
              "       [ 4.44892748e+01,  2.17864326e+01,  3.14741539e+01,\n",
              "         2.27028421e+01,  1.13778494e+02, -2.84129366e-01,\n",
              "         5.47080375e-01,  2.39247000e+01,  1.34464000e+01,\n",
              "         9.27506000e+00, -8.23022400e+00,  1.55635000e+01],\n",
              "       [ 5.06766767e+01,  6.46150127e+00,  3.50000000e+01,\n",
              "         4.42151754e+01,  1.16587970e+02, -2.14710615e-01,\n",
              "         2.11782850e-02,  1.87846000e+01,  8.00700000e+00,\n",
              "         9.74352000e+00, -1.22860400e+00,  1.42547000e+01],\n",
              "       [ 4.83189305e+01,  1.74521210e+01,  4.80000000e+01,\n",
              "         3.08668095e+01,  1.28980308e+02, -9.10940567e-01,\n",
              "         7.44321935e-01,  3.66194000e+01,  1.46350000e+01,\n",
              "         1.16271000e+01, -2.85988020e+01,  1.03379000e+01],\n",
              "       [ 4.25172725e+01,  1.43756713e+01,  2.53235654e+01,\n",
              "         2.81416012e+01,  1.28905689e+02,  7.57020140e-01,\n",
              "         6.25180876e-01,  3.56342000e+01,  1.87123000e+01,\n",
              "         8.97822000e+00, -1.45105740e+01,  2.26375000e+01],\n",
              "       [ 5.49208575e+01,  1.89684295e+01,  5.16014554e+01,\n",
              "         3.59524280e+01,  1.25846646e+02,  2.00164247e+00,\n",
              "         1.06174649e-01,  7.39070000e+00,  1.13014000e+01,\n",
              "         8.37076000e+00, -1.77234570e+01,  9.87110000e+00],\n",
              "       [ 8.98346763e+01,  2.26392168e+01,  9.05634614e+01,\n",
              "         6.71954595e+01,  1.00501192e+02,  3.04097326e+00,\n",
              "         3.79932692e-01,  9.48680000e+00,  1.77556000e+01,\n",
              "         1.09818900e+01, -1.68918910e+01,  2.80900000e+01],\n",
              "       [ 3.93587053e+01,  7.01126181e+00,  3.70000000e+01,\n",
              "         3.23474435e+01,  1.17818760e+02,  1.90404820e+00,\n",
              "         5.87753840e-01,  2.91291000e+01,  9.81680000e+00,\n",
              "         1.59340200e+01, -8.87179300e+00,  1.25514000e+01],\n",
              "       [ 3.58775708e+01,  1.11237356e+00,  4.34572569e+01,\n",
              "         3.47651972e+01,  1.26923906e+02, -1.63223826e+00,\n",
              "         7.93121083e-01,  1.07594000e+01,  1.10116000e+01,\n",
              "         7.92836000e+00, -5.85286400e+00,  2.27358000e+01],\n",
              "       [ 7.45650154e+01,  1.57243199e+01,  5.86185824e+01,\n",
              "         5.88406955e+01,  1.05417304e+02,  5.99247113e-01,\n",
              "         1.17780016e-01,  1.80547000e+01,  1.56236000e+01,\n",
              "         1.05456200e+01, -3.24945440e+01,  1.66229000e+01],\n",
              "       [ 3.38416408e+01,  5.07399141e+00,  3.66412329e+01,\n",
              "         2.87676493e+01,  1.23945244e+02, -1.99249089e-01,\n",
              "         6.74504089e-01,  1.93825000e+01,  1.76963000e+01,\n",
              "         1.37292900e+01,  1.78300700e+00,  4.06049000e+01],\n",
              "       [ 3.61578298e+01, -8.10514093e-01,  3.36273135e+01,\n",
              "         3.69683439e+01,  1.35936910e+02, -2.09250650e+00,\n",
              "         3.32027235e-01,  1.04752000e+01,  1.71414000e+01,\n",
              "         1.36036600e+01, -1.21625220e+01,  2.83449000e+01],\n",
              "       [ 3.07419381e+01,  1.33549659e+01,  3.59035260e+01,\n",
              "         1.73869722e+01,  1.42410107e+02, -2.00537290e+00,\n",
              "         3.26835429e-01,  1.65218000e+01,  1.80205000e+01,\n",
              "         7.55792000e+00,  2.00213000e+00,  3.01215000e+01],\n",
              "       [ 5.15293576e+01,  1.35178473e+01,  3.50000000e+01,\n",
              "         3.80115103e+01,  1.26718516e+02,  1.39283309e+01,\n",
              "         8.63545131e-01,  3.32628000e+01,  1.10870000e+01,\n",
              "         1.24209300e+01, -1.52595390e+01,  1.82936000e+01],\n",
              "       [ 4.25156101e+01,  1.65412162e+01,  4.20000000e+01,\n",
              "         2.59743940e+01,  1.20631941e+02,  7.87673069e+00,\n",
              "         4.07638210e-02,  1.67193000e+01,  1.59657000e+01,\n",
              "         8.19480000e+00, -3.33806270e+01,  3.02644000e+01],\n",
              "       [ 5.49509702e+01,  5.86535342e+00,  5.30000000e+01,\n",
              "         4.90856168e+01,  1.26970328e+02, -6.31602951e-01,\n",
              "         7.77717236e-01,  1.67774000e+01,  1.05263000e+01,\n",
              "         1.64625000e+01, -3.19370380e+01,  2.21518000e+01],\n",
              "       [ 4.04133657e+01, -1.32941240e+00,  3.09827681e+01,\n",
              "         4.17427781e+01,  1.19335655e+02, -6.17367482e+00,\n",
              "         4.56246663e-01,  2.71984000e+01,  1.64107000e+01,\n",
              "         7.95631000e+00, -1.13760630e+01,  2.33310000e+01],\n",
              "       [ 5.09131014e+01,  6.67699990e+00,  3.08965224e+01,\n",
              "         4.42361015e+01,  1.18151531e+02, -1.05798553e+00,\n",
              "         3.83594240e-02,  3.56096000e+01,  1.30974000e+01,\n",
              "         1.20455800e+01, -9.23724500e+00,  3.17220000e+01],\n",
              "       [ 4.03492964e+01,  1.01947485e+01,  3.79677466e+01,\n",
              "         3.01545479e+01,  1.28009927e+02,  4.58901373e-01,\n",
              "         1.70983426e-01,  1.28223000e+01,  1.39897000e+01,\n",
              "         1.03143800e+01, -3.02551120e+01,  1.87992000e+01],\n",
              "       [ 7.49760215e+01,  1.49217049e+01,  5.37300717e+01,\n",
              "         6.00543166e+01,  1.05645400e+02,  1.59474773e+00,\n",
              "         3.18966687e-01,  1.32564000e+01,  1.13042000e+01,\n",
              "         1.34716600e+01, -2.07892580e+01,  4.12149000e+01],\n",
              "       [ 3.37888431e+01,  3.67510999e+00,  2.55000000e+01,\n",
              "         3.01137332e+01,  1.28325356e+02, -1.77611123e+00,\n",
              "         3.89858261e-01,  9.67300000e+00,  1.13129000e+01,\n",
              "         1.32373100e+01, -2.24411900e+00,  1.02925000e+01],\n",
              "       [ 4.16469159e+01,  8.83554910e+00,  3.60319748e+01,\n",
              "         3.28113668e+01,  1.16555168e+02, -6.05453796e+00,\n",
              "         9.81190470e-02,  1.00549000e+01,  8.77710000e+00,\n",
              "         8.64451000e+00, -5.07972400e+00,  2.94263000e+01],\n",
              "       [ 6.15405988e+01,  1.96769571e+01,  5.28922286e+01,\n",
              "         4.18636416e+01,  1.18686268e+02,  4.81503108e+00,\n",
              "         2.12129265e-01,  1.44911000e+01,  7.51170000e+00,\n",
              "         1.21146300e+01, -1.99341030e+01,  4.17304000e+01],\n",
              "       [ 4.16469159e+01,  8.83554910e+00,  3.60319748e+01,\n",
              "         3.28113668e+01,  1.16555168e+02, -6.05453796e+00,\n",
              "         9.81190470e-02,  1.00549000e+01,  8.77710000e+00,\n",
              "         8.64451000e+00, -5.07972400e+00,  2.94263000e+01],\n",
              "       [ 5.97261402e+01,  7.72487260e+00,  5.53434853e+01,\n",
              "         5.20012676e+01,  1.25174221e+02,  3.23515922e+00,\n",
              "         8.02187900e-02,  2.62021000e+01,  8.78720000e+00,\n",
              "         7.46821000e+00,  3.91683800e+00,  4.34384000e+01],\n",
              "       [ 3.85052728e+01,  1.69642969e+01,  3.51128141e+01,\n",
              "         2.15409759e+01,  1.27632875e+02,  7.98668323e+00,\n",
              "         3.96363819e-01,  3.48106000e+01,  1.27802000e+01,\n",
              "         1.52499600e+01, -2.88338910e+01,  1.80442000e+01],\n",
              "       [ 6.30263001e+01,  2.73362402e+01,  5.16050167e+01,\n",
              "         3.56900598e+01,  1.14506608e+02,  7.43986980e+00,\n",
              "         5.77847158e-01,  1.12203000e+01,  1.40752000e+01,\n",
              "         7.38995000e+00,  6.63505100e+00,  1.34565000e+01],\n",
              "       [ 3.90872645e+01,  5.53660248e+00,  2.69320383e+01,\n",
              "         3.35506620e+01,  1.31584420e+02, -7.59461350e-01,\n",
              "         2.52511739e-01,  2.62684000e+01,  1.26508000e+01,\n",
              "         1.23605600e+01, -3.40716110e+01,  4.37183000e+01],\n",
              "       [ 4.04133657e+01, -1.32941240e+00,  3.09827681e+01,\n",
              "         4.17427781e+01,  1.19335655e+02, -6.17367482e+00,\n",
              "         4.56246663e-01,  2.71984000e+01,  1.64107000e+01,\n",
              "         7.95631000e+00, -1.13760630e+01,  2.33310000e+01],\n",
              "       [ 6.17348753e+01,  1.71143120e+01,  4.69000000e+01,\n",
              "         4.46205633e+01,  1.20920200e+02,  3.08772600e+00,\n",
              "         4.55056082e-01,  8.86600000e+00,  1.49831000e+01,\n",
              "         8.27541000e+00, -4.88760000e-01,  2.49564000e+01],\n",
              "       [ 4.04133657e+01, -1.32941240e+00,  3.09827681e+01,\n",
              "         4.17427781e+01,  1.19335655e+02, -6.17367482e+00,\n",
              "         4.56246663e-01,  2.71984000e+01,  1.64107000e+01,\n",
              "         7.95631000e+00, -1.13760630e+01,  2.33310000e+01],\n",
              "       [ 3.93587053e+01,  7.01126181e+00,  3.70000000e+01,\n",
              "         3.23474435e+01,  1.17818760e+02,  1.90404820e+00,\n",
              "         5.87753840e-01,  2.91291000e+01,  9.81680000e+00,\n",
              "         1.59340200e+01, -8.87179300e+00,  1.25514000e+01],\n",
              "       [ 4.06832291e+01,  9.14843719e+00,  3.10215925e+01,\n",
              "         3.15347919e+01,  1.39118472e+02, -2.51161860e+00,\n",
              "         7.75688024e-01,  3.12682000e+01,  1.36632000e+01,\n",
              "         1.30150000e+01, -4.59191700e+00,  1.99869000e+01],\n",
              "       [ 3.58775708e+01,  1.11237356e+00,  4.34572569e+01,\n",
              "         3.47651972e+01,  1.26923906e+02, -1.63223826e+00,\n",
              "         7.93121083e-01,  1.07594000e+01,  1.10116000e+01,\n",
              "         7.92836000e+00, -5.85286400e+00,  2.27358000e+01],\n",
              "       [ 5.97261402e+01,  7.72487260e+00,  5.53434853e+01,\n",
              "         5.20012676e+01,  1.25174221e+02,  3.23515922e+00,\n",
              "         8.02187900e-02,  2.62021000e+01,  8.78720000e+00,\n",
              "         7.46821000e+00,  3.91683800e+00,  4.34384000e+01],\n",
              "       [ 3.71401498e+01,  1.64812397e+01,  2.40000000e+01,\n",
              "         2.06589101e+01,  1.25014361e+02,  7.36642540e+00,\n",
              "         8.51140631e-01,  1.07294000e+01,  1.82159000e+01,\n",
              "         9.41780000e+00, -3.14275340e+01,  3.57839000e+01],\n",
              "       [ 6.42615072e+01,  1.44978655e+01,  4.39025036e+01,\n",
              "         4.97636417e+01,  1.15388268e+02,  5.95145437e+00,\n",
              "         3.37027470e-02,  3.22615000e+01,  1.53692000e+01,\n",
              "         1.63179400e+01, -4.17940900e+00,  3.29659000e+01],\n",
              "       [ 4.89959577e+01,  1.31138205e+01,  5.18735200e+01,\n",
              "         3.58821372e+01,  1.26398188e+02,  5.35471617e-01,\n",
              "         7.32730192e-01,  3.37477000e+01,  7.54260000e+00,\n",
              "         1.57409000e+01, -6.42128900e+00,  1.19857000e+01],\n",
              "       [ 5.41424078e+01,  1.19351101e+01,  4.30000000e+01,\n",
              "         4.22072976e+01,  1.22209083e+02,  1.53549242e-01,\n",
              "         3.54894839e-01,  2.21191000e+01,  9.34920000e+00,\n",
              "         1.43498100e+01, -1.94449640e+01,  4.08512000e+01],\n",
              "       [ 5.13117711e+01,  8.87554128e+00,  5.70000000e+01,\n",
              "         4.24362298e+01,  1.26472258e+02, -2.14404391e+00,\n",
              "         4.67413270e-01,  2.27101000e+01,  1.05134000e+01,\n",
              "         1.01360800e+01,  5.73858300e+00,  3.67874000e+01],\n",
              "       [ 3.81265885e+01,  6.55761741e+00,  5.04450747e+01,\n",
              "         3.15689711e+01,  1.32114805e+02,  6.33819934e+00,\n",
              "         2.30945660e-02,  1.97932000e+01,  1.13293000e+01,\n",
              "         1.41762800e+01, -3.03127420e+01,  3.81538000e+01],\n",
              "       [ 5.41424078e+01,  1.19351101e+01,  4.30000000e+01,\n",
              "         4.22072976e+01,  1.22209083e+02,  1.53549242e-01,\n",
              "         3.54894839e-01,  2.21191000e+01,  9.34920000e+00,\n",
              "         1.43498100e+01, -1.94449640e+01,  4.08512000e+01],\n",
              "       [ 4.04133657e+01, -1.32941240e+00,  3.09827681e+01,\n",
              "         4.17427781e+01,  1.19335655e+02, -6.17367482e+00,\n",
              "         4.56246663e-01,  2.71984000e+01,  1.64107000e+01,\n",
              "         7.95631000e+00, -1.13760630e+01,  2.33310000e+01],\n",
              "       [ 5.49509702e+01,  5.86535342e+00,  5.30000000e+01,\n",
              "         4.90856168e+01,  1.26970328e+02, -6.31602951e-01,\n",
              "         7.77717236e-01,  1.67774000e+01,  1.05263000e+01,\n",
              "         1.64625000e+01, -3.19370380e+01,  2.21518000e+01],\n",
              "       [ 4.31179510e+01,  1.38157436e+01,  4.03473878e+01,\n",
              "         2.93022075e+01,  1.28517722e+02,  9.70926407e-01,\n",
              "         1.10795865e-01,  8.98020000e+00,  1.51873000e+01,\n",
              "         1.05911400e+01, -1.79433140e+01,  3.30483000e+01],\n",
              "       [ 3.43822994e+01,  2.06268288e+00,  3.23908200e+01,\n",
              "         3.23196165e+01,  1.28300199e+02, -3.36551555e+00,\n",
              "         5.81168695e-01,  1.20774000e+01,  1.66255000e+01,\n",
              "         7.20496000e+00, -3.13748230e+01,  2.95748000e+01],\n",
              "       [ 6.30263001e+01,  2.73362402e+01,  5.16050167e+01,\n",
              "         3.56900598e+01,  1.14506608e+02,  7.43986980e+00,\n",
              "         5.77847158e-01,  1.12203000e+01,  1.40752000e+01,\n",
              "         7.38995000e+00,  6.63505100e+00,  1.34565000e+01],\n",
              "       [ 6.42615072e+01,  1.44978655e+01,  4.39025036e+01,\n",
              "         4.97636417e+01,  1.15388268e+02,  5.95145437e+00,\n",
              "         3.37027470e-02,  3.22615000e+01,  1.53692000e+01,\n",
              "         1.63179400e+01, -4.17940900e+00,  3.29659000e+01],\n",
              "       [ 4.31179510e+01,  1.38157436e+01,  4.03473878e+01,\n",
              "         2.93022075e+01,  1.28517722e+02,  9.70926407e-01,\n",
              "         1.10795865e-01,  8.98020000e+00,  1.51873000e+01,\n",
              "         1.05911400e+01, -1.79433140e+01,  3.30483000e+01],\n",
              "       [ 4.25156101e+01,  1.65412162e+01,  4.20000000e+01,\n",
              "         2.59743940e+01,  1.20631941e+02,  7.87673069e+00,\n",
              "         4.07638210e-02,  1.67193000e+01,  1.59657000e+01,\n",
              "         8.19480000e+00, -3.33806270e+01,  3.02644000e+01],\n",
              "       [ 5.46003162e+01,  2.14889743e+01,  2.93602162e+01,\n",
              "         3.31113420e+01,  1.18343321e+02, -1.47106726e+00,\n",
              "         9.62907494e-01,  3.08554000e+01,  1.14198000e+01,\n",
              "         1.38232200e+01, -5.60644900e+00,  1.85514000e+01],\n",
              "       [ 4.43624902e+01,  8.94543489e+00,  4.69020963e+01,\n",
              "         3.54170553e+01,  1.29220682e+02,  4.99419529e+00,\n",
              "         5.37574087e-01,  3.30601000e+01,  7.80800000e+00,\n",
              "         1.13766000e+01, -5.20236200e+00,  3.32503000e+01],\n",
              "       [ 8.98346763e+01,  2.26392168e+01,  9.05634614e+01,\n",
              "         6.71954595e+01,  1.00501192e+02,  3.04097326e+00,\n",
              "         3.79932692e-01,  9.48680000e+00,  1.77556000e+01,\n",
              "         1.09818900e+01, -1.68918910e+01,  2.80900000e+01],\n",
              "       [ 5.49509702e+01,  5.86535342e+00,  5.30000000e+01,\n",
              "         4.90856168e+01,  1.26970328e+02, -6.31602951e-01,\n",
              "         7.77717236e-01,  1.67774000e+01,  1.05263000e+01,\n",
              "         1.64625000e+01, -3.19370380e+01,  2.21518000e+01],\n",
              "       [ 8.90148753e+01,  2.60759814e+01,  6.90212590e+01,\n",
              "         6.29388939e+01,  1.11481075e+02,  6.06150840e+00,\n",
              "         5.44504889e-01,  2.70219000e+01,  1.33731000e+01,\n",
              "         1.10481900e+01, -3.50530000e+00,  3.34196000e+01]])"
            ]
          },
          "metadata": {
            "tags": []
          },
          "execution_count": 182
        }
      ]
    },
    {
      "cell_type": "code",
      "metadata": {
        "id": "2bXNt3Aic0CW",
        "outputId": "4ac93ce2-3e70-4db2-de88-eda3c0569eb2",
        "colab": {
          "base_uri": "https://localhost:8080/",
          "height": 92
        }
      },
      "source": [
        "y_up"
      ],
      "execution_count": null,
      "outputs": [
        {
          "output_type": "execute_result",
          "data": {
            "text/plain": [
              "array([0, 0, 0, 0, 0, 0, 0, 0, 0, 0, 0, 0, 0, 0, 0, 0, 0, 0, 0, 0, 0, 0,\n",
              "       0, 0, 0, 0, 0, 0, 0, 0, 0, 0, 0, 0, 0, 0, 0, 0, 0, 0, 0, 0, 0, 0,\n",
              "       0, 0, 0, 0, 0, 0, 0, 0, 0, 0, 0, 0, 0, 0, 0, 0, 0, 0, 0, 0, 0, 0,\n",
              "       0, 0, 0, 0, 0, 0, 0, 0, 0, 0, 0])"
            ]
          },
          "metadata": {
            "tags": []
          },
          "execution_count": 183
        }
      ]
    },
    {
      "cell_type": "code",
      "metadata": {
        "id": "FCMIeOGTwzOR"
      },
      "source": [
        "import numpy as np\n",
        "X_bal = np.vstack((X_train, X_up))\n",
        "y_bal = np.hstack((y_train, y_up))"
      ],
      "execution_count": null,
      "outputs": []
    },
    {
      "cell_type": "code",
      "metadata": {
        "id": "4JbypK9Mx4KI",
        "outputId": "7415ac70-a7b2-4998-83e2-e9ac7ba96485",
        "colab": {
          "base_uri": "https://localhost:8080/",
          "height": 36
        }
      },
      "source": [
        "y_bal.shape"
      ],
      "execution_count": null,
      "outputs": [
        {
          "output_type": "execute_result",
          "data": {
            "text/plain": [
              "(294,)"
            ]
          },
          "metadata": {
            "tags": []
          },
          "execution_count": 185
        }
      ]
    },
    {
      "cell_type": "code",
      "metadata": {
        "id": "Tr-ewFWvnb6a"
      },
      "source": [
        "forest = RandomForestClassifier()"
      ],
      "execution_count": null,
      "outputs": []
    },
    {
      "cell_type": "code",
      "metadata": {
        "id": "bDlCAqbxn2zP",
        "outputId": "505314c5-f76f-4fbf-a1dd-63428655570a",
        "colab": {
          "base_uri": "https://localhost:8080/",
          "height": 167
        }
      },
      "source": [
        "forest.fit(X_bal,y_bal)"
      ],
      "execution_count": null,
      "outputs": [
        {
          "output_type": "execute_result",
          "data": {
            "text/plain": [
              "RandomForestClassifier(bootstrap=True, ccp_alpha=0.0, class_weight=None,\n",
              "                       criterion='gini', max_depth=None, max_features='auto',\n",
              "                       max_leaf_nodes=None, max_samples=None,\n",
              "                       min_impurity_decrease=0.0, min_impurity_split=None,\n",
              "                       min_samples_leaf=1, min_samples_split=2,\n",
              "                       min_weight_fraction_leaf=0.0, n_estimators=100,\n",
              "                       n_jobs=None, oob_score=False, random_state=None,\n",
              "                       verbose=0, warm_start=False)"
            ]
          },
          "metadata": {
            "tags": []
          },
          "execution_count": 187
        }
      ]
    },
    {
      "cell_type": "code",
      "metadata": {
        "id": "IKomuRYqn8Ax",
        "outputId": "bc65311a-6c80-4ad9-a79d-2c1b56c1b2db",
        "colab": {
          "base_uri": "https://localhost:8080/",
          "height": 573
        }
      },
      "source": [
        "import numpy as np\n",
        "import matplotlib.pyplot as plt\n",
        "from sklearn.metrics import plot_confusion_matrix\n",
        "\n",
        "plot_confusion_matrix(forest, X_bal, y_bal,                                 \n",
        "                                 cmap=plt.cm.Blues,\n",
        "                                 normalize=None)\n",
        "plt.title('train set')\n",
        "plt.show()\n",
        "\n",
        "plot_confusion_matrix(forest, X_test, y_test,                                 \n",
        "                                 cmap=plt.cm.Blues,\n",
        "                                 normalize=None)\n",
        "plt.title('test set')\n",
        "plt.show()"
      ],
      "execution_count": null,
      "outputs": [
        {
          "output_type": "display_data",
          "data": {
            "image/png": "[encoded data removed]",
            "text/plain": [
              "<Figure size 432x288 with 2 Axes>"
            ]
          },
          "metadata": {
            "tags": [],
            "needs_background": "light"
          }
        },
        {
          "output_type": "display_data",
          "data": {
            "image/png": "[encoded data removed]",
            "text/plain": [
              "<Figure size 432x288 with 2 Axes>"
            ]
          },
          "metadata": {
            "tags": [],
            "needs_background": "light"
          }
        }
      ]
    },
    {
      "cell_type": "code",
      "metadata": {
        "id": "BGsPK0FLoLfA"
      },
      "source": [
        "estimator = forest.estimators_[0]"
      ],
      "execution_count": null,
      "outputs": []
    },
    {
      "cell_type": "code",
      "metadata": {
        "id": "yYw9ViUfop2B"
      },
      "source": [
        "from sklearn import tree\n",
        "dot_data = tree.export_graphviz(estimator, feature_names=df.columns[:-1], filled=True,class_names=['Normal', 'Abnormal'] )"
      ],
      "execution_count": null,
      "outputs": []
    },
    {
      "cell_type": "code",
      "metadata": {
        "id": "GQfCEWkdo99R",
        "outputId": "3b49bda8-5b44-4d2f-d17f-e02aaafee9d5",
        "colab": {
          "base_uri": "https://localhost:8080/",
          "height": 1000
        }
      },
      "source": [
        "import graphviz\n",
        "graph = graphviz.Source(dot_data)  \n",
        "graph"
      ],
      "execution_count": null,
      "outputs": [
        {
          "output_type": "execute_result",
          "data": {
            "text/plain": [
              "<graphviz.files.Source at 0x7f5f37cd2320>"
            ],
            "image/svg+xml": "<?xml version=\"1.0\" encoding=\"UTF-8\" standalone=\"no\"?>\n<!DOCTYPE svg PUBLIC \"-//W3C//DTD SVG 1.1//EN\"\n \"http://www.w3.org/Graphics/SVG/1.1/DTD/svg11.dtd\">\n<!-- Generated by graphviz version 2.40.1 (20161225.0304)\n -->\n<!-- Title: Tree Pages: 1 -->\n<svg width=\"1566pt\" height=\"1028pt\"\n viewBox=\"0.00 0.00 1566.00 1028.00\" xmlns=\"http://www.w3.org/2000/svg\" xmlns:xlink=\"http://www.w3.org/1999/xlink\">\n<g id=\"graph0\" class=\"graph\" transform=\"scale(1 1) rotate(0) translate(4 1024)\">\n<title>Tree</title>\n<polygon fill=\"#ffffff\" stroke=\"transparent\" points=\"-4,4 -4,-1024 1562,-1024 1562,4 -4,4\"/>\n<!-- 0 -->\n<g id=\"node1\" class=\"node\">\n<title>0</title>\n<polygon fill=\"#fcf0e8\" stroke=\"#000000\" points=\"1364.5,-1020 1139.5,-1020 1139.5,-937 1364.5,-937 1364.5,-1020\"/>\n<text text-anchor=\"middle\" x=\"1252\" y=\"-1004.8\" font-family=\"Times,serif\" font-size=\"14.00\" fill=\"#000000\">degree_spondylolisthesis &lt;= 14.854</text>\n<text text-anchor=\"middle\" x=\"1252\" y=\"-989.8\" font-family=\"Times,serif\" font-size=\"14.00\" fill=\"#000000\">gini = 0.498</text>\n<text text-anchor=\"middle\" x=\"1252\" y=\"-974.8\" font-family=\"Times,serif\" font-size=\"14.00\" fill=\"#000000\">samples = 190</text>\n<text text-anchor=\"middle\" x=\"1252\" y=\"-959.8\" font-family=\"Times,serif\" font-size=\"14.00\" fill=\"#000000\">value = [156, 138]</text>\n<text text-anchor=\"middle\" x=\"1252\" y=\"-944.8\" font-family=\"Times,serif\" font-size=\"14.00\" fill=\"#000000\">class = Normal</text>\n</g>\n<!-- 1 -->\n<g id=\"node2\" class=\"node\">\n<title>1</title>\n<polygon fill=\"#ea9a61\" stroke=\"#000000\" points=\"1142.5,-901 977.5,-901 977.5,-818 1142.5,-818 1142.5,-901\"/>\n<text text-anchor=\"middle\" x=\"1060\" y=\"-885.8\" font-family=\"Times,serif\" font-size=\"14.00\" fill=\"#000000\">pelvic_radius &lt;= 117.602</text>\n<text text-anchor=\"middle\" x=\"1060\" y=\"-870.8\" font-family=\"Times,serif\" font-size=\"14.00\" fill=\"#000000\">gini = 0.278</text>\n<text text-anchor=\"middle\" x=\"1060\" y=\"-855.8\" font-family=\"Times,serif\" font-size=\"14.00\" fill=\"#000000\">samples = 124</text>\n<text text-anchor=\"middle\" x=\"1060\" y=\"-840.8\" font-family=\"Times,serif\" font-size=\"14.00\" fill=\"#000000\">value = [155, 31]</text>\n<text text-anchor=\"middle\" x=\"1060\" y=\"-825.8\" font-family=\"Times,serif\" font-size=\"14.00\" fill=\"#000000\">class = Normal</text>\n</g>\n<!-- 0&#45;&gt;1 -->\n<g id=\"edge1\" class=\"edge\">\n<title>0&#45;&gt;1</title>\n<path fill=\"none\" stroke=\"#000000\" d=\"M1184.8477,-936.8796C1169.0628,-927.0962 1152.1307,-916.6019 1135.9886,-906.5971\"/>\n<polygon fill=\"#000000\" stroke=\"#000000\" points=\"1137.4581,-903.3901 1127.1144,-901.0969 1133.7703,-909.34 1137.4581,-903.3901\"/>\n<text text-anchor=\"middle\" x=\"1132.8273\" y=\"-921.7354\" font-family=\"Times,serif\" font-size=\"14.00\" fill=\"#000000\">True</text>\n</g>\n<!-- 40 -->\n<g id=\"node41\" class=\"node\">\n<title>40</title>\n<polygon fill=\"#3b9ee5\" stroke=\"#000000\" points=\"1415.5,-901 1284.5,-901 1284.5,-818 1415.5,-818 1415.5,-901\"/>\n<text text-anchor=\"middle\" x=\"1350\" y=\"-885.8\" font-family=\"Times,serif\" font-size=\"14.00\" fill=\"#000000\">Direct_tilt &lt;= 8.557</text>\n<text text-anchor=\"middle\" x=\"1350\" y=\"-870.8\" font-family=\"Times,serif\" font-size=\"14.00\" fill=\"#000000\">gini = 0.018</text>\n<text text-anchor=\"middle\" x=\"1350\" y=\"-855.8\" font-family=\"Times,serif\" font-size=\"14.00\" fill=\"#000000\">samples = 66</text>\n<text text-anchor=\"middle\" x=\"1350\" y=\"-840.8\" font-family=\"Times,serif\" font-size=\"14.00\" fill=\"#000000\">value = [1, 107]</text>\n<text text-anchor=\"middle\" x=\"1350\" y=\"-825.8\" font-family=\"Times,serif\" font-size=\"14.00\" fill=\"#000000\">class = Abnormal</text>\n</g>\n<!-- 0&#45;&gt;40 -->\n<g id=\"edge40\" class=\"edge\">\n<title>0&#45;&gt;40</title>\n<path fill=\"none\" stroke=\"#000000\" d=\"M1286.2756,-936.8796C1293.6184,-927.9633 1301.4476,-918.4565 1309.0146,-909.268\"/>\n<polygon fill=\"#000000\" stroke=\"#000000\" points=\"1311.9227,-911.2424 1315.5781,-901.2981 1306.5192,-906.7924 1311.9227,-911.2424\"/>\n<text text-anchor=\"middle\" x=\"1317.9862\" y=\"-922.4818\" font-family=\"Times,serif\" font-size=\"14.00\" fill=\"#000000\">False</text>\n</g>\n<!-- 2 -->\n<g id=\"node3\" class=\"node\">\n<title>2</title>\n<polygon fill=\"#f7d8c2\" stroke=\"#000000\" points=\"705.5,-782 554.5,-782 554.5,-699 705.5,-699 705.5,-782\"/>\n<text text-anchor=\"middle\" x=\"630\" y=\"-766.8\" font-family=\"Times,serif\" font-size=\"14.00\" fill=\"#000000\">sacral_slope &lt;= 43.844</text>\n<text text-anchor=\"middle\" x=\"630\" y=\"-751.8\" font-family=\"Times,serif\" font-size=\"14.00\" fill=\"#000000\">gini = 0.483</text>\n<text text-anchor=\"middle\" x=\"630\" y=\"-736.8\" font-family=\"Times,serif\" font-size=\"14.00\" fill=\"#000000\">samples = 32</text>\n<text text-anchor=\"middle\" x=\"630\" y=\"-721.8\" font-family=\"Times,serif\" font-size=\"14.00\" fill=\"#000000\">value = [26, 18]</text>\n<text text-anchor=\"middle\" x=\"630\" y=\"-706.8\" font-family=\"Times,serif\" font-size=\"14.00\" fill=\"#000000\">class = Normal</text>\n</g>\n<!-- 1&#45;&gt;2 -->\n<g id=\"edge2\" class=\"edge\">\n<title>1&#45;&gt;2</title>\n<path fill=\"none\" stroke=\"#000000\" d=\"M977.3462,-836.626C902.1676,-815.8208 791.6558,-785.2373 715.578,-764.1832\"/>\n<polygon fill=\"#000000\" stroke=\"#000000\" points=\"716.1167,-760.7008 705.5454,-761.4067 714.2496,-767.4472 716.1167,-760.7008\"/>\n</g>\n<!-- 19 -->\n<g id=\"node20\" class=\"node\">\n<title>19</title>\n<polygon fill=\"#e88e4d\" stroke=\"#000000\" points=\"1163,-782 957,-782 957,-699 1163,-699 1163,-782\"/>\n<text text-anchor=\"middle\" x=\"1060\" y=\"-766.8\" font-family=\"Times,serif\" font-size=\"14.00\" fill=\"#000000\">lumbar_lordosis_angle &lt;= 22.35</text>\n<text text-anchor=\"middle\" x=\"1060\" y=\"-751.8\" font-family=\"Times,serif\" font-size=\"14.00\" fill=\"#000000\">gini = 0.166</text>\n<text text-anchor=\"middle\" x=\"1060\" y=\"-736.8\" font-family=\"Times,serif\" font-size=\"14.00\" fill=\"#000000\">samples = 92</text>\n<text text-anchor=\"middle\" x=\"1060\" y=\"-721.8\" font-family=\"Times,serif\" font-size=\"14.00\" fill=\"#000000\">value = [129, 13]</text>\n<text text-anchor=\"middle\" x=\"1060\" y=\"-706.8\" font-family=\"Times,serif\" font-size=\"14.00\" fill=\"#000000\">class = Normal</text>\n</g>\n<!-- 1&#45;&gt;19 -->\n<g id=\"edge19\" class=\"edge\">\n<title>1&#45;&gt;19</title>\n<path fill=\"none\" stroke=\"#000000\" d=\"M1060,-817.8796C1060,-809.6838 1060,-800.9891 1060,-792.5013\"/>\n<polygon fill=\"#000000\" stroke=\"#000000\" points=\"1063.5001,-792.298 1060,-782.2981 1056.5001,-792.2981 1063.5001,-792.298\"/>\n</g>\n<!-- 3 -->\n<g id=\"node4\" class=\"node\">\n<title>3</title>\n<polygon fill=\"#b8dcf6\" stroke=\"#000000\" points=\"449.5,-663 282.5,-663 282.5,-580 449.5,-580 449.5,-663\"/>\n<text text-anchor=\"middle\" x=\"366\" y=\"-647.8\" font-family=\"Times,serif\" font-size=\"14.00\" fill=\"#000000\">scoliosis_slope &lt;= 16.475</text>\n<text text-anchor=\"middle\" x=\"366\" y=\"-632.8\" font-family=\"Times,serif\" font-size=\"14.00\" fill=\"#000000\">gini = 0.476</text>\n<text text-anchor=\"middle\" x=\"366\" y=\"-617.8\" font-family=\"Times,serif\" font-size=\"14.00\" fill=\"#000000\">samples = 17</text>\n<text text-anchor=\"middle\" x=\"366\" y=\"-602.8\" font-family=\"Times,serif\" font-size=\"14.00\" fill=\"#000000\">value = [9, 14]</text>\n<text text-anchor=\"middle\" x=\"366\" y=\"-587.8\" font-family=\"Times,serif\" font-size=\"14.00\" fill=\"#000000\">class = Abnormal</text>\n</g>\n<!-- 2&#45;&gt;3 -->\n<g id=\"edge3\" class=\"edge\">\n<title>2&#45;&gt;3</title>\n<path fill=\"none\" stroke=\"#000000\" d=\"M554.3482,-706.3994C524.5326,-692.9598 489.9952,-677.3918 458.7006,-663.2855\"/>\n<polygon fill=\"#000000\" stroke=\"#000000\" points=\"460.0904,-660.0729 449.5355,-659.1543 457.2138,-666.4545 460.0904,-660.0729\"/>\n</g>\n<!-- 12 -->\n<g id=\"node13\" class=\"node\">\n<title>12</title>\n<polygon fill=\"#eb9f68\" stroke=\"#000000\" points=\"700,-663 560,-663 560,-580 700,-580 700,-663\"/>\n<text text-anchor=\"middle\" x=\"630\" y=\"-647.8\" font-family=\"Times,serif\" font-size=\"14.00\" fill=\"#000000\">cervical_tilt &lt;= 9.477</text>\n<text text-anchor=\"middle\" x=\"630\" y=\"-632.8\" font-family=\"Times,serif\" font-size=\"14.00\" fill=\"#000000\">gini = 0.308</text>\n<text text-anchor=\"middle\" x=\"630\" y=\"-617.8\" font-family=\"Times,serif\" font-size=\"14.00\" fill=\"#000000\">samples = 15</text>\n<text text-anchor=\"middle\" x=\"630\" y=\"-602.8\" font-family=\"Times,serif\" font-size=\"14.00\" fill=\"#000000\">value = [17, 4]</text>\n<text text-anchor=\"middle\" x=\"630\" y=\"-587.8\" font-family=\"Times,serif\" font-size=\"14.00\" fill=\"#000000\">class = Normal</text>\n</g>\n<!-- 2&#45;&gt;12 -->\n<g id=\"edge12\" class=\"edge\">\n<title>2&#45;&gt;12</title>\n<path fill=\"none\" stroke=\"#000000\" d=\"M630,-698.8796C630,-690.6838 630,-681.9891 630,-673.5013\"/>\n<polygon fill=\"#000000\" stroke=\"#000000\" points=\"633.5001,-673.298 630,-663.2981 626.5001,-673.2981 633.5001,-673.298\"/>\n</g>\n<!-- 4 -->\n<g id=\"node5\" class=\"node\">\n<title>4</title>\n<polygon fill=\"#f0b78e\" stroke=\"#000000\" points=\"240,-544 92,-544 92,-461 240,-461 240,-544\"/>\n<text text-anchor=\"middle\" x=\"166\" y=\"-528.8\" font-family=\"Times,serif\" font-size=\"14.00\" fill=\"#000000\">cervical_tilt &lt;= 10.615</text>\n<text text-anchor=\"middle\" x=\"166\" y=\"-513.8\" font-family=\"Times,serif\" font-size=\"14.00\" fill=\"#000000\">gini = 0.42</text>\n<text text-anchor=\"middle\" x=\"166\" y=\"-498.8\" font-family=\"Times,serif\" font-size=\"14.00\" fill=\"#000000\">samples = 7</text>\n<text text-anchor=\"middle\" x=\"166\" y=\"-483.8\" font-family=\"Times,serif\" font-size=\"14.00\" fill=\"#000000\">value = [7, 3]</text>\n<text text-anchor=\"middle\" x=\"166\" y=\"-468.8\" font-family=\"Times,serif\" font-size=\"14.00\" fill=\"#000000\">class = Normal</text>\n</g>\n<!-- 3&#45;&gt;4 -->\n<g id=\"edge4\" class=\"edge\">\n<title>3&#45;&gt;4</title>\n<path fill=\"none\" stroke=\"#000000\" d=\"M296.0497,-579.8796C279.4548,-570.0056 261.6428,-559.4075 244.688,-549.3193\"/>\n<polygon fill=\"#000000\" stroke=\"#000000\" points=\"246.2943,-546.2025 235.9108,-544.0969 242.715,-552.2181 246.2943,-546.2025\"/>\n</g>\n<!-- 7 -->\n<g id=\"node8\" class=\"node\">\n<title>7</title>\n<polygon fill=\"#5dafea\" stroke=\"#000000\" points=\"473.5,-544 258.5,-544 258.5,-461 473.5,-461 473.5,-544\"/>\n<text text-anchor=\"middle\" x=\"366\" y=\"-528.8\" font-family=\"Times,serif\" font-size=\"14.00\" fill=\"#000000\">degree_spondylolisthesis &lt;= &#45;4.19</text>\n<text text-anchor=\"middle\" x=\"366\" y=\"-513.8\" font-family=\"Times,serif\" font-size=\"14.00\" fill=\"#000000\">gini = 0.26</text>\n<text text-anchor=\"middle\" x=\"366\" y=\"-498.8\" font-family=\"Times,serif\" font-size=\"14.00\" fill=\"#000000\">samples = 10</text>\n<text text-anchor=\"middle\" x=\"366\" y=\"-483.8\" font-family=\"Times,serif\" font-size=\"14.00\" fill=\"#000000\">value = [2, 11]</text>\n<text text-anchor=\"middle\" x=\"366\" y=\"-468.8\" font-family=\"Times,serif\" font-size=\"14.00\" fill=\"#000000\">class = Abnormal</text>\n</g>\n<!-- 3&#45;&gt;7 -->\n<g id=\"edge7\" class=\"edge\">\n<title>3&#45;&gt;7</title>\n<path fill=\"none\" stroke=\"#000000\" d=\"M366,-579.8796C366,-571.6838 366,-562.9891 366,-554.5013\"/>\n<polygon fill=\"#000000\" stroke=\"#000000\" points=\"369.5001,-554.298 366,-544.2981 362.5001,-554.2981 369.5001,-554.298\"/>\n</g>\n<!-- 5 -->\n<g id=\"node6\" class=\"node\">\n<title>5</title>\n<polygon fill=\"#e58139\" stroke=\"#000000\" points=\"102,-417.5 0,-417.5 0,-349.5 102,-349.5 102,-417.5\"/>\n<text text-anchor=\"middle\" x=\"51\" y=\"-402.3\" font-family=\"Times,serif\" font-size=\"14.00\" fill=\"#000000\">gini = 0.0</text>\n<text text-anchor=\"middle\" x=\"51\" y=\"-387.3\" font-family=\"Times,serif\" font-size=\"14.00\" fill=\"#000000\">samples = 5</text>\n<text text-anchor=\"middle\" x=\"51\" y=\"-372.3\" font-family=\"Times,serif\" font-size=\"14.00\" fill=\"#000000\">value = [7, 0]</text>\n<text text-anchor=\"middle\" x=\"51\" y=\"-357.3\" font-family=\"Times,serif\" font-size=\"14.00\" fill=\"#000000\">class = Normal</text>\n</g>\n<!-- 4&#45;&gt;5 -->\n<g id=\"edge5\" class=\"edge\">\n<title>4&#45;&gt;5</title>\n<path fill=\"none\" stroke=\"#000000\" d=\"M125.7786,-460.8796C114.6208,-449.3337 102.5061,-436.7976 91.3414,-425.2446\"/>\n<polygon fill=\"#000000\" stroke=\"#000000\" points=\"93.6275,-422.5736 84.1615,-417.8149 88.5939,-427.4381 93.6275,-422.5736\"/>\n</g>\n<!-- 6 -->\n<g id=\"node7\" class=\"node\">\n<title>6</title>\n<polygon fill=\"#399de5\" stroke=\"#000000\" points=\"236,-417.5 120,-417.5 120,-349.5 236,-349.5 236,-417.5\"/>\n<text text-anchor=\"middle\" x=\"178\" y=\"-402.3\" font-family=\"Times,serif\" font-size=\"14.00\" fill=\"#000000\">gini = 0.0</text>\n<text text-anchor=\"middle\" x=\"178\" y=\"-387.3\" font-family=\"Times,serif\" font-size=\"14.00\" fill=\"#000000\">samples = 2</text>\n<text text-anchor=\"middle\" x=\"178\" y=\"-372.3\" font-family=\"Times,serif\" font-size=\"14.00\" fill=\"#000000\">value = [0, 3]</text>\n<text text-anchor=\"middle\" x=\"178\" y=\"-357.3\" font-family=\"Times,serif\" font-size=\"14.00\" fill=\"#000000\">class = Abnormal</text>\n</g>\n<!-- 4&#45;&gt;6 -->\n<g id=\"edge6\" class=\"edge\">\n<title>4&#45;&gt;6</title>\n<path fill=\"none\" stroke=\"#000000\" d=\"M170.197,-460.8796C171.2726,-450.2134 172.4334,-438.7021 173.5225,-427.9015\"/>\n<polygon fill=\"#000000\" stroke=\"#000000\" points=\"177.0186,-428.1157 174.5397,-417.8149 170.0539,-427.4133 177.0186,-428.1157\"/>\n</g>\n<!-- 8 -->\n<g id=\"node9\" class=\"node\">\n<title>8</title>\n<polygon fill=\"#ffffff\" stroke=\"#000000\" points=\"433.5,-425 276.5,-425 276.5,-342 433.5,-342 433.5,-425\"/>\n<text text-anchor=\"middle\" x=\"355\" y=\"-409.8\" font-family=\"Times,serif\" font-size=\"14.00\" fill=\"#000000\">thoracic_slope &lt;= 8.272</text>\n<text text-anchor=\"middle\" x=\"355\" y=\"-394.8\" font-family=\"Times,serif\" font-size=\"14.00\" fill=\"#000000\">gini = 0.5</text>\n<text text-anchor=\"middle\" x=\"355\" y=\"-379.8\" font-family=\"Times,serif\" font-size=\"14.00\" fill=\"#000000\">samples = 3</text>\n<text text-anchor=\"middle\" x=\"355\" y=\"-364.8\" font-family=\"Times,serif\" font-size=\"14.00\" fill=\"#000000\">value = [2, 2]</text>\n<text text-anchor=\"middle\" x=\"355\" y=\"-349.8\" font-family=\"Times,serif\" font-size=\"14.00\" fill=\"#000000\">class = Normal</text>\n</g>\n<!-- 7&#45;&gt;8 -->\n<g id=\"edge8\" class=\"edge\">\n<title>7&#45;&gt;8</title>\n<path fill=\"none\" stroke=\"#000000\" d=\"M362.1527,-460.8796C361.3951,-452.6838 360.5914,-443.9891 359.8068,-435.5013\"/>\n<polygon fill=\"#000000\" stroke=\"#000000\" points=\"363.2694,-434.9334 358.8637,-425.2981 356.2991,-435.5778 363.2694,-434.9334\"/>\n</g>\n<!-- 11 -->\n<g id=\"node12\" class=\"node\">\n<title>11</title>\n<polygon fill=\"#399de5\" stroke=\"#000000\" points=\"568,-417.5 452,-417.5 452,-349.5 568,-349.5 568,-417.5\"/>\n<text text-anchor=\"middle\" x=\"510\" y=\"-402.3\" font-family=\"Times,serif\" font-size=\"14.00\" fill=\"#000000\">gini = 0.0</text>\n<text text-anchor=\"middle\" x=\"510\" y=\"-387.3\" font-family=\"Times,serif\" font-size=\"14.00\" fill=\"#000000\">samples = 7</text>\n<text text-anchor=\"middle\" x=\"510\" y=\"-372.3\" font-family=\"Times,serif\" font-size=\"14.00\" fill=\"#000000\">value = [0, 9]</text>\n<text text-anchor=\"middle\" x=\"510\" y=\"-357.3\" font-family=\"Times,serif\" font-size=\"14.00\" fill=\"#000000\">class = Abnormal</text>\n</g>\n<!-- 7&#45;&gt;11 -->\n<g id=\"edge11\" class=\"edge\">\n<title>7&#45;&gt;11</title>\n<path fill=\"none\" stroke=\"#000000\" d=\"M416.3642,-460.8796C430.7349,-449.0038 446.3733,-436.0804 460.6808,-424.2568\"/>\n<polygon fill=\"#000000\" stroke=\"#000000\" points=\"462.9971,-426.8831 468.476,-417.8149 458.538,-421.4872 462.9971,-426.8831\"/>\n</g>\n<!-- 9 -->\n<g id=\"node10\" class=\"node\">\n<title>9</title>\n<polygon fill=\"#399de5\" stroke=\"#000000\" points=\"350,-298.5 234,-298.5 234,-230.5 350,-230.5 350,-298.5\"/>\n<text text-anchor=\"middle\" x=\"292\" y=\"-283.3\" font-family=\"Times,serif\" font-size=\"14.00\" fill=\"#000000\">gini = 0.0</text>\n<text text-anchor=\"middle\" x=\"292\" y=\"-268.3\" font-family=\"Times,serif\" font-size=\"14.00\" fill=\"#000000\">samples = 1</text>\n<text text-anchor=\"middle\" x=\"292\" y=\"-253.3\" font-family=\"Times,serif\" font-size=\"14.00\" fill=\"#000000\">value = [0, 2]</text>\n<text text-anchor=\"middle\" x=\"292\" y=\"-238.3\" font-family=\"Times,serif\" font-size=\"14.00\" fill=\"#000000\">class = Abnormal</text>\n</g>\n<!-- 8&#45;&gt;9 -->\n<g id=\"edge9\" class=\"edge\">\n<title>8&#45;&gt;9</title>\n<path fill=\"none\" stroke=\"#000000\" d=\"M332.9657,-341.8796C327.1442,-330.8835 320.8473,-318.9893 314.9773,-307.9015\"/>\n<polygon fill=\"#000000\" stroke=\"#000000\" points=\"317.9389,-306.0152 310.1667,-298.8149 311.7524,-309.2905 317.9389,-306.0152\"/>\n</g>\n<!-- 10 -->\n<g id=\"node11\" class=\"node\">\n<title>10</title>\n<polygon fill=\"#e58139\" stroke=\"#000000\" points=\"470,-298.5 368,-298.5 368,-230.5 470,-230.5 470,-298.5\"/>\n<text text-anchor=\"middle\" x=\"419\" y=\"-283.3\" font-family=\"Times,serif\" font-size=\"14.00\" fill=\"#000000\">gini = 0.0</text>\n<text text-anchor=\"middle\" x=\"419\" y=\"-268.3\" font-family=\"Times,serif\" font-size=\"14.00\" fill=\"#000000\">samples = 2</text>\n<text text-anchor=\"middle\" x=\"419\" y=\"-253.3\" font-family=\"Times,serif\" font-size=\"14.00\" fill=\"#000000\">value = [2, 0]</text>\n<text text-anchor=\"middle\" x=\"419\" y=\"-238.3\" font-family=\"Times,serif\" font-size=\"14.00\" fill=\"#000000\">class = Normal</text>\n</g>\n<!-- 8&#45;&gt;10 -->\n<g id=\"edge10\" class=\"edge\">\n<title>8&#45;&gt;10</title>\n<path fill=\"none\" stroke=\"#000000\" d=\"M377.3841,-341.8796C383.298,-330.8835 389.6949,-318.9893 395.658,-307.9015\"/>\n<polygon fill=\"#000000\" stroke=\"#000000\" points=\"398.8908,-309.2799 400.5449,-298.8149 392.7258,-305.9642 398.8908,-309.2799\"/>\n</g>\n<!-- 13 -->\n<g id=\"node14\" class=\"node\">\n<title>13</title>\n<polygon fill=\"#399de5\" stroke=\"#000000\" points=\"608,-536.5 492,-536.5 492,-468.5 608,-468.5 608,-536.5\"/>\n<text text-anchor=\"middle\" x=\"550\" y=\"-521.3\" font-family=\"Times,serif\" font-size=\"14.00\" fill=\"#000000\">gini = 0.0</text>\n<text text-anchor=\"middle\" x=\"550\" y=\"-506.3\" font-family=\"Times,serif\" font-size=\"14.00\" fill=\"#000000\">samples = 1</text>\n<text text-anchor=\"middle\" x=\"550\" y=\"-491.3\" font-family=\"Times,serif\" font-size=\"14.00\" fill=\"#000000\">value = [0, 2]</text>\n<text text-anchor=\"middle\" x=\"550\" y=\"-476.3\" font-family=\"Times,serif\" font-size=\"14.00\" fill=\"#000000\">class = Abnormal</text>\n</g>\n<!-- 12&#45;&gt;13 -->\n<g id=\"edge13\" class=\"edge\">\n<title>12&#45;&gt;13</title>\n<path fill=\"none\" stroke=\"#000000\" d=\"M602.0199,-579.8796C594.4797,-568.6636 586.3113,-556.5131 578.7309,-545.2372\"/>\n<polygon fill=\"#000000\" stroke=\"#000000\" points=\"581.5527,-543.1612 573.0689,-536.8149 575.7434,-547.0667 581.5527,-543.1612\"/>\n</g>\n<!-- 14 -->\n<g id=\"node15\" class=\"node\">\n<title>14</title>\n<polygon fill=\"#e89050\" stroke=\"#000000\" points=\"791.5,-544 626.5,-544 626.5,-461 791.5,-461 791.5,-544\"/>\n<text text-anchor=\"middle\" x=\"709\" y=\"-528.8\" font-family=\"Times,serif\" font-size=\"14.00\" fill=\"#000000\">sacrum_angle &lt;= &#45;16.905</text>\n<text text-anchor=\"middle\" x=\"709\" y=\"-513.8\" font-family=\"Times,serif\" font-size=\"14.00\" fill=\"#000000\">gini = 0.188</text>\n<text text-anchor=\"middle\" x=\"709\" y=\"-498.8\" font-family=\"Times,serif\" font-size=\"14.00\" fill=\"#000000\">samples = 14</text>\n<text text-anchor=\"middle\" x=\"709\" y=\"-483.8\" font-family=\"Times,serif\" font-size=\"14.00\" fill=\"#000000\">value = [17, 2]</text>\n<text text-anchor=\"middle\" x=\"709\" y=\"-468.8\" font-family=\"Times,serif\" font-size=\"14.00\" fill=\"#000000\">class = Normal</text>\n</g>\n<!-- 12&#45;&gt;14 -->\n<g id=\"edge14\" class=\"edge\">\n<title>12&#45;&gt;14</title>\n<path fill=\"none\" stroke=\"#000000\" d=\"M657.6304,-579.8796C663.43,-571.1434 669.6059,-561.8404 675.5908,-552.8253\"/>\n<polygon fill=\"#000000\" stroke=\"#000000\" points=\"678.6368,-554.5652 681.2517,-544.2981 672.8049,-550.6935 678.6368,-554.5652\"/>\n</g>\n<!-- 15 -->\n<g id=\"node16\" class=\"node\">\n<title>15</title>\n<polygon fill=\"#efb388\" stroke=\"#000000\" points=\"746.5,-425 615.5,-425 615.5,-342 746.5,-342 746.5,-425\"/>\n<text text-anchor=\"middle\" x=\"681\" y=\"-409.8\" font-family=\"Times,serif\" font-size=\"14.00\" fill=\"#000000\">Direct_tilt &lt;= 12.93</text>\n<text text-anchor=\"middle\" x=\"681\" y=\"-394.8\" font-family=\"Times,serif\" font-size=\"14.00\" fill=\"#000000\">gini = 0.408</text>\n<text text-anchor=\"middle\" x=\"681\" y=\"-379.8\" font-family=\"Times,serif\" font-size=\"14.00\" fill=\"#000000\">samples = 5</text>\n<text text-anchor=\"middle\" x=\"681\" y=\"-364.8\" font-family=\"Times,serif\" font-size=\"14.00\" fill=\"#000000\">value = [5, 2]</text>\n<text text-anchor=\"middle\" x=\"681\" y=\"-349.8\" font-family=\"Times,serif\" font-size=\"14.00\" fill=\"#000000\">class = Normal</text>\n</g>\n<!-- 14&#45;&gt;15 -->\n<g id=\"edge15\" class=\"edge\">\n<title>14&#45;&gt;15</title>\n<path fill=\"none\" stroke=\"#000000\" d=\"M699.207,-460.8796C697.2574,-452.5938 695.1878,-443.798 693.1698,-435.2216\"/>\n<polygon fill=\"#000000\" stroke=\"#000000\" points=\"696.5323,-434.2306 690.8348,-425.2981 689.7183,-435.8339 696.5323,-434.2306\"/>\n</g>\n<!-- 18 -->\n<g id=\"node19\" class=\"node\">\n<title>18</title>\n<polygon fill=\"#e58139\" stroke=\"#000000\" points=\"867,-417.5 765,-417.5 765,-349.5 867,-349.5 867,-417.5\"/>\n<text text-anchor=\"middle\" x=\"816\" y=\"-402.3\" font-family=\"Times,serif\" font-size=\"14.00\" fill=\"#000000\">gini = 0.0</text>\n<text text-anchor=\"middle\" x=\"816\" y=\"-387.3\" font-family=\"Times,serif\" font-size=\"14.00\" fill=\"#000000\">samples = 9</text>\n<text text-anchor=\"middle\" x=\"816\" y=\"-372.3\" font-family=\"Times,serif\" font-size=\"14.00\" fill=\"#000000\">value = [12, 0]</text>\n<text text-anchor=\"middle\" x=\"816\" y=\"-357.3\" font-family=\"Times,serif\" font-size=\"14.00\" fill=\"#000000\">class = Normal</text>\n</g>\n<!-- 14&#45;&gt;18 -->\n<g id=\"edge18\" class=\"edge\">\n<title>14&#45;&gt;18</title>\n<path fill=\"none\" stroke=\"#000000\" d=\"M746.4234,-460.8796C756.7061,-449.4436 767.8623,-437.0363 778.1679,-425.575\"/>\n<polygon fill=\"#000000\" stroke=\"#000000\" points=\"781.0618,-427.5912 785.1454,-417.8149 775.8565,-422.9108 781.0618,-427.5912\"/>\n</g>\n<!-- 16 -->\n<g id=\"node17\" class=\"node\">\n<title>16</title>\n<polygon fill=\"#399de5\" stroke=\"#000000\" points=\"676,-298.5 560,-298.5 560,-230.5 676,-230.5 676,-298.5\"/>\n<text text-anchor=\"middle\" x=\"618\" y=\"-283.3\" font-family=\"Times,serif\" font-size=\"14.00\" fill=\"#000000\">gini = 0.0</text>\n<text text-anchor=\"middle\" x=\"618\" y=\"-268.3\" font-family=\"Times,serif\" font-size=\"14.00\" fill=\"#000000\">samples = 1</text>\n<text text-anchor=\"middle\" x=\"618\" y=\"-253.3\" font-family=\"Times,serif\" font-size=\"14.00\" fill=\"#000000\">value = [0, 2]</text>\n<text text-anchor=\"middle\" x=\"618\" y=\"-238.3\" font-family=\"Times,serif\" font-size=\"14.00\" fill=\"#000000\">class = Abnormal</text>\n</g>\n<!-- 15&#45;&gt;16 -->\n<g id=\"edge16\" class=\"edge\">\n<title>15&#45;&gt;16</title>\n<path fill=\"none\" stroke=\"#000000\" d=\"M658.9657,-341.8796C653.1442,-330.8835 646.8473,-318.9893 640.9773,-307.9015\"/>\n<polygon fill=\"#000000\" stroke=\"#000000\" points=\"643.9389,-306.0152 636.1667,-298.8149 637.7524,-309.2905 643.9389,-306.0152\"/>\n</g>\n<!-- 17 -->\n<g id=\"node18\" class=\"node\">\n<title>17</title>\n<polygon fill=\"#e58139\" stroke=\"#000000\" points=\"796,-298.5 694,-298.5 694,-230.5 796,-230.5 796,-298.5\"/>\n<text text-anchor=\"middle\" x=\"745\" y=\"-283.3\" font-family=\"Times,serif\" font-size=\"14.00\" fill=\"#000000\">gini = 0.0</text>\n<text text-anchor=\"middle\" x=\"745\" y=\"-268.3\" font-family=\"Times,serif\" font-size=\"14.00\" fill=\"#000000\">samples = 4</text>\n<text text-anchor=\"middle\" x=\"745\" y=\"-253.3\" font-family=\"Times,serif\" font-size=\"14.00\" fill=\"#000000\">value = [5, 0]</text>\n<text text-anchor=\"middle\" x=\"745\" y=\"-238.3\" font-family=\"Times,serif\" font-size=\"14.00\" fill=\"#000000\">class = Normal</text>\n</g>\n<!-- 15&#45;&gt;17 -->\n<g id=\"edge17\" class=\"edge\">\n<title>15&#45;&gt;17</title>\n<path fill=\"none\" stroke=\"#000000\" d=\"M703.3841,-341.8796C709.298,-330.8835 715.6949,-318.9893 721.658,-307.9015\"/>\n<polygon fill=\"#000000\" stroke=\"#000000\" points=\"724.8908,-309.2799 726.5449,-298.8149 718.7258,-305.9642 724.8908,-309.2799\"/>\n</g>\n<!-- 20 -->\n<g id=\"node21\" class=\"node\">\n<title>20</title>\n<polygon fill=\"#9ccef2\" stroke=\"#000000\" points=\"1038,-663 892,-663 892,-580 1038,-580 1038,-663\"/>\n<text text-anchor=\"middle\" x=\"965\" y=\"-647.8\" font-family=\"Times,serif\" font-size=\"14.00\" fill=\"#000000\">pelvic_slope &lt;= 0.529</text>\n<text text-anchor=\"middle\" x=\"965\" y=\"-632.8\" font-family=\"Times,serif\" font-size=\"14.00\" fill=\"#000000\">gini = 0.444</text>\n<text text-anchor=\"middle\" x=\"965\" y=\"-617.8\" font-family=\"Times,serif\" font-size=\"14.00\" fill=\"#000000\">samples = 3</text>\n<text text-anchor=\"middle\" x=\"965\" y=\"-602.8\" font-family=\"Times,serif\" font-size=\"14.00\" fill=\"#000000\">value = [1, 2]</text>\n<text text-anchor=\"middle\" x=\"965\" y=\"-587.8\" font-family=\"Times,serif\" font-size=\"14.00\" fill=\"#000000\">class = Abnormal</text>\n</g>\n<!-- 19&#45;&gt;20 -->\n<g id=\"edge20\" class=\"edge\">\n<title>19&#45;&gt;20</title>\n<path fill=\"none\" stroke=\"#000000\" d=\"M1026.7736,-698.8796C1019.6556,-689.9633 1012.0661,-680.4565 1004.7308,-671.268\"/>\n<polygon fill=\"#000000\" stroke=\"#000000\" points=\"1007.3425,-668.9295 998.3682,-663.2981 1001.8719,-673.2968 1007.3425,-668.9295\"/>\n</g>\n<!-- 25 -->\n<g id=\"node26\" class=\"node\">\n<title>25</title>\n<polygon fill=\"#e78c4a\" stroke=\"#000000\" points=\"1274,-663 1056,-663 1056,-580 1274,-580 1274,-663\"/>\n<text text-anchor=\"middle\" x=\"1165\" y=\"-647.8\" font-family=\"Times,serif\" font-size=\"14.00\" fill=\"#000000\">degree_spondylolisthesis &lt;= 1.363</text>\n<text text-anchor=\"middle\" x=\"1165\" y=\"-632.8\" font-family=\"Times,serif\" font-size=\"14.00\" fill=\"#000000\">gini = 0.146</text>\n<text text-anchor=\"middle\" x=\"1165\" y=\"-617.8\" font-family=\"Times,serif\" font-size=\"14.00\" fill=\"#000000\">samples = 89</text>\n<text text-anchor=\"middle\" x=\"1165\" y=\"-602.8\" font-family=\"Times,serif\" font-size=\"14.00\" fill=\"#000000\">value = [128, 11]</text>\n<text text-anchor=\"middle\" x=\"1165\" y=\"-587.8\" font-family=\"Times,serif\" font-size=\"14.00\" fill=\"#000000\">class = Normal</text>\n</g>\n<!-- 19&#45;&gt;25 -->\n<g id=\"edge25\" class=\"edge\">\n<title>19&#45;&gt;25</title>\n<path fill=\"none\" stroke=\"#000000\" d=\"M1096.7239,-698.8796C1104.6707,-689.8733 1113.149,-680.2644 1121.3326,-670.9897\"/>\n<polygon fill=\"#000000\" stroke=\"#000000\" points=\"1124.1275,-673.1122 1128.1193,-663.2981 1118.8787,-668.4808 1124.1275,-673.1122\"/>\n</g>\n<!-- 21 -->\n<g id=\"node22\" class=\"node\">\n<title>21</title>\n<polygon fill=\"#399de5\" stroke=\"#000000\" points=\"926,-536.5 810,-536.5 810,-468.5 926,-468.5 926,-536.5\"/>\n<text text-anchor=\"middle\" x=\"868\" y=\"-521.3\" font-family=\"Times,serif\" font-size=\"14.00\" fill=\"#000000\">gini = 0.0</text>\n<text text-anchor=\"middle\" x=\"868\" y=\"-506.3\" font-family=\"Times,serif\" font-size=\"14.00\" fill=\"#000000\">samples = 1</text>\n<text text-anchor=\"middle\" x=\"868\" y=\"-491.3\" font-family=\"Times,serif\" font-size=\"14.00\" fill=\"#000000\">value = [0, 1]</text>\n<text text-anchor=\"middle\" x=\"868\" y=\"-476.3\" font-family=\"Times,serif\" font-size=\"14.00\" fill=\"#000000\">class = Abnormal</text>\n</g>\n<!-- 20&#45;&gt;21 -->\n<g id=\"edge21\" class=\"edge\">\n<title>20&#45;&gt;21</title>\n<path fill=\"none\" stroke=\"#000000\" d=\"M931.0741,-579.8796C921.7524,-568.4436 911.6388,-556.0363 902.2964,-544.575\"/>\n<polygon fill=\"#000000\" stroke=\"#000000\" points=\"905.0021,-542.3548 895.971,-536.8149 899.5763,-546.7775 905.0021,-542.3548\"/>\n</g>\n<!-- 22 -->\n<g id=\"node23\" class=\"node\">\n<title>22</title>\n<polygon fill=\"#ffffff\" stroke=\"#000000\" points=\"1095.5,-544 944.5,-544 944.5,-461 1095.5,-461 1095.5,-544\"/>\n<text text-anchor=\"middle\" x=\"1020\" y=\"-528.8\" font-family=\"Times,serif\" font-size=\"14.00\" fill=\"#000000\">sacral_slope &lt;= 19.402</text>\n<text text-anchor=\"middle\" x=\"1020\" y=\"-513.8\" font-family=\"Times,serif\" font-size=\"14.00\" fill=\"#000000\">gini = 0.5</text>\n<text text-anchor=\"middle\" x=\"1020\" y=\"-498.8\" font-family=\"Times,serif\" font-size=\"14.00\" fill=\"#000000\">samples = 2</text>\n<text text-anchor=\"middle\" x=\"1020\" y=\"-483.8\" font-family=\"Times,serif\" font-size=\"14.00\" fill=\"#000000\">value = [1, 1]</text>\n<text text-anchor=\"middle\" x=\"1020\" y=\"-468.8\" font-family=\"Times,serif\" font-size=\"14.00\" fill=\"#000000\">class = Normal</text>\n</g>\n<!-- 20&#45;&gt;22 -->\n<g id=\"edge22\" class=\"edge\">\n<title>20&#45;&gt;22</title>\n<path fill=\"none\" stroke=\"#000000\" d=\"M984.2363,-579.8796C988.1908,-571.3236 992.3966,-562.2238 996.4825,-553.3833\"/>\n<polygon fill=\"#000000\" stroke=\"#000000\" points=\"999.6632,-554.8439 1000.6816,-544.2981 993.309,-551.907 999.6632,-554.8439\"/>\n</g>\n<!-- 23 -->\n<g id=\"node24\" class=\"node\">\n<title>23</title>\n<polygon fill=\"#399de5\" stroke=\"#000000\" points=\"1023,-417.5 907,-417.5 907,-349.5 1023,-349.5 1023,-417.5\"/>\n<text text-anchor=\"middle\" x=\"965\" y=\"-402.3\" font-family=\"Times,serif\" font-size=\"14.00\" fill=\"#000000\">gini = 0.0</text>\n<text text-anchor=\"middle\" x=\"965\" y=\"-387.3\" font-family=\"Times,serif\" font-size=\"14.00\" fill=\"#000000\">samples = 1</text>\n<text text-anchor=\"middle\" x=\"965\" y=\"-372.3\" font-family=\"Times,serif\" font-size=\"14.00\" fill=\"#000000\">value = [0, 1]</text>\n<text text-anchor=\"middle\" x=\"965\" y=\"-357.3\" font-family=\"Times,serif\" font-size=\"14.00\" fill=\"#000000\">class = Abnormal</text>\n</g>\n<!-- 22&#45;&gt;23 -->\n<g id=\"edge23\" class=\"edge\">\n<title>22&#45;&gt;23</title>\n<path fill=\"none\" stroke=\"#000000\" d=\"M1000.7637,-460.8796C995.6814,-449.8835 990.1841,-437.9893 985.0595,-426.9015\"/>\n<polygon fill=\"#000000\" stroke=\"#000000\" points=\"988.2324,-425.4239 980.8598,-417.8149 981.8782,-428.3607 988.2324,-425.4239\"/>\n</g>\n<!-- 24 -->\n<g id=\"node25\" class=\"node\">\n<title>24</title>\n<polygon fill=\"#e58139\" stroke=\"#000000\" points=\"1143,-417.5 1041,-417.5 1041,-349.5 1143,-349.5 1143,-417.5\"/>\n<text text-anchor=\"middle\" x=\"1092\" y=\"-402.3\" font-family=\"Times,serif\" font-size=\"14.00\" fill=\"#000000\">gini = 0.0</text>\n<text text-anchor=\"middle\" x=\"1092\" y=\"-387.3\" font-family=\"Times,serif\" font-size=\"14.00\" fill=\"#000000\">samples = 1</text>\n<text text-anchor=\"middle\" x=\"1092\" y=\"-372.3\" font-family=\"Times,serif\" font-size=\"14.00\" fill=\"#000000\">value = [1, 0]</text>\n<text text-anchor=\"middle\" x=\"1092\" y=\"-357.3\" font-family=\"Times,serif\" font-size=\"14.00\" fill=\"#000000\">class = Normal</text>\n</g>\n<!-- 22&#45;&gt;24 -->\n<g id=\"edge24\" class=\"edge\">\n<title>22&#45;&gt;24</title>\n<path fill=\"none\" stroke=\"#000000\" d=\"M1045.1821,-460.8796C1051.9017,-449.7735 1059.1757,-437.7513 1065.9414,-426.5691\"/>\n<polygon fill=\"#000000\" stroke=\"#000000\" points=\"1069.0559,-428.1826 1071.238,-417.8149 1063.0668,-424.5589 1069.0559,-428.1826\"/>\n</g>\n<!-- 26 -->\n<g id=\"node27\" class=\"node\">\n<title>26</title>\n<polygon fill=\"#e58139\" stroke=\"#000000\" points=\"1216,-536.5 1114,-536.5 1114,-468.5 1216,-468.5 1216,-536.5\"/>\n<text text-anchor=\"middle\" x=\"1165\" y=\"-521.3\" font-family=\"Times,serif\" font-size=\"14.00\" fill=\"#000000\">gini = 0.0</text>\n<text text-anchor=\"middle\" x=\"1165\" y=\"-506.3\" font-family=\"Times,serif\" font-size=\"14.00\" fill=\"#000000\">samples = 46</text>\n<text text-anchor=\"middle\" x=\"1165\" y=\"-491.3\" font-family=\"Times,serif\" font-size=\"14.00\" fill=\"#000000\">value = [76, 0]</text>\n<text text-anchor=\"middle\" x=\"1165\" y=\"-476.3\" font-family=\"Times,serif\" font-size=\"14.00\" fill=\"#000000\">class = Normal</text>\n</g>\n<!-- 25&#45;&gt;26 -->\n<g id=\"edge26\" class=\"edge\">\n<title>25&#45;&gt;26</title>\n<path fill=\"none\" stroke=\"#000000\" d=\"M1165,-579.8796C1165,-569.2134 1165,-557.7021 1165,-546.9015\"/>\n<polygon fill=\"#000000\" stroke=\"#000000\" points=\"1168.5001,-546.8149 1165,-536.8149 1161.5001,-546.815 1168.5001,-546.8149\"/>\n</g>\n<!-- 27 -->\n<g id=\"node28\" class=\"node\">\n<title>27</title>\n<polygon fill=\"#ea9c63\" stroke=\"#000000\" points=\"1365.5,-544 1234.5,-544 1234.5,-461 1365.5,-461 1365.5,-544\"/>\n<text text-anchor=\"middle\" x=\"1300\" y=\"-528.8\" font-family=\"Times,serif\" font-size=\"14.00\" fill=\"#000000\">pelvic_tilt &lt;= 20.37</text>\n<text text-anchor=\"middle\" x=\"1300\" y=\"-513.8\" font-family=\"Times,serif\" font-size=\"14.00\" fill=\"#000000\">gini = 0.288</text>\n<text text-anchor=\"middle\" x=\"1300\" y=\"-498.8\" font-family=\"Times,serif\" font-size=\"14.00\" fill=\"#000000\">samples = 43</text>\n<text text-anchor=\"middle\" x=\"1300\" y=\"-483.8\" font-family=\"Times,serif\" font-size=\"14.00\" fill=\"#000000\">value = [52, 11]</text>\n<text text-anchor=\"middle\" x=\"1300\" y=\"-468.8\" font-family=\"Times,serif\" font-size=\"14.00\" fill=\"#000000\">class = Normal</text>\n</g>\n<!-- 25&#45;&gt;27 -->\n<g id=\"edge27\" class=\"edge\">\n<title>25&#45;&gt;27</title>\n<path fill=\"none\" stroke=\"#000000\" d=\"M1212.2164,-579.8796C1222.7402,-570.6031 1233.9891,-560.6874 1244.8021,-551.1559\"/>\n<polygon fill=\"#000000\" stroke=\"#000000\" points=\"1247.3948,-553.5362 1252.582,-544.2981 1242.766,-548.2851 1247.3948,-553.5362\"/>\n</g>\n<!-- 28 -->\n<g id=\"node29\" class=\"node\">\n<title>28</title>\n<polygon fill=\"#e88d4c\" stroke=\"#000000\" points=\"1350,-425 1172,-425 1172,-342 1350,-342 1350,-425\"/>\n<text text-anchor=\"middle\" x=\"1261\" y=\"-409.8\" font-family=\"Times,serif\" font-size=\"14.00\" fill=\"#000000\">pelvic_incidnece &lt;= 44.143</text>\n<text text-anchor=\"middle\" x=\"1261\" y=\"-394.8\" font-family=\"Times,serif\" font-size=\"14.00\" fill=\"#000000\">gini = 0.16</text>\n<text text-anchor=\"middle\" x=\"1261\" y=\"-379.8\" font-family=\"Times,serif\" font-size=\"14.00\" fill=\"#000000\">samples = 39</text>\n<text text-anchor=\"middle\" x=\"1261\" y=\"-364.8\" font-family=\"Times,serif\" font-size=\"14.00\" fill=\"#000000\">value = [52, 5]</text>\n<text text-anchor=\"middle\" x=\"1261\" y=\"-349.8\" font-family=\"Times,serif\" font-size=\"14.00\" fill=\"#000000\">class = Normal</text>\n</g>\n<!-- 27&#45;&gt;28 -->\n<g id=\"edge28\" class=\"edge\">\n<title>27&#45;&gt;28</title>\n<path fill=\"none\" stroke=\"#000000\" d=\"M1286.3597,-460.8796C1283.6147,-452.5037 1280.6988,-443.6067 1277.8591,-434.942\"/>\n<polygon fill=\"#000000\" stroke=\"#000000\" points=\"1281.1389,-433.7107 1274.6985,-425.2981 1274.487,-435.8908 1281.1389,-433.7107\"/>\n</g>\n<!-- 39 -->\n<g id=\"node40\" class=\"node\">\n<title>39</title>\n<polygon fill=\"#399de5\" stroke=\"#000000\" points=\"1484,-417.5 1368,-417.5 1368,-349.5 1484,-349.5 1484,-417.5\"/>\n<text text-anchor=\"middle\" x=\"1426\" y=\"-402.3\" font-family=\"Times,serif\" font-size=\"14.00\" fill=\"#000000\">gini = 0.0</text>\n<text text-anchor=\"middle\" x=\"1426\" y=\"-387.3\" font-family=\"Times,serif\" font-size=\"14.00\" fill=\"#000000\">samples = 4</text>\n<text text-anchor=\"middle\" x=\"1426\" y=\"-372.3\" font-family=\"Times,serif\" font-size=\"14.00\" fill=\"#000000\">value = [0, 6]</text>\n<text text-anchor=\"middle\" x=\"1426\" y=\"-357.3\" font-family=\"Times,serif\" font-size=\"14.00\" fill=\"#000000\">class = Abnormal</text>\n</g>\n<!-- 27&#45;&gt;39 -->\n<g id=\"edge39\" class=\"edge\">\n<title>27&#45;&gt;39</title>\n<path fill=\"none\" stroke=\"#000000\" d=\"M1344.0687,-460.8796C1356.4102,-449.2237 1369.8202,-436.5587 1382.149,-424.9148\"/>\n<polygon fill=\"#000000\" stroke=\"#000000\" points=\"1384.7996,-427.2258 1389.6665,-417.8149 1379.9932,-422.1366 1384.7996,-427.2258\"/>\n</g>\n<!-- 29 -->\n<g id=\"node30\" class=\"node\">\n<title>29</title>\n<polygon fill=\"#eb9f68\" stroke=\"#000000\" points=\"1238,-306 1100,-306 1100,-223 1238,-223 1238,-306\"/>\n<text text-anchor=\"middle\" x=\"1169\" y=\"-290.8\" font-family=\"Times,serif\" font-size=\"14.00\" fill=\"#000000\">pelvic_tilt &lt;= 11.186</text>\n<text text-anchor=\"middle\" x=\"1169\" y=\"-275.8\" font-family=\"Times,serif\" font-size=\"14.00\" fill=\"#000000\">gini = 0.308</text>\n<text text-anchor=\"middle\" x=\"1169\" y=\"-260.8\" font-family=\"Times,serif\" font-size=\"14.00\" fill=\"#000000\">samples = 17</text>\n<text text-anchor=\"middle\" x=\"1169\" y=\"-245.8\" font-family=\"Times,serif\" font-size=\"14.00\" fill=\"#000000\">value = [17, 4]</text>\n<text text-anchor=\"middle\" x=\"1169\" y=\"-230.8\" font-family=\"Times,serif\" font-size=\"14.00\" fill=\"#000000\">class = Normal</text>\n</g>\n<!-- 28&#45;&gt;29 -->\n<g id=\"edge29\" class=\"edge\">\n<title>28&#45;&gt;29</title>\n<path fill=\"none\" stroke=\"#000000\" d=\"M1228.8229,-341.8796C1221.9296,-332.9633 1214.5798,-323.4565 1207.4761,-314.268\"/>\n<polygon fill=\"#000000\" stroke=\"#000000\" points=\"1210.1999,-312.0687 1201.3145,-306.2981 1204.6619,-316.3502 1210.1999,-312.0687\"/>\n</g>\n<!-- 34 -->\n<g id=\"node35\" class=\"node\">\n<title>34</title>\n<polygon fill=\"#e6853f\" stroke=\"#000000\" points=\"1434.5,-306 1269.5,-306 1269.5,-223 1434.5,-223 1434.5,-306\"/>\n<text text-anchor=\"middle\" x=\"1352\" y=\"-290.8\" font-family=\"Times,serif\" font-size=\"14.00\" fill=\"#000000\">sacrum_angle &lt;= &#45;20.222</text>\n<text text-anchor=\"middle\" x=\"1352\" y=\"-275.8\" font-family=\"Times,serif\" font-size=\"14.00\" fill=\"#000000\">gini = 0.054</text>\n<text text-anchor=\"middle\" x=\"1352\" y=\"-260.8\" font-family=\"Times,serif\" font-size=\"14.00\" fill=\"#000000\">samples = 22</text>\n<text text-anchor=\"middle\" x=\"1352\" y=\"-245.8\" font-family=\"Times,serif\" font-size=\"14.00\" fill=\"#000000\">value = [35, 1]</text>\n<text text-anchor=\"middle\" x=\"1352\" y=\"-230.8\" font-family=\"Times,serif\" font-size=\"14.00\" fill=\"#000000\">class = Normal</text>\n</g>\n<!-- 28&#45;&gt;34 -->\n<g id=\"edge34\" class=\"edge\">\n<title>28&#45;&gt;34</title>\n<path fill=\"none\" stroke=\"#000000\" d=\"M1292.8274,-341.8796C1299.6457,-332.9633 1306.9156,-323.4565 1313.9421,-314.268\"/>\n<polygon fill=\"#000000\" stroke=\"#000000\" points=\"1316.7425,-316.3678 1320.0368,-306.2981 1311.182,-312.1156 1316.7425,-316.3678\"/>\n</g>\n<!-- 30 -->\n<g id=\"node31\" class=\"node\">\n<title>30</title>\n<polygon fill=\"#e58139\" stroke=\"#000000\" points=\"1068,-179.5 966,-179.5 966,-111.5 1068,-111.5 1068,-179.5\"/>\n<text text-anchor=\"middle\" x=\"1017\" y=\"-164.3\" font-family=\"Times,serif\" font-size=\"14.00\" fill=\"#000000\">gini = 0.0</text>\n<text text-anchor=\"middle\" x=\"1017\" y=\"-149.3\" font-family=\"Times,serif\" font-size=\"14.00\" fill=\"#000000\">samples = 9</text>\n<text text-anchor=\"middle\" x=\"1017\" y=\"-134.3\" font-family=\"Times,serif\" font-size=\"14.00\" fill=\"#000000\">value = [11, 0]</text>\n<text text-anchor=\"middle\" x=\"1017\" y=\"-119.3\" font-family=\"Times,serif\" font-size=\"14.00\" fill=\"#000000\">class = Normal</text>\n</g>\n<!-- 29&#45;&gt;30 -->\n<g id=\"edge30\" class=\"edge\">\n<title>29&#45;&gt;30</title>\n<path fill=\"none\" stroke=\"#000000\" d=\"M1115.8378,-222.8796C1100.6687,-211.0038 1084.1616,-198.0804 1069.0591,-186.2568\"/>\n<polygon fill=\"#000000\" stroke=\"#000000\" points=\"1070.8624,-183.2236 1060.8308,-179.8149 1066.5472,-188.7353 1070.8624,-183.2236\"/>\n</g>\n<!-- 31 -->\n<g id=\"node32\" class=\"node\">\n<title>31</title>\n<polygon fill=\"#f6d5bd\" stroke=\"#000000\" points=\"1251.5,-187 1086.5,-187 1086.5,-104 1251.5,-104 1251.5,-187\"/>\n<text text-anchor=\"middle\" x=\"1169\" y=\"-171.8\" font-family=\"Times,serif\" font-size=\"14.00\" fill=\"#000000\">sacrum_angle &lt;= &#45;24.427</text>\n<text text-anchor=\"middle\" x=\"1169\" y=\"-156.8\" font-family=\"Times,serif\" font-size=\"14.00\" fill=\"#000000\">gini = 0.48</text>\n<text text-anchor=\"middle\" x=\"1169\" y=\"-141.8\" font-family=\"Times,serif\" font-size=\"14.00\" fill=\"#000000\">samples = 8</text>\n<text text-anchor=\"middle\" x=\"1169\" y=\"-126.8\" font-family=\"Times,serif\" font-size=\"14.00\" fill=\"#000000\">value = [6, 4]</text>\n<text text-anchor=\"middle\" x=\"1169\" y=\"-111.8\" font-family=\"Times,serif\" font-size=\"14.00\" fill=\"#000000\">class = Normal</text>\n</g>\n<!-- 29&#45;&gt;31 -->\n<g id=\"edge31\" class=\"edge\">\n<title>29&#45;&gt;31</title>\n<path fill=\"none\" stroke=\"#000000\" d=\"M1169,-222.8796C1169,-214.6838 1169,-205.9891 1169,-197.5013\"/>\n<polygon fill=\"#000000\" stroke=\"#000000\" points=\"1172.5001,-197.298 1169,-187.2981 1165.5001,-197.2981 1172.5001,-197.298\"/>\n</g>\n<!-- 32 -->\n<g id=\"node33\" class=\"node\">\n<title>32</title>\n<polygon fill=\"#e58139\" stroke=\"#000000\" points=\"1106,-68 1004,-68 1004,0 1106,0 1106,-68\"/>\n<text text-anchor=\"middle\" x=\"1055\" y=\"-52.8\" font-family=\"Times,serif\" font-size=\"14.00\" fill=\"#000000\">gini = 0.0</text>\n<text text-anchor=\"middle\" x=\"1055\" y=\"-37.8\" font-family=\"Times,serif\" font-size=\"14.00\" fill=\"#000000\">samples = 4</text>\n<text text-anchor=\"middle\" x=\"1055\" y=\"-22.8\" font-family=\"Times,serif\" font-size=\"14.00\" fill=\"#000000\">value = [6, 0]</text>\n<text text-anchor=\"middle\" x=\"1055\" y=\"-7.8\" font-family=\"Times,serif\" font-size=\"14.00\" fill=\"#000000\">class = Normal</text>\n</g>\n<!-- 31&#45;&gt;32 -->\n<g id=\"edge32\" class=\"edge\">\n<title>31&#45;&gt;32</title>\n<path fill=\"none\" stroke=\"#000000\" d=\"M1126.5506,-103.9815C1116.9659,-94.607 1106.793,-84.6572 1097.2179,-75.2921\"/>\n<polygon fill=\"#000000\" stroke=\"#000000\" points=\"1099.6283,-72.7538 1090.0319,-68.2637 1094.7337,-77.7581 1099.6283,-72.7538\"/>\n</g>\n<!-- 33 -->\n<g id=\"node34\" class=\"node\">\n<title>33</title>\n<polygon fill=\"#399de5\" stroke=\"#000000\" points=\"1240,-68 1124,-68 1124,0 1240,0 1240,-68\"/>\n<text text-anchor=\"middle\" x=\"1182\" y=\"-52.8\" font-family=\"Times,serif\" font-size=\"14.00\" fill=\"#000000\">gini = 0.0</text>\n<text text-anchor=\"middle\" x=\"1182\" y=\"-37.8\" font-family=\"Times,serif\" font-size=\"14.00\" fill=\"#000000\">samples = 4</text>\n<text text-anchor=\"middle\" x=\"1182\" y=\"-22.8\" font-family=\"Times,serif\" font-size=\"14.00\" fill=\"#000000\">value = [0, 4]</text>\n<text text-anchor=\"middle\" x=\"1182\" y=\"-7.8\" font-family=\"Times,serif\" font-size=\"14.00\" fill=\"#000000\">class = Abnormal</text>\n</g>\n<!-- 31&#45;&gt;33 -->\n<g id=\"edge33\" class=\"edge\">\n<title>31&#45;&gt;33</title>\n<path fill=\"none\" stroke=\"#000000\" d=\"M1173.8407,-103.9815C1174.8158,-95.618 1175.8443,-86.7965 1176.8302,-78.3409\"/>\n<polygon fill=\"#000000\" stroke=\"#000000\" points=\"1180.3234,-78.6017 1178.0051,-68.2637 1173.3705,-77.791 1180.3234,-78.6017\"/>\n</g>\n<!-- 35 -->\n<g id=\"node36\" class=\"node\">\n<title>35</title>\n<polygon fill=\"#eca06a\" stroke=\"#000000\" points=\"1434,-187 1270,-187 1270,-104 1434,-104 1434,-187\"/>\n<text text-anchor=\"middle\" x=\"1352\" y=\"-171.8\" font-family=\"Times,serif\" font-size=\"14.00\" fill=\"#000000\">thoracic_slope &lt;= 11.533</text>\n<text text-anchor=\"middle\" x=\"1352\" y=\"-156.8\" font-family=\"Times,serif\" font-size=\"14.00\" fill=\"#000000\">gini = 0.32</text>\n<text text-anchor=\"middle\" x=\"1352\" y=\"-141.8\" font-family=\"Times,serif\" font-size=\"14.00\" fill=\"#000000\">samples = 4</text>\n<text text-anchor=\"middle\" x=\"1352\" y=\"-126.8\" font-family=\"Times,serif\" font-size=\"14.00\" fill=\"#000000\">value = [4, 1]</text>\n<text text-anchor=\"middle\" x=\"1352\" y=\"-111.8\" font-family=\"Times,serif\" font-size=\"14.00\" fill=\"#000000\">class = Normal</text>\n</g>\n<!-- 34&#45;&gt;35 -->\n<g id=\"edge35\" class=\"edge\">\n<title>34&#45;&gt;35</title>\n<path fill=\"none\" stroke=\"#000000\" d=\"M1352,-222.8796C1352,-214.6838 1352,-205.9891 1352,-197.5013\"/>\n<polygon fill=\"#000000\" stroke=\"#000000\" points=\"1355.5001,-197.298 1352,-187.2981 1348.5001,-197.2981 1355.5001,-197.298\"/>\n</g>\n<!-- 38 -->\n<g id=\"node39\" class=\"node\">\n<title>38</title>\n<polygon fill=\"#e58139\" stroke=\"#000000\" points=\"1554,-179.5 1452,-179.5 1452,-111.5 1554,-111.5 1554,-179.5\"/>\n<text text-anchor=\"middle\" x=\"1503\" y=\"-164.3\" font-family=\"Times,serif\" font-size=\"14.00\" fill=\"#000000\">gini = 0.0</text>\n<text text-anchor=\"middle\" x=\"1503\" y=\"-149.3\" font-family=\"Times,serif\" font-size=\"14.00\" fill=\"#000000\">samples = 18</text>\n<text text-anchor=\"middle\" x=\"1503\" y=\"-134.3\" font-family=\"Times,serif\" font-size=\"14.00\" fill=\"#000000\">value = [31, 0]</text>\n<text text-anchor=\"middle\" x=\"1503\" y=\"-119.3\" font-family=\"Times,serif\" font-size=\"14.00\" fill=\"#000000\">class = Normal</text>\n</g>\n<!-- 34&#45;&gt;38 -->\n<g id=\"edge38\" class=\"edge\">\n<title>34&#45;&gt;38</title>\n<path fill=\"none\" stroke=\"#000000\" d=\"M1404.8125,-222.8796C1419.8817,-211.0038 1436.2803,-198.0804 1451.2834,-186.2568\"/>\n<polygon fill=\"#000000\" stroke=\"#000000\" points=\"1453.7698,-188.7536 1459.4575,-179.8149 1449.4369,-183.2557 1453.7698,-188.7536\"/>\n</g>\n<!-- 36 -->\n<g id=\"node37\" class=\"node\">\n<title>36</title>\n<polygon fill=\"#399de5\" stroke=\"#000000\" points=\"1398,-68 1282,-68 1282,0 1398,0 1398,-68\"/>\n<text text-anchor=\"middle\" x=\"1340\" y=\"-52.8\" font-family=\"Times,serif\" font-size=\"14.00\" fill=\"#000000\">gini = 0.0</text>\n<text text-anchor=\"middle\" x=\"1340\" y=\"-37.8\" font-family=\"Times,serif\" font-size=\"14.00\" fill=\"#000000\">samples = 1</text>\n<text text-anchor=\"middle\" x=\"1340\" y=\"-22.8\" font-family=\"Times,serif\" font-size=\"14.00\" fill=\"#000000\">value = [0, 1]</text>\n<text text-anchor=\"middle\" x=\"1340\" y=\"-7.8\" font-family=\"Times,serif\" font-size=\"14.00\" fill=\"#000000\">class = Abnormal</text>\n</g>\n<!-- 35&#45;&gt;36 -->\n<g id=\"edge36\" class=\"edge\">\n<title>35&#45;&gt;36</title>\n<path fill=\"none\" stroke=\"#000000\" d=\"M1347.5316,-103.9815C1346.6315,-95.618 1345.6821,-86.7965 1344.7721,-78.3409\"/>\n<polygon fill=\"#000000\" stroke=\"#000000\" points=\"1348.2376,-77.8317 1343.6876,-68.2637 1341.2778,-78.5808 1348.2376,-77.8317\"/>\n</g>\n<!-- 37 -->\n<g id=\"node38\" class=\"node\">\n<title>37</title>\n<polygon fill=\"#e58139\" stroke=\"#000000\" points=\"1518,-68 1416,-68 1416,0 1518,0 1518,-68\"/>\n<text text-anchor=\"middle\" x=\"1467\" y=\"-52.8\" font-family=\"Times,serif\" font-size=\"14.00\" fill=\"#000000\">gini = 0.0</text>\n<text text-anchor=\"middle\" x=\"1467\" y=\"-37.8\" font-family=\"Times,serif\" font-size=\"14.00\" fill=\"#000000\">samples = 3</text>\n<text text-anchor=\"middle\" x=\"1467\" y=\"-22.8\" font-family=\"Times,serif\" font-size=\"14.00\" fill=\"#000000\">value = [4, 0]</text>\n<text text-anchor=\"middle\" x=\"1467\" y=\"-7.8\" font-family=\"Times,serif\" font-size=\"14.00\" fill=\"#000000\">class = Normal</text>\n</g>\n<!-- 35&#45;&gt;37 -->\n<g id=\"edge37\" class=\"edge\">\n<title>35&#45;&gt;37</title>\n<path fill=\"none\" stroke=\"#000000\" d=\"M1394.8218,-103.9815C1404.4905,-94.607 1414.7527,-84.6572 1424.4118,-75.2921\"/>\n<polygon fill=\"#000000\" stroke=\"#000000\" points=\"1426.9176,-77.7375 1431.6608,-68.2637 1422.0449,-72.7118 1426.9176,-77.7375\"/>\n</g>\n<!-- 41 -->\n<g id=\"node42\" class=\"node\">\n<title>41</title>\n<polygon fill=\"#ffffff\" stroke=\"#000000\" points=\"1424,-782 1276,-782 1276,-699 1424,-699 1424,-782\"/>\n<text text-anchor=\"middle\" x=\"1350\" y=\"-766.8\" font-family=\"Times,serif\" font-size=\"14.00\" fill=\"#000000\">cervical_tilt &lt;= 13.057</text>\n<text text-anchor=\"middle\" x=\"1350\" y=\"-751.8\" font-family=\"Times,serif\" font-size=\"14.00\" fill=\"#000000\">gini = 0.5</text>\n<text text-anchor=\"middle\" x=\"1350\" y=\"-736.8\" font-family=\"Times,serif\" font-size=\"14.00\" fill=\"#000000\">samples = 2</text>\n<text text-anchor=\"middle\" x=\"1350\" y=\"-721.8\" font-family=\"Times,serif\" font-size=\"14.00\" fill=\"#000000\">value = [1, 1]</text>\n<text text-anchor=\"middle\" x=\"1350\" y=\"-706.8\" font-family=\"Times,serif\" font-size=\"14.00\" fill=\"#000000\">class = Normal</text>\n</g>\n<!-- 40&#45;&gt;41 -->\n<g id=\"edge41\" class=\"edge\">\n<title>40&#45;&gt;41</title>\n<path fill=\"none\" stroke=\"#000000\" d=\"M1350,-817.8796C1350,-809.6838 1350,-800.9891 1350,-792.5013\"/>\n<polygon fill=\"#000000\" stroke=\"#000000\" points=\"1353.5001,-792.298 1350,-782.2981 1346.5001,-792.2981 1353.5001,-792.298\"/>\n</g>\n<!-- 44 -->\n<g id=\"node45\" class=\"node\">\n<title>44</title>\n<polygon fill=\"#399de5\" stroke=\"#000000\" points=\"1558,-774.5 1442,-774.5 1442,-706.5 1558,-706.5 1558,-774.5\"/>\n<text text-anchor=\"middle\" x=\"1500\" y=\"-759.3\" font-family=\"Times,serif\" font-size=\"14.00\" fill=\"#000000\">gini = 0.0</text>\n<text text-anchor=\"middle\" x=\"1500\" y=\"-744.3\" font-family=\"Times,serif\" font-size=\"14.00\" fill=\"#000000\">samples = 64</text>\n<text text-anchor=\"middle\" x=\"1500\" y=\"-729.3\" font-family=\"Times,serif\" font-size=\"14.00\" fill=\"#000000\">value = [0, 106]</text>\n<text text-anchor=\"middle\" x=\"1500\" y=\"-714.3\" font-family=\"Times,serif\" font-size=\"14.00\" fill=\"#000000\">class = Abnormal</text>\n</g>\n<!-- 40&#45;&gt;44 -->\n<g id=\"edge44\" class=\"edge\">\n<title>40&#45;&gt;44</title>\n<path fill=\"none\" stroke=\"#000000\" d=\"M1402.4627,-817.8796C1417.4322,-806.0038 1433.7222,-793.0804 1448.6259,-781.2568\"/>\n<polygon fill=\"#000000\" stroke=\"#000000\" points=\"1451.087,-783.772 1456.7459,-774.8149 1446.7365,-778.2881 1451.087,-783.772\"/>\n</g>\n<!-- 42 -->\n<g id=\"node43\" class=\"node\">\n<title>42</title>\n<polygon fill=\"#399de5\" stroke=\"#000000\" points=\"1408,-655.5 1292,-655.5 1292,-587.5 1408,-587.5 1408,-655.5\"/>\n<text text-anchor=\"middle\" x=\"1350\" y=\"-640.3\" font-family=\"Times,serif\" font-size=\"14.00\" fill=\"#000000\">gini = 0.0</text>\n<text text-anchor=\"middle\" x=\"1350\" y=\"-625.3\" font-family=\"Times,serif\" font-size=\"14.00\" fill=\"#000000\">samples = 1</text>\n<text text-anchor=\"middle\" x=\"1350\" y=\"-610.3\" font-family=\"Times,serif\" font-size=\"14.00\" fill=\"#000000\">value = [0, 1]</text>\n<text text-anchor=\"middle\" x=\"1350\" y=\"-595.3\" font-family=\"Times,serif\" font-size=\"14.00\" fill=\"#000000\">class = Abnormal</text>\n</g>\n<!-- 41&#45;&gt;42 -->\n<g id=\"edge42\" class=\"edge\">\n<title>41&#45;&gt;42</title>\n<path fill=\"none\" stroke=\"#000000\" d=\"M1350,-698.8796C1350,-688.2134 1350,-676.7021 1350,-665.9015\"/>\n<polygon fill=\"#000000\" stroke=\"#000000\" points=\"1353.5001,-665.8149 1350,-655.8149 1346.5001,-665.815 1353.5001,-665.8149\"/>\n</g>\n<!-- 43 -->\n<g id=\"node44\" class=\"node\">\n<title>43</title>\n<polygon fill=\"#e58139\" stroke=\"#000000\" points=\"1528,-655.5 1426,-655.5 1426,-587.5 1528,-587.5 1528,-655.5\"/>\n<text text-anchor=\"middle\" x=\"1477\" y=\"-640.3\" font-family=\"Times,serif\" font-size=\"14.00\" fill=\"#000000\">gini = 0.0</text>\n<text text-anchor=\"middle\" x=\"1477\" y=\"-625.3\" font-family=\"Times,serif\" font-size=\"14.00\" fill=\"#000000\">samples = 1</text>\n<text text-anchor=\"middle\" x=\"1477\" y=\"-610.3\" font-family=\"Times,serif\" font-size=\"14.00\" fill=\"#000000\">value = [1, 0]</text>\n<text text-anchor=\"middle\" x=\"1477\" y=\"-595.3\" font-family=\"Times,serif\" font-size=\"14.00\" fill=\"#000000\">class = Normal</text>\n</g>\n<!-- 41&#45;&gt;43 -->\n<g id=\"edge43\" class=\"edge\">\n<title>41&#45;&gt;43</title>\n<path fill=\"none\" stroke=\"#000000\" d=\"M1394.4184,-698.8796C1406.8579,-687.2237 1420.3743,-674.5587 1432.801,-662.9148\"/>\n<polygon fill=\"#000000\" stroke=\"#000000\" points=\"1435.4741,-665.2065 1440.3782,-655.8149 1430.6879,-660.0985 1435.4741,-665.2065\"/>\n</g>\n</g>\n</svg>\n"
          },
          "metadata": {
            "tags": []
          },
          "execution_count": 191
        }
      ]
    },
    {
      "cell_type": "code",
      "metadata": {
        "id": "aOzNh1c_nodR",
        "outputId": "03abec93-f55c-493d-e693-cfdba5a71d85",
        "colab": {
          "base_uri": "https://localhost:8080/",
          "height": 279
        }
      },
      "source": [
        "from sklearn.metrics import accuracy_score\n",
        "acc = []\n",
        "\n",
        "# max depth를 바꾸면서 테스트해보자\n",
        "for i in range(1, 15):\n",
        "  forest = RandomForestClassifier(max_depth=i, random_state=0)\n",
        "  forest.fit(X_bal,y_bal)\n",
        "\n",
        "  # train acc\n",
        "  y_train_pred = forest.predict(X_bal)\n",
        "  train_acc = accuracy_score(y_bal, y_train_pred)\n",
        "\n",
        "  # test acc\n",
        "  y_test_pred = forest.predict(X_test)\n",
        "  test_acc=accuracy_score(y_test, y_test_pred)\n",
        "  acc.append({'max_depth':i, 'train_acc':train_acc, 'test_acc':test_acc})\n",
        "\n",
        "  print('max_depth: {}, train acc: {}, test acc: {}'.format(i, train_acc, test_acc))"
      ],
      "execution_count": null,
      "outputs": [
        {
          "output_type": "stream",
          "text": [
            "max_depth: 1, train acc: 0.8299319727891157, test acc: 0.7419354838709677\n",
            "max_depth: 2, train acc: 0.8469387755102041, test acc: 0.7634408602150538\n",
            "max_depth: 3, train acc: 0.9013605442176871, test acc: 0.7526881720430108\n",
            "max_depth: 4, train acc: 0.935374149659864, test acc: 0.7956989247311828\n",
            "max_depth: 5, train acc: 0.9591836734693877, test acc: 0.8279569892473119\n",
            "max_depth: 6, train acc: 0.9829931972789115, test acc: 0.8172043010752689\n",
            "max_depth: 7, train acc: 0.9931972789115646, test acc: 0.8064516129032258\n",
            "max_depth: 8, train acc: 1.0, test acc: 0.7956989247311828\n",
            "max_depth: 9, train acc: 1.0, test acc: 0.7849462365591398\n",
            "max_depth: 10, train acc: 1.0, test acc: 0.7849462365591398\n",
            "max_depth: 11, train acc: 1.0, test acc: 0.8064516129032258\n",
            "max_depth: 12, train acc: 1.0, test acc: 0.8064516129032258\n",
            "max_depth: 13, train acc: 1.0, test acc: 0.7956989247311828\n",
            "max_depth: 14, train acc: 1.0, test acc: 0.7956989247311828\n"
          ],
          "name": "stdout"
        }
      ]
    },
    {
      "cell_type": "code",
      "metadata": {
        "id": "vM58ONzxpnQH"
      },
      "source": [
        "acc_df = pd.DataFrame(acc)"
      ],
      "execution_count": null,
      "outputs": []
    },
    {
      "cell_type": "code",
      "metadata": {
        "id": "h9qiacPYprGS"
      },
      "source": [
        "acc_df.set_index('max_depth', inplace=True)"
      ],
      "execution_count": null,
      "outputs": []
    },
    {
      "cell_type": "code",
      "metadata": {
        "id": "CssFWJnUpylk",
        "outputId": "11a343b3-1d8d-4289-8245-0de2a936e420",
        "colab": {
          "base_uri": "https://localhost:8080/",
          "height": 299
        }
      },
      "source": [
        "acc_df.plot()"
      ],
      "execution_count": null,
      "outputs": [
        {
          "output_type": "execute_result",
          "data": {
            "text/plain": [
              "<matplotlib.axes._subplots.AxesSubplot at 0x7f5f363c4f98>"
            ]
          },
          "metadata": {
            "tags": []
          },
          "execution_count": 201
        },
        {
          "output_type": "display_data",
          "data": {
            "image/png": "[encoded data removed]",
            "text/plain": [
              "<Figure size 432x288 with 1 Axes>"
            ]
          },
          "metadata": {
            "tags": [],
            "needs_background": "light"
          }
        }
      ]
    },
    {
      "cell_type": "code",
      "metadata": {
        "id": "02D3h78W-ajs",
        "outputId": "340cd22f-2a50-4084-8c9e-e418cf1b67ff",
        "colab": {
          "base_uri": "https://localhost:8080/",
          "height": 279
        }
      },
      "source": [
        "# upsampling 하지 않은 경우\n",
        "\n",
        "from sklearn.metrics import accuracy_score\n",
        "acc = []\n",
        "\n",
        "# max depth를 바꾸면서 테스트해보자\n",
        "for i in range(1, 15):\n",
        "  forest = RandomForestClassifier(max_depth=i, random_state=0)\n",
        "  forest.fit(X_train,y_train)\n",
        "\n",
        "  # train acc\n",
        "  y_train_pred = forest.predict(X_train)\n",
        "  train_acc = accuracy_score(y_train, y_train_pred)\n",
        "\n",
        "  # test acc\n",
        "  y_test_pred = forest.predict(X_test)\n",
        "  test_acc=accuracy_score(y_test, y_test_pred)\n",
        "  acc.append({'max_depth':i, 'train_acc':train_acc, 'test_acc':test_acc})\n",
        "\n",
        "  print('max_depth: {}, train acc: {}, test acc: {}'.format(i, train_acc, test_acc))"
      ],
      "execution_count": null,
      "outputs": [
        {
          "output_type": "stream",
          "text": [
            "max_depth: 1, train acc: 0.7880184331797235, test acc: 0.6881720430107527\n",
            "max_depth: 2, train acc: 0.880184331797235, test acc: 0.7526881720430108\n",
            "max_depth: 3, train acc: 0.9216589861751152, test acc: 0.8172043010752689\n",
            "max_depth: 4, train acc: 0.9769585253456221, test acc: 0.7956989247311828\n",
            "max_depth: 5, train acc: 0.9953917050691244, test acc: 0.7956989247311828\n",
            "max_depth: 6, train acc: 1.0, test acc: 0.7956989247311828\n",
            "max_depth: 7, train acc: 1.0, test acc: 0.8172043010752689\n",
            "max_depth: 8, train acc: 1.0, test acc: 0.7956989247311828\n",
            "max_depth: 9, train acc: 1.0, test acc: 0.8064516129032258\n",
            "max_depth: 10, train acc: 1.0, test acc: 0.8064516129032258\n",
            "max_depth: 11, train acc: 1.0, test acc: 0.8064516129032258\n",
            "max_depth: 12, train acc: 1.0, test acc: 0.8064516129032258\n",
            "max_depth: 13, train acc: 1.0, test acc: 0.8064516129032258\n",
            "max_depth: 14, train acc: 1.0, test acc: 0.8064516129032258\n"
          ],
          "name": "stdout"
        }
      ]
    },
    {
      "cell_type": "code",
      "metadata": {
        "id": "7RKbPCVuH5xM",
        "outputId": "30c9a013-7dae-422c-987e-d7bfe730ee04",
        "colab": {
          "base_uri": "https://localhost:8080/",
          "height": 299
        }
      },
      "source": [
        "acc_df = pd.DataFrame(acc)\n",
        "acc_df.set_index('max_depth', inplace=True)\n",
        "acc_df.plot()"
      ],
      "execution_count": null,
      "outputs": [
        {
          "output_type": "execute_result",
          "data": {
            "text/plain": [
              "<matplotlib.axes._subplots.AxesSubplot at 0x7f5f37d94630>"
            ]
          },
          "metadata": {
            "tags": []
          },
          "execution_count": 203
        },
        {
          "output_type": "display_data",
          "data": {
            "image/png": "[encoded data removed]",
            "text/plain": [
              "<Figure size 432x288 with 1 Axes>"
            ]
          },
          "metadata": {
            "tags": [],
            "needs_background": "light"
          }
        }
      ]
    },
    {
      "cell_type": "code",
      "metadata": {
        "id": "rZwBMV1TH9UW"
      },
      "source": [
        ""
      ],
      "execution_count": null,
      "outputs": []
    }
  ]
}