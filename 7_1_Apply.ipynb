{
  "nbformat": 4,
  "nbformat_minor": 0,
  "metadata": {
    "kernelspec": {
      "name": "python3",
      "display_name": "Python 3",
      "language": "python"
    },
    "language_info": {
      "mimetype": "text/x-python",
      "nbconvert_exporter": "python",
      "name": "python",
      "pygments_lexer": "ipython3",
      "version": "3.5.4",
      "file_extension": ".py",
      "codemirror_mode": {
        "version": 3,
        "name": "ipython"
      }
    },
    "colab": {
      "name": "7-1. Apply.ipynb",
      "provenance": [],
      "collapsed_sections": [],
      "include_colab_link": true
    }
  },
  "cells": [
    {
      "cell_type": "markdown",
      "metadata": {
        "id": "view-in-github",
        "colab_type": "text"
      },
      "source": [
        "<a href=\"https://colab.research.google.com/github/joohoshin/MLDL_Basic/blob/master/7_1_Apply.ipynb\" target=\"_parent\"><img src=\"https://colab.research.google.com/assets/colab-badge.svg\" alt=\"Open In Colab\"/></a>"
      ]
    },
    {
      "cell_type": "markdown",
      "metadata": {
        "id": "k4JKx0BF9qzl",
        "colab_type": "text"
      },
      "source": [
        "# Apply\n",
        "* apply() 함수를 통해서 dataframe에 함수를 적용할 수 있습니다"
      ]
    },
    {
      "cell_type": "code",
      "metadata": {
        "trusted": false,
        "id": "4zvqyCp89qzn",
        "colab_type": "code",
        "colab": {}
      },
      "source": [
        "# 가상의 성적 데이터를 만들어보겠습니다\n",
        "import pandas as pd\n",
        "import numpy as np\n",
        "\n",
        "data = np.random.choice(range(60,101), (10,3), replace=True)"
      ],
      "execution_count": null,
      "outputs": []
    },
    {
      "cell_type": "code",
      "metadata": {
        "trusted": false,
        "id": "FKxRPHSS9qzu",
        "colab_type": "code",
        "colab": {
          "base_uri": "https://localhost:8080/",
          "height": 198
        },
        "outputId": "a1d3a7da-31f2-42c7-f003-329b8e1cb2a3"
      },
      "source": [
        "data"
      ],
      "execution_count": null,
      "outputs": [
        {
          "output_type": "execute_result",
          "data": {
            "text/plain": [
              "array([[93, 96, 83],\n",
              "       [94, 78, 64],\n",
              "       [89, 79, 75],\n",
              "       [62, 77, 62],\n",
              "       [70, 87, 72],\n",
              "       [94, 86, 76],\n",
              "       [64, 86, 80],\n",
              "       [69, 66, 68],\n",
              "       [83, 94, 95],\n",
              "       [82, 98, 80]])"
            ]
          },
          "metadata": {
            "tags": []
          },
          "execution_count": 82
        }
      ]
    },
    {
      "cell_type": "code",
      "metadata": {
        "trusted": false,
        "id": "gqoo85PO9qz1",
        "colab_type": "code",
        "colab": {}
      },
      "source": [
        "df=pd.DataFrame(data,columns = ['파이썬', '머신러닝', '딥러닝'])"
      ],
      "execution_count": null,
      "outputs": []
    },
    {
      "cell_type": "code",
      "metadata": {
        "trusted": false,
        "id": "ubQ4AS0n9qz-",
        "colab_type": "code",
        "colab": {
          "base_uri": "https://localhost:8080/",
          "height": 358
        },
        "outputId": "679721f1-510b-4ca4-afd6-d572f75b9537"
      },
      "source": [
        "df"
      ],
      "execution_count": null,
      "outputs": [
        {
          "output_type": "execute_result",
          "data": {
            "text/html": [
              "<div>\n",
              "<style scoped>\n",
              "    .dataframe tbody tr th:only-of-type {\n",
              "        vertical-align: middle;\n",
              "    }\n",
              "\n",
              "    .dataframe tbody tr th {\n",
              "        vertical-align: top;\n",
              "    }\n",
              "\n",
              "    .dataframe thead th {\n",
              "        text-align: right;\n",
              "    }\n",
              "</style>\n",
              "<table border=\"1\" class=\"dataframe\">\n",
              "  <thead>\n",
              "    <tr style=\"text-align: right;\">\n",
              "      <th></th>\n",
              "      <th>파이썬</th>\n",
              "      <th>머신러닝</th>\n",
              "      <th>딥러닝</th>\n",
              "    </tr>\n",
              "  </thead>\n",
              "  <tbody>\n",
              "    <tr>\n",
              "      <th>0</th>\n",
              "      <td>93</td>\n",
              "      <td>96</td>\n",
              "      <td>83</td>\n",
              "    </tr>\n",
              "    <tr>\n",
              "      <th>1</th>\n",
              "      <td>94</td>\n",
              "      <td>78</td>\n",
              "      <td>64</td>\n",
              "    </tr>\n",
              "    <tr>\n",
              "      <th>2</th>\n",
              "      <td>89</td>\n",
              "      <td>79</td>\n",
              "      <td>75</td>\n",
              "    </tr>\n",
              "    <tr>\n",
              "      <th>3</th>\n",
              "      <td>62</td>\n",
              "      <td>77</td>\n",
              "      <td>62</td>\n",
              "    </tr>\n",
              "    <tr>\n",
              "      <th>4</th>\n",
              "      <td>70</td>\n",
              "      <td>87</td>\n",
              "      <td>72</td>\n",
              "    </tr>\n",
              "    <tr>\n",
              "      <th>5</th>\n",
              "      <td>94</td>\n",
              "      <td>86</td>\n",
              "      <td>76</td>\n",
              "    </tr>\n",
              "    <tr>\n",
              "      <th>6</th>\n",
              "      <td>64</td>\n",
              "      <td>86</td>\n",
              "      <td>80</td>\n",
              "    </tr>\n",
              "    <tr>\n",
              "      <th>7</th>\n",
              "      <td>69</td>\n",
              "      <td>66</td>\n",
              "      <td>68</td>\n",
              "    </tr>\n",
              "    <tr>\n",
              "      <th>8</th>\n",
              "      <td>83</td>\n",
              "      <td>94</td>\n",
              "      <td>95</td>\n",
              "    </tr>\n",
              "    <tr>\n",
              "      <th>9</th>\n",
              "      <td>82</td>\n",
              "      <td>98</td>\n",
              "      <td>80</td>\n",
              "    </tr>\n",
              "  </tbody>\n",
              "</table>\n",
              "</div>"
            ],
            "text/plain": [
              "   파이썬  머신러닝  딥러닝\n",
              "0   93    96   83\n",
              "1   94    78   64\n",
              "2   89    79   75\n",
              "3   62    77   62\n",
              "4   70    87   72\n",
              "5   94    86   76\n",
              "6   64    86   80\n",
              "7   69    66   68\n",
              "8   83    94   95\n",
              "9   82    98   80"
            ]
          },
          "metadata": {
            "tags": []
          },
          "execution_count": 84
        }
      ]
    },
    {
      "cell_type": "code",
      "metadata": {
        "trusted": false,
        "id": "pvXqwtPs9q0E",
        "colab_type": "code",
        "colab": {
          "base_uri": "https://localhost:8080/",
          "height": 358
        },
        "outputId": "dfeae9a4-c835-4d76-afb8-189f675b40c5"
      },
      "source": [
        "# 평균을 추가해봅시다\n",
        "df=df.assign(평균 = (df.파이썬 + df.머신러닝 + df.딥러닝)/3)\n",
        "df"
      ],
      "execution_count": null,
      "outputs": [
        {
          "output_type": "execute_result",
          "data": {
            "text/html": [
              "<div>\n",
              "<style scoped>\n",
              "    .dataframe tbody tr th:only-of-type {\n",
              "        vertical-align: middle;\n",
              "    }\n",
              "\n",
              "    .dataframe tbody tr th {\n",
              "        vertical-align: top;\n",
              "    }\n",
              "\n",
              "    .dataframe thead th {\n",
              "        text-align: right;\n",
              "    }\n",
              "</style>\n",
              "<table border=\"1\" class=\"dataframe\">\n",
              "  <thead>\n",
              "    <tr style=\"text-align: right;\">\n",
              "      <th></th>\n",
              "      <th>파이썬</th>\n",
              "      <th>머신러닝</th>\n",
              "      <th>딥러닝</th>\n",
              "      <th>평균</th>\n",
              "    </tr>\n",
              "  </thead>\n",
              "  <tbody>\n",
              "    <tr>\n",
              "      <th>0</th>\n",
              "      <td>93</td>\n",
              "      <td>96</td>\n",
              "      <td>83</td>\n",
              "      <td>90.666667</td>\n",
              "    </tr>\n",
              "    <tr>\n",
              "      <th>1</th>\n",
              "      <td>94</td>\n",
              "      <td>78</td>\n",
              "      <td>64</td>\n",
              "      <td>78.666667</td>\n",
              "    </tr>\n",
              "    <tr>\n",
              "      <th>2</th>\n",
              "      <td>89</td>\n",
              "      <td>79</td>\n",
              "      <td>75</td>\n",
              "      <td>81.000000</td>\n",
              "    </tr>\n",
              "    <tr>\n",
              "      <th>3</th>\n",
              "      <td>62</td>\n",
              "      <td>77</td>\n",
              "      <td>62</td>\n",
              "      <td>67.000000</td>\n",
              "    </tr>\n",
              "    <tr>\n",
              "      <th>4</th>\n",
              "      <td>70</td>\n",
              "      <td>87</td>\n",
              "      <td>72</td>\n",
              "      <td>76.333333</td>\n",
              "    </tr>\n",
              "    <tr>\n",
              "      <th>5</th>\n",
              "      <td>94</td>\n",
              "      <td>86</td>\n",
              "      <td>76</td>\n",
              "      <td>85.333333</td>\n",
              "    </tr>\n",
              "    <tr>\n",
              "      <th>6</th>\n",
              "      <td>64</td>\n",
              "      <td>86</td>\n",
              "      <td>80</td>\n",
              "      <td>76.666667</td>\n",
              "    </tr>\n",
              "    <tr>\n",
              "      <th>7</th>\n",
              "      <td>69</td>\n",
              "      <td>66</td>\n",
              "      <td>68</td>\n",
              "      <td>67.666667</td>\n",
              "    </tr>\n",
              "    <tr>\n",
              "      <th>8</th>\n",
              "      <td>83</td>\n",
              "      <td>94</td>\n",
              "      <td>95</td>\n",
              "      <td>90.666667</td>\n",
              "    </tr>\n",
              "    <tr>\n",
              "      <th>9</th>\n",
              "      <td>82</td>\n",
              "      <td>98</td>\n",
              "      <td>80</td>\n",
              "      <td>86.666667</td>\n",
              "    </tr>\n",
              "  </tbody>\n",
              "</table>\n",
              "</div>"
            ],
            "text/plain": [
              "   파이썬  머신러닝  딥러닝         평균\n",
              "0   93    96   83  90.666667\n",
              "1   94    78   64  78.666667\n",
              "2   89    79   75  81.000000\n",
              "3   62    77   62  67.000000\n",
              "4   70    87   72  76.333333\n",
              "5   94    86   76  85.333333\n",
              "6   64    86   80  76.666667\n",
              "7   69    66   68  67.666667\n",
              "8   83    94   95  90.666667\n",
              "9   82    98   80  86.666667"
            ]
          },
          "metadata": {
            "tags": []
          },
          "execution_count": 85
        }
      ]
    },
    {
      "cell_type": "code",
      "metadata": {
        "trusted": false,
        "id": "l4zZWg0O9q0J",
        "colab_type": "code",
        "colab": {}
      },
      "source": [
        "# 90점 이상은 A, 80점 이상B, 70점 이상 C, 그 이하는 D를 성적 컬럼에 추가하고 싶은 경우"
      ],
      "execution_count": null,
      "outputs": []
    },
    {
      "cell_type": "code",
      "metadata": {
        "trusted": false,
        "id": "FIPCvHXc9q0P",
        "colab_type": "code",
        "colab": {}
      },
      "source": [
        "def grade(점수):\n",
        "    if 점수>=90: return 'A'\n",
        "    elif 점수>=80: return 'B'\n",
        "    elif 점수>=70: return 'C'\n",
        "    else: return 'D'    "
      ],
      "execution_count": null,
      "outputs": []
    },
    {
      "cell_type": "code",
      "metadata": {
        "id": "2nesCjMjRs6_",
        "colab_type": "code",
        "colab": {
          "base_uri": "https://localhost:8080/",
          "height": 35
        },
        "outputId": "0d2ab066-4a04-4762-be5a-a9c15fcf01fb"
      },
      "source": [
        "grade(70)"
      ],
      "execution_count": null,
      "outputs": [
        {
          "output_type": "execute_result",
          "data": {
            "application/vnd.google.colaboratory.intrinsic+json": {
              "type": "string"
            },
            "text/plain": [
              "'C'"
            ]
          },
          "metadata": {
            "tags": []
          },
          "execution_count": 88
        }
      ]
    },
    {
      "cell_type": "code",
      "metadata": {
        "trusted": false,
        "id": "nKvk6hmt9q0V",
        "colab_type": "code",
        "colab": {}
      },
      "source": [
        "df['성적'] = df.평균.apply(grade)"
      ],
      "execution_count": null,
      "outputs": []
    },
    {
      "cell_type": "code",
      "metadata": {
        "trusted": false,
        "id": "DtvQvhg-9q0Z",
        "colab_type": "code",
        "colab": {
          "base_uri": "https://localhost:8080/",
          "height": 203
        },
        "outputId": "e6e586b0-58ea-4a67-cdaf-62c80a9db1e1"
      },
      "source": [
        "df.head()"
      ],
      "execution_count": null,
      "outputs": [
        {
          "output_type": "execute_result",
          "data": {
            "text/html": [
              "<div>\n",
              "<style scoped>\n",
              "    .dataframe tbody tr th:only-of-type {\n",
              "        vertical-align: middle;\n",
              "    }\n",
              "\n",
              "    .dataframe tbody tr th {\n",
              "        vertical-align: top;\n",
              "    }\n",
              "\n",
              "    .dataframe thead th {\n",
              "        text-align: right;\n",
              "    }\n",
              "</style>\n",
              "<table border=\"1\" class=\"dataframe\">\n",
              "  <thead>\n",
              "    <tr style=\"text-align: right;\">\n",
              "      <th></th>\n",
              "      <th>파이썬</th>\n",
              "      <th>머신러닝</th>\n",
              "      <th>딥러닝</th>\n",
              "      <th>평균</th>\n",
              "      <th>성적</th>\n",
              "    </tr>\n",
              "  </thead>\n",
              "  <tbody>\n",
              "    <tr>\n",
              "      <th>0</th>\n",
              "      <td>93</td>\n",
              "      <td>96</td>\n",
              "      <td>83</td>\n",
              "      <td>90.666667</td>\n",
              "      <td>A</td>\n",
              "    </tr>\n",
              "    <tr>\n",
              "      <th>1</th>\n",
              "      <td>94</td>\n",
              "      <td>78</td>\n",
              "      <td>64</td>\n",
              "      <td>78.666667</td>\n",
              "      <td>C</td>\n",
              "    </tr>\n",
              "    <tr>\n",
              "      <th>2</th>\n",
              "      <td>89</td>\n",
              "      <td>79</td>\n",
              "      <td>75</td>\n",
              "      <td>81.000000</td>\n",
              "      <td>B</td>\n",
              "    </tr>\n",
              "    <tr>\n",
              "      <th>3</th>\n",
              "      <td>62</td>\n",
              "      <td>77</td>\n",
              "      <td>62</td>\n",
              "      <td>67.000000</td>\n",
              "      <td>D</td>\n",
              "    </tr>\n",
              "    <tr>\n",
              "      <th>4</th>\n",
              "      <td>70</td>\n",
              "      <td>87</td>\n",
              "      <td>72</td>\n",
              "      <td>76.333333</td>\n",
              "      <td>C</td>\n",
              "    </tr>\n",
              "  </tbody>\n",
              "</table>\n",
              "</div>"
            ],
            "text/plain": [
              "   파이썬  머신러닝  딥러닝         평균 성적\n",
              "0   93    96   83  90.666667  A\n",
              "1   94    78   64  78.666667  C\n",
              "2   89    79   75  81.000000  B\n",
              "3   62    77   62  67.000000  D\n",
              "4   70    87   72  76.333333  C"
            ]
          },
          "metadata": {
            "tags": []
          },
          "execution_count": 90
        }
      ]
    },
    {
      "cell_type": "code",
      "metadata": {
        "trusted": false,
        "id": "r2tAzhQ19q0g",
        "colab_type": "code",
        "colab": {
          "base_uri": "https://localhost:8080/",
          "height": 141
        },
        "outputId": "98bfb077-066e-49da-ad03-2833dc7feb51"
      },
      "source": [
        "df.query('성적==\"B\"')"
      ],
      "execution_count": null,
      "outputs": [
        {
          "output_type": "execute_result",
          "data": {
            "text/html": [
              "<div>\n",
              "<style scoped>\n",
              "    .dataframe tbody tr th:only-of-type {\n",
              "        vertical-align: middle;\n",
              "    }\n",
              "\n",
              "    .dataframe tbody tr th {\n",
              "        vertical-align: top;\n",
              "    }\n",
              "\n",
              "    .dataframe thead th {\n",
              "        text-align: right;\n",
              "    }\n",
              "</style>\n",
              "<table border=\"1\" class=\"dataframe\">\n",
              "  <thead>\n",
              "    <tr style=\"text-align: right;\">\n",
              "      <th></th>\n",
              "      <th>파이썬</th>\n",
              "      <th>머신러닝</th>\n",
              "      <th>딥러닝</th>\n",
              "      <th>평균</th>\n",
              "      <th>성적</th>\n",
              "    </tr>\n",
              "  </thead>\n",
              "  <tbody>\n",
              "    <tr>\n",
              "      <th>2</th>\n",
              "      <td>89</td>\n",
              "      <td>79</td>\n",
              "      <td>75</td>\n",
              "      <td>81.000000</td>\n",
              "      <td>B</td>\n",
              "    </tr>\n",
              "    <tr>\n",
              "      <th>5</th>\n",
              "      <td>94</td>\n",
              "      <td>86</td>\n",
              "      <td>76</td>\n",
              "      <td>85.333333</td>\n",
              "      <td>B</td>\n",
              "    </tr>\n",
              "    <tr>\n",
              "      <th>9</th>\n",
              "      <td>82</td>\n",
              "      <td>98</td>\n",
              "      <td>80</td>\n",
              "      <td>86.666667</td>\n",
              "      <td>B</td>\n",
              "    </tr>\n",
              "  </tbody>\n",
              "</table>\n",
              "</div>"
            ],
            "text/plain": [
              "   파이썬  머신러닝  딥러닝         평균 성적\n",
              "2   89    79   75  81.000000  B\n",
              "5   94    86   76  85.333333  B\n",
              "9   82    98   80  86.666667  B"
            ]
          },
          "metadata": {
            "tags": []
          },
          "execution_count": 91
        }
      ]
    },
    {
      "cell_type": "markdown",
      "metadata": {
        "id": "RlM-JPZc9q0k",
        "colab_type": "text"
      },
      "source": [
        "* 여러 컬럼을 입력으로 계산하는 경우"
      ]
    },
    {
      "cell_type": "code",
      "metadata": {
        "trusted": false,
        "id": "UKHNZn2E9q0l",
        "colab_type": "code",
        "colab": {}
      },
      "source": [
        "def count_point(class1, class2, class3, point):\n",
        "    cnt = 0\n",
        "    if class1>=point: cnt +=1\n",
        "    if class2>=point: cnt +=1\n",
        "    if class3>=point: cnt +=1\n",
        "    return cnt"
      ],
      "execution_count": null,
      "outputs": []
    },
    {
      "cell_type": "code",
      "metadata": {
        "id": "dhpDAM2RVevt",
        "colab_type": "code",
        "colab": {
          "base_uri": "https://localhost:8080/",
          "height": 35
        },
        "outputId": "09c477bc-b3a4-40bf-fd97-4d0be640b20c"
      },
      "source": [
        "count_point(90, 80,70, 80)"
      ],
      "execution_count": null,
      "outputs": [
        {
          "output_type": "execute_result",
          "data": {
            "text/plain": [
              "2"
            ]
          },
          "metadata": {
            "tags": []
          },
          "execution_count": 94
        }
      ]
    },
    {
      "cell_type": "code",
      "metadata": {
        "trusted": false,
        "id": "fkUnP5iM9q0s",
        "colab_type": "code",
        "colab": {}
      },
      "source": [
        "point = 80\n",
        "df['과목수'] = df.apply(lambda row: count_point(row.파이썬, row.머신러닝, row.딥러닝, point), axis = 1) # axis=1이 각 행에 함수 적용됨\n",
        "df=df.rename(columns={'과목수':str(point)+'이상과목수'})"
      ],
      "execution_count": null,
      "outputs": []
    },
    {
      "cell_type": "code",
      "metadata": {
        "trusted": false,
        "id": "5aOyy0p39q0x",
        "colab_type": "code",
        "colab": {
          "base_uri": "https://localhost:8080/",
          "height": 358
        },
        "outputId": "0bcb2b03-7222-4a28-e61a-dbd20c60941c"
      },
      "source": [
        "df"
      ],
      "execution_count": null,
      "outputs": [
        {
          "output_type": "execute_result",
          "data": {
            "text/html": [
              "<div>\n",
              "<style scoped>\n",
              "    .dataframe tbody tr th:only-of-type {\n",
              "        vertical-align: middle;\n",
              "    }\n",
              "\n",
              "    .dataframe tbody tr th {\n",
              "        vertical-align: top;\n",
              "    }\n",
              "\n",
              "    .dataframe thead th {\n",
              "        text-align: right;\n",
              "    }\n",
              "</style>\n",
              "<table border=\"1\" class=\"dataframe\">\n",
              "  <thead>\n",
              "    <tr style=\"text-align: right;\">\n",
              "      <th></th>\n",
              "      <th>파이썬</th>\n",
              "      <th>머신러닝</th>\n",
              "      <th>딥러닝</th>\n",
              "      <th>평균</th>\n",
              "      <th>성적</th>\n",
              "      <th>80이상과목수</th>\n",
              "    </tr>\n",
              "  </thead>\n",
              "  <tbody>\n",
              "    <tr>\n",
              "      <th>0</th>\n",
              "      <td>93</td>\n",
              "      <td>96</td>\n",
              "      <td>83</td>\n",
              "      <td>90.666667</td>\n",
              "      <td>A</td>\n",
              "      <td>3</td>\n",
              "    </tr>\n",
              "    <tr>\n",
              "      <th>1</th>\n",
              "      <td>94</td>\n",
              "      <td>78</td>\n",
              "      <td>64</td>\n",
              "      <td>78.666667</td>\n",
              "      <td>C</td>\n",
              "      <td>1</td>\n",
              "    </tr>\n",
              "    <tr>\n",
              "      <th>2</th>\n",
              "      <td>89</td>\n",
              "      <td>79</td>\n",
              "      <td>75</td>\n",
              "      <td>81.000000</td>\n",
              "      <td>B</td>\n",
              "      <td>1</td>\n",
              "    </tr>\n",
              "    <tr>\n",
              "      <th>3</th>\n",
              "      <td>62</td>\n",
              "      <td>77</td>\n",
              "      <td>62</td>\n",
              "      <td>67.000000</td>\n",
              "      <td>D</td>\n",
              "      <td>0</td>\n",
              "    </tr>\n",
              "    <tr>\n",
              "      <th>4</th>\n",
              "      <td>70</td>\n",
              "      <td>87</td>\n",
              "      <td>72</td>\n",
              "      <td>76.333333</td>\n",
              "      <td>C</td>\n",
              "      <td>1</td>\n",
              "    </tr>\n",
              "    <tr>\n",
              "      <th>5</th>\n",
              "      <td>94</td>\n",
              "      <td>86</td>\n",
              "      <td>76</td>\n",
              "      <td>85.333333</td>\n",
              "      <td>B</td>\n",
              "      <td>2</td>\n",
              "    </tr>\n",
              "    <tr>\n",
              "      <th>6</th>\n",
              "      <td>64</td>\n",
              "      <td>86</td>\n",
              "      <td>80</td>\n",
              "      <td>76.666667</td>\n",
              "      <td>C</td>\n",
              "      <td>2</td>\n",
              "    </tr>\n",
              "    <tr>\n",
              "      <th>7</th>\n",
              "      <td>69</td>\n",
              "      <td>66</td>\n",
              "      <td>68</td>\n",
              "      <td>67.666667</td>\n",
              "      <td>D</td>\n",
              "      <td>0</td>\n",
              "    </tr>\n",
              "    <tr>\n",
              "      <th>8</th>\n",
              "      <td>83</td>\n",
              "      <td>94</td>\n",
              "      <td>95</td>\n",
              "      <td>90.666667</td>\n",
              "      <td>A</td>\n",
              "      <td>3</td>\n",
              "    </tr>\n",
              "    <tr>\n",
              "      <th>9</th>\n",
              "      <td>82</td>\n",
              "      <td>98</td>\n",
              "      <td>80</td>\n",
              "      <td>86.666667</td>\n",
              "      <td>B</td>\n",
              "      <td>3</td>\n",
              "    </tr>\n",
              "  </tbody>\n",
              "</table>\n",
              "</div>"
            ],
            "text/plain": [
              "   파이썬  머신러닝  딥러닝         평균 성적  80이상과목수\n",
              "0   93    96   83  90.666667  A        3\n",
              "1   94    78   64  78.666667  C        1\n",
              "2   89    79   75  81.000000  B        1\n",
              "3   62    77   62  67.000000  D        0\n",
              "4   70    87   72  76.333333  C        1\n",
              "5   94    86   76  85.333333  B        2\n",
              "6   64    86   80  76.666667  C        2\n",
              "7   69    66   68  67.666667  D        0\n",
              "8   83    94   95  90.666667  A        3\n",
              "9   82    98   80  86.666667  B        3"
            ]
          },
          "metadata": {
            "tags": []
          },
          "execution_count": 96
        }
      ]
    },
    {
      "cell_type": "code",
      "metadata": {
        "trusted": false,
        "id": "0RWL9yIq9q02",
        "colab_type": "code",
        "colab": {
          "base_uri": "https://localhost:8080/",
          "height": 35
        },
        "outputId": "4d07891d-d43e-4124-e8e3-c6de6b280123"
      },
      "source": [
        "df.iloc[:,-1].max()"
      ],
      "execution_count": null,
      "outputs": [
        {
          "output_type": "execute_result",
          "data": {
            "text/plain": [
              "3"
            ]
          },
          "metadata": {
            "tags": []
          },
          "execution_count": 97
        }
      ]
    },
    {
      "cell_type": "markdown",
      "metadata": {
        "id": "FDaeum2P-p1Z",
        "colab_type": "text"
      },
      "source": [
        "Lambda expression\n",
        "\n",
        "\n",
        "*   간단한 함수의 경우, lambda expression을 통해 간단히 함수로 만들 수 있다.\n"
      ]
    },
    {
      "cell_type": "code",
      "metadata": {
        "trusted": false,
        "id": "J7RfnmxV9q06",
        "colab_type": "code",
        "colab": {}
      },
      "source": [
        "# x*2 - x +1을 함수로 만들때\n",
        "\n",
        "import numpy as np\n",
        "x = np.linspace(-1,1, num=100)\n",
        "\n",
        "def y(x):\n",
        "  return x**2 -x +1\n",
        "\n",
        "  "
      ],
      "execution_count": null,
      "outputs": []
    },
    {
      "cell_type": "code",
      "metadata": {
        "id": "MooAxw5xWzSk",
        "colab_type": "code",
        "colab": {
          "base_uri": "https://localhost:8080/",
          "height": 35
        },
        "outputId": "937abcb1-c5df-4bf0-e33e-918c6c8396a7"
      },
      "source": [
        "y(3)"
      ],
      "execution_count": null,
      "outputs": [
        {
          "output_type": "execute_result",
          "data": {
            "text/plain": [
              "7"
            ]
          },
          "metadata": {
            "tags": []
          },
          "execution_count": 99
        }
      ]
    },
    {
      "cell_type": "code",
      "metadata": {
        "id": "aH02VoAZ_M9F",
        "colab_type": "code",
        "colab": {
          "base_uri": "https://localhost:8080/",
          "height": 380
        },
        "outputId": "9fe8790b-c38b-4b51-c137-69b80faa05c8"
      },
      "source": [
        "x"
      ],
      "execution_count": null,
      "outputs": [
        {
          "output_type": "execute_result",
          "data": {
            "text/plain": [
              "array([-1.        , -0.97979798, -0.95959596, -0.93939394, -0.91919192,\n",
              "       -0.8989899 , -0.87878788, -0.85858586, -0.83838384, -0.81818182,\n",
              "       -0.7979798 , -0.77777778, -0.75757576, -0.73737374, -0.71717172,\n",
              "       -0.6969697 , -0.67676768, -0.65656566, -0.63636364, -0.61616162,\n",
              "       -0.5959596 , -0.57575758, -0.55555556, -0.53535354, -0.51515152,\n",
              "       -0.49494949, -0.47474747, -0.45454545, -0.43434343, -0.41414141,\n",
              "       -0.39393939, -0.37373737, -0.35353535, -0.33333333, -0.31313131,\n",
              "       -0.29292929, -0.27272727, -0.25252525, -0.23232323, -0.21212121,\n",
              "       -0.19191919, -0.17171717, -0.15151515, -0.13131313, -0.11111111,\n",
              "       -0.09090909, -0.07070707, -0.05050505, -0.03030303, -0.01010101,\n",
              "        0.01010101,  0.03030303,  0.05050505,  0.07070707,  0.09090909,\n",
              "        0.11111111,  0.13131313,  0.15151515,  0.17171717,  0.19191919,\n",
              "        0.21212121,  0.23232323,  0.25252525,  0.27272727,  0.29292929,\n",
              "        0.31313131,  0.33333333,  0.35353535,  0.37373737,  0.39393939,\n",
              "        0.41414141,  0.43434343,  0.45454545,  0.47474747,  0.49494949,\n",
              "        0.51515152,  0.53535354,  0.55555556,  0.57575758,  0.5959596 ,\n",
              "        0.61616162,  0.63636364,  0.65656566,  0.67676768,  0.6969697 ,\n",
              "        0.71717172,  0.73737374,  0.75757576,  0.77777778,  0.7979798 ,\n",
              "        0.81818182,  0.83838384,  0.85858586,  0.87878788,  0.8989899 ,\n",
              "        0.91919192,  0.93939394,  0.95959596,  0.97979798,  1.        ])"
            ]
          },
          "metadata": {
            "tags": []
          },
          "execution_count": 100
        }
      ]
    },
    {
      "cell_type": "code",
      "metadata": {
        "id": "2E2P2-CoiZXL",
        "colab_type": "code",
        "colab": {
          "base_uri": "https://localhost:8080/",
          "height": 380
        },
        "outputId": "ceb7c0a5-ca8b-4886-e5e8-1c418b0b4471"
      },
      "source": [
        "y(x)"
      ],
      "execution_count": null,
      "outputs": [
        {
          "output_type": "execute_result",
          "data": {
            "text/plain": [
              "array([3.        , 2.93980206, 2.88042037, 2.82185491, 2.7641057 ,\n",
              "       2.70717274, 2.65105601, 2.59575554, 2.5412713 , 2.48760331,\n",
              "       2.43475156, 2.38271605, 2.33149679, 2.28109377, 2.23150699,\n",
              "       2.18273646, 2.13478217, 2.08764412, 2.04132231, 1.99581675,\n",
              "       1.95112744, 1.90725436, 1.86419753, 1.82195694, 1.7805326 ,\n",
              "       1.7399245 , 1.70013264, 1.66115702, 1.62299765, 1.58565453,\n",
              "       1.54912764, 1.513417  , 1.4785226 , 1.44444444, 1.41118253,\n",
              "       1.37873686, 1.34710744, 1.31629426, 1.28629732, 1.25711662,\n",
              "       1.22875217, 1.20120396, 1.17447199, 1.14855627, 1.12345679,\n",
              "       1.09917355, 1.07570656, 1.05305581, 1.0312213 , 1.01020304,\n",
              "       0.99000102, 0.97061524, 0.95204571, 0.93429242, 0.91735537,\n",
              "       0.90123457, 0.88593001, 0.87144169, 0.85776962, 0.84491378,\n",
              "       0.8328742 , 0.82165085, 0.81124375, 0.80165289, 0.79287828,\n",
              "       0.78491991, 0.77777778, 0.77145189, 0.76594225, 0.76124885,\n",
              "       0.7573717 , 0.75431078, 0.75206612, 0.75063769, 0.75002551,\n",
              "       0.75022957, 0.75124987, 0.75308642, 0.75573921, 0.75920824,\n",
              "       0.76349352, 0.76859504, 0.7745128 , 0.78124681, 0.78879706,\n",
              "       0.79716355, 0.80634629, 0.81634527, 0.82716049, 0.83879196,\n",
              "       0.85123967, 0.86450362, 0.87858382, 0.89348026, 0.90919294,\n",
              "       0.92572187, 0.94306703, 0.96122845, 0.9802061 , 1.        ])"
            ]
          },
          "metadata": {
            "tags": []
          },
          "execution_count": 101
        }
      ]
    },
    {
      "cell_type": "code",
      "metadata": {
        "id": "5599DATP_PRZ",
        "colab_type": "code",
        "colab": {
          "base_uri": "https://localhost:8080/",
          "height": 380
        },
        "outputId": "d0fabbc6-500d-4dcd-af61-5026932e2fea"
      },
      "source": [
        "# lambda expression\n",
        "import numpy as np\n",
        "x = np.linspace(-1,1, num=100)\n",
        "y = lambda x: x**2 -x +1\n",
        "y(x)"
      ],
      "execution_count": null,
      "outputs": [
        {
          "output_type": "execute_result",
          "data": {
            "text/plain": [
              "array([3.        , 2.93980206, 2.88042037, 2.82185491, 2.7641057 ,\n",
              "       2.70717274, 2.65105601, 2.59575554, 2.5412713 , 2.48760331,\n",
              "       2.43475156, 2.38271605, 2.33149679, 2.28109377, 2.23150699,\n",
              "       2.18273646, 2.13478217, 2.08764412, 2.04132231, 1.99581675,\n",
              "       1.95112744, 1.90725436, 1.86419753, 1.82195694, 1.7805326 ,\n",
              "       1.7399245 , 1.70013264, 1.66115702, 1.62299765, 1.58565453,\n",
              "       1.54912764, 1.513417  , 1.4785226 , 1.44444444, 1.41118253,\n",
              "       1.37873686, 1.34710744, 1.31629426, 1.28629732, 1.25711662,\n",
              "       1.22875217, 1.20120396, 1.17447199, 1.14855627, 1.12345679,\n",
              "       1.09917355, 1.07570656, 1.05305581, 1.0312213 , 1.01020304,\n",
              "       0.99000102, 0.97061524, 0.95204571, 0.93429242, 0.91735537,\n",
              "       0.90123457, 0.88593001, 0.87144169, 0.85776962, 0.84491378,\n",
              "       0.8328742 , 0.82165085, 0.81124375, 0.80165289, 0.79287828,\n",
              "       0.78491991, 0.77777778, 0.77145189, 0.76594225, 0.76124885,\n",
              "       0.7573717 , 0.75431078, 0.75206612, 0.75063769, 0.75002551,\n",
              "       0.75022957, 0.75124987, 0.75308642, 0.75573921, 0.75920824,\n",
              "       0.76349352, 0.76859504, 0.7745128 , 0.78124681, 0.78879706,\n",
              "       0.79716355, 0.80634629, 0.81634527, 0.82716049, 0.83879196,\n",
              "       0.85123967, 0.86450362, 0.87858382, 0.89348026, 0.90919294,\n",
              "       0.92572187, 0.94306703, 0.96122845, 0.9802061 , 1.        ])"
            ]
          },
          "metadata": {
            "tags": []
          },
          "execution_count": 102
        }
      ]
    },
    {
      "cell_type": "code",
      "metadata": {
        "id": "Lb7Ltwl0TxLs",
        "colab_type": "code",
        "colab": {
          "base_uri": "https://localhost:8080/",
          "height": 283
        },
        "outputId": "13d9ea3e-b85f-4348-a814-d50c9f9cb735"
      },
      "source": [
        "# 차트\n",
        "import seaborn as sns\n",
        "sns.lineplot(x, y(x))"
      ],
      "execution_count": null,
      "outputs": [
        {
          "output_type": "execute_result",
          "data": {
            "text/plain": [
              "<matplotlib.axes._subplots.AxesSubplot at 0x7fb79e130a58>"
            ]
          },
          "metadata": {
            "tags": []
          },
          "execution_count": 103
        },
        {
          "output_type": "display_data",
          "data": {
            "image/png": "[encoded data removed]",
            "text/plain": [
              "<Figure size 432x288 with 1 Axes>"
            ]
          },
          "metadata": {
            "tags": [],
            "needs_background": "light"
          }
        }
      ]
    },
    {
      "cell_type": "code",
      "metadata": {
        "id": "KDvamdWCfaVX",
        "colab_type": "code",
        "colab": {}
      },
      "source": [
        ""
      ],
      "execution_count": null,
      "outputs": []
    }
  ]
}