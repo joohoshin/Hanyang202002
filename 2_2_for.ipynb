{
  "nbformat": 4,
  "nbformat_minor": 0,
  "metadata": {
    "kernelspec": {
      "name": "python36",
      "display_name": "Python 3.6",
      "language": "python"
    },
    "language_info": {
      "mimetype": "text/x-python",
      "nbconvert_exporter": "python",
      "name": "python",
      "pygments_lexer": "ipython3",
      "version": "3.6.6",
      "file_extension": ".py",
      "codemirror_mode": {
        "version": 3,
        "name": "ipython"
      }
    },
    "colab": {
      "name": "2-2. for.ipynb",
      "provenance": [],
      "include_colab_link": true
    }
  },
  "cells": [
    {
      "cell_type": "markdown",
      "metadata": {
        "id": "view-in-github",
        "colab_type": "text"
      },
      "source": [
        "<a href=\"https://colab.research.google.com/github/joohoshin/MLDL_Basic/blob/master/2_2_for.ipynb\" target=\"_parent\"><img src=\"https://colab.research.google.com/assets/colab-badge.svg\" alt=\"Open In Colab\"/></a>"
      ]
    },
    {
      "cell_type": "markdown",
      "metadata": {
        "collapsed": true,
        "id": "pSKenqbgLxdD",
        "colab_type": "text"
      },
      "source": [
        "# 반복문\n",
        "* for .. in 을 이용해서 반복을 할 수 있다.\n",
        "* range()를 통해서 필요한 범위를 쉽게 지정할 수 있다.\n"
      ]
    },
    {
      "cell_type": "code",
      "metadata": {
        "trusted": true,
        "id": "t3-wbCLcLxdE",
        "colab_type": "code",
        "colab": {
          "base_uri": "https://localhost:8080/",
          "height": 111
        },
        "outputId": "dfab9e72-1cb1-4e80-d0fe-ac8a5bb2a8c0"
      },
      "source": [
        "for i in range(5):\n",
        "    print('hello')"
      ],
      "execution_count": null,
      "outputs": [
        {
          "output_type": "stream",
          "text": [
            "hello\n",
            "hello\n",
            "hello\n",
            "hello\n",
            "hello\n"
          ],
          "name": "stdout"
        }
      ]
    },
    {
      "cell_type": "code",
      "metadata": {
        "trusted": true,
        "id": "-f4ACiKKLxdI",
        "colab_type": "code",
        "colab": {
          "base_uri": "https://localhost:8080/",
          "height": 111
        },
        "outputId": "57df9066-7143-4672-d0e2-d316c9644864"
      },
      "source": [
        "for i in range(5):\n",
        "    print(i)"
      ],
      "execution_count": null,
      "outputs": [
        {
          "output_type": "stream",
          "text": [
            "0\n",
            "1\n",
            "2\n",
            "3\n",
            "4\n"
          ],
          "name": "stdout"
        }
      ]
    },
    {
      "cell_type": "markdown",
      "metadata": {
        "id": "ZUh7Q_PWLxdM",
        "colab_type": "text"
      },
      "source": [
        "* range(start, end, step)으로 구성되어 있으며 한개만 입력시에는 end값으로 인식\n",
        "* start는 0이 기본값이며, end는 입력 숫자보다 작은값까지\n",
        "* step은 증가폭을 입력하는 것임"
      ]
    },
    {
      "cell_type": "code",
      "metadata": {
        "trusted": true,
        "id": "zTls6N9ULxdM",
        "colab_type": "code",
        "colab": {
          "base_uri": "https://localhost:8080/",
          "height": 111
        },
        "outputId": "06f7e5cb-99fc-41dd-fc98-9b5ea382d996"
      },
      "source": [
        "for i in range(1,6):\n",
        "    print(i)"
      ],
      "execution_count": null,
      "outputs": [
        {
          "output_type": "stream",
          "text": [
            "1\n",
            "2\n",
            "3\n",
            "4\n",
            "5\n"
          ],
          "name": "stdout"
        }
      ]
    },
    {
      "cell_type": "code",
      "metadata": {
        "trusted": true,
        "id": "WHsU_KGYLxdP",
        "colab_type": "code",
        "colab": {
          "base_uri": "https://localhost:8080/",
          "height": 111
        },
        "outputId": "846c6ce4-46c3-4a13-bc23-3cafdcd8f8c7"
      },
      "source": [
        "for i in range(1,10,2):\n",
        "    print(i)"
      ],
      "execution_count": null,
      "outputs": [
        {
          "output_type": "stream",
          "text": [
            "1\n",
            "3\n",
            "5\n",
            "7\n",
            "9\n"
          ],
          "name": "stdout"
        }
      ]
    },
    {
      "cell_type": "markdown",
      "metadata": {
        "id": "jVap_gl3LxdS",
        "colab_type": "text"
      },
      "source": [
        "* 증가가 아닌 감소도 가능하다"
      ]
    },
    {
      "cell_type": "code",
      "metadata": {
        "trusted": true,
        "id": "gkaTgK_cLxdT",
        "colab_type": "code",
        "colab": {
          "base_uri": "https://localhost:8080/",
          "height": 92
        },
        "outputId": "5aa90e02-4a5a-462f-8713-ae7f48508e03"
      },
      "source": [
        "for i in range(5,1,-1):\n",
        "    print(i)"
      ],
      "execution_count": null,
      "outputs": [
        {
          "output_type": "stream",
          "text": [
            "5\n",
            "4\n",
            "3\n",
            "2\n"
          ],
          "name": "stdout"
        }
      ]
    },
    {
      "cell_type": "code",
      "metadata": {
        "trusted": true,
        "id": "z5Tf9LckLxdW",
        "colab_type": "code",
        "colab": {
          "base_uri": "https://localhost:8080/",
          "height": 185
        },
        "outputId": "a1a776dc-599b-4739-86c8-36db690be88a"
      },
      "source": [
        "# 구구단 2단을 출력해보자\n",
        "number1 = 2\n",
        "print(number1, '단')\n",
        "\n",
        "for number2 in range(2,10): #end 값은 포함되지 않으므로 1을 크게 입력함\n",
        "    print('{} * {} = '.format(number1, number2), number1*number2)\n",
        "    "
      ],
      "execution_count": null,
      "outputs": [
        {
          "output_type": "stream",
          "text": [
            "2 단\n",
            "2 * 2 =  4\n",
            "2 * 3 =  6\n",
            "2 * 4 =  8\n",
            "2 * 5 =  10\n",
            "2 * 6 =  12\n",
            "2 * 7 =  14\n",
            "2 * 8 =  16\n",
            "2 * 9 =  18\n"
          ],
          "name": "stdout"
        }
      ]
    },
    {
      "cell_type": "markdown",
      "metadata": {
        "id": "5HNRGRqELxdZ",
        "colab_type": "text"
      },
      "source": [
        "# 활용\n",
        "* 반복문 안에 반복문을 사용하면 구구단 전체를 출력할 수 있다."
      ]
    },
    {
      "cell_type": "code",
      "metadata": {
        "trusted": true,
        "id": "aRiTrWU5Lxda",
        "colab_type": "code",
        "colab": {
          "base_uri": "https://localhost:8080/",
          "height": 1000
        },
        "outputId": "be292bc3-5295-4f0b-da51-2766ea3f2f2b"
      },
      "source": [
        "for num1 in range(2,10):\n",
        "    print()\n",
        "    print(num1, '단')\n",
        "    for num2 in range(2,10):\n",
        "        print('{} * {} = '.format(num1, num2), num1*num2)"
      ],
      "execution_count": null,
      "outputs": [
        {
          "output_type": "stream",
          "text": [
            "\n",
            "2 단\n",
            "2 * 2 =  4\n",
            "2 * 3 =  6\n",
            "2 * 4 =  8\n",
            "2 * 5 =  10\n",
            "2 * 6 =  12\n",
            "2 * 7 =  14\n",
            "2 * 8 =  16\n",
            "2 * 9 =  18\n",
            "\n",
            "3 단\n",
            "3 * 2 =  6\n",
            "3 * 3 =  9\n",
            "3 * 4 =  12\n",
            "3 * 5 =  15\n",
            "3 * 6 =  18\n",
            "3 * 7 =  21\n",
            "3 * 8 =  24\n",
            "3 * 9 =  27\n",
            "\n",
            "4 단\n",
            "4 * 2 =  8\n",
            "4 * 3 =  12\n",
            "4 * 4 =  16\n",
            "4 * 5 =  20\n",
            "4 * 6 =  24\n",
            "4 * 7 =  28\n",
            "4 * 8 =  32\n",
            "4 * 9 =  36\n",
            "\n",
            "5 단\n",
            "5 * 2 =  10\n",
            "5 * 3 =  15\n",
            "5 * 4 =  20\n",
            "5 * 5 =  25\n",
            "5 * 6 =  30\n",
            "5 * 7 =  35\n",
            "5 * 8 =  40\n",
            "5 * 9 =  45\n",
            "\n",
            "6 단\n",
            "6 * 2 =  12\n",
            "6 * 3 =  18\n",
            "6 * 4 =  24\n",
            "6 * 5 =  30\n",
            "6 * 6 =  36\n",
            "6 * 7 =  42\n",
            "6 * 8 =  48\n",
            "6 * 9 =  54\n",
            "\n",
            "7 단\n",
            "7 * 2 =  14\n",
            "7 * 3 =  21\n",
            "7 * 4 =  28\n",
            "7 * 5 =  35\n",
            "7 * 6 =  42\n",
            "7 * 7 =  49\n",
            "7 * 8 =  56\n",
            "7 * 9 =  63\n",
            "\n",
            "8 단\n",
            "8 * 2 =  16\n",
            "8 * 3 =  24\n",
            "8 * 4 =  32\n",
            "8 * 5 =  40\n",
            "8 * 6 =  48\n",
            "8 * 7 =  56\n",
            "8 * 8 =  64\n",
            "8 * 9 =  72\n",
            "\n",
            "9 단\n",
            "9 * 2 =  18\n",
            "9 * 3 =  27\n",
            "9 * 4 =  36\n",
            "9 * 5 =  45\n",
            "9 * 6 =  54\n",
            "9 * 7 =  63\n",
            "9 * 8 =  72\n",
            "9 * 9 =  81\n"
          ],
          "name": "stdout"
        }
      ]
    },
    {
      "cell_type": "code",
      "metadata": {
        "trusted": true,
        "id": "PENK17DZLxde",
        "colab_type": "code",
        "colab": {}
      },
      "source": [
        ""
      ],
      "execution_count": null,
      "outputs": []
    }
  ]
}