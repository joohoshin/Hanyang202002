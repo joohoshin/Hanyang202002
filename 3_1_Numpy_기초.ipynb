{
  "nbformat": 4,
  "nbformat_minor": 0,
  "metadata": {
    "kernelspec": {
      "display_name": "Python 3",
      "language": "python",
      "name": "python3"
    },
    "language_info": {
      "codemirror_mode": {
        "name": "ipython",
        "version": 3
      },
      "file_extension": ".py",
      "mimetype": "text/x-python",
      "name": "python",
      "nbconvert_exporter": "python",
      "pygments_lexer": "ipython3",
      "version": "3.7.6"
    },
    "colab": {
      "name": "3-1.Numpy 기초.ipynb",
      "provenance": [],
      "collapsed_sections": [],
      "include_colab_link": true
    }
  },
  "cells": [
    {
      "cell_type": "markdown",
      "metadata": {
        "id": "view-in-github",
        "colab_type": "text"
      },
      "source": [
        "<a href=\"https://colab.research.google.com/github/joohoshin/MLDL_Basic/blob/master/3_1_Numpy_%EA%B8%B0%EC%B4%88.ipynb\" target=\"_parent\"><img src=\"https://colab.research.google.com/assets/colab-badge.svg\" alt=\"Open In Colab\"/></a>"
      ]
    },
    {
      "cell_type": "markdown",
      "metadata": {
        "id": "EYZya9wK4hfw",
        "colab_type": "text"
      },
      "source": [
        "# Numpy Basic\n",
        "* numpy의 array는 list와 유사하나 특화 기능이 조금 다릅니다. \n",
        "* numpy 배열과 list는 쉽게 변환 가능합니다\n",
        "* 리스트는 문자, 숫자, 리스트 등 다양한 요소를 넣을 수 있으나, numpy array는 한가지 데이터 타입만 저장 가능합니다"
      ]
    },
    {
      "cell_type": "markdown",
      "metadata": {
        "id": "xaydvWbB4hfx",
        "colab_type": "text"
      },
      "source": [
        "* numpy array는 list와 달리 배열이 바로 연산 가능합니다"
      ]
    },
    {
      "cell_type": "code",
      "metadata": {
        "id": "cIncx7kg4t_W",
        "colab_type": "code",
        "colab": {
          "base_uri": "https://localhost:8080/",
          "height": 34
        },
        "outputId": "05b0472d-c661-4172-b8a5-3920ddf95ab0"
      },
      "source": [
        "# 리스트 사용으로 각 항목에 100을 더하는 경우\n",
        "num = [1,3,4,8,-1]\n",
        "\n",
        "num_100=[]\n",
        "for i in num:\n",
        "  num_100.append(i+100)\n",
        "print(num_100)"
      ],
      "execution_count": null,
      "outputs": [
        {
          "output_type": "stream",
          "text": [
            "[101, 103, 104, 108, 99]\n"
          ],
          "name": "stdout"
        }
      ]
    },
    {
      "cell_type": "code",
      "metadata": {
        "id": "mfWlx5H34hfy",
        "colab_type": "code",
        "colab": {
          "base_uri": "https://localhost:8080/",
          "height": 34
        },
        "outputId": "40eae64c-8075-48b4-ab4f-827ef320f2ef"
      },
      "source": [
        "# 리스트에서 각각의 요소에 100을 더하는 경우\n",
        "num = [1,3,4,8,-1]\n",
        "num_100 = [i+100 for i in num] #list comprehension\n",
        "print(num_100)"
      ],
      "execution_count": null,
      "outputs": [
        {
          "output_type": "stream",
          "text": [
            "[101, 103, 104, 108, 99]\n"
          ],
          "name": "stdout"
        }
      ]
    },
    {
      "cell_type": "markdown",
      "metadata": {
        "id": "HQXprR0E40E5",
        "colab_type": "text"
      },
      "source": [
        "\n",
        "\n",
        "*   list comprehension\n",
        "*   리스트를 간단히 만들 수 있습니다. \n",
        "\n"
      ]
    },
    {
      "cell_type": "markdown",
      "metadata": {
        "id": "I-fl9LqK4hf3",
        "colab_type": "text"
      },
      "source": [
        "* np.array()를 통해 리스트를 numpy array로 바꿀 수 있습니다"
      ]
    },
    {
      "cell_type": "code",
      "metadata": {
        "id": "O5Vt1n534hf4",
        "colab_type": "code",
        "colab": {
          "base_uri": "https://localhost:8080/",
          "height": 34
        },
        "outputId": "6aebb07a-043d-4766-99ed-cb0a14a44b8a"
      },
      "source": [
        "# numpy array 연산\n",
        "import numpy as np\n",
        "num = [1,3,4,8,-1]\n",
        "num_arr = np.array(num) # 리스트를 numpy array로 변경\n",
        "num_100 = num_arr + 100\n",
        "print(num_100)"
      ],
      "execution_count": null,
      "outputs": [
        {
          "output_type": "stream",
          "text": [
            "[101 103 104 108  99]\n"
          ],
          "name": "stdout"
        }
      ]
    },
    {
      "cell_type": "code",
      "metadata": {
        "id": "VUmzbXSH9tO6",
        "colab_type": "code",
        "colab": {
          "base_uri": "https://localhost:8080/",
          "height": 34
        },
        "outputId": "45dcc3ce-bd30-4e26-ec40-5217624c9b9c"
      },
      "source": [
        "type(num_arr)"
      ],
      "execution_count": null,
      "outputs": [
        {
          "output_type": "execute_result",
          "data": {
            "text/plain": [
              "numpy.ndarray"
            ]
          },
          "metadata": {
            "tags": []
          },
          "execution_count": 5
        }
      ]
    },
    {
      "cell_type": "markdown",
      "metadata": {
        "id": "MYXysImw4hf7",
        "colab_type": "text"
      },
      "source": [
        "##### array 연산\n",
        "* 배열끼리의 연산이 되므로 코딩이 매우 간결해집니다"
      ]
    },
    {
      "cell_type": "code",
      "metadata": {
        "id": "-3XssbII4hf7",
        "colab_type": "code",
        "colab": {
          "base_uri": "https://localhost:8080/",
          "height": 34
        },
        "outputId": "10001db4-dbce-45b4-89a7-6272addc3de3"
      },
      "source": [
        "# 리스트에 18, 19년 1,2,3,4분기 매출이 저장되어 있어\n",
        "# 얼마나 늘었는지 보려고 합니다\n",
        "\n",
        "year_18 = [100,200,210, 300]\n",
        "year_19 = [110,220,300, 350]\n",
        "\n",
        "# 리스트는 같은 위치끼리 연산이 안되므로\n",
        "rev_diff = [] \n",
        "for i in range(4):\n",
        "    diff = year_19[i] - year_18[i]\n",
        "    rev_diff.append(diff)\n",
        "    \n",
        "print(rev_diff)"
      ],
      "execution_count": null,
      "outputs": [
        {
          "output_type": "stream",
          "text": [
            "[10, 20, 90, 50]\n"
          ],
          "name": "stdout"
        }
      ]
    },
    {
      "cell_type": "code",
      "metadata": {
        "id": "PRT1ShLM4hf9",
        "colab_type": "code",
        "colab": {
          "base_uri": "https://localhost:8080/",
          "height": 34
        },
        "outputId": "4c9c6c12-5c08-4a75-d753-04a3d33c55d5"
      },
      "source": [
        "# numpy 활용\n",
        "year_18 = [100,200,210, 300]\n",
        "year_19 = [110,220,300, 350]\n",
        "\n",
        "# 리스트는 같은 위치끼리 연산이 안되므로\n",
        "year_18_np = np.array(year_18)\n",
        "year_19_np = np.array(year_19)\n",
        "rev_diff = year_19_np-year_18_np\n",
        "print(rev_diff)"
      ],
      "execution_count": null,
      "outputs": [
        {
          "output_type": "stream",
          "text": [
            "[10 20 90 50]\n"
          ],
          "name": "stdout"
        }
      ]
    },
    {
      "cell_type": "markdown",
      "metadata": {
        "id": "OhAIBJfJ4hgA",
        "colab_type": "text"
      },
      "source": [
        "##### 2차 배열(행렬) 만들기\n",
        "* numpy는 행렬 연산이 가능합니다"
      ]
    },
    {
      "cell_type": "code",
      "metadata": {
        "id": "mv7JyOPf4hgA",
        "colab_type": "code",
        "colab": {
          "base_uri": "https://localhost:8080/",
          "height": 70
        },
        "outputId": "204f87e3-208a-4932-9b04-bc91444cb66e"
      },
      "source": [
        "# 리스트 2차 배열 형태로 만들기\n",
        "data_2d = [[1,2,3], [4,5,6], [7,8,9]]\n",
        "print(data_2d)\n",
        "print(data_2d[0])\n",
        "print(data_2d[0][1])"
      ],
      "execution_count": null,
      "outputs": [
        {
          "output_type": "stream",
          "text": [
            "[[1, 2, 3], [4, 5, 6], [7, 8, 9]]\n",
            "[1, 2, 3]\n",
            "2\n"
          ],
          "name": "stdout"
        }
      ]
    },
    {
      "cell_type": "code",
      "metadata": {
        "id": "JAJip9eA4hgC",
        "colab_type": "code",
        "colab": {
          "base_uri": "https://localhost:8080/",
          "height": 87
        },
        "outputId": "796f5160-03ec-4e5e-f787-b2d19bb0c97c"
      },
      "source": [
        "# numpy 2d array로 변경\n",
        "data_2d_arr = np.array(data_2d)\n",
        "print(data_2d_arr)\n",
        "print(data_2d_arr[0][1])"
      ],
      "execution_count": null,
      "outputs": [
        {
          "output_type": "stream",
          "text": [
            "[[1 2 3]\n",
            " [4 5 6]\n",
            " [7 8 9]]\n",
            "2\n"
          ],
          "name": "stdout"
        }
      ]
    },
    {
      "cell_type": "markdown",
      "metadata": {
        "id": "d5G7NT-P4hgF",
        "colab_type": "text"
      },
      "source": [
        "##### 행렬 연산\n",
        "* 2d array도 연산이 가능합니다"
      ]
    },
    {
      "cell_type": "code",
      "metadata": {
        "id": "QD8F1jRJ4hgG",
        "colab_type": "code",
        "colab": {
          "base_uri": "https://localhost:8080/",
          "height": 281
        },
        "outputId": "14717418-c3fb-494e-d532-66a208565cbf"
      },
      "source": [
        "arr1 = np.array([[1,2,3],[4,5,6],[7,8,9]])\n",
        "arr2 = np.array([[3,4,5],[6,7,8],[9,10,11]])\n",
        "print(arr1)\n",
        "print(arr2)\n",
        "print(arr2-arr1)\n",
        "print(arr2*arr1)\n",
        "print(arr2/arr1)"
      ],
      "execution_count": null,
      "outputs": [
        {
          "output_type": "stream",
          "text": [
            "[[1 2 3]\n",
            " [4 5 6]\n",
            " [7 8 9]]\n",
            "[[ 3  4  5]\n",
            " [ 6  7  8]\n",
            " [ 9 10 11]]\n",
            "[[2 2 2]\n",
            " [2 2 2]\n",
            " [2 2 2]]\n",
            "[[ 3  8 15]\n",
            " [24 35 48]\n",
            " [63 80 99]]\n",
            "[[3.         2.         1.66666667]\n",
            " [1.5        1.4        1.33333333]\n",
            " [1.28571429 1.25       1.22222222]]\n"
          ],
          "name": "stdout"
        }
      ]
    },
    {
      "cell_type": "markdown",
      "metadata": {
        "id": "iBI1QJYK4hgJ",
        "colab_type": "text"
      },
      "source": [
        "* 행렬 연산도 가능합니다\n",
        "* 행렬 곱은 @ 또는 np.dot()을 사용하면 됩니다"
      ]
    },
    {
      "cell_type": "code",
      "metadata": {
        "id": "D-L1Psi84hgJ",
        "colab_type": "code",
        "colab": {
          "base_uri": "https://localhost:8080/",
          "height": 70
        },
        "outputId": "e73c9502-7246-4514-c049-7080c536d794"
      },
      "source": [
        "arr1 @ arr2"
      ],
      "execution_count": null,
      "outputs": [
        {
          "output_type": "execute_result",
          "data": {
            "text/plain": [
              "array([[ 42,  48,  54],\n",
              "       [ 96, 111, 126],\n",
              "       [150, 174, 198]])"
            ]
          },
          "metadata": {
            "tags": []
          },
          "execution_count": 12
        }
      ]
    },
    {
      "cell_type": "code",
      "metadata": {
        "id": "jzzH0B3_4hgN",
        "colab_type": "code",
        "colab": {
          "base_uri": "https://localhost:8080/",
          "height": 70
        },
        "outputId": "a30720df-a5f3-46f4-cb8f-b7db04948db8"
      },
      "source": [
        "np.dot(arr1, arr2)"
      ],
      "execution_count": null,
      "outputs": [
        {
          "output_type": "execute_result",
          "data": {
            "text/plain": [
              "array([[ 42,  48,  54],\n",
              "       [ 96, 111, 126],\n",
              "       [150, 174, 198]])"
            ]
          },
          "metadata": {
            "tags": []
          },
          "execution_count": 13
        }
      ]
    },
    {
      "cell_type": "code",
      "metadata": {
        "id": "dXi7A0qZ4hgP",
        "colab_type": "code",
        "colab": {
          "base_uri": "https://localhost:8080/",
          "height": 70
        },
        "outputId": "fc0432fa-1d0b-468c-d863-aff7e10dea93"
      },
      "source": [
        "# transpose (전치행렬)\n",
        "# 행렬을 바꿈\n",
        "arr1.transpose()"
      ],
      "execution_count": null,
      "outputs": [
        {
          "output_type": "execute_result",
          "data": {
            "text/plain": [
              "array([[1, 4, 7],\n",
              "       [2, 5, 8],\n",
              "       [3, 6, 9]])"
            ]
          },
          "metadata": {
            "tags": []
          },
          "execution_count": 14
        }
      ]
    },
    {
      "cell_type": "markdown",
      "metadata": {
        "id": "0C-Qy9ga4hgS",
        "colab_type": "text"
      },
      "source": [
        "* np.linspace()는 범위를 입력 개수로 등간격으로 나누어줍니다\n",
        "* 그래프를 그릴 때 유용합니다"
      ]
    },
    {
      "cell_type": "code",
      "metadata": {
        "id": "MZ989cEu4hgT",
        "colab_type": "code",
        "colab": {
          "base_uri": "https://localhost:8080/",
          "height": 369
        },
        "outputId": "72693c36-8759-4e8e-e046-77cbbabf9cff"
      },
      "source": [
        "np.linspace(1,3, num=100)"
      ],
      "execution_count": null,
      "outputs": [
        {
          "output_type": "execute_result",
          "data": {
            "text/plain": [
              "array([1.        , 1.02020202, 1.04040404, 1.06060606, 1.08080808,\n",
              "       1.1010101 , 1.12121212, 1.14141414, 1.16161616, 1.18181818,\n",
              "       1.2020202 , 1.22222222, 1.24242424, 1.26262626, 1.28282828,\n",
              "       1.3030303 , 1.32323232, 1.34343434, 1.36363636, 1.38383838,\n",
              "       1.4040404 , 1.42424242, 1.44444444, 1.46464646, 1.48484848,\n",
              "       1.50505051, 1.52525253, 1.54545455, 1.56565657, 1.58585859,\n",
              "       1.60606061, 1.62626263, 1.64646465, 1.66666667, 1.68686869,\n",
              "       1.70707071, 1.72727273, 1.74747475, 1.76767677, 1.78787879,\n",
              "       1.80808081, 1.82828283, 1.84848485, 1.86868687, 1.88888889,\n",
              "       1.90909091, 1.92929293, 1.94949495, 1.96969697, 1.98989899,\n",
              "       2.01010101, 2.03030303, 2.05050505, 2.07070707, 2.09090909,\n",
              "       2.11111111, 2.13131313, 2.15151515, 2.17171717, 2.19191919,\n",
              "       2.21212121, 2.23232323, 2.25252525, 2.27272727, 2.29292929,\n",
              "       2.31313131, 2.33333333, 2.35353535, 2.37373737, 2.39393939,\n",
              "       2.41414141, 2.43434343, 2.45454545, 2.47474747, 2.49494949,\n",
              "       2.51515152, 2.53535354, 2.55555556, 2.57575758, 2.5959596 ,\n",
              "       2.61616162, 2.63636364, 2.65656566, 2.67676768, 2.6969697 ,\n",
              "       2.71717172, 2.73737374, 2.75757576, 2.77777778, 2.7979798 ,\n",
              "       2.81818182, 2.83838384, 2.85858586, 2.87878788, 2.8989899 ,\n",
              "       2.91919192, 2.93939394, 2.95959596, 2.97979798, 3.        ])"
            ]
          },
          "metadata": {
            "tags": []
          },
          "execution_count": 15
        }
      ]
    },
    {
      "cell_type": "code",
      "metadata": {
        "id": "YH67T-r44hgW",
        "colab_type": "code",
        "colab": {}
      },
      "source": [
        ""
      ],
      "execution_count": null,
      "outputs": []
    }
  ]
}