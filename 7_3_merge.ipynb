{
  "nbformat": 4,
  "nbformat_minor": 0,
  "metadata": {
    "colab": {
      "name": "7-3. merge.ipynb",
      "provenance": [],
      "collapsed_sections": [],
      "mount_file_id": "1ZAT3FHv1nMIVkIhAkLenEuQu22R_LctY",
      "authorship_tag": "ABX9TyPrKpQPf08m1ReuqOC+tesJ",
      "include_colab_link": true
    },
    "kernelspec": {
      "name": "python3",
      "display_name": "Python 3"
    }
  },
  "cells": [
    {
      "cell_type": "markdown",
      "metadata": {
        "id": "view-in-github",
        "colab_type": "text"
      },
      "source": [
        "<a href=\"https://colab.research.google.com/github/joohoshin/MLDL_Basic/blob/master/7_3_merge.ipynb\" target=\"_parent\"><img src=\"https://colab.research.google.com/assets/colab-badge.svg\" alt=\"Open In Colab\"/></a>"
      ]
    },
    {
      "cell_type": "markdown",
      "metadata": {
        "id": "3ozD9jcJQRIu",
        "colab_type": "text"
      },
      "source": [
        "# Merge\n",
        "\n",
        "형태가 다른 데이터프레임을 합칠 때 사용합니다. \n",
        "\n",
        "애플 스토어의 앱 데이터를 가지고 연습해봅시다\n",
        "\n",
        "https://www.kaggle.com/ramamet4/app-store-apple-data-set-10k-apps"
      ]
    },
    {
      "cell_type": "code",
      "metadata": {
        "id": "DIlPx0zcQJWZ",
        "colab_type": "code",
        "colab": {}
      },
      "source": [
        "import pandas as pd\n",
        "\n",
        "app = pd.read_csv('drive/My Drive/ML_DL_202002/AppleStore.csv', index_col=0)\n",
        "desc= pd.read_csv('drive/My Drive/ML_DL_202002/appleStore_description.csv')"
      ],
      "execution_count": null,
      "outputs": []
    },
    {
      "cell_type": "code",
      "metadata": {
        "id": "qzxvylAuRAy7",
        "colab_type": "code",
        "colab": {
          "base_uri": "https://localhost:8080/",
          "height": 400
        },
        "outputId": "88bd1856-bc49-4970-d013-4b4f6b706797"
      },
      "source": [
        "app.head()"
      ],
      "execution_count": null,
      "outputs": [
        {
          "output_type": "execute_result",
          "data": {
            "text/html": [
              "<div>\n",
              "<style scoped>\n",
              "    .dataframe tbody tr th:only-of-type {\n",
              "        vertical-align: middle;\n",
              "    }\n",
              "\n",
              "    .dataframe tbody tr th {\n",
              "        vertical-align: top;\n",
              "    }\n",
              "\n",
              "    .dataframe thead th {\n",
              "        text-align: right;\n",
              "    }\n",
              "</style>\n",
              "<table border=\"1\" class=\"dataframe\">\n",
              "  <thead>\n",
              "    <tr style=\"text-align: right;\">\n",
              "      <th></th>\n",
              "      <th>id</th>\n",
              "      <th>track_name</th>\n",
              "      <th>size_bytes</th>\n",
              "      <th>currency</th>\n",
              "      <th>price</th>\n",
              "      <th>rating_count_tot</th>\n",
              "      <th>rating_count_ver</th>\n",
              "      <th>user_rating</th>\n",
              "      <th>user_rating_ver</th>\n",
              "      <th>ver</th>\n",
              "      <th>cont_rating</th>\n",
              "      <th>prime_genre</th>\n",
              "      <th>sup_devices.num</th>\n",
              "      <th>ipadSc_urls.num</th>\n",
              "      <th>lang.num</th>\n",
              "      <th>vpp_lic</th>\n",
              "    </tr>\n",
              "  </thead>\n",
              "  <tbody>\n",
              "    <tr>\n",
              "      <th>1</th>\n",
              "      <td>281656475</td>\n",
              "      <td>PAC-MAN Premium</td>\n",
              "      <td>100788224</td>\n",
              "      <td>USD</td>\n",
              "      <td>3.99</td>\n",
              "      <td>21292</td>\n",
              "      <td>26</td>\n",
              "      <td>4.0</td>\n",
              "      <td>4.5</td>\n",
              "      <td>6.3.5</td>\n",
              "      <td>4+</td>\n",
              "      <td>Games</td>\n",
              "      <td>38</td>\n",
              "      <td>5</td>\n",
              "      <td>10</td>\n",
              "      <td>1</td>\n",
              "    </tr>\n",
              "    <tr>\n",
              "      <th>2</th>\n",
              "      <td>281796108</td>\n",
              "      <td>Evernote - stay organized</td>\n",
              "      <td>158578688</td>\n",
              "      <td>USD</td>\n",
              "      <td>0.00</td>\n",
              "      <td>161065</td>\n",
              "      <td>26</td>\n",
              "      <td>4.0</td>\n",
              "      <td>3.5</td>\n",
              "      <td>8.2.2</td>\n",
              "      <td>4+</td>\n",
              "      <td>Productivity</td>\n",
              "      <td>37</td>\n",
              "      <td>5</td>\n",
              "      <td>23</td>\n",
              "      <td>1</td>\n",
              "    </tr>\n",
              "    <tr>\n",
              "      <th>3</th>\n",
              "      <td>281940292</td>\n",
              "      <td>WeatherBug - Local Weather, Radar, Maps, Alerts</td>\n",
              "      <td>100524032</td>\n",
              "      <td>USD</td>\n",
              "      <td>0.00</td>\n",
              "      <td>188583</td>\n",
              "      <td>2822</td>\n",
              "      <td>3.5</td>\n",
              "      <td>4.5</td>\n",
              "      <td>5.0.0</td>\n",
              "      <td>4+</td>\n",
              "      <td>Weather</td>\n",
              "      <td>37</td>\n",
              "      <td>5</td>\n",
              "      <td>3</td>\n",
              "      <td>1</td>\n",
              "    </tr>\n",
              "    <tr>\n",
              "      <th>4</th>\n",
              "      <td>282614216</td>\n",
              "      <td>eBay: Best App to Buy, Sell, Save! Online Shop...</td>\n",
              "      <td>128512000</td>\n",
              "      <td>USD</td>\n",
              "      <td>0.00</td>\n",
              "      <td>262241</td>\n",
              "      <td>649</td>\n",
              "      <td>4.0</td>\n",
              "      <td>4.5</td>\n",
              "      <td>5.10.0</td>\n",
              "      <td>12+</td>\n",
              "      <td>Shopping</td>\n",
              "      <td>37</td>\n",
              "      <td>5</td>\n",
              "      <td>9</td>\n",
              "      <td>1</td>\n",
              "    </tr>\n",
              "    <tr>\n",
              "      <th>5</th>\n",
              "      <td>282935706</td>\n",
              "      <td>Bible</td>\n",
              "      <td>92774400</td>\n",
              "      <td>USD</td>\n",
              "      <td>0.00</td>\n",
              "      <td>985920</td>\n",
              "      <td>5320</td>\n",
              "      <td>4.5</td>\n",
              "      <td>5.0</td>\n",
              "      <td>7.5.1</td>\n",
              "      <td>4+</td>\n",
              "      <td>Reference</td>\n",
              "      <td>37</td>\n",
              "      <td>5</td>\n",
              "      <td>45</td>\n",
              "      <td>1</td>\n",
              "    </tr>\n",
              "  </tbody>\n",
              "</table>\n",
              "</div>"
            ],
            "text/plain": [
              "          id  ... vpp_lic\n",
              "1  281656475  ...       1\n",
              "2  281796108  ...       1\n",
              "3  281940292  ...       1\n",
              "4  282614216  ...       1\n",
              "5  282935706  ...       1\n",
              "\n",
              "[5 rows x 16 columns]"
            ]
          },
          "metadata": {
            "tags": []
          },
          "execution_count": 12
        }
      ]
    },
    {
      "cell_type": "code",
      "metadata": {
        "id": "LRFGahTyRVhB",
        "colab_type": "code",
        "colab": {
          "base_uri": "https://localhost:8080/",
          "height": 195
        },
        "outputId": "7a551d08-590c-47d5-ef01-bc8f3c149182"
      },
      "source": [
        "desc.head()"
      ],
      "execution_count": null,
      "outputs": [
        {
          "output_type": "execute_result",
          "data": {
            "text/html": [
              "<div>\n",
              "<style scoped>\n",
              "    .dataframe tbody tr th:only-of-type {\n",
              "        vertical-align: middle;\n",
              "    }\n",
              "\n",
              "    .dataframe tbody tr th {\n",
              "        vertical-align: top;\n",
              "    }\n",
              "\n",
              "    .dataframe thead th {\n",
              "        text-align: right;\n",
              "    }\n",
              "</style>\n",
              "<table border=\"1\" class=\"dataframe\">\n",
              "  <thead>\n",
              "    <tr style=\"text-align: right;\">\n",
              "      <th></th>\n",
              "      <th>id</th>\n",
              "      <th>track_name</th>\n",
              "      <th>size_bytes</th>\n",
              "      <th>app_desc</th>\n",
              "    </tr>\n",
              "  </thead>\n",
              "  <tbody>\n",
              "    <tr>\n",
              "      <th>0</th>\n",
              "      <td>281656475</td>\n",
              "      <td>PAC-MAN Premium</td>\n",
              "      <td>100788224</td>\n",
              "      <td>SAVE 20%, now only $3.99 for a limited time!\\n...</td>\n",
              "    </tr>\n",
              "    <tr>\n",
              "      <th>1</th>\n",
              "      <td>281796108</td>\n",
              "      <td>Evernote - stay organized</td>\n",
              "      <td>158578688</td>\n",
              "      <td>Let Evernote change the way you organize your ...</td>\n",
              "    </tr>\n",
              "    <tr>\n",
              "      <th>2</th>\n",
              "      <td>281940292</td>\n",
              "      <td>WeatherBug - Local Weather, Radar, Maps, Alerts</td>\n",
              "      <td>100524032</td>\n",
              "      <td>Download the most popular free weather app pow...</td>\n",
              "    </tr>\n",
              "    <tr>\n",
              "      <th>3</th>\n",
              "      <td>282614216</td>\n",
              "      <td>eBay: Best App to Buy, Sell, Save! Online Shop...</td>\n",
              "      <td>128512000</td>\n",
              "      <td>The eBay app is the best way to find anything ...</td>\n",
              "    </tr>\n",
              "    <tr>\n",
              "      <th>4</th>\n",
              "      <td>282935706</td>\n",
              "      <td>Bible</td>\n",
              "      <td>92774400</td>\n",
              "      <td>On more than 250 million devices around the wo...</td>\n",
              "    </tr>\n",
              "  </tbody>\n",
              "</table>\n",
              "</div>"
            ],
            "text/plain": [
              "          id  ...                                           app_desc\n",
              "0  281656475  ...  SAVE 20%, now only $3.99 for a limited time!\\n...\n",
              "1  281796108  ...  Let Evernote change the way you organize your ...\n",
              "2  281940292  ...  Download the most popular free weather app pow...\n",
              "3  282614216  ...  The eBay app is the best way to find anything ...\n",
              "4  282935706  ...  On more than 250 million devices around the wo...\n",
              "\n",
              "[5 rows x 4 columns]"
            ]
          },
          "metadata": {
            "tags": []
          },
          "execution_count": 13
        }
      ]
    },
    {
      "cell_type": "markdown",
      "metadata": {
        "id": "UXJh0an3QpdR",
        "colab_type": "text"
      },
      "source": [
        "app에 desc에 있는 app_desc를 컬럼으로 추가해봅시다. \n",
        "사용법은 pd.merge(left, right, how='left', on=['key1', 'key2'])"
      ]
    },
    {
      "cell_type": "code",
      "metadata": {
        "id": "KakemF7PQroE",
        "colab_type": "code",
        "colab": {}
      },
      "source": [
        "df = pd.merge(app, desc[['id', 'app_desc']], how = 'left', on = 'id')"
      ],
      "execution_count": null,
      "outputs": []
    },
    {
      "cell_type": "code",
      "metadata": {
        "id": "zhXuG-i46BLA",
        "colab_type": "code",
        "colab": {
          "base_uri": "https://localhost:8080/",
          "height": 1000
        },
        "outputId": "dbb193b5-6ca0-484b-ced1-f9e0d38d3dc0"
      },
      "source": [
        "df"
      ],
      "execution_count": null,
      "outputs": [
        {
          "output_type": "execute_result",
          "data": {
            "text/html": [
              "<div>\n",
              "<style scoped>\n",
              "    .dataframe tbody tr th:only-of-type {\n",
              "        vertical-align: middle;\n",
              "    }\n",
              "\n",
              "    .dataframe tbody tr th {\n",
              "        vertical-align: top;\n",
              "    }\n",
              "\n",
              "    .dataframe thead th {\n",
              "        text-align: right;\n",
              "    }\n",
              "</style>\n",
              "<table border=\"1\" class=\"dataframe\">\n",
              "  <thead>\n",
              "    <tr style=\"text-align: right;\">\n",
              "      <th></th>\n",
              "      <th>id</th>\n",
              "      <th>track_name</th>\n",
              "      <th>size_bytes</th>\n",
              "      <th>currency</th>\n",
              "      <th>price</th>\n",
              "      <th>rating_count_tot</th>\n",
              "      <th>rating_count_ver</th>\n",
              "      <th>user_rating</th>\n",
              "      <th>user_rating_ver</th>\n",
              "      <th>ver</th>\n",
              "      <th>cont_rating</th>\n",
              "      <th>prime_genre</th>\n",
              "      <th>sup_devices.num</th>\n",
              "      <th>ipadSc_urls.num</th>\n",
              "      <th>lang.num</th>\n",
              "      <th>vpp_lic</th>\n",
              "      <th>app_desc</th>\n",
              "    </tr>\n",
              "  </thead>\n",
              "  <tbody>\n",
              "    <tr>\n",
              "      <th>0</th>\n",
              "      <td>281656475</td>\n",
              "      <td>PAC-MAN Premium</td>\n",
              "      <td>100788224</td>\n",
              "      <td>USD</td>\n",
              "      <td>3.99</td>\n",
              "      <td>21292</td>\n",
              "      <td>26</td>\n",
              "      <td>4.0</td>\n",
              "      <td>4.5</td>\n",
              "      <td>6.3.5</td>\n",
              "      <td>4+</td>\n",
              "      <td>Games</td>\n",
              "      <td>38</td>\n",
              "      <td>5</td>\n",
              "      <td>10</td>\n",
              "      <td>1</td>\n",
              "      <td>SAVE 20%, now only $3.99 for a limited time!\\n...</td>\n",
              "    </tr>\n",
              "    <tr>\n",
              "      <th>1</th>\n",
              "      <td>281796108</td>\n",
              "      <td>Evernote - stay organized</td>\n",
              "      <td>158578688</td>\n",
              "      <td>USD</td>\n",
              "      <td>0.00</td>\n",
              "      <td>161065</td>\n",
              "      <td>26</td>\n",
              "      <td>4.0</td>\n",
              "      <td>3.5</td>\n",
              "      <td>8.2.2</td>\n",
              "      <td>4+</td>\n",
              "      <td>Productivity</td>\n",
              "      <td>37</td>\n",
              "      <td>5</td>\n",
              "      <td>23</td>\n",
              "      <td>1</td>\n",
              "      <td>Let Evernote change the way you organize your ...</td>\n",
              "    </tr>\n",
              "    <tr>\n",
              "      <th>2</th>\n",
              "      <td>281940292</td>\n",
              "      <td>WeatherBug - Local Weather, Radar, Maps, Alerts</td>\n",
              "      <td>100524032</td>\n",
              "      <td>USD</td>\n",
              "      <td>0.00</td>\n",
              "      <td>188583</td>\n",
              "      <td>2822</td>\n",
              "      <td>3.5</td>\n",
              "      <td>4.5</td>\n",
              "      <td>5.0.0</td>\n",
              "      <td>4+</td>\n",
              "      <td>Weather</td>\n",
              "      <td>37</td>\n",
              "      <td>5</td>\n",
              "      <td>3</td>\n",
              "      <td>1</td>\n",
              "      <td>Download the most popular free weather app pow...</td>\n",
              "    </tr>\n",
              "    <tr>\n",
              "      <th>3</th>\n",
              "      <td>282614216</td>\n",
              "      <td>eBay: Best App to Buy, Sell, Save! Online Shop...</td>\n",
              "      <td>128512000</td>\n",
              "      <td>USD</td>\n",
              "      <td>0.00</td>\n",
              "      <td>262241</td>\n",
              "      <td>649</td>\n",
              "      <td>4.0</td>\n",
              "      <td>4.5</td>\n",
              "      <td>5.10.0</td>\n",
              "      <td>12+</td>\n",
              "      <td>Shopping</td>\n",
              "      <td>37</td>\n",
              "      <td>5</td>\n",
              "      <td>9</td>\n",
              "      <td>1</td>\n",
              "      <td>The eBay app is the best way to find anything ...</td>\n",
              "    </tr>\n",
              "    <tr>\n",
              "      <th>4</th>\n",
              "      <td>282935706</td>\n",
              "      <td>Bible</td>\n",
              "      <td>92774400</td>\n",
              "      <td>USD</td>\n",
              "      <td>0.00</td>\n",
              "      <td>985920</td>\n",
              "      <td>5320</td>\n",
              "      <td>4.5</td>\n",
              "      <td>5.0</td>\n",
              "      <td>7.5.1</td>\n",
              "      <td>4+</td>\n",
              "      <td>Reference</td>\n",
              "      <td>37</td>\n",
              "      <td>5</td>\n",
              "      <td>45</td>\n",
              "      <td>1</td>\n",
              "      <td>On more than 250 million devices around the wo...</td>\n",
              "    </tr>\n",
              "    <tr>\n",
              "      <th>...</th>\n",
              "      <td>...</td>\n",
              "      <td>...</td>\n",
              "      <td>...</td>\n",
              "      <td>...</td>\n",
              "      <td>...</td>\n",
              "      <td>...</td>\n",
              "      <td>...</td>\n",
              "      <td>...</td>\n",
              "      <td>...</td>\n",
              "      <td>...</td>\n",
              "      <td>...</td>\n",
              "      <td>...</td>\n",
              "      <td>...</td>\n",
              "      <td>...</td>\n",
              "      <td>...</td>\n",
              "      <td>...</td>\n",
              "      <td>...</td>\n",
              "    </tr>\n",
              "    <tr>\n",
              "      <th>7192</th>\n",
              "      <td>1187617475</td>\n",
              "      <td>Kubik</td>\n",
              "      <td>126644224</td>\n",
              "      <td>USD</td>\n",
              "      <td>0.00</td>\n",
              "      <td>142</td>\n",
              "      <td>75</td>\n",
              "      <td>4.5</td>\n",
              "      <td>4.5</td>\n",
              "      <td>1.3</td>\n",
              "      <td>4+</td>\n",
              "      <td>Games</td>\n",
              "      <td>38</td>\n",
              "      <td>5</td>\n",
              "      <td>1</td>\n",
              "      <td>1</td>\n",
              "      <td>Place the falling blocks correctly in order to...</td>\n",
              "    </tr>\n",
              "    <tr>\n",
              "      <th>7193</th>\n",
              "      <td>1187682390</td>\n",
              "      <td>VR Roller-Coaster</td>\n",
              "      <td>120760320</td>\n",
              "      <td>USD</td>\n",
              "      <td>0.00</td>\n",
              "      <td>30</td>\n",
              "      <td>30</td>\n",
              "      <td>4.5</td>\n",
              "      <td>4.5</td>\n",
              "      <td>0.9</td>\n",
              "      <td>4+</td>\n",
              "      <td>Games</td>\n",
              "      <td>38</td>\n",
              "      <td>0</td>\n",
              "      <td>1</td>\n",
              "      <td>1</td>\n",
              "      <td>A thrilling virtual reality roller coaster exp...</td>\n",
              "    </tr>\n",
              "    <tr>\n",
              "      <th>7194</th>\n",
              "      <td>1187779532</td>\n",
              "      <td>Bret Michaels Emojis + Lyric Keyboard</td>\n",
              "      <td>111322112</td>\n",
              "      <td>USD</td>\n",
              "      <td>1.99</td>\n",
              "      <td>15</td>\n",
              "      <td>0</td>\n",
              "      <td>4.5</td>\n",
              "      <td>0.0</td>\n",
              "      <td>1.0.2</td>\n",
              "      <td>9+</td>\n",
              "      <td>Utilities</td>\n",
              "      <td>37</td>\n",
              "      <td>1</td>\n",
              "      <td>1</td>\n",
              "      <td>1</td>\n",
              "      <td>Rock star Bret Michaels, winner of Celebrity A...</td>\n",
              "    </tr>\n",
              "    <tr>\n",
              "      <th>7195</th>\n",
              "      <td>1187838770</td>\n",
              "      <td>VR Roller Coaster World - Virtual Reality</td>\n",
              "      <td>97235968</td>\n",
              "      <td>USD</td>\n",
              "      <td>0.00</td>\n",
              "      <td>85</td>\n",
              "      <td>32</td>\n",
              "      <td>4.5</td>\n",
              "      <td>4.5</td>\n",
              "      <td>1.0.15</td>\n",
              "      <td>12+</td>\n",
              "      <td>Games</td>\n",
              "      <td>38</td>\n",
              "      <td>0</td>\n",
              "      <td>2</td>\n",
              "      <td>1</td>\n",
              "      <td>VR Roller Coaster World is an app for Google C...</td>\n",
              "    </tr>\n",
              "    <tr>\n",
              "      <th>7196</th>\n",
              "      <td>1188375727</td>\n",
              "      <td>Escape the Sweet Shop Series</td>\n",
              "      <td>90898432</td>\n",
              "      <td>USD</td>\n",
              "      <td>0.00</td>\n",
              "      <td>3</td>\n",
              "      <td>3</td>\n",
              "      <td>5.0</td>\n",
              "      <td>5.0</td>\n",
              "      <td>1.0</td>\n",
              "      <td>4+</td>\n",
              "      <td>Games</td>\n",
              "      <td>40</td>\n",
              "      <td>0</td>\n",
              "      <td>2</td>\n",
              "      <td>1</td>\n",
              "      <td>5 previous escape games plus 1 new game in one...</td>\n",
              "    </tr>\n",
              "  </tbody>\n",
              "</table>\n",
              "<p>7197 rows × 17 columns</p>\n",
              "</div>"
            ],
            "text/plain": [
              "              id  ...                                           app_desc\n",
              "0      281656475  ...  SAVE 20%, now only $3.99 for a limited time!\\n...\n",
              "1      281796108  ...  Let Evernote change the way you organize your ...\n",
              "2      281940292  ...  Download the most popular free weather app pow...\n",
              "3      282614216  ...  The eBay app is the best way to find anything ...\n",
              "4      282935706  ...  On more than 250 million devices around the wo...\n",
              "...          ...  ...                                                ...\n",
              "7192  1187617475  ...  Place the falling blocks correctly in order to...\n",
              "7193  1187682390  ...  A thrilling virtual reality roller coaster exp...\n",
              "7194  1187779532  ...  Rock star Bret Michaels, winner of Celebrity A...\n",
              "7195  1187838770  ...  VR Roller Coaster World is an app for Google C...\n",
              "7196  1188375727  ...  5 previous escape games plus 1 new game in one...\n",
              "\n",
              "[7197 rows x 17 columns]"
            ]
          },
          "metadata": {
            "tags": []
          },
          "execution_count": 15
        }
      ]
    },
    {
      "cell_type": "code",
      "metadata": {
        "id": "6twOnJNhR-7K",
        "colab_type": "code",
        "colab": {
          "base_uri": "https://localhost:8080/",
          "height": 364
        },
        "outputId": "ca66ae37-0c93-4419-c63b-4dd216a7d701"
      },
      "source": [
        "# 어떤 장르가 가장 인기있는지 살펴봅시다\n",
        "genre = df.prime_genre.value_counts()\n",
        "genre.plot.bar()"
      ],
      "execution_count": null,
      "outputs": [
        {
          "output_type": "execute_result",
          "data": {
            "text/plain": [
              "<matplotlib.axes._subplots.AxesSubplot at 0x7f40b7613dd8>"
            ]
          },
          "metadata": {
            "tags": []
          },
          "execution_count": 16
        },
        {
          "output_type": "display_data",
          "data": {
            "image/png": "[encoded data removed]",
            "text/plain": [
              "<Figure size 432x288 with 1 Axes>"
            ]
          },
          "metadata": {
            "tags": [],
            "needs_background": "light"
          }
        }
      ]
    },
    {
      "cell_type": "code",
      "metadata": {
        "id": "ovJh1t6a6P0O",
        "colab_type": "code",
        "colab": {
          "base_uri": "https://localhost:8080/",
          "height": 439
        },
        "outputId": "0fdc863e-8808-4636-aed8-482e544a9b93"
      },
      "source": [
        "df.prime_genre.value_counts()"
      ],
      "execution_count": null,
      "outputs": [
        {
          "output_type": "execute_result",
          "data": {
            "text/plain": [
              "Games                3862\n",
              "Entertainment         535\n",
              "Education             453\n",
              "Photo & Video         349\n",
              "Utilities             248\n",
              "Health & Fitness      180\n",
              "Productivity          178\n",
              "Social Networking     167\n",
              "Lifestyle             144\n",
              "Music                 138\n",
              "Shopping              122\n",
              "Sports                114\n",
              "Book                  112\n",
              "Finance               104\n",
              "Travel                 81\n",
              "News                   75\n",
              "Weather                72\n",
              "Reference              64\n",
              "Food & Drink           63\n",
              "Business               57\n",
              "Navigation             46\n",
              "Medical                23\n",
              "Catalogs               10\n",
              "Name: prime_genre, dtype: int64"
            ]
          },
          "metadata": {
            "tags": []
          },
          "execution_count": 17
        }
      ]
    },
    {
      "cell_type": "code",
      "metadata": {
        "id": "ciyjBrbaSAsC",
        "colab_type": "code",
        "colab": {}
      },
      "source": [
        "# 가장 사용자평가가 가장좋은 앱의 이름과 description을 출력해봅시다\n",
        "# 사용자평가가 10000건 이상인 앱을 대상으로 봅시다\n",
        "\n",
        "clean = df.query('rating_count_tot>=10000')\n",
        "final = clean.sort_values(['user_rating','rating_count_tot'], ascending = False).head(100)\n",
        "final = final.filter(['track_name','price', 'prime_genre','user_rating','app_desc', 'rating_count_tot' ])\n",
        "final = final.reset_index(drop=True)\n"
      ],
      "execution_count": null,
      "outputs": []
    },
    {
      "cell_type": "code",
      "metadata": {
        "id": "46_XgzsH6yee",
        "colab_type": "code",
        "colab": {
          "base_uri": "https://localhost:8080/",
          "height": 195
        },
        "outputId": "4c8e90b2-c335-41c5-cf19-28fc7ce5eb23"
      },
      "source": [
        "final.head()"
      ],
      "execution_count": null,
      "outputs": [
        {
          "output_type": "execute_result",
          "data": {
            "text/html": [
              "<div>\n",
              "<style scoped>\n",
              "    .dataframe tbody tr th:only-of-type {\n",
              "        vertical-align: middle;\n",
              "    }\n",
              "\n",
              "    .dataframe tbody tr th {\n",
              "        vertical-align: top;\n",
              "    }\n",
              "\n",
              "    .dataframe thead th {\n",
              "        text-align: right;\n",
              "    }\n",
              "</style>\n",
              "<table border=\"1\" class=\"dataframe\">\n",
              "  <thead>\n",
              "    <tr style=\"text-align: right;\">\n",
              "      <th></th>\n",
              "      <th>track_name</th>\n",
              "      <th>price</th>\n",
              "      <th>prime_genre</th>\n",
              "      <th>user_rating</th>\n",
              "      <th>app_desc</th>\n",
              "      <th>rating_count_tot</th>\n",
              "    </tr>\n",
              "  </thead>\n",
              "  <tbody>\n",
              "    <tr>\n",
              "      <th>0</th>\n",
              "      <td>Head Soccer</td>\n",
              "      <td>0.00</td>\n",
              "      <td>Games</td>\n",
              "      <td>5.0</td>\n",
              "      <td>◆◆◆◆◆◆◆◆◆◆◆◆◆◆◆◆◆◆◆◆◆◆◆◆◆◆◆◆◆◆◆◆◆◆\\nApp store(...</td>\n",
              "      <td>481564</td>\n",
              "    </tr>\n",
              "    <tr>\n",
              "      <th>1</th>\n",
              "      <td>Plants vs. Zombies</td>\n",
              "      <td>0.99</td>\n",
              "      <td>Games</td>\n",
              "      <td>5.0</td>\n",
              "      <td>The game requires iOS 6 compatible device.\\n\\n...</td>\n",
              "      <td>426463</td>\n",
              "    </tr>\n",
              "    <tr>\n",
              "      <th>2</th>\n",
              "      <td>Sniper 3D Assassin: Shoot to Kill Gun Game</td>\n",
              "      <td>0.00</td>\n",
              "      <td>Games</td>\n",
              "      <td>5.0</td>\n",
              "      <td>Ready to have FUN? Download now the best shoot...</td>\n",
              "      <td>386521</td>\n",
              "    </tr>\n",
              "    <tr>\n",
              "      <th>3</th>\n",
              "      <td>Geometry Dash Lite</td>\n",
              "      <td>0.00</td>\n",
              "      <td>Games</td>\n",
              "      <td>5.0</td>\n",
              "      <td>Jump and fly your way through danger in this r...</td>\n",
              "      <td>370370</td>\n",
              "    </tr>\n",
              "    <tr>\n",
              "      <th>4</th>\n",
              "      <td>Infinity Blade</td>\n",
              "      <td>0.99</td>\n",
              "      <td>Games</td>\n",
              "      <td>5.0</td>\n",
              "      <td>Winner of the Apple Design Award and 30+ “Game...</td>\n",
              "      <td>326482</td>\n",
              "    </tr>\n",
              "  </tbody>\n",
              "</table>\n",
              "</div>"
            ],
            "text/plain": [
              "                                   track_name  ...  rating_count_tot\n",
              "0                                 Head Soccer  ...            481564\n",
              "1                          Plants vs. Zombies  ...            426463\n",
              "2  Sniper 3D Assassin: Shoot to Kill Gun Game  ...            386521\n",
              "3                          Geometry Dash Lite  ...            370370\n",
              "4                              Infinity Blade  ...            326482\n",
              "\n",
              "[5 rows x 6 columns]"
            ]
          },
          "metadata": {
            "tags": []
          },
          "execution_count": 20
        }
      ]
    },
    {
      "cell_type": "code",
      "metadata": {
        "id": "WOQcNMUm6xS4",
        "colab_type": "code",
        "colab": {}
      },
      "source": [
        "description=final.loc[0,'app_desc']"
      ],
      "execution_count": null,
      "outputs": []
    },
    {
      "cell_type": "code",
      "metadata": {
        "id": "F0rvxKtiSK0e",
        "colab_type": "code",
        "colab": {
          "base_uri": "https://localhost:8080/",
          "height": 125
        },
        "outputId": "195f90d1-dd90-4fdb-e57b-5d2c051d8229"
      },
      "source": [
        "description"
      ],
      "execution_count": null,
      "outputs": [
        {
          "output_type": "execute_result",
          "data": {
            "application/vnd.google.colaboratory.intrinsic+json": {
              "type": "string"
            },
            "text/plain": [
              "'◆◆◆◆◆◆◆◆◆◆◆◆◆◆◆◆◆◆◆◆◆◆◆◆◆◆◆◆◆◆◆◆◆◆\\nApp store(12 Country) \"Overall Rank.1\"\\nApp store(54 Country) \"Sports category Rank.1\"\\nThank you~ \\n---------------------------------------------------------\\nFrance,Germany,Hong Kong,Italy,Korea,Singapore,Spain,Austria, Cyprus,Mexico,Greece,Hungary,Indonesia,Ireland,Israel,Jordan,Kuwait,Luxembourg,Macau,Malaysia,Netherlands,Poland,Portugal,Saudi Arabia,Sweden,Switzerland,Taiwan,Thailand,Turkey,United Kingdom,Uruguay,Vietnam\\n---\\n◆◆◆◆◆◆◆◆◆◆◆◆◆◆◆◆◆◆◆◆◆◆◆◆◆◆◆◆◆◆◆◆◆◆\\n\\nMove to the side, hard-to-control soccer !\\nA soccer game with easy controls that everyone can learn in 1 second.\\n\\nBeat the opponent with fancy lethal shots such as dragon shoot, ice shoot and lightening shoot and win the tournament.\\nYou can also matchup with friends or global users through the gamecenter.\\n\\nPlay this fun soccer game anytime, anywhere.\\n\\n\\n■■ FEATURES ■■\\n\\n+ Various 69 Avatars & Unique Special Shot !!\\n+ 6 Game mode (Arcade, Tournament, Survival, League, Head Cup, Death Mode)\\n+ Bluetooth Multi Play Mode\\n \\xa0(Play with your friends near !!)\\n+ Online Multiplayer via GameCenter (at least iso 6.0)\\n+ Physics based gameplay (Box2d)\\n+ GameCenter Leader boards\\n+ Submit Facebook\\n\\n■■ D&D DREAM GAMES ■■\\n+ Dinosaur Slayer\\n+ Zombie Sweeper\\n+ Crasher\\n+ IChallenger: Return\\n+ Tiny Brush\\n+ Millionaire Show\\n+ GOL:Legend\\n+ Mach Jumper\\n+ The Last Supper\\n+ The Nine\\n+ Robot Fly\\n+ Head Basketball\\n\\n> Website: www.dnddream.com\\n> e-mail: Game@dnddream.com\\n> Facebook: Facebook.com/dnddream'"
            ]
          },
          "metadata": {
            "tags": []
          },
          "execution_count": 22
        }
      ]
    },
    {
      "cell_type": "code",
      "metadata": {
        "id": "DIhoSwl0SDZT",
        "colab_type": "code",
        "colab": {
          "base_uri": "https://localhost:8080/",
          "height": 758
        },
        "outputId": "2fbcca21-991b-4fab-a7e9-f317763ccb08"
      },
      "source": [
        "# markdown을 출력 \n",
        "import markdown\n",
        "from bs4 import BeautifulSoup\n",
        "html = markdown.markdown(description)\n",
        "print(\"\".join(BeautifulSoup(html).findAll(text=True)))"
      ],
      "execution_count": null,
      "outputs": [
        {
          "output_type": "stream",
          "text": [
            "◆◆◆◆◆◆◆◆◆◆◆◆◆◆◆◆◆◆◆◆◆◆◆◆◆◆◆◆◆◆◆◆◆◆\n",
            "App store(12 Country) \"Overall Rank.1\"\n",
            "App store(54 Country) \"Sports category Rank.1\"\n",
            "Thank you~ \n",
            "\n",
            "France,Germany,Hong Kong,Italy,Korea,Singapore,Spain,Austria, Cyprus,Mexico,Greece,Hungary,Indonesia,Ireland,Israel,Jordan,Kuwait,Luxembourg,Macau,Malaysia,Netherlands,Poland,Portugal,Saudi Arabia,Sweden,Switzerland,Taiwan,Thailand,Turkey,United Kingdom,Uruguay,Vietnam\n",
            "◆◆◆◆◆◆◆◆◆◆◆◆◆◆◆◆◆◆◆◆◆◆◆◆◆◆◆◆◆◆◆◆◆◆\n",
            "Move to the side, hard-to-control soccer !\n",
            "A soccer game with easy controls that everyone can learn in 1 second.\n",
            "Beat the opponent with fancy lethal shots such as dragon shoot, ice shoot and lightening shoot and win the tournament.\n",
            "You can also matchup with friends or global users through the gamecenter.\n",
            "Play this fun soccer game anytime, anywhere.\n",
            "■■ FEATURES ■■\n",
            "\n",
            "Various 69 Avatars & Unique Special Shot !!\n",
            "6 Game mode (Arcade, Tournament, Survival, League, Head Cup, Death Mode)\n",
            "Bluetooth Multi Play Mode\n",
            "  (Play with your friends near !!)\n",
            "Online Multiplayer via GameCenter (at least iso 6.0)\n",
            "Physics based gameplay (Box2d)\n",
            "GameCenter Leader boards\n",
            "Submit Facebook\n",
            "\n",
            "■■ D&D DREAM GAMES ■■\n",
            "+ Dinosaur Slayer\n",
            "+ Zombie Sweeper\n",
            "+ Crasher\n",
            "+ IChallenger: Return\n",
            "+ Tiny Brush\n",
            "+ Millionaire Show\n",
            "+ GOL:Legend\n",
            "+ Mach Jumper\n",
            "+ The Last Supper\n",
            "+ The Nine\n",
            "+ Robot Fly\n",
            "+ Head Basketball\n",
            "\n",
            "Website: www.dnddream.com\n",
            "e-mail: Game@dnddream.com\n",
            "Facebook: Facebook.com/dnddream\n",
            "\n"
          ],
          "name": "stdout"
        }
      ]
    },
    {
      "cell_type": "code",
      "metadata": {
        "id": "0UM8L3TeSO1P",
        "colab_type": "code",
        "colab": {}
      },
      "source": [
        ""
      ],
      "execution_count": null,
      "outputs": []
    }
  ]
}