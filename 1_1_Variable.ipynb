{
  "nbformat": 4,
  "nbformat_minor": 0,
  "metadata": {
    "kernelspec": {
      "name": "python36",
      "display_name": "Python 3.6",
      "language": "python"
    },
    "language_info": {
      "mimetype": "text/x-python",
      "nbconvert_exporter": "python",
      "name": "python",
      "pygments_lexer": "ipython3",
      "version": "3.6.6",
      "file_extension": ".py",
      "codemirror_mode": {
        "version": 3,
        "name": "ipython"
      }
    },
    "colab": {
      "name": "1-1. Variable.ipynb",
      "provenance": [],
      "include_colab_link": true
    }
  },
  "cells": [
    {
      "cell_type": "markdown",
      "metadata": {
        "id": "view-in-github",
        "colab_type": "text"
      },
      "source": [
        "<a href=\"https://colab.research.google.com/github/joohoshin/MLDL_Basic/blob/master/1_1_Variable.ipynb\" target=\"_parent\"><img src=\"https://colab.research.google.com/assets/colab-badge.svg\" alt=\"Open In Colab\"/></a>"
      ]
    },
    {
      "cell_type": "markdown",
      "metadata": {
        "collapsed": true,
        "id": "G3LCF1lVnYUH",
        "colab_type": "text"
      },
      "source": [
        "# 출력문\n",
        "* print() 함수를 사용하여 출력한다. \n",
        "* 문자를 출력할 때는 \" 또는 '를 사용한다. 파이썬에서는 두가지 기호가 동일하게 사용된다. "
      ]
    },
    {
      "cell_type": "code",
      "metadata": {
        "trusted": true,
        "scrolled": true,
        "id": "uE_bbILVnYUI",
        "colab_type": "code",
        "colab": {
          "base_uri": "https://localhost:8080/",
          "height": 35
        },
        "outputId": "c1818cd8-1a2f-4218-e0ae-e90ea7ab564b"
      },
      "source": [
        "print(3)"
      ],
      "execution_count": null,
      "outputs": [
        {
          "output_type": "stream",
          "text": [
            "3\n"
          ],
          "name": "stdout"
        }
      ]
    },
    {
      "cell_type": "code",
      "metadata": {
        "trusted": true,
        "id": "hWZyQBoYnYUN",
        "colab_type": "code",
        "colab": {
          "base_uri": "https://localhost:8080/",
          "height": 53
        },
        "outputId": "390e533b-742e-42f7-be28-9fa5890e8c6a"
      },
      "source": [
        "print(1+5)\n",
        "print(1+10)"
      ],
      "execution_count": null,
      "outputs": [
        {
          "output_type": "stream",
          "text": [
            "6\n",
            "11\n"
          ],
          "name": "stdout"
        }
      ]
    },
    {
      "cell_type": "code",
      "metadata": {
        "trusted": true,
        "id": "kukA1rA7nYUR",
        "colab_type": "code",
        "colab": {
          "base_uri": "https://localhost:8080/",
          "height": 35
        },
        "outputId": "760422c2-6b79-4509-bdc4-3fc6939d0a49"
      },
      "source": [
        "print('안녕하세요. 즐거운 파이썬')"
      ],
      "execution_count": null,
      "outputs": [
        {
          "output_type": "stream",
          "text": [
            "안녕하세요. 즐거운 파이썬\n"
          ],
          "name": "stdout"
        }
      ]
    },
    {
      "cell_type": "markdown",
      "metadata": {
        "id": "KyWj1D8WnYUU",
        "colab_type": "text"
      },
      "source": [
        "* 여러가지를 한번에 출력할 때는 ,를 사용한다. \n",
        "* 숫자와 문자를 한번에 사용할 수 있으며, 빈칸이 추가되어 출력된다. "
      ]
    },
    {
      "cell_type": "code",
      "metadata": {
        "trusted": true,
        "id": "sNa8eKeFnYUU",
        "colab_type": "code",
        "colab": {
          "base_uri": "https://localhost:8080/",
          "height": 35
        },
        "outputId": "c9eea6da-b8f6-4e02-fc1c-8548c2fe1fac"
      },
      "source": [
        "print('2 * 9 =', 2*9)"
      ],
      "execution_count": null,
      "outputs": [
        {
          "output_type": "stream",
          "text": [
            "2 * 9 = 18\n"
          ],
          "name": "stdout"
        }
      ]
    },
    {
      "cell_type": "markdown",
      "metadata": {
        "id": "fE9xspHanYUY",
        "colab_type": "text"
      },
      "source": [
        "# 변수 (Variables)\n",
        "* = 기호를 사용하여 자신이 정한 명칭에 값을 저장한다. \n",
        "* = 기호는 저장한다는 뜻이며, 같다는 뜻이 아니다. "
      ]
    },
    {
      "cell_type": "code",
      "metadata": {
        "trusted": true,
        "id": "biDe7EA6nYUZ",
        "colab_type": "code",
        "colab": {
          "base_uri": "https://localhost:8080/",
          "height": 35
        },
        "outputId": "3ee05bf1-7f48-4588-d7a8-2fc61b1c0b1e"
      },
      "source": [
        "pi = 3.14\n",
        "print(pi)"
      ],
      "execution_count": null,
      "outputs": [
        {
          "output_type": "stream",
          "text": [
            "3.14\n"
          ],
          "name": "stdout"
        }
      ]
    },
    {
      "cell_type": "markdown",
      "metadata": {
        "id": "geWcJ4P9nYUc",
        "colab_type": "text"
      },
      "source": [
        "* 값을 저장하고 있는 변수에 다른 값을 넣으면 그 값으로 변경된다. "
      ]
    },
    {
      "cell_type": "code",
      "metadata": {
        "trusted": true,
        "id": "zQ6-B258nYUd",
        "colab_type": "code",
        "colab": {
          "base_uri": "https://localhost:8080/",
          "height": 35
        },
        "outputId": "213e0888-34d7-44a2-c45d-84d14487fa82"
      },
      "source": [
        "pi = 3.141592\n",
        "pi"
      ],
      "execution_count": null,
      "outputs": [
        {
          "output_type": "execute_result",
          "data": {
            "text/plain": [
              "3.141592"
            ]
          },
          "metadata": {
            "tags": []
          },
          "execution_count": 15
        }
      ]
    },
    {
      "cell_type": "markdown",
      "metadata": {
        "id": "OowtNKETnYUg",
        "colab_type": "text"
      },
      "source": [
        "* 변수를 적절히 사용하면 가독성이 좋아진다. \n",
        "* 영어뿐 아니라 한글로도 변수명을 만들수 있다.\n",
        "* 대소문자를 다르게 인식한다. A와 a는 다른 것임\n",
        "* 띄어쓰기를 포함하지 못하고, 숫자로 시작할 수 없다. "
      ]
    },
    {
      "cell_type": "code",
      "metadata": {
        "trusted": true,
        "id": "nVPayDd2nYUh",
        "colab_type": "code",
        "colab": {
          "base_uri": "https://localhost:8080/",
          "height": 35
        },
        "outputId": "6d9f5fb6-aa52-4f99-8062-127afecac0f2"
      },
      "source": [
        "반지름 = 5\n",
        "원의넓이 = pi*반지름**2\n",
        "원의넓이"
      ],
      "execution_count": null,
      "outputs": [
        {
          "output_type": "execute_result",
          "data": {
            "text/plain": [
              "78.5398"
            ]
          },
          "metadata": {
            "tags": []
          },
          "execution_count": 16
        }
      ]
    },
    {
      "cell_type": "code",
      "metadata": {
        "trusted": true,
        "id": "12PUIEVrnYUl",
        "colab_type": "code",
        "colab": {
          "base_uri": "https://localhost:8080/",
          "height": 35
        },
        "outputId": "a5dec4c0-c70c-4c92-b16b-499d03b49f11"
      },
      "source": [
        "이름 = '홍길동'\n",
        "print('당신의 이름은', 이름, '입니다')"
      ],
      "execution_count": null,
      "outputs": [
        {
          "output_type": "stream",
          "text": [
            "당신의 이름은 홍길동 입니다\n"
          ],
          "name": "stdout"
        }
      ]
    },
    {
      "cell_type": "markdown",
      "metadata": {
        "id": "w3GcqpsVnYUo",
        "colab_type": "text"
      },
      "source": [
        "# 활용"
      ]
    },
    {
      "cell_type": "code",
      "metadata": {
        "trusted": true,
        "id": "Ht4Bw5LHnYUp",
        "colab_type": "code",
        "colab": {
          "base_uri": "https://localhost:8080/",
          "height": 35
        },
        "outputId": "789c0310-e61c-40f4-dd3e-cd34a036e6d0"
      },
      "source": [
        "가로 = 3\n",
        "세로 = 10\n",
        "넓이 = 가로 * 세로\n",
        "print('직사각형의 넓이는', 넓이, '입니다.')"
      ],
      "execution_count": null,
      "outputs": [
        {
          "output_type": "stream",
          "text": [
            "직사각형의 넓이는 30 입니다.\n"
          ],
          "name": "stdout"
        }
      ]
    },
    {
      "cell_type": "markdown",
      "metadata": {
        "id": "41aY3BjLnYUs",
        "colab_type": "text"
      },
      "source": [
        "* 여러개의 변수를 출력문에 사용하고 싶을때는 format을 이용하면 쉽게 사용할 수 있다. \n",
        "* 출력문 안에 {} 기호에 변수값이 순서대로 들어가게 된다. "
      ]
    },
    {
      "cell_type": "code",
      "metadata": {
        "trusted": true,
        "id": "u1vZucX5nYUt",
        "colab_type": "code",
        "colab": {
          "base_uri": "https://localhost:8080/",
          "height": 35
        },
        "outputId": "7fb2d44e-fb36-4ed2-9e5d-47eaf226f08e"
      },
      "source": [
        "print('가로 {}cm, 세로{}cm 인 직사각형의 넓이는 {} 입니다. '.format(가로, 세로, 넓이))"
      ],
      "execution_count": null,
      "outputs": [
        {
          "output_type": "stream",
          "text": [
            "가로 3cm, 세로10cm 인 직사각형의 넓이는 30 입니다. \n"
          ],
          "name": "stdout"
        }
      ]
    },
    {
      "cell_type": "markdown",
      "metadata": {
        "id": "CNlFhztWnYUw",
        "colab_type": "text"
      },
      "source": [
        "* 여러줄을 출력할 때는 \"\"\" 또는 '''을 사용한다"
      ]
    },
    {
      "cell_type": "code",
      "metadata": {
        "trusted": true,
        "id": "fhtZrWAunYUx",
        "colab_type": "code",
        "colab": {},
        "outputId": "927bd1a4-a6a8-4d0c-f685-930b3afda4aa"
      },
      "source": [
        "print('''오늘의 메뉴\n",
        "    떡갈비\n",
        "    보쌈\n",
        "    순대    \n",
        "''')"
      ],
      "execution_count": null,
      "outputs": [
        {
          "output_type": "stream",
          "text": [
            "오늘의 메뉴\n",
            "    떡갈비\n",
            "    보쌈\n",
            "    순대    \n",
            "\n"
          ],
          "name": "stdout"
        }
      ]
    },
    {
      "cell_type": "markdown",
      "metadata": {
        "id": "irI0jPHRnYU0",
        "colab_type": "text"
      },
      "source": [
        "* 큰수를 코딩할 때는 과학적 표기법을 활용하면 오류를 줄일 수 있다. \n",
        "* e뒤에 0의 개수를 적어주면 되고, -를 붙이면 소수점 자리수가 된다"
      ]
    },
    {
      "cell_type": "code",
      "metadata": {
        "trusted": true,
        "id": "JdCSQnpVnYU0",
        "colab_type": "code",
        "colab": {
          "base_uri": "https://localhost:8080/",
          "height": 35
        },
        "outputId": "9e64e35d-57cd-4222-beff-d4901ae886c2"
      },
      "source": [
        "sales = 100000000\n",
        "sales"
      ],
      "execution_count": null,
      "outputs": [
        {
          "output_type": "execute_result",
          "data": {
            "text/plain": [
              "100000000"
            ]
          },
          "metadata": {
            "tags": []
          },
          "execution_count": 20
        }
      ]
    },
    {
      "cell_type": "code",
      "metadata": {
        "trusted": true,
        "id": "vJqmwauYnYU3",
        "colab_type": "code",
        "colab": {
          "base_uri": "https://localhost:8080/",
          "height": 35
        },
        "outputId": "556f30ca-ed82-44bd-e023-66c168d2656e"
      },
      "source": [
        "sales2 = 1.23e8\n",
        "sales2"
      ],
      "execution_count": null,
      "outputs": [
        {
          "output_type": "execute_result",
          "data": {
            "text/plain": [
              "123000000.0"
            ]
          },
          "metadata": {
            "tags": []
          },
          "execution_count": 21
        }
      ]
    },
    {
      "cell_type": "code",
      "metadata": {
        "trusted": true,
        "id": "QPlcSBK2nYU6",
        "colab_type": "code",
        "colab": {
          "base_uri": "https://localhost:8080/",
          "height": 35
        },
        "outputId": "0a5904d0-c831-429a-e398-35f9218b81a1"
      },
      "source": [
        "소수점 = 1.23e-2\n",
        "print(소수점)"
      ],
      "execution_count": null,
      "outputs": [
        {
          "output_type": "stream",
          "text": [
            "0.0123\n"
          ],
          "name": "stdout"
        }
      ]
    },
    {
      "cell_type": "code",
      "metadata": {
        "trusted": true,
        "id": "Om8Wto1NnYU9",
        "colab_type": "code",
        "colab": {
          "base_uri": "https://localhost:8080/",
          "height": 35
        },
        "outputId": "471e5038-59ab-4070-94b0-6b415d1b7454"
      },
      "source": [
        "print('당신의 자산은 {}원 입니다'.format(1.23e10))"
      ],
      "execution_count": null,
      "outputs": [
        {
          "output_type": "stream",
          "text": [
            "당신의 자산은 12300000000.0원 입니다\n"
          ],
          "name": "stdout"
        }
      ]
    },
    {
      "cell_type": "code",
      "metadata": {
        "trusted": true,
        "id": "Yzf5-4dknYVA",
        "colab_type": "code",
        "colab": {}
      },
      "source": [
        ""
      ],
      "execution_count": null,
      "outputs": []
    }
  ]
}