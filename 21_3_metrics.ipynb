{
  "nbformat": 4,
  "nbformat_minor": 0,
  "metadata": {
    "colab": {
      "name": "21-3. metrics.ipynb",
      "provenance": [],
      "collapsed_sections": [],
      "mount_file_id": "1IarfHBI3q496ROvweK7ehLtzISrCP5ly",
      "authorship_tag": "ABX9TyOVUyTuDlt5t8vaJSZ80vlu",
      "include_colab_link": true
    },
    "kernelspec": {
      "name": "python3",
      "display_name": "Python 3"
    }
  },
  "cells": [
    {
      "cell_type": "markdown",
      "metadata": {
        "id": "view-in-github",
        "colab_type": "text"
      },
      "source": [
        "<a href=\"https://colab.research.google.com/github/joohoshin/MLDL_Basic/blob/master/21_3_metrics.ipynb\" target=\"_parent\"><img src=\"https://colab.research.google.com/assets/colab-badge.svg\" alt=\"Open In Colab\"/></a>"
      ]
    },
    {
      "cell_type": "markdown",
      "metadata": {
        "id": "Lu0nIALGpOgq"
      },
      "source": [
        "정확도 이외에도 목적에 맞게 다양한 평가 방법을 사용할 수 있습니다\n",
        "\n",
        "https://sumniya.tistory.com/26"
      ]
    },
    {
      "cell_type": "code",
      "metadata": {
        "id": "DeFmMbRR0-3V",
        "colab": {
          "base_uri": "https://localhost:8080/"
        },
        "outputId": "138b7f7a-c017-4aea-b521-f206284ccdf6"
      },
      "source": [
        "import pandas as pd\n",
        "import seaborn as sns\n",
        "\n",
        "red = pd.read_csv('/content/drive/MyDrive/ML_DL_202002/wineQualityReds.csv', index_col=0)\n",
        "\n",
        "X = red.iloc[:,:-1]\n",
        "y=red.quality.values\n",
        "\n",
        "from sklearn.model_selection import train_test_split\n",
        "\n",
        "X_train, X_test, y_train, y_test = train_test_split(X, y, test_size=0.3, random_state=0, stratify=y)\n",
        "\n",
        "from sklearn.preprocessing import StandardScaler\n",
        "\n",
        "scaler = StandardScaler()\n",
        "scaler.fit(X_train)\n",
        "X_train2 = scaler.transform(X_train)\n",
        "X_test2 = scaler.transform(X_test)\n",
        "\n",
        "from sklearn.svm import SVC\n",
        "\n",
        "svm=SVC(C=1, break_ties=False, cache_size=200, class_weight=None, coef0=0.0,\n",
        "    decision_function_shape='ovr', degree=3, gamma=0.1, kernel='rbf',\n",
        "    max_iter=-1, probability=False, random_state=None, shrinking=True,\n",
        "    tol=0.001, verbose=False)\n",
        "\n",
        "svm.fit(X_train2, y_train)\n",
        "\n",
        "from sklearn.metrics import accuracy_score\n",
        "y_pred = svm.predict(X_test2)\n",
        "accuracy_score(y_test, y_pred)"
      ],
      "execution_count": null,
      "outputs": [
        {
          "output_type": "execute_result",
          "data": {
            "text/plain": [
              "0.6520833333333333"
            ]
          },
          "metadata": {
            "tags": []
          },
          "execution_count": 78
        }
      ]
    },
    {
      "cell_type": "code",
      "metadata": {
        "id": "o9U4ijC1xF8n"
      },
      "source": [
        "from sklearn.metrics import confusion_matrix\n",
        "confusion =  confusion_matrix(y_test, y_pred)"
      ],
      "execution_count": null,
      "outputs": []
    },
    {
      "cell_type": "code",
      "metadata": {
        "colab": {
          "base_uri": "https://localhost:8080/"
        },
        "id": "0qtuNS7J1tWb",
        "outputId": "291d2f7e-dfb1-4d39-92f2-ab5fa56f9ddb"
      },
      "source": [
        "confusion"
      ],
      "execution_count": null,
      "outputs": [
        {
          "output_type": "execute_result",
          "data": {
            "text/plain": [
              "array([[  0,   0,   2,   1,   0,   0],\n",
              "       [  0,   0,  11,   5,   0,   0],\n",
              "       [  0,   0, 164,  39,   1,   0],\n",
              "       [  0,   0,  54, 129,   9,   0],\n",
              "       [  0,   0,   5,  35,  20,   0],\n",
              "       [  0,   0,   0,   3,   2,   0]])"
            ]
          },
          "metadata": {
            "tags": []
          },
          "execution_count": 80
        }
      ]
    },
    {
      "cell_type": "code",
      "metadata": {
        "colab": {
          "base_uri": "https://localhost:8080/",
          "height": 299
        },
        "id": "pCnsEdehxMgV",
        "outputId": "27d97c14-0a95-4e9b-dc1c-7e3698e1dd9d"
      },
      "source": [
        "import matplotlib.pyplot as plt\n",
        "sns.heatmap(confusion, cmap=\"YlGnBu\",annot=True,  square=True)\n",
        "plt.ylabel('true_y')\n",
        "plt.xlabel('pred_y')"
      ],
      "execution_count": null,
      "outputs": [
        {
          "output_type": "execute_result",
          "data": {
            "text/plain": [
              "Text(0.5, 15.0, 'pred_y')"
            ]
          },
          "metadata": {
            "tags": []
          },
          "execution_count": 81
        },
        {
          "output_type": "display_data",
          "data": {
            "image/png": "[encoded data removed]",
            "text/plain": [
              "<Figure size 432x288 with 2 Axes>"
            ]
          },
          "metadata": {
            "tags": [],
            "needs_background": "light"
          }
        }
      ]
    },
    {
      "cell_type": "markdown",
      "metadata": {
        "id": "vVbq2ITBlGuR"
      },
      "source": [
        "\n",
        "\n",
        "https://scikit-learn.org/stable/modules/model_evaluation.html"
      ]
    },
    {
      "cell_type": "code",
      "metadata": {
        "id": "0nDDDAKsHjyi",
        "colab": {
          "base_uri": "https://localhost:8080/"
        },
        "outputId": "324f96e0-cbc4-4791-ac9d-8085f504ba97"
      },
      "source": [
        "from sklearn.metrics import balanced_accuracy_score\n",
        "balanced_accuracy_score(y_test, y_pred)"
      ],
      "execution_count": null,
      "outputs": [
        {
          "output_type": "execute_result",
          "data": {
            "text/plain": [
              "0.3015216503267974"
            ]
          },
          "metadata": {
            "tags": []
          },
          "execution_count": 82
        }
      ]
    },
    {
      "cell_type": "code",
      "metadata": {
        "colab": {
          "base_uri": "https://localhost:8080/"
        },
        "id": "9VV2ovbUJNe2",
        "outputId": "28fc248e-f7c4-420e-b2e2-819ea5e8a764"
      },
      "source": [
        "from sklearn.metrics import make_scorer\n",
        "from sklearn.model_selection import GridSearchCV\n",
        "\n",
        "parameters = {\n",
        "    'kernel': ['linear', 'poly', 'rbf'],\n",
        "    'C': [0.001, 0.01, 0.1, 1, 2, 5],\n",
        "    'gamma': [0.01, 0.1, 0.5, 1]\n",
        "}\n",
        "\n",
        "b_accuracy = make_scorer(balanced_accuracy_score)\n",
        "\n",
        "svc = SVC()\n",
        "clf = GridSearchCV(svc, param_grid=parameters, n_jobs=-1, verbose=1, scoring = b_accuracy)\n",
        "clf.fit(X_train2, y_train)"
      ],
      "execution_count": null,
      "outputs": [
        {
          "output_type": "stream",
          "text": [
            "Fitting 5 folds for each of 72 candidates, totalling 360 fits\n"
          ],
          "name": "stdout"
        },
        {
          "output_type": "stream",
          "text": [
            "[Parallel(n_jobs=-1)]: Using backend LokyBackend with 2 concurrent workers.\n",
            "[Parallel(n_jobs=-1)]: Done 122 tasks      | elapsed:    4.7s\n",
            "[Parallel(n_jobs=-1)]: Done 360 out of 360 | elapsed:  1.4min finished\n"
          ],
          "name": "stderr"
        },
        {
          "output_type": "execute_result",
          "data": {
            "text/plain": [
              "GridSearchCV(cv=None, error_score=nan,\n",
              "             estimator=SVC(C=1.0, break_ties=False, cache_size=200,\n",
              "                           class_weight=None, coef0=0.0,\n",
              "                           decision_function_shape='ovr', degree=3,\n",
              "                           gamma='scale', kernel='rbf', max_iter=-1,\n",
              "                           probability=False, random_state=None, shrinking=True,\n",
              "                           tol=0.001, verbose=False),\n",
              "             iid='deprecated', n_jobs=-1,\n",
              "             param_grid={'C': [0.001, 0.01, 0.1, 1, 2, 5],\n",
              "                         'gamma': [0.01, 0.1, 0.5, 1],\n",
              "                         'kernel': ['linear', 'poly', 'rbf']},\n",
              "             pre_dispatch='2*n_jobs', refit=True, return_train_score=False,\n",
              "             scoring=make_scorer(balanced_accuracy_score), verbose=1)"
            ]
          },
          "metadata": {
            "tags": []
          },
          "execution_count": 83
        }
      ]
    },
    {
      "cell_type": "code",
      "metadata": {
        "colab": {
          "base_uri": "https://localhost:8080/"
        },
        "id": "Z2-95nTsKHBd",
        "outputId": "e48bf698-e9a0-473c-fd13-9976e67e6ac7"
      },
      "source": [
        "clf.best_estimator_"
      ],
      "execution_count": null,
      "outputs": [
        {
          "output_type": "execute_result",
          "data": {
            "text/plain": [
              "SVC(C=5, break_ties=False, cache_size=200, class_weight=None, coef0=0.0,\n",
              "    decision_function_shape='ovr', degree=3, gamma=0.5, kernel='poly',\n",
              "    max_iter=-1, probability=False, random_state=None, shrinking=True,\n",
              "    tol=0.001, verbose=False)"
            ]
          },
          "metadata": {
            "tags": []
          },
          "execution_count": 68
        }
      ]
    },
    {
      "cell_type": "code",
      "metadata": {
        "id": "FaRfg08qKyaG"
      },
      "source": [
        "svm = SVC(C=5, break_ties=False, cache_size=200, class_weight=None, coef0=0.0,\n",
        "    decision_function_shape='ovr', degree=3, gamma=0.5, kernel='poly',\n",
        "    max_iter=-1, probability=False, random_state=None, shrinking=True,\n",
        "    tol=0.001, verbose=False)"
      ],
      "execution_count": null,
      "outputs": []
    },
    {
      "cell_type": "code",
      "metadata": {
        "colab": {
          "base_uri": "https://localhost:8080/"
        },
        "id": "yVEEqsxFK3gB",
        "outputId": "3a3ad232-24bc-4db9-dfa7-565198afe900"
      },
      "source": [
        "from sklearn.metrics import accuracy_score\n",
        "svm.fit(X_train2, y_train)\n",
        "y_pred = svm.predict(X_test2)\n",
        "accuracy_score(y_test, y_pred)"
      ],
      "execution_count": null,
      "outputs": [
        {
          "output_type": "execute_result",
          "data": {
            "text/plain": [
              "0.5666666666666667"
            ]
          },
          "metadata": {
            "tags": []
          },
          "execution_count": 70
        }
      ]
    },
    {
      "cell_type": "code",
      "metadata": {
        "colab": {
          "base_uri": "https://localhost:8080/"
        },
        "id": "diXxCSFVK8GJ",
        "outputId": "09f496c6-17e6-4496-9722-368f53fae142"
      },
      "source": [
        "balanced_accuracy_score(y_test, y_pred)"
      ],
      "execution_count": null,
      "outputs": [
        {
          "output_type": "execute_result",
          "data": {
            "text/plain": [
              "0.3374285130718954"
            ]
          },
          "metadata": {
            "tags": []
          },
          "execution_count": 71
        }
      ]
    },
    {
      "cell_type": "code",
      "metadata": {
        "id": "692DWmDcer9c"
      },
      "source": [
        "confusion =  confusion_matrix(y_test, y_pred)"
      ],
      "execution_count": null,
      "outputs": []
    },
    {
      "cell_type": "code",
      "metadata": {
        "colab": {
          "base_uri": "https://localhost:8080/"
        },
        "id": "p3__vsvHwAnT",
        "outputId": "1e58dede-b6ec-425c-c2cb-e6cfc0e8709f"
      },
      "source": [
        "confusion"
      ],
      "execution_count": null,
      "outputs": [
        {
          "output_type": "execute_result",
          "data": {
            "text/plain": [
              "array([[  1,   1,   0,   1,   0,   0],\n",
              "       [  1,   1,  10,   3,   1,   0],\n",
              "       [  1,  15, 134,  50,   4,   0],\n",
              "       [  0,   7,  49, 113,  21,   2],\n",
              "       [  0,   4,   6,  25,  23,   2],\n",
              "       [  0,   0,   1,   2,   2,   0]])"
            ]
          },
          "metadata": {
            "tags": []
          },
          "execution_count": 73
        }
      ]
    },
    {
      "cell_type": "code",
      "metadata": {
        "colab": {
          "base_uri": "https://localhost:8080/",
          "height": 299
        },
        "id": "iqZxIbAqwEYG",
        "outputId": "f1846ef6-8775-48ff-d1e4-0d437a06266b"
      },
      "source": [
        "sns.heatmap(confusion, cmap=\"YlGnBu\",annot=True,  square=True)\n",
        "plt.ylabel('true_y')\n",
        "plt.xlabel('pred_y')"
      ],
      "execution_count": null,
      "outputs": [
        {
          "output_type": "execute_result",
          "data": {
            "text/plain": [
              "Text(0.5, 15.0, 'pred_y')"
            ]
          },
          "metadata": {
            "tags": []
          },
          "execution_count": 74
        },
        {
          "output_type": "display_data",
          "data": {
            "image/png": "[encoded data removed]",
            "text/plain": [
              "<Figure size 432x288 with 2 Axes>"
            ]
          },
          "metadata": {
            "tags": [],
            "needs_background": "light"
          }
        }
      ]
    },
    {
      "cell_type": "code",
      "metadata": {
        "id": "CRDYWCB-wHS2"
      },
      "source": [
        ""
      ],
      "execution_count": null,
      "outputs": []
    }
  ]
}