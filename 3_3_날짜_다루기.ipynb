{
  "nbformat": 4,
  "nbformat_minor": 0,
  "metadata": {
    "kernelspec": {
      "display_name": "Python 3",
      "language": "python",
      "name": "python3"
    },
    "language_info": {
      "codemirror_mode": {
        "name": "ipython",
        "version": 3
      },
      "file_extension": ".py",
      "mimetype": "text/x-python",
      "name": "python",
      "nbconvert_exporter": "python",
      "pygments_lexer": "ipython3",
      "version": "3.7.3"
    },
    "colab": {
      "name": "3-3. 날짜 다루기.ipynb",
      "provenance": [],
      "include_colab_link": true
    }
  },
  "cells": [
    {
      "cell_type": "markdown",
      "metadata": {
        "id": "view-in-github",
        "colab_type": "text"
      },
      "source": [
        "<a href=\"https://colab.research.google.com/github/joohoshin/MLDL_Basic/blob/master/3_3_%EB%82%A0%EC%A7%9C_%EB%8B%A4%EB%A3%A8%EA%B8%B0.ipynb\" target=\"_parent\"><img src=\"https://colab.research.google.com/assets/colab-badge.svg\" alt=\"Open In Colab\"/></a>"
      ]
    },
    {
      "cell_type": "markdown",
      "metadata": {
        "id": "s5yq-RKQ8KXf",
        "colab_type": "text"
      },
      "source": [
        "# 날짜 다루기\n",
        "* https://www.programiz.com/python-programming/datetime\n",
        "* 파이썬에서는 datatime 라이브러리를 사용하여 날짜 및 시간을 다룬다. "
      ]
    },
    {
      "cell_type": "code",
      "metadata": {
        "id": "bZm8LjFu8KXg",
        "colab_type": "code",
        "colab": {}
      },
      "source": [
        "from datetime import datetime"
      ],
      "execution_count": null,
      "outputs": []
    },
    {
      "cell_type": "markdown",
      "metadata": {
        "id": "LrKM-oTV8KXk",
        "colab_type": "text"
      },
      "source": [
        "* datetime 라이브러리의 datetime 타입은 날짜와 시간을 모두 저장합니다\n",
        "* now()를 이용하여 현재 시간을 가져올 수 있습니다"
      ]
    },
    {
      "cell_type": "code",
      "metadata": {
        "id": "wGMWrZ5O8KXk",
        "colab_type": "code",
        "colab": {
          "base_uri": "https://localhost:8080/",
          "height": 52
        },
        "outputId": "040a9c57-06a8-48e8-ceed-00d25ea7e39a"
      },
      "source": [
        "print(datetime.now())\n",
        "datetime.now()"
      ],
      "execution_count": null,
      "outputs": [
        {
          "output_type": "stream",
          "text": [
            "2020-09-05 11:36:45.893774\n"
          ],
          "name": "stdout"
        },
        {
          "output_type": "execute_result",
          "data": {
            "text/plain": [
              "datetime.datetime(2020, 9, 5, 11, 36, 45, 893927)"
            ]
          },
          "metadata": {
            "tags": []
          },
          "execution_count": 2
        }
      ]
    },
    {
      "cell_type": "code",
      "metadata": {
        "id": "bbshtfGi8KXo",
        "colab_type": "code",
        "colab": {
          "base_uri": "https://localhost:8080/",
          "height": 34
        },
        "outputId": "a8cda696-2933-4cf6-ebbf-fb51f7e74404"
      },
      "source": [
        "t = datetime.now()\n",
        "type(t)"
      ],
      "execution_count": null,
      "outputs": [
        {
          "output_type": "execute_result",
          "data": {
            "text/plain": [
              "datetime.datetime"
            ]
          },
          "metadata": {
            "tags": []
          },
          "execution_count": 3
        }
      ]
    },
    {
      "cell_type": "markdown",
      "metadata": {
        "id": "OPEDJy1f8KXr",
        "colab_type": "text"
      },
      "source": [
        "* 날짜를 입력하여 직접 만들수 있습니다"
      ]
    },
    {
      "cell_type": "code",
      "metadata": {
        "id": "-GIlf5W48KXs",
        "colab_type": "code",
        "colab": {
          "base_uri": "https://localhost:8080/",
          "height": 52
        },
        "outputId": "94eea1e6-5a9c-4404-926b-6146f56696f2"
      },
      "source": [
        "강의시작일 = datetime(2020,3,15)\n",
        "print('강의시작일: {}'.format(강의시작일))\n",
        "\n",
        "퀴즈시간 = datetime(2020, 4, 24, 11, 0 )\n",
        "print('퀴즈: {}'.format(퀴즈시간))"
      ],
      "execution_count": null,
      "outputs": [
        {
          "output_type": "stream",
          "text": [
            "강의시작일: 2020-03-15 00:00:00\n",
            "퀴즈: 2020-04-24 11:00:00\n"
          ],
          "name": "stdout"
        }
      ]
    },
    {
      "cell_type": "markdown",
      "metadata": {
        "id": "k2AGs9ln8KXv",
        "colab_type": "text"
      },
      "source": [
        "* 날짜만 가져올 때는 date(), 시간만 가져올 때는 time()을 사용하면 됩니다 "
      ]
    },
    {
      "cell_type": "code",
      "metadata": {
        "id": "unq_tnS38KXv",
        "colab_type": "code",
        "colab": {
          "base_uri": "https://localhost:8080/",
          "height": 52
        },
        "outputId": "e05ef6d9-3ee3-400c-8258-5abbdb0d8a79"
      },
      "source": [
        "퀴즈날짜 = 퀴즈시간.date()\n",
        "print(퀴즈날짜)\n",
        "\n",
        "퀴즈시작시간 = 퀴즈시간.time()\n",
        "print(퀴즈시작시간)"
      ],
      "execution_count": null,
      "outputs": [
        {
          "output_type": "stream",
          "text": [
            "2020-04-24\n",
            "11:00:00\n"
          ],
          "name": "stdout"
        }
      ]
    },
    {
      "cell_type": "markdown",
      "metadata": {
        "id": "Y_F2BQg-8KXx",
        "colab_type": "text"
      },
      "source": [
        "* 문자로부터 변환도 가능합니다. 이때에는 어떤 모양인지 입력이 필요합니다\n",
        "* 이때에는 strptime() 을 사용합니다. \n",
        "* %Y는 네자리 년도, %y는 2자리 연도를 의미, %m은 월, %d는 일을 의미합니다. "
      ]
    },
    {
      "cell_type": "code",
      "metadata": {
        "id": "GcU_WX1D8KXy",
        "colab_type": "code",
        "colab": {
          "base_uri": "https://localhost:8080/",
          "height": 34
        },
        "outputId": "7028d6c4-f23b-4067-a072-77f85809a189"
      },
      "source": [
        "date1 = '2020-6-23'\n",
        "강의종료일1 = datetime.strptime(date1, '%Y-%m-%d')\n",
        "print(강의종료일1)"
      ],
      "execution_count": null,
      "outputs": [
        {
          "output_type": "stream",
          "text": [
            "2020-06-23 00:00:00\n"
          ],
          "name": "stdout"
        }
      ]
    },
    {
      "cell_type": "code",
      "metadata": {
        "id": "h7yWBS3g8KX0",
        "colab_type": "code",
        "colab": {
          "base_uri": "https://localhost:8080/",
          "height": 34
        },
        "outputId": "bfd67bc6-ecd0-463e-d35d-26544544d95f"
      },
      "source": [
        "date2 = '20200623'\n",
        "강의종료일2 = datetime.strptime(date2, '%Y%m%d')\n",
        "print(강의종료일2)"
      ],
      "execution_count": null,
      "outputs": [
        {
          "output_type": "stream",
          "text": [
            "2020-06-23 00:00:00\n"
          ],
          "name": "stdout"
        }
      ]
    },
    {
      "cell_type": "markdown",
      "metadata": {
        "id": "Ygu-bUEb8KX2",
        "colab_type": "text"
      },
      "source": [
        "* 문자로 변환시에는 strftime()을 사용합니다"
      ]
    },
    {
      "cell_type": "code",
      "metadata": {
        "id": "yfk7OWvk8KX3",
        "colab_type": "code",
        "colab": {
          "base_uri": "https://localhost:8080/",
          "height": 34
        },
        "outputId": "4286f3a6-1da7-45a1-c5ad-72dfc1376a6d"
      },
      "source": [
        "type(강의종료일2)"
      ],
      "execution_count": null,
      "outputs": [
        {
          "output_type": "execute_result",
          "data": {
            "text/plain": [
              "datetime.datetime"
            ]
          },
          "metadata": {
            "tags": []
          },
          "execution_count": 8
        }
      ]
    },
    {
      "cell_type": "code",
      "metadata": {
        "id": "7infkTUc8KX5",
        "colab_type": "code",
        "colab": {}
      },
      "source": [
        "str_date = 강의종료일2.strftime('%Y-%m-%d')"
      ],
      "execution_count": null,
      "outputs": []
    },
    {
      "cell_type": "code",
      "metadata": {
        "id": "1WnAtoOE8KYA",
        "colab_type": "code",
        "colab": {
          "base_uri": "https://localhost:8080/",
          "height": 34
        },
        "outputId": "46725c0e-a6ce-4606-8580-2010131f09dc"
      },
      "source": [
        "type(str_date)"
      ],
      "execution_count": null,
      "outputs": [
        {
          "output_type": "execute_result",
          "data": {
            "text/plain": [
              "str"
            ]
          },
          "metadata": {
            "tags": []
          },
          "execution_count": 10
        }
      ]
    },
    {
      "cell_type": "code",
      "metadata": {
        "id": "M4b56T-v8KYC",
        "colab_type": "code",
        "colab": {
          "base_uri": "https://localhost:8080/",
          "height": 34
        },
        "outputId": "9024fa88-2164-42b9-a348-5344ddc9438f"
      },
      "source": [
        "print(str_date)"
      ],
      "execution_count": null,
      "outputs": [
        {
          "output_type": "stream",
          "text": [
            "2020-06-23\n"
          ],
          "name": "stdout"
        }
      ]
    },
    {
      "cell_type": "code",
      "metadata": {
        "id": "OINTxhiK8KYF",
        "colab_type": "code",
        "colab": {
          "base_uri": "https://localhost:8080/",
          "height": 34
        },
        "outputId": "1a70d2a5-ad88-4a3f-f9ed-84b6f0c6b63b"
      },
      "source": [
        "str_date2 = 강의종료일2.strftime('%Y/%m/%d')\n",
        "print(str_date2)"
      ],
      "execution_count": null,
      "outputs": [
        {
          "output_type": "stream",
          "text": [
            "2020/06/23\n"
          ],
          "name": "stdout"
        }
      ]
    },
    {
      "cell_type": "markdown",
      "metadata": {
        "id": "yQotHjIJ8KYH",
        "colab_type": "text"
      },
      "source": [
        "### 날짜 연산\n",
        "* timedelta 함수를 사용합니다\n"
      ]
    },
    {
      "cell_type": "code",
      "metadata": {
        "id": "J1NpJOHC8KYI",
        "colab_type": "code",
        "colab": {}
      },
      "source": [
        "from datetime import timedelta, datetime   # from 라이브러리명 import 가져올 함수명"
      ],
      "execution_count": null,
      "outputs": []
    },
    {
      "cell_type": "code",
      "metadata": {
        "id": "3Pf_uisH8KYJ",
        "colab_type": "code",
        "colab": {}
      },
      "source": [
        "강의시작일 = datetime(2020,3,15)\n",
        "date1 = '2020-06-23'\n",
        "강의종료일 = datetime.strptime(date1, '%Y-%m-%d')"
      ],
      "execution_count": null,
      "outputs": []
    },
    {
      "cell_type": "code",
      "metadata": {
        "id": "R_n9hosb8KYL",
        "colab_type": "code",
        "colab": {
          "base_uri": "https://localhost:8080/",
          "height": 34
        },
        "outputId": "e065b48c-1737-4129-81ce-730855ca113e"
      },
      "source": [
        "print(강의종료일 - 강의시작일)"
      ],
      "execution_count": null,
      "outputs": [
        {
          "output_type": "stream",
          "text": [
            "100 days, 0:00:00\n"
          ],
          "name": "stdout"
        }
      ]
    },
    {
      "cell_type": "code",
      "metadata": {
        "id": "BHm38EH48KYN",
        "colab_type": "code",
        "colab": {}
      },
      "source": [
        "t=강의종료일 - 강의시작일"
      ],
      "execution_count": null,
      "outputs": []
    },
    {
      "cell_type": "code",
      "metadata": {
        "id": "Vw_ih3jz8KYP",
        "colab_type": "code",
        "colab": {
          "base_uri": "https://localhost:8080/",
          "height": 34
        },
        "outputId": "37a76568-c8ab-4349-ee4b-10113f4df5f5"
      },
      "source": [
        "type(t)"
      ],
      "execution_count": null,
      "outputs": [
        {
          "output_type": "execute_result",
          "data": {
            "text/plain": [
              "datetime.timedelta"
            ]
          },
          "metadata": {
            "tags": []
          },
          "execution_count": 28
        }
      ]
    },
    {
      "cell_type": "code",
      "metadata": {
        "id": "PmPrZXkC8KYS",
        "colab_type": "code",
        "colab": {
          "base_uri": "https://localhost:8080/",
          "height": 52
        },
        "outputId": "22b5c9c8-101b-4c32-ccf0-801efd8a70a8"
      },
      "source": [
        "days = t.days\n",
        "print(days)\n",
        "type(days)"
      ],
      "execution_count": null,
      "outputs": [
        {
          "output_type": "stream",
          "text": [
            "100\n"
          ],
          "name": "stdout"
        },
        {
          "output_type": "execute_result",
          "data": {
            "text/plain": [
              "int"
            ]
          },
          "metadata": {
            "tags": []
          },
          "execution_count": 29
        }
      ]
    },
    {
      "cell_type": "code",
      "metadata": {
        "id": "rcdqCmJZ8KYU",
        "colab_type": "code",
        "colab": {}
      },
      "source": [
        "퀴즈시작 = datetime(2020,4,24,11)\n",
        "퀴즈종료 = datetime(2020,4,24,13)\n",
        "t= 퀴즈종료 - 퀴즈시작"
      ],
      "execution_count": null,
      "outputs": []
    },
    {
      "cell_type": "code",
      "metadata": {
        "id": "miJV18iF8KYV",
        "colab_type": "code",
        "colab": {
          "base_uri": "https://localhost:8080/",
          "height": 34
        },
        "outputId": "74ebb689-e5d2-4cdc-e0b2-55b052375e84"
      },
      "source": [
        "t.seconds"
      ],
      "execution_count": null,
      "outputs": [
        {
          "output_type": "execute_result",
          "data": {
            "text/plain": [
              "7200"
            ]
          },
          "metadata": {
            "tags": []
          },
          "execution_count": 31
        }
      ]
    },
    {
      "cell_type": "code",
      "metadata": {
        "id": "CA9BK8zq8KYX",
        "colab_type": "code",
        "colab": {
          "base_uri": "https://localhost:8080/",
          "height": 34
        },
        "outputId": "cface151-45c0-4c87-9525-45da5cb1b6e4"
      },
      "source": [
        "print('시험시간은 {} 시간입니다. '.format(t.seconds//3600))"
      ],
      "execution_count": null,
      "outputs": [
        {
          "output_type": "stream",
          "text": [
            "시험시간은 2 시간입니다. \n"
          ],
          "name": "stdout"
        }
      ]
    },
    {
      "cell_type": "markdown",
      "metadata": {
        "id": "j0aTUY0a8KYZ",
        "colab_type": "text"
      },
      "source": [
        "* weekday() 함수를 사용해서 요일을 가져올 수 있습니다. 월:0 ~일:6"
      ]
    },
    {
      "cell_type": "code",
      "metadata": {
        "id": "1vYNIsFw8KYa",
        "colab_type": "code",
        "colab": {
          "base_uri": "https://localhost:8080/",
          "height": 34
        },
        "outputId": "28f8803b-c99f-4971-fd9b-93f57197234b"
      },
      "source": [
        "퀴즈시작.weekday()"
      ],
      "execution_count": null,
      "outputs": [
        {
          "output_type": "execute_result",
          "data": {
            "text/plain": [
              "4"
            ]
          },
          "metadata": {
            "tags": []
          },
          "execution_count": 33
        }
      ]
    },
    {
      "cell_type": "markdown",
      "metadata": {
        "id": "0Ma1SBWs8KYb",
        "colab_type": "text"
      },
      "source": [
        "# 활용\n",
        "* D - day를 알려주는 코드를 만들어봅시다"
      ]
    },
    {
      "cell_type": "code",
      "metadata": {
        "id": "NTiFl9X88KYc",
        "colab_type": "code",
        "colab": {}
      },
      "source": [
        "from datetime import datetime, timedelta"
      ],
      "execution_count": null,
      "outputs": []
    },
    {
      "cell_type": "code",
      "metadata": {
        "id": "ljlk_Dni8KYe",
        "colab_type": "code",
        "colab": {
          "base_uri": "https://localhost:8080/",
          "height": 52
        },
        "outputId": "de108c2f-205d-42fa-8ce1-0517d25ac508"
      },
      "source": [
        "d_day = input('당신에게 중요한 날은? ')\n",
        "d_date = input('언제인가요? (Ex 2021-01-01) ')"
      ],
      "execution_count": null,
      "outputs": [
        {
          "output_type": "stream",
          "text": [
            "당신에게 중요한 날은? 중간고사\n",
            "언제인가요? (Ex 2021-01-01) 2020-10-01\n"
          ],
          "name": "stdout"
        }
      ]
    },
    {
      "cell_type": "code",
      "metadata": {
        "id": "gbd2GogI8KYi",
        "colab_type": "code",
        "colab": {
          "base_uri": "https://localhost:8080/",
          "height": 35
        },
        "outputId": "52a392f7-7216-4939-fdec-f30efc73c42b"
      },
      "source": [
        "d_date"
      ],
      "execution_count": null,
      "outputs": [
        {
          "output_type": "execute_result",
          "data": {
            "application/vnd.google.colaboratory.intrinsic+json": {
              "type": "string"
            },
            "text/plain": [
              "'2020-10-01'"
            ]
          },
          "metadata": {
            "tags": []
          },
          "execution_count": 36
        }
      ]
    },
    {
      "cell_type": "code",
      "metadata": {
        "id": "bYC7CSmR8KYk",
        "colab_type": "code",
        "colab": {}
      },
      "source": [
        "date = datetime.strptime(d_date, '%Y-%m-%d')"
      ],
      "execution_count": null,
      "outputs": []
    },
    {
      "cell_type": "code",
      "metadata": {
        "id": "Z44XUeIj8KYm",
        "colab_type": "code",
        "colab": {}
      },
      "source": [
        "today = datetime.now()"
      ],
      "execution_count": null,
      "outputs": []
    },
    {
      "cell_type": "code",
      "metadata": {
        "id": "IYKoBFdI8KYo",
        "colab_type": "code",
        "colab": {
          "base_uri": "https://localhost:8080/",
          "height": 34
        },
        "outputId": "2e13f5d0-4463-4c75-87dc-6a1e69125993"
      },
      "source": [
        "today"
      ],
      "execution_count": null,
      "outputs": [
        {
          "output_type": "execute_result",
          "data": {
            "text/plain": [
              "datetime.datetime(2020, 9, 5, 11, 46, 9, 2414)"
            ]
          },
          "metadata": {
            "tags": []
          },
          "execution_count": 39
        }
      ]
    },
    {
      "cell_type": "code",
      "metadata": {
        "id": "DTrhrY1e8KYq",
        "colab_type": "code",
        "colab": {}
      },
      "source": [
        "n_day = (date-today).days"
      ],
      "execution_count": null,
      "outputs": []
    },
    {
      "cell_type": "code",
      "metadata": {
        "id": "DYOjMEp98KYs",
        "colab_type": "code",
        "colab": {
          "base_uri": "https://localhost:8080/",
          "height": 34
        },
        "outputId": "ee5f7f3c-98ad-4059-e786-caae3ce7f5b5"
      },
      "source": [
        "if n_day==0:\n",
        "    print('{}: 바로 오늘입니다. '.format(d_day))\n",
        "elif n_day>0:\n",
        "    print('{}: {}일 남았습니다. '.format(d_day, n_day))\n",
        "elif n_day<0:\n",
        "    print('{}: {}일 지났습니다. '.format(d_day, -n_day))"
      ],
      "execution_count": null,
      "outputs": [
        {
          "output_type": "stream",
          "text": [
            "중간고사: 25일 남았습니다. \n"
          ],
          "name": "stdout"
        }
      ]
    },
    {
      "cell_type": "code",
      "metadata": {
        "id": "t8eNPXJS8KYu",
        "colab_type": "code",
        "colab": {}
      },
      "source": [
        ""
      ],
      "execution_count": null,
      "outputs": []
    }
  ]
}