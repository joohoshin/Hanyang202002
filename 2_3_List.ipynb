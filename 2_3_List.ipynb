{
  "nbformat": 4,
  "nbformat_minor": 0,
  "metadata": {
    "kernelspec": {
      "name": "python36",
      "display_name": "Python 3.6",
      "language": "python"
    },
    "language_info": {
      "mimetype": "text/x-python",
      "nbconvert_exporter": "python",
      "name": "python",
      "pygments_lexer": "ipython3",
      "version": "3.6.6",
      "file_extension": ".py",
      "codemirror_mode": {
        "version": 3,
        "name": "ipython"
      }
    },
    "colab": {
      "name": "2-3. List.ipynb",
      "provenance": [],
      "include_colab_link": true
    }
  },
  "cells": [
    {
      "cell_type": "markdown",
      "metadata": {
        "id": "view-in-github",
        "colab_type": "text"
      },
      "source": [
        "<a href=\"https://colab.research.google.com/github/joohoshin/MLDL_Basic/blob/master/2_3_List.ipynb\" target=\"_parent\"><img src=\"https://colab.research.google.com/assets/colab-badge.svg\" alt=\"Open In Colab\"/></a>"
      ]
    },
    {
      "cell_type": "markdown",
      "metadata": {
        "id": "RKguPBH_QPDI",
        "colab_type": "text"
      },
      "source": [
        "# List\n",
        "* 한개의 변수명에 여러개의 값을 저장할 수 있습니다. \n",
        "* [] 기호 안에 값을 넣어줍니다. ,로 값들을 구분합니다. "
      ]
    },
    {
      "cell_type": "code",
      "metadata": {
        "trusted": true,
        "id": "XrQ8rirnQPDJ",
        "colab_type": "code",
        "colab": {
          "base_uri": "https://localhost:8080/",
          "height": 36
        },
        "outputId": "24dd284b-539c-4d7a-924c-d38e12924e8b"
      },
      "source": [
        "colors = ['red', 'blue', 'black']\n",
        "colors"
      ],
      "execution_count": null,
      "outputs": [
        {
          "output_type": "execute_result",
          "data": {
            "text/plain": [
              "['red', 'blue', 'black']"
            ]
          },
          "metadata": {
            "tags": []
          },
          "execution_count": 1
        }
      ]
    },
    {
      "cell_type": "code",
      "metadata": {
        "trusted": true,
        "id": "JwHJs58zQPDS",
        "colab_type": "code",
        "colab": {
          "base_uri": "https://localhost:8080/",
          "height": 36
        },
        "outputId": "ed979aae-e008-4d8d-ecfc-37677584c680"
      },
      "source": [
        "prime_numbers = [1,3,5,7,11]\n",
        "prime_numbers"
      ],
      "execution_count": null,
      "outputs": [
        {
          "output_type": "execute_result",
          "data": {
            "text/plain": [
              "[1, 3, 5, 7, 11]"
            ]
          },
          "metadata": {
            "tags": []
          },
          "execution_count": 2
        }
      ]
    },
    {
      "cell_type": "markdown",
      "metadata": {
        "id": "Ne6PFLFhQPDW",
        "colab_type": "text"
      },
      "source": [
        "* 리스트의 특정 값을 불러올 때는 변수명[1]과 같이 불러옵니다. \n",
        "* 주의할 점은 첫번째 값이 0부터 시작한다는 것입니다"
      ]
    },
    {
      "cell_type": "code",
      "metadata": {
        "trusted": true,
        "id": "Cw19IuePQPDX",
        "colab_type": "code",
        "colab": {
          "base_uri": "https://localhost:8080/",
          "height": 36
        },
        "outputId": "21d5283a-dbaa-4ecc-da0d-361876a34f9a"
      },
      "source": [
        "prime_numbers[1]"
      ],
      "execution_count": null,
      "outputs": [
        {
          "output_type": "execute_result",
          "data": {
            "text/plain": [
              "3"
            ]
          },
          "metadata": {
            "tags": []
          },
          "execution_count": 3
        }
      ]
    },
    {
      "cell_type": "code",
      "metadata": {
        "trusted": true,
        "id": "7lWzgTxVQPDa",
        "colab_type": "code",
        "colab": {
          "base_uri": "https://localhost:8080/",
          "height": 36
        },
        "outputId": "31f6b002-f2b8-4086-9588-1cd33e3345b5"
      },
      "source": [
        "prime_numbers[0]"
      ],
      "execution_count": null,
      "outputs": [
        {
          "output_type": "execute_result",
          "data": {
            "text/plain": [
              "1"
            ]
          },
          "metadata": {
            "tags": []
          },
          "execution_count": 4
        }
      ]
    },
    {
      "cell_type": "markdown",
      "metadata": {
        "id": "qASmSP8bQPDd",
        "colab_type": "text"
      },
      "source": [
        "* 마지막 항목은 -1입니다. 뒤에서 두번째 항목은 -2입니다."
      ]
    },
    {
      "cell_type": "code",
      "metadata": {
        "trusted": true,
        "id": "mioji-M6QPDe",
        "colab_type": "code",
        "colab": {
          "base_uri": "https://localhost:8080/",
          "height": 34
        },
        "outputId": "806f9784-97ec-49a7-e646-1b16c5ae7d75"
      },
      "source": [
        "prime_numbers[-1]"
      ],
      "execution_count": null,
      "outputs": [
        {
          "output_type": "execute_result",
          "data": {
            "text/plain": [
              "11"
            ]
          },
          "metadata": {
            "tags": []
          },
          "execution_count": 5
        }
      ]
    },
    {
      "cell_type": "markdown",
      "metadata": {
        "id": "u-c4fPzDQPDh",
        "colab_type": "text"
      },
      "source": [
        "* 항목추가하기: .append()"
      ]
    },
    {
      "cell_type": "code",
      "metadata": {
        "trusted": true,
        "id": "9DfUS4rkQPDi",
        "colab_type": "code",
        "colab": {
          "base_uri": "https://localhost:8080/",
          "height": 34
        },
        "outputId": "61dadcff-a18d-4ba8-e691-c9caa6d03777"
      },
      "source": [
        "prime_numbers.append(13)\n",
        "prime_numbers"
      ],
      "execution_count": null,
      "outputs": [
        {
          "output_type": "execute_result",
          "data": {
            "text/plain": [
              "[1, 3, 5, 7, 11, 13]"
            ]
          },
          "metadata": {
            "tags": []
          },
          "execution_count": 6
        }
      ]
    },
    {
      "cell_type": "markdown",
      "metadata": {
        "id": "V1JpvIOoQPDm",
        "colab_type": "text"
      },
      "source": [
        "* 항목 삭제하기: del을 사용하여 변수를 삭제하거나, 특정 값을 삭제할 수 있습니다. "
      ]
    },
    {
      "cell_type": "code",
      "metadata": {
        "trusted": true,
        "id": "jpP4X0TCQPDm",
        "colab_type": "code",
        "colab": {
          "base_uri": "https://localhost:8080/",
          "height": 34
        },
        "outputId": "6e36a5fa-4867-4aa1-96af-cef4dabc9fce"
      },
      "source": [
        "del prime_numbers[0]\n",
        "prime_numbers"
      ],
      "execution_count": null,
      "outputs": [
        {
          "output_type": "execute_result",
          "data": {
            "text/plain": [
              "[3, 5, 7, 11, 13]"
            ]
          },
          "metadata": {
            "tags": []
          },
          "execution_count": 7
        }
      ]
    },
    {
      "cell_type": "code",
      "metadata": {
        "trusted": true,
        "id": "OIMuJ7eMQPDp",
        "colab_type": "code",
        "colab": {
          "base_uri": "https://localhost:8080/",
          "height": 222
        },
        "outputId": "cdb3a0b4-b74c-440c-e2f8-2b4ae870b574"
      },
      "source": [
        "# 변수 삭제하면 오류가 발생하는 것을 보여줍니다. \n",
        "\n",
        "del prime_numbers\n",
        "prime_numbers"
      ],
      "execution_count": null,
      "outputs": [
        {
          "output_type": "error",
          "ename": "NameError",
          "evalue": "ignored",
          "traceback": [
            "\u001b[0;31m---------------------------------------------------------------------------\u001b[0m",
            "\u001b[0;31mNameError\u001b[0m                                 Traceback (most recent call last)",
            "\u001b[0;32m<ipython-input-9-6eb33dc5e631>\u001b[0m in \u001b[0;36m<module>\u001b[0;34m()\u001b[0m\n\u001b[1;32m      1\u001b[0m \u001b[0;31m# 변수 삭제하면 오류가 발생하는 것을 보여줍니다.\u001b[0m\u001b[0;34m\u001b[0m\u001b[0;34m\u001b[0m\u001b[0;34m\u001b[0m\u001b[0m\n\u001b[1;32m      2\u001b[0m \u001b[0;34m\u001b[0m\u001b[0m\n\u001b[0;32m----> 3\u001b[0;31m \u001b[0;32mdel\u001b[0m \u001b[0mprime_numbers\u001b[0m\u001b[0;34m\u001b[0m\u001b[0;34m\u001b[0m\u001b[0m\n\u001b[0m\u001b[1;32m      4\u001b[0m \u001b[0mprime_numbers\u001b[0m\u001b[0;34m\u001b[0m\u001b[0;34m\u001b[0m\u001b[0m\n",
            "\u001b[0;31mNameError\u001b[0m: name 'prime_numbers' is not defined"
          ]
        }
      ]
    },
    {
      "cell_type": "markdown",
      "metadata": {
        "id": "tWt2-wY9QPDt",
        "colab_type": "text"
      },
      "source": [
        "* 리스트에는 여러 데이터 타입을 저장할 수 있습니다. \n",
        "* 리스트 안에 리스트 저장도 됩니다."
      ]
    },
    {
      "cell_type": "code",
      "metadata": {
        "trusted": true,
        "id": "Cponf3K8QPDt",
        "colab_type": "code",
        "colab": {}
      },
      "source": [
        "mixed_list=[1,2,'파이썬', True, [3,4,5]]"
      ],
      "execution_count": null,
      "outputs": []
    },
    {
      "cell_type": "code",
      "metadata": {
        "trusted": true,
        "id": "4ZptalemQPDw",
        "colab_type": "code",
        "colab": {
          "base_uri": "https://localhost:8080/",
          "height": 34
        },
        "outputId": "dc175e5c-bf44-4f62-ec70-c949ace77796"
      },
      "source": [
        "mixed_list"
      ],
      "execution_count": null,
      "outputs": [
        {
          "output_type": "execute_result",
          "data": {
            "text/plain": [
              "[1, 2, '파이썬', True, [3, 4, 5]]"
            ]
          },
          "metadata": {
            "tags": []
          },
          "execution_count": 11
        }
      ]
    },
    {
      "cell_type": "code",
      "metadata": {
        "trusted": true,
        "id": "IgfoAU4yQPDz",
        "colab_type": "code",
        "colab": {
          "base_uri": "https://localhost:8080/",
          "height": 34
        },
        "outputId": "5ae821f1-3d0a-4ae2-f5a8-d158a40c6d1d"
      },
      "source": [
        "mixed_list[4]"
      ],
      "execution_count": null,
      "outputs": [
        {
          "output_type": "execute_result",
          "data": {
            "text/plain": [
              "[3, 4, 5]"
            ]
          },
          "metadata": {
            "tags": []
          },
          "execution_count": 12
        }
      ]
    },
    {
      "cell_type": "code",
      "metadata": {
        "trusted": true,
        "id": "9n-QURsmQPD3",
        "colab_type": "code",
        "colab": {
          "base_uri": "https://localhost:8080/",
          "height": 34
        },
        "outputId": "3ef49467-6915-4cd3-9eae-bb8f99f3bc7f"
      },
      "source": [
        "mixed_list[4][2]"
      ],
      "execution_count": null,
      "outputs": [
        {
          "output_type": "execute_result",
          "data": {
            "text/plain": [
              "5"
            ]
          },
          "metadata": {
            "tags": []
          },
          "execution_count": 13
        }
      ]
    },
    {
      "cell_type": "markdown",
      "metadata": {
        "trusted": true,
        "id": "sTc3HcPlQPD5",
        "colab_type": "text"
      },
      "source": [
        "* 항목의 개수 확인은 len()을 사용합니다. "
      ]
    },
    {
      "cell_type": "code",
      "metadata": {
        "trusted": true,
        "id": "yXg_tVesQPD6",
        "colab_type": "code",
        "colab": {
          "base_uri": "https://localhost:8080/",
          "height": 34
        },
        "outputId": "9a1e2464-057e-46eb-9880-c336ba3f5dd5"
      },
      "source": [
        "len(mixed_list)"
      ],
      "execution_count": null,
      "outputs": [
        {
          "output_type": "execute_result",
          "data": {
            "text/plain": [
              "5"
            ]
          },
          "metadata": {
            "tags": []
          },
          "execution_count": 14
        }
      ]
    },
    {
      "cell_type": "markdown",
      "metadata": {
        "id": "OLBtnwYLQPD9",
        "colab_type": "text"
      },
      "source": [
        "* 오름차순 정렬은 sort, 내림차순은 reverse를 사용합니다"
      ]
    },
    {
      "cell_type": "code",
      "metadata": {
        "trusted": true,
        "id": "bUZ7_JKbQPD-",
        "colab_type": "code",
        "colab": {}
      },
      "source": [
        "list1 = [3,5,10,-1]"
      ],
      "execution_count": null,
      "outputs": []
    },
    {
      "cell_type": "code",
      "metadata": {
        "trusted": true,
        "id": "LnqCMjxuQPEA",
        "colab_type": "code",
        "colab": {
          "base_uri": "https://localhost:8080/",
          "height": 34
        },
        "outputId": "bc63c975-5202-4d8e-f26a-32302f7cb86c"
      },
      "source": [
        "list1.sort()\n",
        "list1"
      ],
      "execution_count": null,
      "outputs": [
        {
          "output_type": "execute_result",
          "data": {
            "text/plain": [
              "[-1, 3, 5, 10]"
            ]
          },
          "metadata": {
            "tags": []
          },
          "execution_count": 16
        }
      ]
    },
    {
      "cell_type": "code",
      "metadata": {
        "trusted": true,
        "id": "ZUN_PCtcQPED",
        "colab_type": "code",
        "colab": {
          "base_uri": "https://localhost:8080/",
          "height": 34
        },
        "outputId": "0d142a03-d6fc-48f8-98ef-6b4a6f8e9bc3"
      },
      "source": [
        "list1.reverse()\n",
        "list1"
      ],
      "execution_count": null,
      "outputs": [
        {
          "output_type": "execute_result",
          "data": {
            "text/plain": [
              "[10, 5, 3, -1]"
            ]
          },
          "metadata": {
            "tags": []
          },
          "execution_count": 17
        }
      ]
    },
    {
      "cell_type": "markdown",
      "metadata": {
        "id": "f3IMkEiJQPEG",
        "colab_type": "text"
      },
      "source": [
        "# 활용: 메모장 예제"
      ]
    },
    {
      "cell_type": "code",
      "metadata": {
        "trusted": true,
        "id": "oaNuc0TlQPEG",
        "colab_type": "code",
        "colab": {
          "base_uri": "https://localhost:8080/",
          "height": 175
        },
        "outputId": "4fac4766-5252-440b-cfa2-87b74aeb3e94"
      },
      "source": [
        "memo = [] #[] 안에 값이 없으면 빈 리스트가 생성됨\n",
        "\n",
        "while True: #무한 반복\n",
        "    menu = input('0:종료, 1: 메모추가, 2:메모보기 >> ')\n",
        "    if menu=='0': break\n",
        "    elif menu=='1': \n",
        "        new_memo = input('메모를 입력하세요 >> ')\n",
        "        memo.append(new_memo)\n",
        "    elif menu=='2':        \n",
        "        print(memo)\n",
        "    else:\n",
        "        print('메뉴 번호를 잘못입력하였습니다. ')            \n"
      ],
      "execution_count": null,
      "outputs": [
        {
          "output_type": "stream",
          "text": [
            "0:종료, 1: 메모추가, 2:메모보기 >> 1\n",
            "메모를 입력하세요 >> abc\n",
            "0:종료, 1: 메모추가, 2:메모보기 >> 2\n",
            "['abc']\n",
            "0:종료, 1: 메모추가, 2:메모보기 >> 1\n",
            "메모를 입력하세요 >> bbb\n",
            "0:종료, 1: 메모추가, 2:메모보기 >> 2\n",
            "['abc', 'bbb']\n",
            "0:종료, 1: 메모추가, 2:메모보기 >> 0\n"
          ],
          "name": "stdout"
        }
      ]
    },
    {
      "cell_type": "code",
      "metadata": {
        "trusted": true,
        "id": "V1FnXRinQPEJ",
        "colab_type": "code",
        "colab": {}
      },
      "source": [
        ""
      ],
      "execution_count": null,
      "outputs": []
    }
  ]
}