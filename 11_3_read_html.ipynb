{
  "nbformat": 4,
  "nbformat_minor": 0,
  "metadata": {
    "colab": {
      "name": "11-3 read_html.ipynb",
      "provenance": [],
      "authorship_tag": "ABX9TyOh42yZKAGkWHhbqzslIytD",
      "include_colab_link": true
    },
    "kernelspec": {
      "name": "python3",
      "display_name": "Python 3"
    }
  },
  "cells": [
    {
      "cell_type": "markdown",
      "metadata": {
        "id": "view-in-github",
        "colab_type": "text"
      },
      "source": [
        "<a href=\"https://colab.research.google.com/github/joohoshin/MLDL_Basic/blob/master/11_3_read_html.ipynb\" target=\"_parent\"><img src=\"https://colab.research.google.com/assets/colab-badge.svg\" alt=\"Open In Colab\"/></a>"
      ]
    },
    {
      "cell_type": "markdown",
      "metadata": {
        "id": "qmVshhfFPvQk"
      },
      "source": [
        "Pandas의 read_html()을 활용해서 웹의 테이블 데이터를 가져올수 있다. \n",
        "* 좀 더 세부적인 것은 Beutifulsoup 라이브러리를 활용한다. \n",
        "\n",
        "https://finance.naver.com/item/main.nhn?code=005930\n"
      ]
    },
    {
      "cell_type": "code",
      "metadata": {
        "id": "EQmArxqzOLcC"
      },
      "source": [
        "# Clustering을 통해 재무상태가 비슷한 기업을 분류하고 싶은 경우\n",
        "\n",
        "import pandas as pd\n",
        "\n",
        "raw = pd.read_html('https://finance.naver.com/item/main.nhn?code=005930',encoding='cp949')"
      ],
      "execution_count": null,
      "outputs": []
    },
    {
      "cell_type": "code",
      "metadata": {
        "id": "62wRTtxiRsmC",
        "outputId": "162a508d-d3d2-44aa-8d36-30d5e7e29473",
        "colab": {
          "base_uri": "https://localhost:8080/",
          "height": 1000
        }
      },
      "source": [
        "raw"
      ],
      "execution_count": null,
      "outputs": [
        {
          "output_type": "execute_result",
          "data": {
            "text/plain": [
              "[                    0  ...                            2\n",
              " 0  전일  59,500  59,500  ...  거래량  12,064,411  12,064,411\n",
              " 1    시가  59,60059,600  ...   거래대금  722,892  722,892  백만\n",
              " \n",
              " [2 rows x 3 columns],      매도상위        거래량    매수상위        거개량\n",
              " 0     NaN        NaN     NaN        NaN\n",
              " 1      삼성  1629863.0      삼성  2194389.0\n",
              " 2      한화  1186039.0    이베스트  1291397.0\n",
              " 3    이베스트  1178846.0      한화   925853.0\n",
              " 4  NH투자증권   660549.0    한국증권   667283.0\n",
              " 5  미래에셋대우   333182.0    메릴린치   245194.0\n",
              " 6  외국계추정합   379060.0  +1,209   380269.0,       날짜       종가      전일비         외국인        기관\n",
              " 0    NaN      NaN      NaN         NaN       NaN\n",
              " 1  10/16  59500.0  하향  500     -566793  +122,602\n",
              " 2  10/15  60000.0  하향  900     -815079   -238001\n",
              " 3  10/14  60900.0       보합  +1,897,862   -202689\n",
              " 4  10/13  60900.0  상향  500  +2,150,744  +621,683\n",
              " 5  10/12  60400.0  상향  700  +3,203,192  +758,916\n",
              " 6  10/08  59700.0  하향  200  +4,681,427  -3336344\n",
              " 7    NaN      NaN      NaN         NaN       NaN,        주요재무정보    최근 연간 실적              ...   최근 분기 실적                      \n",
              "        주요재무정보     2017.12     2018.12  ...    2020.03    2020.06 2020.09(E)\n",
              "        주요재무정보      IFRS연결      IFRS연결  ...     IFRS연결     IFRS연결     IFRS연결\n",
              " 0         매출액  2395754.00  2437714.00  ...  553252.00  529661.00  639082.00\n",
              " 1        영업이익   536450.00   588867.00  ...   64473.00   81463.00  102603.00\n",
              " 2       당기순이익   421867.00   443449.00  ...   48849.00   55551.00   77786.00\n",
              " 3       영업이익률       22.39       24.16  ...      11.65      15.38      16.05\n",
              " 4        순이익률       17.61       18.19  ...       8.83      10.49      12.17\n",
              " 5   ROE(지배주주)       21.01       19.63  ...       8.45       8.49        NaN\n",
              " 6        부채비율       40.68       36.97  ...      34.19      32.67        NaN\n",
              " 7        당좌비율      181.61      204.12  ...     237.80     250.04        NaN\n",
              " 8         유보율    24536.12    27531.92  ...   29134.12   29477.97        NaN\n",
              " 9      EPS(원)     5421.00     6024.00  ...     720.00     808.00    1224.00\n",
              " 10     PER(배)        9.40        6.42  ...      15.24      16.52      47.56\n",
              " 11     BPS(원)    30427.00    35342.00  ...   38053.00   38534.00        NaN\n",
              " 12     PBR(배)        1.67        1.09  ...       1.25       1.37        NaN\n",
              " 13   주당배당금(원)      850.00     1416.00  ...        NaN        NaN        NaN\n",
              " 14   시가배당률(%)        1.67        3.66  ...        NaN        NaN        NaN\n",
              " 15    배당성향(%)       14.09       21.92  ...        NaN        NaN        NaN\n",
              " \n",
              " [16 rows x 11 columns],            종목명 삼성전자*005930 SK하이닉스*000660  솔브레인357780  리노공업058470 DB하이텍*000990\n",
              " 0          현재가       59800         86600      226000      112700        35350\n",
              " 1         전일대비     상향  300     상향  1,300   하향  5,200   하향  2,200      하향  750\n",
              " 2          등락률  상향  +0.50%    상향  +1.52%  하향  -2.25%  하향  -1.91%   하향  -2.08%\n",
              " 3      시가총액(억)     3569929        630450       17579       17178        15694\n",
              " 4     외국인비율(%)       56.09         49.14       22.43       42.49        29.64\n",
              " 5       매출액(억)      529661         86065         NaN         548         2417\n",
              " 6      영업이익(억)       81463         19467         NaN         209          771\n",
              " 7    조정영업이익(억)       81463         19467         NaN         209          771\n",
              " 8   영업이익증가율(%)       26.35        143.25         NaN        4.92        19.03\n",
              " 9     당기순이익(억)       55551         12643         NaN         160          504\n",
              " 10    주당순이익(원)      808.07       1734.73         NaN     1047.76      1131.24\n",
              " 11      ROE(%)        8.49          4.71         NaN       20.85        24.51\n",
              " 12      PER(%)       18.71         27.58         NaN       28.08         9.68\n",
              " 13      PBR(배)        1.55          1.20         NaN        5.42         2.09,           0                1\n",
              " 0      시가총액  356조  9,930  억원\n",
              " 1    시가총액순위           코스피 1위\n",
              " 2     상장주식수       5969782550\n",
              " 3  액면가l매매단위      100원  l  1주,              0           1\n",
              " 0  외국인한도주식수(A)  5969782550\n",
              " 1  외국인보유주식수(B)  3348684518\n",
              " 2  외국인소진율(B/A)      56.09%,            0                  1\n",
              " 0  투자의견l목표주가  4.00매수  l  76,008\n",
              " 1   52주최고l최저  62,800  l  42,300,                    0                  1\n",
              " 0   PERlEPS(2020.06)  18.71배  l  3,196원\n",
              " 1          추정PERlEPS  15.00배  l  4,085원\n",
              " 2  PBRlBPS (2020.06)  1.55배  l  38,534원\n",
              " 3      배당수익률l2019.12              2.37%,           0       1\n",
              " 0  동일업종 PER  17.90배\n",
              " 1  동일업종 등락률  +0.62%,          매도잔량 호가(20분지연)       매수잔량\n",
              " 0         NaN       NaN        NaN\n",
              " 1    147743.0     60700        NaN\n",
              " 2    166323.0     60600        NaN\n",
              " 3    422395.0     60500        NaN\n",
              " 4    480947.0     60400        NaN\n",
              " 5    366298.0     60300        NaN\n",
              " 6    384721.0     60200        NaN\n",
              " 7    501991.0     60100        NaN\n",
              " 8    348642.0     60000        NaN\n",
              " 9    215274.0     59900        NaN\n",
              " 10   187750.0     59800        NaN\n",
              " 11        NaN       NaN        NaN\n",
              " 12        NaN     59700   161803.0\n",
              " 13        NaN     59600   132439.0\n",
              " 14        NaN     59500   293119.0\n",
              " 15        NaN     59400   244378.0\n",
              " 16        NaN     59300   185352.0\n",
              " 17        NaN     59200   195865.0\n",
              " 18        NaN     59100   241364.0\n",
              " 19        NaN     59000   301488.0\n",
              " 20        NaN     58900   241890.0\n",
              " 21        NaN     58800   156594.0\n",
              " 22        NaN       NaN        NaN\n",
              " 23  3222084.0      잔량합계  2154292.0,       업체명       거래량         전일비\n",
              " 0     빅히트  189000.0  하향  11,500\n",
              " 1     KEC    2740.0    상한가  630\n",
              " 2    삼성전자   59900.0     상향  400\n",
              " 3   두산중공업   13350.0   상향  1,300\n",
              " 4    제일약품   49550.0  상향  11,000\n",
              " 5     NaN       NaN         NaN\n",
              " 6     현대차  168000.0   하향  4,000\n",
              " 7    LG화학  615000.0  하향  25,000\n",
              " 8    신풍제약  127500.0   상향  8,500\n",
              " 9    셀트리온  255500.0   하향  1,000\n",
              " 10    카카오  352500.0   하향  5,000,          업체명       거래량         전일비\n",
              " 0      헬릭스미스   21550.0  하한가  9,200\n",
              " 1         씨젠  276800.0   하향  7,100\n",
              " 2      이오플로우   40950.0   하향  6,050\n",
              " 3     엑세스바이오   27500.0   하향  2,400\n",
              " 4     우리기술투자    2910.0     상향  650\n",
              " 5        NaN       NaN         NaN\n",
              " 6      일신바이오    7280.0     상향  500\n",
              " 7        유니슨    5190.0     하향  700\n",
              " 8     케이피엠테크    4055.0     하향  210\n",
              " 9   필로시스헬스..    5540.0     하향  760\n",
              " 10    카카오게임즈   45050.0     하향  800]"
            ]
          },
          "metadata": {
            "tags": []
          },
          "execution_count": 2
        }
      ]
    },
    {
      "cell_type": "code",
      "metadata": {
        "id": "aJiHBLpxRxm4",
        "outputId": "1aacdb30-488d-4196-9035-c953b4307f90",
        "colab": {
          "base_uri": "https://localhost:8080/",
          "height": 36
        }
      },
      "source": [
        "type(raw)"
      ],
      "execution_count": null,
      "outputs": [
        {
          "output_type": "execute_result",
          "data": {
            "text/plain": [
              "list"
            ]
          },
          "metadata": {
            "tags": []
          },
          "execution_count": 3
        }
      ]
    },
    {
      "cell_type": "code",
      "metadata": {
        "id": "Gmgo4bZ1R7gO",
        "outputId": "a2072e97-efd8-4ae2-af7b-62b581ff355e",
        "colab": {
          "base_uri": "https://localhost:8080/",
          "height": 110
        }
      },
      "source": [
        "raw[0]"
      ],
      "execution_count": null,
      "outputs": [
        {
          "output_type": "execute_result",
          "data": {
            "text/html": [
              "<div>\n",
              "<style scoped>\n",
              "    .dataframe tbody tr th:only-of-type {\n",
              "        vertical-align: middle;\n",
              "    }\n",
              "\n",
              "    .dataframe tbody tr th {\n",
              "        vertical-align: top;\n",
              "    }\n",
              "\n",
              "    .dataframe thead th {\n",
              "        text-align: right;\n",
              "    }\n",
              "</style>\n",
              "<table border=\"1\" class=\"dataframe\">\n",
              "  <thead>\n",
              "    <tr style=\"text-align: right;\">\n",
              "      <th></th>\n",
              "      <th>0</th>\n",
              "      <th>1</th>\n",
              "      <th>2</th>\n",
              "    </tr>\n",
              "  </thead>\n",
              "  <tbody>\n",
              "    <tr>\n",
              "      <th>0</th>\n",
              "      <td>전일  59,500  59,500</td>\n",
              "      <td>고가  60,20060,200  (상한가  77,30077,300  )</td>\n",
              "      <td>거래량  12,064,411  12,064,411</td>\n",
              "    </tr>\n",
              "    <tr>\n",
              "      <th>1</th>\n",
              "      <td>시가  59,60059,600</td>\n",
              "      <td>저가  59,50059,500  (하한가  41,700  )</td>\n",
              "      <td>거래대금  722,892  722,892  백만</td>\n",
              "    </tr>\n",
              "  </tbody>\n",
              "</table>\n",
              "</div>"
            ],
            "text/plain": [
              "                    0  ...                            2\n",
              "0  전일  59,500  59,500  ...  거래량  12,064,411  12,064,411\n",
              "1    시가  59,60059,600  ...   거래대금  722,892  722,892  백만\n",
              "\n",
              "[2 rows x 3 columns]"
            ]
          },
          "metadata": {
            "tags": []
          },
          "execution_count": 4
        }
      ]
    },
    {
      "cell_type": "code",
      "metadata": {
        "id": "htKeoA1thXT3",
        "outputId": "75d62e6c-e8ec-44d8-be69-8ef6cf260beb",
        "colab": {
          "base_uri": "https://localhost:8080/",
          "height": 36
        }
      },
      "source": [
        "type(raw[0])"
      ],
      "execution_count": null,
      "outputs": [
        {
          "output_type": "execute_result",
          "data": {
            "text/plain": [
              "pandas.core.frame.DataFrame"
            ]
          },
          "metadata": {
            "tags": []
          },
          "execution_count": 5
        }
      ]
    },
    {
      "cell_type": "code",
      "metadata": {
        "id": "aUyVGD1hR80A",
        "outputId": "62d84ffe-a938-4ad3-c5eb-a448017b5f67",
        "colab": {
          "base_uri": "https://localhost:8080/",
          "height": 263
        }
      },
      "source": [
        "raw[1]"
      ],
      "execution_count": null,
      "outputs": [
        {
          "output_type": "execute_result",
          "data": {
            "text/html": [
              "<div>\n",
              "<style scoped>\n",
              "    .dataframe tbody tr th:only-of-type {\n",
              "        vertical-align: middle;\n",
              "    }\n",
              "\n",
              "    .dataframe tbody tr th {\n",
              "        vertical-align: top;\n",
              "    }\n",
              "\n",
              "    .dataframe thead th {\n",
              "        text-align: right;\n",
              "    }\n",
              "</style>\n",
              "<table border=\"1\" class=\"dataframe\">\n",
              "  <thead>\n",
              "    <tr style=\"text-align: right;\">\n",
              "      <th></th>\n",
              "      <th>매도상위</th>\n",
              "      <th>거래량</th>\n",
              "      <th>매수상위</th>\n",
              "      <th>거개량</th>\n",
              "    </tr>\n",
              "  </thead>\n",
              "  <tbody>\n",
              "    <tr>\n",
              "      <th>0</th>\n",
              "      <td>NaN</td>\n",
              "      <td>NaN</td>\n",
              "      <td>NaN</td>\n",
              "      <td>NaN</td>\n",
              "    </tr>\n",
              "    <tr>\n",
              "      <th>1</th>\n",
              "      <td>삼성</td>\n",
              "      <td>1629863.0</td>\n",
              "      <td>삼성</td>\n",
              "      <td>2194389.0</td>\n",
              "    </tr>\n",
              "    <tr>\n",
              "      <th>2</th>\n",
              "      <td>한화</td>\n",
              "      <td>1186039.0</td>\n",
              "      <td>이베스트</td>\n",
              "      <td>1291397.0</td>\n",
              "    </tr>\n",
              "    <tr>\n",
              "      <th>3</th>\n",
              "      <td>이베스트</td>\n",
              "      <td>1178846.0</td>\n",
              "      <td>한화</td>\n",
              "      <td>925853.0</td>\n",
              "    </tr>\n",
              "    <tr>\n",
              "      <th>4</th>\n",
              "      <td>NH투자증권</td>\n",
              "      <td>660549.0</td>\n",
              "      <td>한국증권</td>\n",
              "      <td>667283.0</td>\n",
              "    </tr>\n",
              "    <tr>\n",
              "      <th>5</th>\n",
              "      <td>미래에셋대우</td>\n",
              "      <td>333182.0</td>\n",
              "      <td>메릴린치</td>\n",
              "      <td>245194.0</td>\n",
              "    </tr>\n",
              "    <tr>\n",
              "      <th>6</th>\n",
              "      <td>외국계추정합</td>\n",
              "      <td>379060.0</td>\n",
              "      <td>+1,209</td>\n",
              "      <td>380269.0</td>\n",
              "    </tr>\n",
              "  </tbody>\n",
              "</table>\n",
              "</div>"
            ],
            "text/plain": [
              "     매도상위        거래량    매수상위        거개량\n",
              "0     NaN        NaN     NaN        NaN\n",
              "1      삼성  1629863.0      삼성  2194389.0\n",
              "2      한화  1186039.0    이베스트  1291397.0\n",
              "3    이베스트  1178846.0      한화   925853.0\n",
              "4  NH투자증권   660549.0    한국증권   667283.0\n",
              "5  미래에셋대우   333182.0    메릴린치   245194.0\n",
              "6  외국계추정합   379060.0  +1,209   380269.0"
            ]
          },
          "metadata": {
            "tags": []
          },
          "execution_count": 6
        }
      ]
    },
    {
      "cell_type": "code",
      "metadata": {
        "id": "NdKMOYMwgqYv",
        "outputId": "d1a4845e-cb32-420f-fec5-d8f9b15e483e",
        "colab": {
          "base_uri": "https://localhost:8080/",
          "height": 36
        }
      },
      "source": [
        "len(raw)"
      ],
      "execution_count": null,
      "outputs": [
        {
          "output_type": "execute_result",
          "data": {
            "text/plain": [
              "13"
            ]
          },
          "metadata": {
            "tags": []
          },
          "execution_count": 7
        }
      ]
    },
    {
      "cell_type": "code",
      "metadata": {
        "id": "GAMjrEirSAJV"
      },
      "source": [
        "raw = pd.read_html('https://finance.naver.com/item/main.nhn?code=005930',attrs={'class':'tb_type1 tb_num tb_type1_ifrs'},encoding='cp949')"
      ],
      "execution_count": null,
      "outputs": []
    },
    {
      "cell_type": "code",
      "metadata": {
        "id": "ilZqjHA1Srto",
        "outputId": "a08710d5-7448-4713-857a-7ad1d5790a2f",
        "colab": {
          "base_uri": "https://localhost:8080/",
          "height": 409
        }
      },
      "source": [
        "raw"
      ],
      "execution_count": null,
      "outputs": [
        {
          "output_type": "execute_result",
          "data": {
            "text/plain": [
              "[       주요재무정보    최근 연간 실적              ...   최근 분기 실적                      \n",
              "        주요재무정보     2017.12     2018.12  ...    2020.03    2020.06 2020.09(E)\n",
              "        주요재무정보      IFRS연결      IFRS연결  ...     IFRS연결     IFRS연결     IFRS연결\n",
              " 0         매출액  2395754.00  2437714.00  ...  553252.00  529661.00  639082.00\n",
              " 1        영업이익   536450.00   588867.00  ...   64473.00   81463.00  102603.00\n",
              " 2       당기순이익   421867.00   443449.00  ...   48849.00   55551.00   77786.00\n",
              " 3       영업이익률       22.39       24.16  ...      11.65      15.38      16.05\n",
              " 4        순이익률       17.61       18.19  ...       8.83      10.49      12.17\n",
              " 5   ROE(지배주주)       21.01       19.63  ...       8.45       8.49        NaN\n",
              " 6        부채비율       40.68       36.97  ...      34.19      32.67        NaN\n",
              " 7        당좌비율      181.61      204.12  ...     237.80     250.04        NaN\n",
              " 8         유보율    24536.12    27531.92  ...   29134.12   29477.97        NaN\n",
              " 9      EPS(원)     5421.00     6024.00  ...     720.00     808.00    1224.00\n",
              " 10     PER(배)        9.40        6.42  ...      15.24      16.52      47.56\n",
              " 11     BPS(원)    30427.00    35342.00  ...   38053.00   38534.00        NaN\n",
              " 12     PBR(배)        1.67        1.09  ...       1.25       1.37        NaN\n",
              " 13   주당배당금(원)      850.00     1416.00  ...        NaN        NaN        NaN\n",
              " 14   시가배당률(%)        1.67        3.66  ...        NaN        NaN        NaN\n",
              " 15    배당성향(%)       14.09       21.92  ...        NaN        NaN        NaN\n",
              " \n",
              " [16 rows x 11 columns]]"
            ]
          },
          "metadata": {
            "tags": []
          },
          "execution_count": 9
        }
      ]
    },
    {
      "cell_type": "code",
      "metadata": {
        "id": "z93oFOjUTIR1",
        "outputId": "22afe157-7713-4be4-b4e1-1709e384b75d",
        "colab": {
          "base_uri": "https://localhost:8080/",
          "height": 36
        }
      },
      "source": [
        "type(raw)"
      ],
      "execution_count": null,
      "outputs": [
        {
          "output_type": "execute_result",
          "data": {
            "text/plain": [
              "list"
            ]
          },
          "metadata": {
            "tags": []
          },
          "execution_count": 9
        }
      ]
    },
    {
      "cell_type": "code",
      "metadata": {
        "id": "QYVe02diiH0V",
        "outputId": "dd3cc11b-83e9-4e5c-8c88-2046bedf1404",
        "colab": {
          "base_uri": "https://localhost:8080/",
          "height": 36
        }
      },
      "source": [
        "len(raw)"
      ],
      "execution_count": null,
      "outputs": [
        {
          "output_type": "execute_result",
          "data": {
            "text/plain": [
              "1"
            ]
          },
          "metadata": {
            "tags": []
          },
          "execution_count": 10
        }
      ]
    },
    {
      "cell_type": "code",
      "metadata": {
        "id": "KQ6czPAETKT0",
        "outputId": "73e72bae-9a91-4bb0-e7ac-c607238eb9f9",
        "colab": {
          "base_uri": "https://localhost:8080/",
          "height": 601
        }
      },
      "source": [
        "raw[0]"
      ],
      "execution_count": null,
      "outputs": [
        {
          "output_type": "execute_result",
          "data": {
            "text/html": [
              "<div>\n",
              "<style scoped>\n",
              "    .dataframe tbody tr th:only-of-type {\n",
              "        vertical-align: middle;\n",
              "    }\n",
              "\n",
              "    .dataframe tbody tr th {\n",
              "        vertical-align: top;\n",
              "    }\n",
              "\n",
              "    .dataframe thead tr th {\n",
              "        text-align: left;\n",
              "    }\n",
              "</style>\n",
              "<table border=\"1\" class=\"dataframe\">\n",
              "  <thead>\n",
              "    <tr>\n",
              "      <th></th>\n",
              "      <th>주요재무정보</th>\n",
              "      <th colspan=\"4\" halign=\"left\">최근 연간 실적</th>\n",
              "      <th colspan=\"6\" halign=\"left\">최근 분기 실적</th>\n",
              "    </tr>\n",
              "    <tr>\n",
              "      <th></th>\n",
              "      <th>주요재무정보</th>\n",
              "      <th>2017.12</th>\n",
              "      <th>2018.12</th>\n",
              "      <th>2019.12</th>\n",
              "      <th>2020.12(E)</th>\n",
              "      <th>2019.06</th>\n",
              "      <th>2019.09</th>\n",
              "      <th>2019.12</th>\n",
              "      <th>2020.03</th>\n",
              "      <th>2020.06</th>\n",
              "      <th>2020.09(E)</th>\n",
              "    </tr>\n",
              "    <tr>\n",
              "      <th></th>\n",
              "      <th>주요재무정보</th>\n",
              "      <th>IFRS연결</th>\n",
              "      <th>IFRS연결</th>\n",
              "      <th>IFRS연결</th>\n",
              "      <th>IFRS연결</th>\n",
              "      <th>IFRS연결</th>\n",
              "      <th>IFRS연결</th>\n",
              "      <th>IFRS연결</th>\n",
              "      <th>IFRS연결</th>\n",
              "      <th>IFRS연결</th>\n",
              "      <th>IFRS연결</th>\n",
              "    </tr>\n",
              "  </thead>\n",
              "  <tbody>\n",
              "    <tr>\n",
              "      <th>0</th>\n",
              "      <td>매출액</td>\n",
              "      <td>2395754.00</td>\n",
              "      <td>2437714.00</td>\n",
              "      <td>2304009.00</td>\n",
              "      <td>2381124.00</td>\n",
              "      <td>561271.00</td>\n",
              "      <td>620035.00</td>\n",
              "      <td>598848.00</td>\n",
              "      <td>553252.00</td>\n",
              "      <td>529661.00</td>\n",
              "      <td>639082.00</td>\n",
              "    </tr>\n",
              "    <tr>\n",
              "      <th>1</th>\n",
              "      <td>영업이익</td>\n",
              "      <td>536450.00</td>\n",
              "      <td>588867.00</td>\n",
              "      <td>277685.00</td>\n",
              "      <td>370283.00</td>\n",
              "      <td>65971.00</td>\n",
              "      <td>77779.00</td>\n",
              "      <td>71603.00</td>\n",
              "      <td>64473.00</td>\n",
              "      <td>81463.00</td>\n",
              "      <td>102603.00</td>\n",
              "    </tr>\n",
              "    <tr>\n",
              "      <th>2</th>\n",
              "      <td>당기순이익</td>\n",
              "      <td>421867.00</td>\n",
              "      <td>443449.00</td>\n",
              "      <td>217389.00</td>\n",
              "      <td>278643.00</td>\n",
              "      <td>51806.00</td>\n",
              "      <td>62877.00</td>\n",
              "      <td>52270.00</td>\n",
              "      <td>48849.00</td>\n",
              "      <td>55551.00</td>\n",
              "      <td>77786.00</td>\n",
              "    </tr>\n",
              "    <tr>\n",
              "      <th>3</th>\n",
              "      <td>영업이익률</td>\n",
              "      <td>22.39</td>\n",
              "      <td>24.16</td>\n",
              "      <td>12.05</td>\n",
              "      <td>15.55</td>\n",
              "      <td>11.75</td>\n",
              "      <td>12.54</td>\n",
              "      <td>11.96</td>\n",
              "      <td>11.65</td>\n",
              "      <td>15.38</td>\n",
              "      <td>16.05</td>\n",
              "    </tr>\n",
              "    <tr>\n",
              "      <th>4</th>\n",
              "      <td>순이익률</td>\n",
              "      <td>17.61</td>\n",
              "      <td>18.19</td>\n",
              "      <td>9.44</td>\n",
              "      <td>11.70</td>\n",
              "      <td>9.23</td>\n",
              "      <td>10.14</td>\n",
              "      <td>8.73</td>\n",
              "      <td>8.83</td>\n",
              "      <td>10.49</td>\n",
              "      <td>12.17</td>\n",
              "    </tr>\n",
              "    <tr>\n",
              "      <th>5</th>\n",
              "      <td>ROE(지배주주)</td>\n",
              "      <td>21.01</td>\n",
              "      <td>19.63</td>\n",
              "      <td>8.69</td>\n",
              "      <td>10.48</td>\n",
              "      <td>13.23</td>\n",
              "      <td>10.05</td>\n",
              "      <td>8.69</td>\n",
              "      <td>8.45</td>\n",
              "      <td>8.49</td>\n",
              "      <td>NaN</td>\n",
              "    </tr>\n",
              "    <tr>\n",
              "      <th>6</th>\n",
              "      <td>부채비율</td>\n",
              "      <td>40.68</td>\n",
              "      <td>36.97</td>\n",
              "      <td>34.12</td>\n",
              "      <td>NaN</td>\n",
              "      <td>33.05</td>\n",
              "      <td>34.14</td>\n",
              "      <td>34.12</td>\n",
              "      <td>34.19</td>\n",
              "      <td>32.67</td>\n",
              "      <td>NaN</td>\n",
              "    </tr>\n",
              "    <tr>\n",
              "      <th>7</th>\n",
              "      <td>당좌비율</td>\n",
              "      <td>181.61</td>\n",
              "      <td>204.12</td>\n",
              "      <td>233.57</td>\n",
              "      <td>NaN</td>\n",
              "      <td>230.74</td>\n",
              "      <td>235.80</td>\n",
              "      <td>233.57</td>\n",
              "      <td>237.80</td>\n",
              "      <td>250.04</td>\n",
              "      <td>NaN</td>\n",
              "    </tr>\n",
              "    <tr>\n",
              "      <th>8</th>\n",
              "      <td>유보율</td>\n",
              "      <td>24536.12</td>\n",
              "      <td>27531.92</td>\n",
              "      <td>28856.02</td>\n",
              "      <td>NaN</td>\n",
              "      <td>28129.35</td>\n",
              "      <td>28541.64</td>\n",
              "      <td>28856.02</td>\n",
              "      <td>29134.12</td>\n",
              "      <td>29477.97</td>\n",
              "      <td>NaN</td>\n",
              "    </tr>\n",
              "    <tr>\n",
              "      <th>9</th>\n",
              "      <td>EPS(원)</td>\n",
              "      <td>5421.00</td>\n",
              "      <td>6024.00</td>\n",
              "      <td>3166.00</td>\n",
              "      <td>4085.00</td>\n",
              "      <td>746.00</td>\n",
              "      <td>899.00</td>\n",
              "      <td>770.00</td>\n",
              "      <td>720.00</td>\n",
              "      <td>808.00</td>\n",
              "      <td>1224.00</td>\n",
              "    </tr>\n",
              "    <tr>\n",
              "      <th>10</th>\n",
              "      <td>PER(배)</td>\n",
              "      <td>9.40</td>\n",
              "      <td>6.42</td>\n",
              "      <td>17.63</td>\n",
              "      <td>14.57</td>\n",
              "      <td>10.48</td>\n",
              "      <td>13.73</td>\n",
              "      <td>17.63</td>\n",
              "      <td>15.24</td>\n",
              "      <td>16.52</td>\n",
              "      <td>47.56</td>\n",
              "    </tr>\n",
              "    <tr>\n",
              "      <th>11</th>\n",
              "      <td>BPS(원)</td>\n",
              "      <td>30427.00</td>\n",
              "      <td>35342.00</td>\n",
              "      <td>37528.00</td>\n",
              "      <td>40438.00</td>\n",
              "      <td>36789.00</td>\n",
              "      <td>37600.00</td>\n",
              "      <td>37528.00</td>\n",
              "      <td>38053.00</td>\n",
              "      <td>38534.00</td>\n",
              "      <td>NaN</td>\n",
              "    </tr>\n",
              "    <tr>\n",
              "      <th>12</th>\n",
              "      <td>PBR(배)</td>\n",
              "      <td>1.67</td>\n",
              "      <td>1.09</td>\n",
              "      <td>1.49</td>\n",
              "      <td>1.47</td>\n",
              "      <td>1.28</td>\n",
              "      <td>1.30</td>\n",
              "      <td>1.49</td>\n",
              "      <td>1.25</td>\n",
              "      <td>1.37</td>\n",
              "      <td>NaN</td>\n",
              "    </tr>\n",
              "    <tr>\n",
              "      <th>13</th>\n",
              "      <td>주당배당금(원)</td>\n",
              "      <td>850.00</td>\n",
              "      <td>1416.00</td>\n",
              "      <td>1416.00</td>\n",
              "      <td>1475.00</td>\n",
              "      <td>NaN</td>\n",
              "      <td>NaN</td>\n",
              "      <td>NaN</td>\n",
              "      <td>NaN</td>\n",
              "      <td>NaN</td>\n",
              "      <td>NaN</td>\n",
              "    </tr>\n",
              "    <tr>\n",
              "      <th>14</th>\n",
              "      <td>시가배당률(%)</td>\n",
              "      <td>1.67</td>\n",
              "      <td>3.66</td>\n",
              "      <td>2.54</td>\n",
              "      <td>NaN</td>\n",
              "      <td>NaN</td>\n",
              "      <td>NaN</td>\n",
              "      <td>NaN</td>\n",
              "      <td>NaN</td>\n",
              "      <td>NaN</td>\n",
              "      <td>NaN</td>\n",
              "    </tr>\n",
              "    <tr>\n",
              "      <th>15</th>\n",
              "      <td>배당성향(%)</td>\n",
              "      <td>14.09</td>\n",
              "      <td>21.92</td>\n",
              "      <td>44.73</td>\n",
              "      <td>NaN</td>\n",
              "      <td>NaN</td>\n",
              "      <td>NaN</td>\n",
              "      <td>NaN</td>\n",
              "      <td>NaN</td>\n",
              "      <td>NaN</td>\n",
              "      <td>NaN</td>\n",
              "    </tr>\n",
              "  </tbody>\n",
              "</table>\n",
              "</div>"
            ],
            "text/plain": [
              "       주요재무정보    최근 연간 실적              ...   최근 분기 실적                      \n",
              "       주요재무정보     2017.12     2018.12  ...    2020.03    2020.06 2020.09(E)\n",
              "       주요재무정보      IFRS연결      IFRS연결  ...     IFRS연결     IFRS연결     IFRS연결\n",
              "0         매출액  2395754.00  2437714.00  ...  553252.00  529661.00  639082.00\n",
              "1        영업이익   536450.00   588867.00  ...   64473.00   81463.00  102603.00\n",
              "2       당기순이익   421867.00   443449.00  ...   48849.00   55551.00   77786.00\n",
              "3       영업이익률       22.39       24.16  ...      11.65      15.38      16.05\n",
              "4        순이익률       17.61       18.19  ...       8.83      10.49      12.17\n",
              "5   ROE(지배주주)       21.01       19.63  ...       8.45       8.49        NaN\n",
              "6        부채비율       40.68       36.97  ...      34.19      32.67        NaN\n",
              "7        당좌비율      181.61      204.12  ...     237.80     250.04        NaN\n",
              "8         유보율    24536.12    27531.92  ...   29134.12   29477.97        NaN\n",
              "9      EPS(원)     5421.00     6024.00  ...     720.00     808.00    1224.00\n",
              "10     PER(배)        9.40        6.42  ...      15.24      16.52      47.56\n",
              "11     BPS(원)    30427.00    35342.00  ...   38053.00   38534.00        NaN\n",
              "12     PBR(배)        1.67        1.09  ...       1.25       1.37        NaN\n",
              "13   주당배당금(원)      850.00     1416.00  ...        NaN        NaN        NaN\n",
              "14   시가배당률(%)        1.67        3.66  ...        NaN        NaN        NaN\n",
              "15    배당성향(%)       14.09       21.92  ...        NaN        NaN        NaN\n",
              "\n",
              "[16 rows x 11 columns]"
            ]
          },
          "metadata": {
            "tags": []
          },
          "execution_count": 10
        }
      ]
    },
    {
      "cell_type": "code",
      "metadata": {
        "id": "9L5lkvTwTMQK"
      },
      "source": [
        "fin_df = raw[0]"
      ],
      "execution_count": null,
      "outputs": []
    },
    {
      "cell_type": "code",
      "metadata": {
        "id": "rr1Ux8wGTShk",
        "outputId": "7a4fdfd7-de43-4c1a-9403-6eed711817c0",
        "colab": {
          "base_uri": "https://localhost:8080/",
          "height": 36
        }
      },
      "source": [
        "type(fin_df)"
      ],
      "execution_count": null,
      "outputs": [
        {
          "output_type": "execute_result",
          "data": {
            "text/plain": [
              "pandas.core.frame.DataFrame"
            ]
          },
          "metadata": {
            "tags": []
          },
          "execution_count": 12
        }
      ]
    },
    {
      "cell_type": "code",
      "metadata": {
        "id": "cViSwPpITaIU",
        "outputId": "a51036be-798e-48da-bc6f-5f8108d726d0",
        "colab": {
          "base_uri": "https://localhost:8080/",
          "height": 241
        }
      },
      "source": [
        "fin_df.columns"
      ],
      "execution_count": null,
      "outputs": [
        {
          "output_type": "execute_result",
          "data": {
            "text/plain": [
              "MultiIndex([(  '주요재무정보',     '주요재무정보', '주요재무정보'),\n",
              "            ('최근 연간 실적',    '2017.12', 'IFRS연결'),\n",
              "            ('최근 연간 실적',    '2018.12', 'IFRS연결'),\n",
              "            ('최근 연간 실적',    '2019.12', 'IFRS연결'),\n",
              "            ('최근 연간 실적', '2020.12(E)', 'IFRS연결'),\n",
              "            ('최근 분기 실적',    '2019.06', 'IFRS연결'),\n",
              "            ('최근 분기 실적',    '2019.09', 'IFRS연결'),\n",
              "            ('최근 분기 실적',    '2019.12', 'IFRS연결'),\n",
              "            ('최근 분기 실적',    '2020.03', 'IFRS연결'),\n",
              "            ('최근 분기 실적',    '2020.06', 'IFRS연결'),\n",
              "            ('최근 분기 실적', '2020.09(E)', 'IFRS연결')],\n",
              "           )"
            ]
          },
          "metadata": {
            "tags": []
          },
          "execution_count": 13
        }
      ]
    },
    {
      "cell_type": "code",
      "metadata": {
        "id": "1z6pXwwtTfGj",
        "outputId": "03f5c3fb-2a36-44d4-fd50-782d28eb8d63",
        "colab": {
          "base_uri": "https://localhost:8080/",
          "height": 73
        }
      },
      "source": [
        "fin_df.columns.get_level_values(2)"
      ],
      "execution_count": null,
      "outputs": [
        {
          "output_type": "execute_result",
          "data": {
            "text/plain": [
              "Index(['주요재무정보', 'IFRS연결', 'IFRS연결', 'IFRS연결', 'IFRS연결', 'IFRS연결', 'IFRS연결',\n",
              "       'IFRS연결', 'IFRS연결', 'IFRS연결', 'IFRS연결'],\n",
              "      dtype='object')"
            ]
          },
          "metadata": {
            "tags": []
          },
          "execution_count": 16
        }
      ]
    },
    {
      "cell_type": "code",
      "metadata": {
        "id": "NQxTuac7Tx6p"
      },
      "source": [
        "fin_df.columns= fin_df.columns.get_level_values(1)"
      ],
      "execution_count": null,
      "outputs": []
    },
    {
      "cell_type": "code",
      "metadata": {
        "id": "3zxXeTPCUGkX",
        "outputId": "3f4f1dc8-b4e3-4519-df46-740b1474c7b0",
        "colab": {
          "base_uri": "https://localhost:8080/",
          "height": 73
        }
      },
      "source": [
        "fin_df.columns"
      ],
      "execution_count": null,
      "outputs": [
        {
          "output_type": "execute_result",
          "data": {
            "text/plain": [
              "Index(['주요재무정보', '2017.12', '2018.12', '2019.12', '2020.12(E)', '2019.06',\n",
              "       '2019.09', '2019.12', '2020.03', '2020.06', '2020.09(E)'],\n",
              "      dtype='object')"
            ]
          },
          "metadata": {
            "tags": []
          },
          "execution_count": 18
        }
      ]
    },
    {
      "cell_type": "code",
      "metadata": {
        "id": "-oYMlbRRUH9B"
      },
      "source": [
        "fin_df = fin_df.T"
      ],
      "execution_count": null,
      "outputs": []
    },
    {
      "cell_type": "code",
      "metadata": {
        "id": "Bdi5y1zzUQoU",
        "outputId": "81542b52-8fa8-44b9-fdde-8ce03469c0b0",
        "colab": {
          "base_uri": "https://localhost:8080/",
          "height": 403
        }
      },
      "source": [
        "fin_df"
      ],
      "execution_count": null,
      "outputs": [
        {
          "output_type": "execute_result",
          "data": {
            "text/html": [
              "<div>\n",
              "<style scoped>\n",
              "    .dataframe tbody tr th:only-of-type {\n",
              "        vertical-align: middle;\n",
              "    }\n",
              "\n",
              "    .dataframe tbody tr th {\n",
              "        vertical-align: top;\n",
              "    }\n",
              "\n",
              "    .dataframe thead th {\n",
              "        text-align: right;\n",
              "    }\n",
              "</style>\n",
              "<table border=\"1\" class=\"dataframe\">\n",
              "  <thead>\n",
              "    <tr style=\"text-align: right;\">\n",
              "      <th></th>\n",
              "      <th>0</th>\n",
              "      <th>1</th>\n",
              "      <th>2</th>\n",
              "      <th>3</th>\n",
              "      <th>4</th>\n",
              "      <th>5</th>\n",
              "      <th>6</th>\n",
              "      <th>7</th>\n",
              "      <th>8</th>\n",
              "      <th>9</th>\n",
              "      <th>10</th>\n",
              "      <th>11</th>\n",
              "      <th>12</th>\n",
              "      <th>13</th>\n",
              "      <th>14</th>\n",
              "      <th>15</th>\n",
              "    </tr>\n",
              "  </thead>\n",
              "  <tbody>\n",
              "    <tr>\n",
              "      <th>주요재무정보</th>\n",
              "      <td>매출액</td>\n",
              "      <td>영업이익</td>\n",
              "      <td>당기순이익</td>\n",
              "      <td>영업이익률</td>\n",
              "      <td>순이익률</td>\n",
              "      <td>ROE(지배주주)</td>\n",
              "      <td>부채비율</td>\n",
              "      <td>당좌비율</td>\n",
              "      <td>유보율</td>\n",
              "      <td>EPS(원)</td>\n",
              "      <td>PER(배)</td>\n",
              "      <td>BPS(원)</td>\n",
              "      <td>PBR(배)</td>\n",
              "      <td>주당배당금(원)</td>\n",
              "      <td>시가배당률(%)</td>\n",
              "      <td>배당성향(%)</td>\n",
              "    </tr>\n",
              "    <tr>\n",
              "      <th>2017.12</th>\n",
              "      <td>2.39575e+06</td>\n",
              "      <td>536450</td>\n",
              "      <td>421867</td>\n",
              "      <td>22.39</td>\n",
              "      <td>17.61</td>\n",
              "      <td>21.01</td>\n",
              "      <td>40.68</td>\n",
              "      <td>181.61</td>\n",
              "      <td>24536.1</td>\n",
              "      <td>5421</td>\n",
              "      <td>9.4</td>\n",
              "      <td>30427</td>\n",
              "      <td>1.67</td>\n",
              "      <td>850</td>\n",
              "      <td>1.67</td>\n",
              "      <td>14.09</td>\n",
              "    </tr>\n",
              "    <tr>\n",
              "      <th>2018.12</th>\n",
              "      <td>2.43771e+06</td>\n",
              "      <td>588867</td>\n",
              "      <td>443449</td>\n",
              "      <td>24.16</td>\n",
              "      <td>18.19</td>\n",
              "      <td>19.63</td>\n",
              "      <td>36.97</td>\n",
              "      <td>204.12</td>\n",
              "      <td>27531.9</td>\n",
              "      <td>6024</td>\n",
              "      <td>6.42</td>\n",
              "      <td>35342</td>\n",
              "      <td>1.09</td>\n",
              "      <td>1416</td>\n",
              "      <td>3.66</td>\n",
              "      <td>21.92</td>\n",
              "    </tr>\n",
              "    <tr>\n",
              "      <th>2019.12</th>\n",
              "      <td>2.30401e+06</td>\n",
              "      <td>277685</td>\n",
              "      <td>217389</td>\n",
              "      <td>12.05</td>\n",
              "      <td>9.44</td>\n",
              "      <td>8.69</td>\n",
              "      <td>34.12</td>\n",
              "      <td>233.57</td>\n",
              "      <td>28856</td>\n",
              "      <td>3166</td>\n",
              "      <td>17.63</td>\n",
              "      <td>37528</td>\n",
              "      <td>1.49</td>\n",
              "      <td>1416</td>\n",
              "      <td>2.54</td>\n",
              "      <td>44.73</td>\n",
              "    </tr>\n",
              "    <tr>\n",
              "      <th>2020.12(E)</th>\n",
              "      <td>2.38112e+06</td>\n",
              "      <td>370283</td>\n",
              "      <td>278643</td>\n",
              "      <td>15.55</td>\n",
              "      <td>11.7</td>\n",
              "      <td>10.48</td>\n",
              "      <td>NaN</td>\n",
              "      <td>NaN</td>\n",
              "      <td>NaN</td>\n",
              "      <td>4085</td>\n",
              "      <td>14.57</td>\n",
              "      <td>40438</td>\n",
              "      <td>1.47</td>\n",
              "      <td>1475</td>\n",
              "      <td>NaN</td>\n",
              "      <td>NaN</td>\n",
              "    </tr>\n",
              "    <tr>\n",
              "      <th>2019.06</th>\n",
              "      <td>561271</td>\n",
              "      <td>65971</td>\n",
              "      <td>51806</td>\n",
              "      <td>11.75</td>\n",
              "      <td>9.23</td>\n",
              "      <td>13.23</td>\n",
              "      <td>33.05</td>\n",
              "      <td>230.74</td>\n",
              "      <td>28129.3</td>\n",
              "      <td>746</td>\n",
              "      <td>10.48</td>\n",
              "      <td>36789</td>\n",
              "      <td>1.28</td>\n",
              "      <td>NaN</td>\n",
              "      <td>NaN</td>\n",
              "      <td>NaN</td>\n",
              "    </tr>\n",
              "    <tr>\n",
              "      <th>2019.09</th>\n",
              "      <td>620035</td>\n",
              "      <td>77779</td>\n",
              "      <td>62877</td>\n",
              "      <td>12.54</td>\n",
              "      <td>10.14</td>\n",
              "      <td>10.05</td>\n",
              "      <td>34.14</td>\n",
              "      <td>235.8</td>\n",
              "      <td>28541.6</td>\n",
              "      <td>899</td>\n",
              "      <td>13.73</td>\n",
              "      <td>37600</td>\n",
              "      <td>1.3</td>\n",
              "      <td>NaN</td>\n",
              "      <td>NaN</td>\n",
              "      <td>NaN</td>\n",
              "    </tr>\n",
              "    <tr>\n",
              "      <th>2019.12</th>\n",
              "      <td>598848</td>\n",
              "      <td>71603</td>\n",
              "      <td>52270</td>\n",
              "      <td>11.96</td>\n",
              "      <td>8.73</td>\n",
              "      <td>8.69</td>\n",
              "      <td>34.12</td>\n",
              "      <td>233.57</td>\n",
              "      <td>28856</td>\n",
              "      <td>770</td>\n",
              "      <td>17.63</td>\n",
              "      <td>37528</td>\n",
              "      <td>1.49</td>\n",
              "      <td>NaN</td>\n",
              "      <td>NaN</td>\n",
              "      <td>NaN</td>\n",
              "    </tr>\n",
              "    <tr>\n",
              "      <th>2020.03</th>\n",
              "      <td>553252</td>\n",
              "      <td>64473</td>\n",
              "      <td>48849</td>\n",
              "      <td>11.65</td>\n",
              "      <td>8.83</td>\n",
              "      <td>8.45</td>\n",
              "      <td>34.19</td>\n",
              "      <td>237.8</td>\n",
              "      <td>29134.1</td>\n",
              "      <td>720</td>\n",
              "      <td>15.24</td>\n",
              "      <td>38053</td>\n",
              "      <td>1.25</td>\n",
              "      <td>NaN</td>\n",
              "      <td>NaN</td>\n",
              "      <td>NaN</td>\n",
              "    </tr>\n",
              "    <tr>\n",
              "      <th>2020.06</th>\n",
              "      <td>529661</td>\n",
              "      <td>81463</td>\n",
              "      <td>55551</td>\n",
              "      <td>15.38</td>\n",
              "      <td>10.49</td>\n",
              "      <td>8.49</td>\n",
              "      <td>32.67</td>\n",
              "      <td>250.04</td>\n",
              "      <td>29478</td>\n",
              "      <td>808</td>\n",
              "      <td>16.52</td>\n",
              "      <td>38534</td>\n",
              "      <td>1.37</td>\n",
              "      <td>NaN</td>\n",
              "      <td>NaN</td>\n",
              "      <td>NaN</td>\n",
              "    </tr>\n",
              "    <tr>\n",
              "      <th>2020.09(E)</th>\n",
              "      <td>639082</td>\n",
              "      <td>102603</td>\n",
              "      <td>77786</td>\n",
              "      <td>16.05</td>\n",
              "      <td>12.17</td>\n",
              "      <td>NaN</td>\n",
              "      <td>NaN</td>\n",
              "      <td>NaN</td>\n",
              "      <td>NaN</td>\n",
              "      <td>1224</td>\n",
              "      <td>47.56</td>\n",
              "      <td>NaN</td>\n",
              "      <td>NaN</td>\n",
              "      <td>NaN</td>\n",
              "      <td>NaN</td>\n",
              "      <td>NaN</td>\n",
              "    </tr>\n",
              "  </tbody>\n",
              "</table>\n",
              "</div>"
            ],
            "text/plain": [
              "                     0       1       2   ...        13        14       15\n",
              "주요재무정보              매출액    영업이익   당기순이익  ...  주당배당금(원)  시가배당률(%)  배당성향(%)\n",
              "2017.12     2.39575e+06  536450  421867  ...       850      1.67    14.09\n",
              "2018.12     2.43771e+06  588867  443449  ...      1416      3.66    21.92\n",
              "2019.12     2.30401e+06  277685  217389  ...      1416      2.54    44.73\n",
              "2020.12(E)  2.38112e+06  370283  278643  ...      1475       NaN      NaN\n",
              "2019.06          561271   65971   51806  ...       NaN       NaN      NaN\n",
              "2019.09          620035   77779   62877  ...       NaN       NaN      NaN\n",
              "2019.12          598848   71603   52270  ...       NaN       NaN      NaN\n",
              "2020.03          553252   64473   48849  ...       NaN       NaN      NaN\n",
              "2020.06          529661   81463   55551  ...       NaN       NaN      NaN\n",
              "2020.09(E)       639082  102603   77786  ...       NaN       NaN      NaN\n",
              "\n",
              "[11 rows x 16 columns]"
            ]
          },
          "metadata": {
            "tags": []
          },
          "execution_count": 21
        }
      ]
    },
    {
      "cell_type": "code",
      "metadata": {
        "id": "bBHFEcUvUR2I"
      },
      "source": [
        "fin_df.columns = fin_df.iloc[0,:]"
      ],
      "execution_count": null,
      "outputs": []
    },
    {
      "cell_type": "code",
      "metadata": {
        "id": "P_PFJgEBUXvf",
        "outputId": "96ccde48-7852-4f78-b12c-69319179cc65",
        "colab": {
          "base_uri": "https://localhost:8080/",
          "height": 271
        }
      },
      "source": [
        "fin_df.head()"
      ],
      "execution_count": null,
      "outputs": [
        {
          "output_type": "execute_result",
          "data": {
            "text/html": [
              "<div>\n",
              "<style scoped>\n",
              "    .dataframe tbody tr th:only-of-type {\n",
              "        vertical-align: middle;\n",
              "    }\n",
              "\n",
              "    .dataframe tbody tr th {\n",
              "        vertical-align: top;\n",
              "    }\n",
              "\n",
              "    .dataframe thead th {\n",
              "        text-align: right;\n",
              "    }\n",
              "</style>\n",
              "<table border=\"1\" class=\"dataframe\">\n",
              "  <thead>\n",
              "    <tr style=\"text-align: right;\">\n",
              "      <th>주요재무정보</th>\n",
              "      <th>매출액</th>\n",
              "      <th>영업이익</th>\n",
              "      <th>당기순이익</th>\n",
              "      <th>영업이익률</th>\n",
              "      <th>순이익률</th>\n",
              "      <th>ROE(지배주주)</th>\n",
              "      <th>부채비율</th>\n",
              "      <th>당좌비율</th>\n",
              "      <th>유보율</th>\n",
              "      <th>EPS(원)</th>\n",
              "      <th>PER(배)</th>\n",
              "      <th>BPS(원)</th>\n",
              "      <th>PBR(배)</th>\n",
              "      <th>주당배당금(원)</th>\n",
              "      <th>시가배당률(%)</th>\n",
              "      <th>배당성향(%)</th>\n",
              "    </tr>\n",
              "  </thead>\n",
              "  <tbody>\n",
              "    <tr>\n",
              "      <th>주요재무정보</th>\n",
              "      <td>매출액</td>\n",
              "      <td>영업이익</td>\n",
              "      <td>당기순이익</td>\n",
              "      <td>영업이익률</td>\n",
              "      <td>순이익률</td>\n",
              "      <td>ROE(지배주주)</td>\n",
              "      <td>부채비율</td>\n",
              "      <td>당좌비율</td>\n",
              "      <td>유보율</td>\n",
              "      <td>EPS(원)</td>\n",
              "      <td>PER(배)</td>\n",
              "      <td>BPS(원)</td>\n",
              "      <td>PBR(배)</td>\n",
              "      <td>주당배당금(원)</td>\n",
              "      <td>시가배당률(%)</td>\n",
              "      <td>배당성향(%)</td>\n",
              "    </tr>\n",
              "    <tr>\n",
              "      <th>2017.12</th>\n",
              "      <td>2.39575e+06</td>\n",
              "      <td>536450</td>\n",
              "      <td>421867</td>\n",
              "      <td>22.39</td>\n",
              "      <td>17.61</td>\n",
              "      <td>21.01</td>\n",
              "      <td>40.68</td>\n",
              "      <td>181.61</td>\n",
              "      <td>24536.1</td>\n",
              "      <td>5421</td>\n",
              "      <td>9.4</td>\n",
              "      <td>30427</td>\n",
              "      <td>1.67</td>\n",
              "      <td>850</td>\n",
              "      <td>1.67</td>\n",
              "      <td>14.09</td>\n",
              "    </tr>\n",
              "    <tr>\n",
              "      <th>2018.12</th>\n",
              "      <td>2.43771e+06</td>\n",
              "      <td>588867</td>\n",
              "      <td>443449</td>\n",
              "      <td>24.16</td>\n",
              "      <td>18.19</td>\n",
              "      <td>19.63</td>\n",
              "      <td>36.97</td>\n",
              "      <td>204.12</td>\n",
              "      <td>27531.9</td>\n",
              "      <td>6024</td>\n",
              "      <td>6.42</td>\n",
              "      <td>35342</td>\n",
              "      <td>1.09</td>\n",
              "      <td>1416</td>\n",
              "      <td>3.66</td>\n",
              "      <td>21.92</td>\n",
              "    </tr>\n",
              "    <tr>\n",
              "      <th>2019.12</th>\n",
              "      <td>2.30401e+06</td>\n",
              "      <td>277685</td>\n",
              "      <td>217389</td>\n",
              "      <td>12.05</td>\n",
              "      <td>9.44</td>\n",
              "      <td>8.69</td>\n",
              "      <td>34.12</td>\n",
              "      <td>233.57</td>\n",
              "      <td>28856</td>\n",
              "      <td>3166</td>\n",
              "      <td>17.63</td>\n",
              "      <td>37528</td>\n",
              "      <td>1.49</td>\n",
              "      <td>1416</td>\n",
              "      <td>2.54</td>\n",
              "      <td>44.73</td>\n",
              "    </tr>\n",
              "    <tr>\n",
              "      <th>2020.12(E)</th>\n",
              "      <td>2.38112e+06</td>\n",
              "      <td>370283</td>\n",
              "      <td>278643</td>\n",
              "      <td>15.55</td>\n",
              "      <td>11.7</td>\n",
              "      <td>10.48</td>\n",
              "      <td>NaN</td>\n",
              "      <td>NaN</td>\n",
              "      <td>NaN</td>\n",
              "      <td>4085</td>\n",
              "      <td>14.57</td>\n",
              "      <td>40438</td>\n",
              "      <td>1.47</td>\n",
              "      <td>1475</td>\n",
              "      <td>NaN</td>\n",
              "      <td>NaN</td>\n",
              "    </tr>\n",
              "  </tbody>\n",
              "</table>\n",
              "</div>"
            ],
            "text/plain": [
              "주요재무정보              매출액    영업이익   당기순이익  ...  주당배당금(원)  시가배당률(%)  배당성향(%)\n",
              "주요재무정보              매출액    영업이익   당기순이익  ...  주당배당금(원)  시가배당률(%)  배당성향(%)\n",
              "2017.12     2.39575e+06  536450  421867  ...       850      1.67    14.09\n",
              "2018.12     2.43771e+06  588867  443449  ...      1416      3.66    21.92\n",
              "2019.12     2.30401e+06  277685  217389  ...      1416      2.54    44.73\n",
              "2020.12(E)  2.38112e+06  370283  278643  ...      1475       NaN      NaN\n",
              "\n",
              "[5 rows x 16 columns]"
            ]
          },
          "metadata": {
            "tags": []
          },
          "execution_count": 23
        }
      ]
    },
    {
      "cell_type": "code",
      "metadata": {
        "id": "QYKLRIEZUdWP"
      },
      "source": [
        "fin_df.drop(['주요재무정보'], inplace=True)"
      ],
      "execution_count": null,
      "outputs": []
    },
    {
      "cell_type": "code",
      "metadata": {
        "id": "J_2xm2ylUxtg",
        "outputId": "3aa6dded-4874-48a0-c21f-8fe35249b643",
        "colab": {
          "base_uri": "https://localhost:8080/",
          "height": 390
        }
      },
      "source": [
        "fin_df"
      ],
      "execution_count": null,
      "outputs": [
        {
          "output_type": "execute_result",
          "data": {
            "text/html": [
              "<div>\n",
              "<style scoped>\n",
              "    .dataframe tbody tr th:only-of-type {\n",
              "        vertical-align: middle;\n",
              "    }\n",
              "\n",
              "    .dataframe tbody tr th {\n",
              "        vertical-align: top;\n",
              "    }\n",
              "\n",
              "    .dataframe thead th {\n",
              "        text-align: right;\n",
              "    }\n",
              "</style>\n",
              "<table border=\"1\" class=\"dataframe\">\n",
              "  <thead>\n",
              "    <tr style=\"text-align: right;\">\n",
              "      <th>주요재무정보</th>\n",
              "      <th>매출액</th>\n",
              "      <th>영업이익</th>\n",
              "      <th>당기순이익</th>\n",
              "      <th>영업이익률</th>\n",
              "      <th>순이익률</th>\n",
              "      <th>ROE(지배주주)</th>\n",
              "      <th>부채비율</th>\n",
              "      <th>당좌비율</th>\n",
              "      <th>유보율</th>\n",
              "      <th>EPS(원)</th>\n",
              "      <th>PER(배)</th>\n",
              "      <th>BPS(원)</th>\n",
              "      <th>PBR(배)</th>\n",
              "      <th>주당배당금(원)</th>\n",
              "      <th>시가배당률(%)</th>\n",
              "      <th>배당성향(%)</th>\n",
              "    </tr>\n",
              "  </thead>\n",
              "  <tbody>\n",
              "    <tr>\n",
              "      <th>2017.12</th>\n",
              "      <td>2.39575e+06</td>\n",
              "      <td>536450</td>\n",
              "      <td>421867</td>\n",
              "      <td>22.39</td>\n",
              "      <td>17.61</td>\n",
              "      <td>21.01</td>\n",
              "      <td>40.68</td>\n",
              "      <td>181.61</td>\n",
              "      <td>24536.1</td>\n",
              "      <td>5421</td>\n",
              "      <td>9.4</td>\n",
              "      <td>30427</td>\n",
              "      <td>1.67</td>\n",
              "      <td>850</td>\n",
              "      <td>1.67</td>\n",
              "      <td>14.09</td>\n",
              "    </tr>\n",
              "    <tr>\n",
              "      <th>2018.12</th>\n",
              "      <td>2.43771e+06</td>\n",
              "      <td>588867</td>\n",
              "      <td>443449</td>\n",
              "      <td>24.16</td>\n",
              "      <td>18.19</td>\n",
              "      <td>19.63</td>\n",
              "      <td>36.97</td>\n",
              "      <td>204.12</td>\n",
              "      <td>27531.9</td>\n",
              "      <td>6024</td>\n",
              "      <td>6.42</td>\n",
              "      <td>35342</td>\n",
              "      <td>1.09</td>\n",
              "      <td>1416</td>\n",
              "      <td>3.66</td>\n",
              "      <td>21.92</td>\n",
              "    </tr>\n",
              "    <tr>\n",
              "      <th>2019.12</th>\n",
              "      <td>2.30401e+06</td>\n",
              "      <td>277685</td>\n",
              "      <td>217389</td>\n",
              "      <td>12.05</td>\n",
              "      <td>9.44</td>\n",
              "      <td>8.69</td>\n",
              "      <td>34.12</td>\n",
              "      <td>233.57</td>\n",
              "      <td>28856</td>\n",
              "      <td>3166</td>\n",
              "      <td>17.63</td>\n",
              "      <td>37528</td>\n",
              "      <td>1.49</td>\n",
              "      <td>1416</td>\n",
              "      <td>2.54</td>\n",
              "      <td>44.73</td>\n",
              "    </tr>\n",
              "    <tr>\n",
              "      <th>2020.12(E)</th>\n",
              "      <td>2.38112e+06</td>\n",
              "      <td>370283</td>\n",
              "      <td>278643</td>\n",
              "      <td>15.55</td>\n",
              "      <td>11.7</td>\n",
              "      <td>10.48</td>\n",
              "      <td>NaN</td>\n",
              "      <td>NaN</td>\n",
              "      <td>NaN</td>\n",
              "      <td>4085</td>\n",
              "      <td>14.57</td>\n",
              "      <td>40438</td>\n",
              "      <td>1.47</td>\n",
              "      <td>1475</td>\n",
              "      <td>NaN</td>\n",
              "      <td>NaN</td>\n",
              "    </tr>\n",
              "    <tr>\n",
              "      <th>2019.06</th>\n",
              "      <td>561271</td>\n",
              "      <td>65971</td>\n",
              "      <td>51806</td>\n",
              "      <td>11.75</td>\n",
              "      <td>9.23</td>\n",
              "      <td>13.23</td>\n",
              "      <td>33.05</td>\n",
              "      <td>230.74</td>\n",
              "      <td>28129.3</td>\n",
              "      <td>746</td>\n",
              "      <td>10.48</td>\n",
              "      <td>36789</td>\n",
              "      <td>1.28</td>\n",
              "      <td>NaN</td>\n",
              "      <td>NaN</td>\n",
              "      <td>NaN</td>\n",
              "    </tr>\n",
              "    <tr>\n",
              "      <th>2019.09</th>\n",
              "      <td>620035</td>\n",
              "      <td>77779</td>\n",
              "      <td>62877</td>\n",
              "      <td>12.54</td>\n",
              "      <td>10.14</td>\n",
              "      <td>10.05</td>\n",
              "      <td>34.14</td>\n",
              "      <td>235.8</td>\n",
              "      <td>28541.6</td>\n",
              "      <td>899</td>\n",
              "      <td>13.73</td>\n",
              "      <td>37600</td>\n",
              "      <td>1.3</td>\n",
              "      <td>NaN</td>\n",
              "      <td>NaN</td>\n",
              "      <td>NaN</td>\n",
              "    </tr>\n",
              "    <tr>\n",
              "      <th>2019.12</th>\n",
              "      <td>598848</td>\n",
              "      <td>71603</td>\n",
              "      <td>52270</td>\n",
              "      <td>11.96</td>\n",
              "      <td>8.73</td>\n",
              "      <td>8.69</td>\n",
              "      <td>34.12</td>\n",
              "      <td>233.57</td>\n",
              "      <td>28856</td>\n",
              "      <td>770</td>\n",
              "      <td>17.63</td>\n",
              "      <td>37528</td>\n",
              "      <td>1.49</td>\n",
              "      <td>NaN</td>\n",
              "      <td>NaN</td>\n",
              "      <td>NaN</td>\n",
              "    </tr>\n",
              "    <tr>\n",
              "      <th>2020.03</th>\n",
              "      <td>553252</td>\n",
              "      <td>64473</td>\n",
              "      <td>48849</td>\n",
              "      <td>11.65</td>\n",
              "      <td>8.83</td>\n",
              "      <td>8.45</td>\n",
              "      <td>34.19</td>\n",
              "      <td>237.8</td>\n",
              "      <td>29134.1</td>\n",
              "      <td>720</td>\n",
              "      <td>15.24</td>\n",
              "      <td>38053</td>\n",
              "      <td>1.25</td>\n",
              "      <td>NaN</td>\n",
              "      <td>NaN</td>\n",
              "      <td>NaN</td>\n",
              "    </tr>\n",
              "    <tr>\n",
              "      <th>2020.06</th>\n",
              "      <td>529661</td>\n",
              "      <td>81463</td>\n",
              "      <td>55551</td>\n",
              "      <td>15.38</td>\n",
              "      <td>10.49</td>\n",
              "      <td>8.49</td>\n",
              "      <td>32.67</td>\n",
              "      <td>250.04</td>\n",
              "      <td>29478</td>\n",
              "      <td>808</td>\n",
              "      <td>16.52</td>\n",
              "      <td>38534</td>\n",
              "      <td>1.37</td>\n",
              "      <td>NaN</td>\n",
              "      <td>NaN</td>\n",
              "      <td>NaN</td>\n",
              "    </tr>\n",
              "    <tr>\n",
              "      <th>2020.09(E)</th>\n",
              "      <td>639082</td>\n",
              "      <td>102603</td>\n",
              "      <td>77786</td>\n",
              "      <td>16.05</td>\n",
              "      <td>12.17</td>\n",
              "      <td>NaN</td>\n",
              "      <td>NaN</td>\n",
              "      <td>NaN</td>\n",
              "      <td>NaN</td>\n",
              "      <td>1224</td>\n",
              "      <td>47.56</td>\n",
              "      <td>NaN</td>\n",
              "      <td>NaN</td>\n",
              "      <td>NaN</td>\n",
              "      <td>NaN</td>\n",
              "      <td>NaN</td>\n",
              "    </tr>\n",
              "  </tbody>\n",
              "</table>\n",
              "</div>"
            ],
            "text/plain": [
              "주요재무정보              매출액    영업이익   당기순이익  영업이익률  ... PBR(배) 주당배당금(원) 시가배당률(%) 배당성향(%)\n",
              "2017.12     2.39575e+06  536450  421867  22.39  ...   1.67      850     1.67   14.09\n",
              "2018.12     2.43771e+06  588867  443449  24.16  ...   1.09     1416     3.66   21.92\n",
              "2019.12     2.30401e+06  277685  217389  12.05  ...   1.49     1416     2.54   44.73\n",
              "2020.12(E)  2.38112e+06  370283  278643  15.55  ...   1.47     1475      NaN     NaN\n",
              "2019.06          561271   65971   51806  11.75  ...   1.28      NaN      NaN     NaN\n",
              "2019.09          620035   77779   62877  12.54  ...    1.3      NaN      NaN     NaN\n",
              "2019.12          598848   71603   52270  11.96  ...   1.49      NaN      NaN     NaN\n",
              "2020.03          553252   64473   48849  11.65  ...   1.25      NaN      NaN     NaN\n",
              "2020.06          529661   81463   55551  15.38  ...   1.37      NaN      NaN     NaN\n",
              "2020.09(E)       639082  102603   77786  16.05  ...    NaN      NaN      NaN     NaN\n",
              "\n",
              "[10 rows x 16 columns]"
            ]
          },
          "metadata": {
            "tags": []
          },
          "execution_count": 25
        }
      ]
    },
    {
      "cell_type": "code",
      "metadata": {
        "id": "xoeOksQCVFSZ"
      },
      "source": [
        "fin_df = fin_df.query('index==\"2020.06\"')"
      ],
      "execution_count": null,
      "outputs": []
    },
    {
      "cell_type": "code",
      "metadata": {
        "id": "R8Q9ktzkQUPO",
        "outputId": "06effe50-f917-4604-e7b0-07b46853d7c2",
        "colab": {
          "base_uri": "https://localhost:8080/",
          "height": 114
        }
      },
      "source": [
        "fin_df"
      ],
      "execution_count": null,
      "outputs": [
        {
          "output_type": "execute_result",
          "data": {
            "text/html": [
              "<div>\n",
              "<style scoped>\n",
              "    .dataframe tbody tr th:only-of-type {\n",
              "        vertical-align: middle;\n",
              "    }\n",
              "\n",
              "    .dataframe tbody tr th {\n",
              "        vertical-align: top;\n",
              "    }\n",
              "\n",
              "    .dataframe thead th {\n",
              "        text-align: right;\n",
              "    }\n",
              "</style>\n",
              "<table border=\"1\" class=\"dataframe\">\n",
              "  <thead>\n",
              "    <tr style=\"text-align: right;\">\n",
              "      <th>주요재무정보</th>\n",
              "      <th>매출액</th>\n",
              "      <th>영업이익</th>\n",
              "      <th>당기순이익</th>\n",
              "      <th>영업이익률</th>\n",
              "      <th>순이익률</th>\n",
              "      <th>ROE(지배주주)</th>\n",
              "      <th>부채비율</th>\n",
              "      <th>당좌비율</th>\n",
              "      <th>유보율</th>\n",
              "      <th>EPS(원)</th>\n",
              "      <th>PER(배)</th>\n",
              "      <th>BPS(원)</th>\n",
              "      <th>PBR(배)</th>\n",
              "      <th>주당배당금(원)</th>\n",
              "      <th>시가배당률(%)</th>\n",
              "      <th>배당성향(%)</th>\n",
              "    </tr>\n",
              "  </thead>\n",
              "  <tbody>\n",
              "    <tr>\n",
              "      <th>2020.06</th>\n",
              "      <td>529661</td>\n",
              "      <td>81463</td>\n",
              "      <td>55551</td>\n",
              "      <td>15.38</td>\n",
              "      <td>10.49</td>\n",
              "      <td>8.49</td>\n",
              "      <td>32.67</td>\n",
              "      <td>250.04</td>\n",
              "      <td>29478</td>\n",
              "      <td>808</td>\n",
              "      <td>16.52</td>\n",
              "      <td>38534</td>\n",
              "      <td>1.37</td>\n",
              "      <td>NaN</td>\n",
              "      <td>NaN</td>\n",
              "      <td>NaN</td>\n",
              "    </tr>\n",
              "  </tbody>\n",
              "</table>\n",
              "</div>"
            ],
            "text/plain": [
              "주요재무정보      매출액   영업이익  당기순이익  영업이익률  ... PBR(배) 주당배당금(원) 시가배당률(%) 배당성향(%)\n",
              "2020.06  529661  81463  55551  15.38  ...   1.37      NaN      NaN     NaN\n",
              "\n",
              "[1 rows x 16 columns]"
            ]
          },
          "metadata": {
            "tags": []
          },
          "execution_count": 26
        }
      ]
    },
    {
      "cell_type": "code",
      "metadata": {
        "id": "0UeU4m6FQdlp"
      },
      "source": [
        ""
      ],
      "execution_count": null,
      "outputs": []
    }
  ]
}