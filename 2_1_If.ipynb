{
  "nbformat": 4,
  "nbformat_minor": 0,
  "metadata": {
    "kernelspec": {
      "name": "python36",
      "display_name": "Python 3.6",
      "language": "python"
    },
    "language_info": {
      "mimetype": "text/x-python",
      "nbconvert_exporter": "python",
      "name": "python",
      "pygments_lexer": "ipython3",
      "version": "3.6.6",
      "file_extension": ".py",
      "codemirror_mode": {
        "version": 3,
        "name": "ipython"
      }
    },
    "colab": {
      "name": "2-1. If.ipynb",
      "provenance": [],
      "collapsed_sections": [],
      "include_colab_link": true
    }
  },
  "cells": [
    {
      "cell_type": "markdown",
      "metadata": {
        "id": "view-in-github",
        "colab_type": "text"
      },
      "source": [
        "<a href=\"https://colab.research.google.com/github/joohoshin/MLDL_Basic/blob/master/2_1_If.ipynb\" target=\"_parent\"><img src=\"https://colab.research.google.com/assets/colab-badge.svg\" alt=\"Open In Colab\"/></a>"
      ]
    },
    {
      "cell_type": "markdown",
      "metadata": {
        "collapsed": true,
        "id": "0CDpusbQGsQB",
        "colab_type": "text"
      },
      "source": [
        "# 제어문 (if)\n",
        "* if 조건 else를 활용하여 비교를 할 수 있다\n",
        "* 같은지 확인하려면 두개의 등호 ==\n",
        "* 같지 않다는 !=\n",
        "* 크거나 작다는 부등호로 비교 >, <\n",
        "* 크거나 같다, 작거나 같다의 경우에는 <=, >="
      ]
    },
    {
      "cell_type": "code",
      "metadata": {
        "trusted": true,
        "id": "fINTwVJfGsQC",
        "colab_type": "code",
        "colab": {
          "base_uri": "https://localhost:8080/",
          "height": 73
        },
        "outputId": "b097f308-5b26-4783-9b97-638e7e8d3a99"
      },
      "source": [
        "password = 'bbb'\n",
        "id = input('id를 입력하세요: ')\n",
        "pw = input('비번을 입력하세요: ')\n",
        "if pw == password:    \n",
        "    print(id, '님 반갑습니다')  # 여기에 적는 것은 조건을 만족한 경우에 실행\n",
        "else:\n",
        "    print('비밀번호를 잘못 입력하였습니다. ')  #else는 조건을 만족하지 못한 경우에 실행"
      ],
      "execution_count": null,
      "outputs": [
        {
          "output_type": "stream",
          "text": [
            "id를 입력하세요: ab\n",
            "비번을 입력하세요: bbb\n",
            "ab 님 반갑습니다\n"
          ],
          "name": "stdout"
        }
      ]
    },
    {
      "cell_type": "markdown",
      "metadata": {
        "id": "3bKzr2OnGsQH",
        "colab_type": "text"
      },
      "source": [
        "\n",
        "\n",
        "\n",
        "\n",
        "\n",
        "\n",
        "* 여러번 비교를 하는 경우에는 elif를 사용한다.  (else if의 줄임말)"
      ]
    },
    {
      "cell_type": "code",
      "metadata": {
        "trusted": true,
        "id": "X09ZMHXFGsQH",
        "colab_type": "code",
        "colab": {
          "base_uri": "https://localhost:8080/",
          "height": 55
        },
        "outputId": "6ae43565-ffaf-4dc8-c852-6d6cf8a3c33d"
      },
      "source": [
        "점수 = int(input('당신의 점수를 입력하세요: '))\n",
        "if 점수>=90:\n",
        "    print('A')\n",
        "elif 점수 >=80:\n",
        "    print('B')\n",
        "elif 점수>=70:\n",
        "    print('C')\n",
        "else:\n",
        "    print('D')"
      ],
      "execution_count": null,
      "outputs": [
        {
          "output_type": "stream",
          "text": [
            "당신의 점수를 입력하세요: 75\n",
            "C\n"
          ],
          "name": "stdout"
        }
      ]
    },
    {
      "cell_type": "markdown",
      "metadata": {
        "id": "ukGeB6OBGsQK",
        "colab_type": "text"
      },
      "source": [
        "# 활용"
      ]
    },
    {
      "cell_type": "markdown",
      "metadata": {
        "trusted": true,
        "id": "lNJjcxxFGsQL",
        "colab_type": "text"
      },
      "source": [
        " * BMI를 알려주는 프로그램\n",
        " * BMI = 체중(kg) / 신장(m)**2\n",
        " * 이 값이 25보다 크면 비만"
      ]
    },
    {
      "cell_type": "code",
      "metadata": {
        "trusted": true,
        "id": "PO72ZiQ1GsQL",
        "colab_type": "code",
        "colab": {
          "base_uri": "https://localhost:8080/",
          "height": 92
        },
        "outputId": "d6dfc593-e210-41e8-e20b-9200747ac181"
      },
      "source": [
        "키 = float(input('키를 입력하세요(cm): '))\n",
        "체중 = float(input('몸무게를 입력하세요(kg)'))\n",
        "BMI = 체중/(키/100)**2\n",
        "print('당신의 BMI는 {} 입니다'.format(BMI))\n",
        "if BMI>25:\n",
        "    print('비만입니다')\n",
        "else:\n",
        "    print('정상입니다')"
      ],
      "execution_count": null,
      "outputs": [
        {
          "output_type": "stream",
          "text": [
            "키를 입력하세요(cm): 180\n",
            "몸무게를 입력하세요(kg)60\n",
            "당신의 BMI는 18.51851851851852 입니다\n",
            "정상입니다\n"
          ],
          "name": "stdout"
        }
      ]
    },
    {
      "cell_type": "code",
      "metadata": {
        "id": "LWvhZfb5Ljy2",
        "colab_type": "code",
        "colab": {}
      },
      "source": [
        ""
      ],
      "execution_count": null,
      "outputs": []
    }
  ]
}