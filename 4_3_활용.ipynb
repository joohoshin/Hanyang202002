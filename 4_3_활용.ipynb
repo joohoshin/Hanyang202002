{
  "nbformat": 4,
  "nbformat_minor": 0,
  "metadata": {
    "colab": {
      "name": "4-3.활용.ipynb",
      "provenance": [],
      "collapsed_sections": [],
      "authorship_tag": "ABX9TyMgULXg6o5ahuLT7YWZajOR",
      "include_colab_link": true
    },
    "kernelspec": {
      "name": "python3",
      "display_name": "Python 3"
    }
  },
  "cells": [
    {
      "cell_type": "markdown",
      "metadata": {
        "id": "view-in-github",
        "colab_type": "text"
      },
      "source": [
        "<a href=\"https://colab.research.google.com/github/joohoshin/MLDL_Basic/blob/master/4_3_%ED%99%9C%EC%9A%A9.ipynb\" target=\"_parent\"><img src=\"https://colab.research.google.com/assets/colab-badge.svg\" alt=\"Open In Colab\"/></a>"
      ]
    },
    {
      "cell_type": "code",
      "metadata": {
        "id": "N-A0EUVbFo2F",
        "colab_type": "code",
        "colab": {}
      },
      "source": [
        "import pandas as pd\n",
        "import numpy as np\n",
        "\n",
        "# numpy.random을 활용해서 가상의 성적을 만듭시다\n",
        "n_student = 100\n",
        "\n",
        "# 학생 아이디는 중복이 있으면 안됨, numpy는 choice를 사용해서 샘플링 가능, \n",
        "# 중복 없이 선택시는 replace=False 옵션 활용\n",
        "student_id = np.random.choice(range(10000, 20000), n_student, replace = False) \n",
        "머신러닝 = np.random.choice(range(70, 101), n_student)\n",
        "딥러닝 = np.random.choice(range(50, 101), n_student)\n",
        "파이썬 = np.random.choice(range(40, 101), n_student)\n",
        "\n"
      ],
      "execution_count": null,
      "outputs": []
    },
    {
      "cell_type": "code",
      "metadata": {
        "id": "OIB0DYL433UD",
        "colab_type": "code",
        "colab": {
          "base_uri": "https://localhost:8080/",
          "height": 402
        },
        "outputId": "9eb07bb8-5a99-4018-db99-a87b25530fd0"
      },
      "source": [
        "# pandas dataframe으로 만들어봅시다\n",
        "grade_df = pd.DataFrame({'id':student_id, '머신러닝':머신러닝, '딥러닝':딥러닝, '파이썬':파이썬})\n",
        "grade_df\n"
      ],
      "execution_count": null,
      "outputs": [
        {
          "output_type": "execute_result",
          "data": {
            "text/html": [
              "<div>\n",
              "<style scoped>\n",
              "    .dataframe tbody tr th:only-of-type {\n",
              "        vertical-align: middle;\n",
              "    }\n",
              "\n",
              "    .dataframe tbody tr th {\n",
              "        vertical-align: top;\n",
              "    }\n",
              "\n",
              "    .dataframe thead th {\n",
              "        text-align: right;\n",
              "    }\n",
              "</style>\n",
              "<table border=\"1\" class=\"dataframe\">\n",
              "  <thead>\n",
              "    <tr style=\"text-align: right;\">\n",
              "      <th></th>\n",
              "      <th>id</th>\n",
              "      <th>머신러닝</th>\n",
              "      <th>딥러닝</th>\n",
              "      <th>파이썬</th>\n",
              "    </tr>\n",
              "  </thead>\n",
              "  <tbody>\n",
              "    <tr>\n",
              "      <th>0</th>\n",
              "      <td>12250</td>\n",
              "      <td>70</td>\n",
              "      <td>71</td>\n",
              "      <td>48</td>\n",
              "    </tr>\n",
              "    <tr>\n",
              "      <th>1</th>\n",
              "      <td>18711</td>\n",
              "      <td>74</td>\n",
              "      <td>67</td>\n",
              "      <td>93</td>\n",
              "    </tr>\n",
              "    <tr>\n",
              "      <th>2</th>\n",
              "      <td>13660</td>\n",
              "      <td>90</td>\n",
              "      <td>58</td>\n",
              "      <td>74</td>\n",
              "    </tr>\n",
              "    <tr>\n",
              "      <th>3</th>\n",
              "      <td>14831</td>\n",
              "      <td>82</td>\n",
              "      <td>76</td>\n",
              "      <td>69</td>\n",
              "    </tr>\n",
              "    <tr>\n",
              "      <th>4</th>\n",
              "      <td>18425</td>\n",
              "      <td>70</td>\n",
              "      <td>55</td>\n",
              "      <td>43</td>\n",
              "    </tr>\n",
              "    <tr>\n",
              "      <th>...</th>\n",
              "      <td>...</td>\n",
              "      <td>...</td>\n",
              "      <td>...</td>\n",
              "      <td>...</td>\n",
              "    </tr>\n",
              "    <tr>\n",
              "      <th>95</th>\n",
              "      <td>10170</td>\n",
              "      <td>98</td>\n",
              "      <td>55</td>\n",
              "      <td>60</td>\n",
              "    </tr>\n",
              "    <tr>\n",
              "      <th>96</th>\n",
              "      <td>12298</td>\n",
              "      <td>87</td>\n",
              "      <td>75</td>\n",
              "      <td>40</td>\n",
              "    </tr>\n",
              "    <tr>\n",
              "      <th>97</th>\n",
              "      <td>15967</td>\n",
              "      <td>71</td>\n",
              "      <td>51</td>\n",
              "      <td>48</td>\n",
              "    </tr>\n",
              "    <tr>\n",
              "      <th>98</th>\n",
              "      <td>15749</td>\n",
              "      <td>94</td>\n",
              "      <td>84</td>\n",
              "      <td>76</td>\n",
              "    </tr>\n",
              "    <tr>\n",
              "      <th>99</th>\n",
              "      <td>18402</td>\n",
              "      <td>81</td>\n",
              "      <td>62</td>\n",
              "      <td>54</td>\n",
              "    </tr>\n",
              "  </tbody>\n",
              "</table>\n",
              "<p>100 rows × 4 columns</p>\n",
              "</div>"
            ],
            "text/plain": [
              "       id  머신러닝  딥러닝  파이썬\n",
              "0   12250    70   71   48\n",
              "1   18711    74   67   93\n",
              "2   13660    90   58   74\n",
              "3   14831    82   76   69\n",
              "4   18425    70   55   43\n",
              "..    ...   ...  ...  ...\n",
              "95  10170    98   55   60\n",
              "96  12298    87   75   40\n",
              "97  15967    71   51   48\n",
              "98  15749    94   84   76\n",
              "99  18402    81   62   54\n",
              "\n",
              "[100 rows x 4 columns]"
            ]
          },
          "metadata": {
            "tags": []
          },
          "execution_count": 8
        }
      ]
    },
    {
      "cell_type": "code",
      "metadata": {
        "id": "iXw5XaiwViWq",
        "colab_type": "code",
        "colab": {
          "base_uri": "https://localhost:8080/",
          "height": 284
        },
        "outputId": "34d428cc-75e2-4faa-f832-ff12bd968cac"
      },
      "source": [
        "grade_df.describe()"
      ],
      "execution_count": null,
      "outputs": [
        {
          "output_type": "execute_result",
          "data": {
            "text/html": [
              "<div>\n",
              "<style scoped>\n",
              "    .dataframe tbody tr th:only-of-type {\n",
              "        vertical-align: middle;\n",
              "    }\n",
              "\n",
              "    .dataframe tbody tr th {\n",
              "        vertical-align: top;\n",
              "    }\n",
              "\n",
              "    .dataframe thead th {\n",
              "        text-align: right;\n",
              "    }\n",
              "</style>\n",
              "<table border=\"1\" class=\"dataframe\">\n",
              "  <thead>\n",
              "    <tr style=\"text-align: right;\">\n",
              "      <th></th>\n",
              "      <th>id</th>\n",
              "      <th>머신러닝</th>\n",
              "      <th>딥러닝</th>\n",
              "      <th>파이썬</th>\n",
              "    </tr>\n",
              "  </thead>\n",
              "  <tbody>\n",
              "    <tr>\n",
              "      <th>count</th>\n",
              "      <td>100.000000</td>\n",
              "      <td>100.000000</td>\n",
              "      <td>100.000000</td>\n",
              "      <td>100.000000</td>\n",
              "    </tr>\n",
              "    <tr>\n",
              "      <th>mean</th>\n",
              "      <td>14529.200000</td>\n",
              "      <td>83.120000</td>\n",
              "      <td>73.880000</td>\n",
              "      <td>70.010000</td>\n",
              "    </tr>\n",
              "    <tr>\n",
              "      <th>std</th>\n",
              "      <td>2894.735413</td>\n",
              "      <td>8.997508</td>\n",
              "      <td>15.690362</td>\n",
              "      <td>16.577638</td>\n",
              "    </tr>\n",
              "    <tr>\n",
              "      <th>min</th>\n",
              "      <td>10029.000000</td>\n",
              "      <td>70.000000</td>\n",
              "      <td>50.000000</td>\n",
              "      <td>40.000000</td>\n",
              "    </tr>\n",
              "    <tr>\n",
              "      <th>25%</th>\n",
              "      <td>12086.000000</td>\n",
              "      <td>75.000000</td>\n",
              "      <td>58.000000</td>\n",
              "      <td>56.750000</td>\n",
              "    </tr>\n",
              "    <tr>\n",
              "      <th>50%</th>\n",
              "      <td>14517.500000</td>\n",
              "      <td>81.000000</td>\n",
              "      <td>75.500000</td>\n",
              "      <td>72.000000</td>\n",
              "    </tr>\n",
              "    <tr>\n",
              "      <th>75%</th>\n",
              "      <td>16398.000000</td>\n",
              "      <td>91.000000</td>\n",
              "      <td>85.250000</td>\n",
              "      <td>84.250000</td>\n",
              "    </tr>\n",
              "    <tr>\n",
              "      <th>max</th>\n",
              "      <td>19682.000000</td>\n",
              "      <td>100.000000</td>\n",
              "      <td>100.000000</td>\n",
              "      <td>100.000000</td>\n",
              "    </tr>\n",
              "  </tbody>\n",
              "</table>\n",
              "</div>"
            ],
            "text/plain": [
              "                 id        머신러닝         딥러닝         파이썬\n",
              "count    100.000000  100.000000  100.000000  100.000000\n",
              "mean   14529.200000   83.120000   73.880000   70.010000\n",
              "std     2894.735413    8.997508   15.690362   16.577638\n",
              "min    10029.000000   70.000000   50.000000   40.000000\n",
              "25%    12086.000000   75.000000   58.000000   56.750000\n",
              "50%    14517.500000   81.000000   75.500000   72.000000\n",
              "75%    16398.000000   91.000000   85.250000   84.250000\n",
              "max    19682.000000  100.000000  100.000000  100.000000"
            ]
          },
          "metadata": {
            "tags": []
          },
          "execution_count": 10
        }
      ]
    },
    {
      "cell_type": "code",
      "metadata": {
        "id": "FdJx_7SV4UZ3",
        "colab_type": "code",
        "colab": {
          "base_uri": "https://localhost:8080/",
          "height": 125
        },
        "outputId": "a3039bf1-b8ba-46a9-8ff0-bb65c6c29ede"
      },
      "source": [
        "# 구글 드라이브 연동을 위해 필요\n",
        "from google.colab import drive\n",
        "drive.mount('/g') #구글 드라이브를 임의의 명칭으로 지정합니다\n",
        "# 구글 로그인을 위한 인증코드를 받아서 입력해줍니다"
      ],
      "execution_count": null,
      "outputs": [
        {
          "output_type": "stream",
          "text": [
            "Go to this URL in a browser: https://accounts.google.com/o/oauth2/auth?client_id=947318989803-6bn6qk8qdgf4n4g3pfee6491hc0brc4i.apps.googleusercontent.com&redirect_uri=urn%3aietf%3awg%3aoauth%3a2.0%3aoob&scope=email%20https%3a%2f%2fwww.googleapis.com%2fauth%2fdocs.test%20https%3a%2f%2fwww.googleapis.com%2fauth%2fdrive%20https%3a%2f%2fwww.googleapis.com%2fauth%2fdrive.photos.readonly%20https%3a%2f%2fwww.googleapis.com%2fauth%2fpeopleapi.readonly&response_type=code\n",
            "\n",
            "Enter your authorization code:\n",
            "··········\n",
            "Mounted at /g\n"
          ],
          "name": "stdout"
        }
      ]
    },
    {
      "cell_type": "code",
      "metadata": {
        "id": "OyiYLIMn4NMz",
        "colab_type": "code",
        "colab": {}
      },
      "source": [
        "\n",
        "# 성적 데이터를 저장해봅시다\n",
        "grade_df.to_csv('/g/My Drive/ML_DL_202002/grade.csv', encoding='cp949', index = False) "
      ],
      "execution_count": null,
      "outputs": []
    },
    {
      "cell_type": "code",
      "metadata": {
        "id": "DdjnM7QL4fHz",
        "colab_type": "code",
        "colab": {}
      },
      "source": [
        ""
      ],
      "execution_count": null,
      "outputs": []
    }
  ]
}