{
  "nbformat": 4,
  "nbformat_minor": 0,
  "metadata": {
    "kernelspec": {
      "name": "python36",
      "display_name": "Python 3.6",
      "language": "python"
    },
    "language_info": {
      "mimetype": "text/x-python",
      "nbconvert_exporter": "python",
      "name": "python",
      "pygments_lexer": "ipython3",
      "version": "3.6.6",
      "file_extension": ".py",
      "codemirror_mode": {
        "version": 3,
        "name": "ipython"
      }
    },
    "colab": {
      "name": "2-5. Function.ipynb",
      "provenance": [],
      "collapsed_sections": [],
      "include_colab_link": true
    }
  },
  "cells": [
    {
      "cell_type": "markdown",
      "metadata": {
        "id": "view-in-github",
        "colab_type": "text"
      },
      "source": [
        "<a href=\"https://colab.research.google.com/github/joohoshin/MLDL_Basic/blob/master/2_5_Function.ipynb\" target=\"_parent\"><img src=\"https://colab.research.google.com/assets/colab-badge.svg\" alt=\"Open In Colab\"/></a>"
      ]
    },
    {
      "cell_type": "markdown",
      "metadata": {
        "collapsed": true,
        "id": "re6qoRpXHVi-",
        "colab_type": "text"
      },
      "source": [
        "# Function\n",
        "* 함수를 만들어서 반복작업을 쉽도록 만든다. \n",
        "* def 함수명(입력변수):\n",
        "     - 실행문"
      ]
    },
    {
      "cell_type": "code",
      "metadata": {
        "trusted": true,
        "id": "gpSQTl-lHVjA",
        "colab_type": "code",
        "colab": {}
      },
      "source": [
        "def 직사각형넓이(가로, 세로):\n",
        "    area = 가로 * 세로\n",
        "    print(area)"
      ],
      "execution_count": null,
      "outputs": []
    },
    {
      "cell_type": "code",
      "metadata": {
        "trusted": true,
        "id": "OCUvsHJAHVjJ",
        "colab_type": "code",
        "colab": {
          "base_uri": "https://localhost:8080/",
          "height": 34
        },
        "outputId": "cc3447da-01af-4711-8446-55a9f6bfb9a6"
      },
      "source": [
        "직사각형넓이(10,20)"
      ],
      "execution_count": null,
      "outputs": [
        {
          "output_type": "stream",
          "text": [
            "200\n"
          ],
          "name": "stdout"
        }
      ]
    },
    {
      "cell_type": "code",
      "metadata": {
        "trusted": true,
        "id": "Q0boJ38lHVjP",
        "colab_type": "code",
        "colab": {
          "base_uri": "https://localhost:8080/",
          "height": 34
        },
        "outputId": "8b674cbc-144b-4f1c-dc4f-66f366e84e60"
      },
      "source": [
        "직사각형넓이(100,300)"
      ],
      "execution_count": null,
      "outputs": [
        {
          "output_type": "stream",
          "text": [
            "30000\n"
          ],
          "name": "stdout"
        }
      ]
    },
    {
      "cell_type": "markdown",
      "metadata": {
        "id": "-g5M-gVgHVjT",
        "colab_type": "text"
      },
      "source": [
        "* return 반환값을 적어주면 함수의 값을 변수로 넘겨받아서 사용할 수 있다"
      ]
    },
    {
      "cell_type": "code",
      "metadata": {
        "trusted": true,
        "id": "tU16PbxQHVjX",
        "colab_type": "code",
        "colab": {}
      },
      "source": [
        "def BMI(체중, 신장): # 체중은 kg, 신장은 cm로 입력 받는다고 가정\n",
        "    return 체중/(신장/100)**2"
      ],
      "execution_count": null,
      "outputs": []
    },
    {
      "cell_type": "code",
      "metadata": {
        "id": "XNZnzrwytwMT",
        "colab_type": "code",
        "colab": {}
      },
      "source": [
        "a=BMI(70, 170)"
      ],
      "execution_count": null,
      "outputs": []
    },
    {
      "cell_type": "code",
      "metadata": {
        "id": "XOz2OZKut6Qv",
        "colab_type": "code",
        "colab": {
          "base_uri": "https://localhost:8080/",
          "height": 34
        },
        "outputId": "925e3c45-1852-4b9c-84c5-971786385c6a"
      },
      "source": [
        "print(a)\n"
      ],
      "execution_count": null,
      "outputs": [
        {
          "output_type": "stream",
          "text": [
            "24.221453287197235\n"
          ],
          "name": "stdout"
        }
      ]
    },
    {
      "cell_type": "code",
      "metadata": {
        "id": "VBeAqdJit-52",
        "colab_type": "code",
        "colab": {
          "base_uri": "https://localhost:8080/",
          "height": 34
        },
        "outputId": "217f95bc-676e-48ce-fff2-c5cd7b84c976"
      },
      "source": [
        "b=직사각형넓이(100,300)"
      ],
      "execution_count": null,
      "outputs": [
        {
          "output_type": "stream",
          "text": [
            "30000\n"
          ],
          "name": "stdout"
        }
      ]
    },
    {
      "cell_type": "code",
      "metadata": {
        "id": "Quz2-MixuDbA",
        "colab_type": "code",
        "colab": {
          "base_uri": "https://localhost:8080/",
          "height": 34
        },
        "outputId": "644773d7-148f-42f0-fb6d-5803f4338329"
      },
      "source": [
        "print(b)"
      ],
      "execution_count": null,
      "outputs": [
        {
          "output_type": "stream",
          "text": [
            "None\n"
          ],
          "name": "stdout"
        }
      ]
    },
    {
      "cell_type": "code",
      "metadata": {
        "trusted": true,
        "id": "szeLg8KoHVjb",
        "colab_type": "code",
        "colab": {
          "base_uri": "https://localhost:8080/",
          "height": 34
        },
        "outputId": "6741c0ae-e966-425a-aba4-ddf91d0b8dd8"
      },
      "source": [
        "bmi1 = BMI(80, 175)\n",
        "bmi2 = BMI(60, 180)\n",
        "\n",
        "if bmi1>bmi2: \n",
        "    print('bmi1이 더 큽니다')\n",
        "else: \n",
        "    print('bmi2가 더 큽니다 ')\n",
        "\n"
      ],
      "execution_count": null,
      "outputs": [
        {
          "output_type": "stream",
          "text": [
            "bmi1이 더 큽니다\n"
          ],
          "name": "stdout"
        }
      ]
    },
    {
      "cell_type": "markdown",
      "metadata": {
        "id": "2bnd1y30HVje",
        "colab_type": "text"
      },
      "source": [
        "* ??함수명 을 사용하면 함수의 도움말이나 함수의 코드가 나온다"
      ]
    },
    {
      "cell_type": "code",
      "metadata": {
        "trusted": true,
        "id": "9fMRymUeHVjf",
        "colab_type": "code",
        "colab": {}
      },
      "source": [
        "??print"
      ],
      "execution_count": null,
      "outputs": []
    },
    {
      "cell_type": "code",
      "metadata": {
        "trusted": true,
        "id": "57Y0ekiEHVji",
        "colab_type": "code",
        "colab": {}
      },
      "source": [
        "??BMI"
      ],
      "execution_count": null,
      "outputs": []
    },
    {
      "cell_type": "markdown",
      "metadata": {
        "id": "zh0nxeNVHVjn",
        "colab_type": "text"
      },
      "source": [
        "# 활용: 숫자의 합을 구하는 함수 만들기"
      ]
    },
    {
      "cell_type": "markdown",
      "metadata": {
        "id": "Wz6MCGCeHVjn",
        "colab_type": "text"
      },
      "source": [
        "* 함수 미 사용시"
      ]
    },
    {
      "cell_type": "code",
      "metadata": {
        "trusted": true,
        "id": "FgEi9WDeHVjo",
        "colab_type": "code",
        "colab": {
          "base_uri": "https://localhost:8080/",
          "height": 34
        },
        "outputId": "15018214-e97d-4f79-f6b4-38d405cb82c6"
      },
      "source": [
        "start_num = 1\n",
        "end_num = 100\n",
        "sum_ = 0\n",
        "for i in range(start_num, end_num+1):\n",
        "    sum_ += i # sum_ = sum_ + i\n",
        "print(sum_)"
      ],
      "execution_count": null,
      "outputs": [
        {
          "output_type": "stream",
          "text": [
            "5050\n"
          ],
          "name": "stdout"
        }
      ]
    },
    {
      "cell_type": "markdown",
      "metadata": {
        "id": "z60gtVAQHVjr",
        "colab_type": "text"
      },
      "source": [
        "* 함수 사용 시"
      ]
    },
    {
      "cell_type": "code",
      "metadata": {
        "trusted": true,
        "id": "4uItfbUTHVjr",
        "colab_type": "code",
        "colab": {}
      },
      "source": [
        "def sum_num(start_num, end_num):\n",
        "    sum_=0\n",
        "    for i in range(start_num, end_num+1):\n",
        "        sum_ += i\n",
        "    return sum_\n"
      ],
      "execution_count": null,
      "outputs": []
    },
    {
      "cell_type": "code",
      "metadata": {
        "id": "ScYn2PHkvThV",
        "colab_type": "code",
        "colab": {
          "base_uri": "https://localhost:8080/",
          "height": 34
        },
        "outputId": "1578b7fc-9715-4022-894c-428ff82ac9c6"
      },
      "source": [
        "sum1 = sum_num(1,100)\n",
        "sum2 = sum_num(50, 110)\n",
        "if sum1> sum2:\n",
        "    print('sum1이 큽니다')\n",
        "else: print('sum2가 큽니다')"
      ],
      "execution_count": null,
      "outputs": [
        {
          "output_type": "stream",
          "text": [
            "sum1이 큽니다\n"
          ],
          "name": "stdout"
        }
      ]
    },
    {
      "cell_type": "markdown",
      "metadata": {
        "id": "IADw5ED-HVju",
        "colab_type": "text"
      },
      "source": [
        "* 함수사용 , 입력한 숫자의 배수 합계 구하기"
      ]
    },
    {
      "cell_type": "code",
      "metadata": {
        "trusted": true,
        "id": "k1Fo72-jHVju",
        "colab_type": "code",
        "colab": {
          "base_uri": "https://localhost:8080/",
          "height": 34
        },
        "outputId": "583d86b2-6f0d-46f4-87b5-161d56823b79"
      },
      "source": [
        "def sum_num2(start_num, end_num, n):\n",
        "    sum_=0\n",
        "    for i in range(start_num, end_num+1):\n",
        "        if i % n==0:\n",
        "            #print(i)\n",
        "            sum_ += i\n",
        "    return sum_\n",
        "sum1 = sum_num2(1,20,3)\n",
        "print('총합계는',sum1)"
      ],
      "execution_count": null,
      "outputs": [
        {
          "output_type": "stream",
          "text": [
            "총합계는 63\n"
          ],
          "name": "stdout"
        }
      ]
    },
    {
      "cell_type": "code",
      "metadata": {
        "trusted": true,
        "id": "KACBKTxpHVjx",
        "colab_type": "code",
        "colab": {
          "base_uri": "https://localhost:8080/",
          "height": 34
        },
        "outputId": "57c747ef-ab41-45bc-b8f5-a10e891f8d94"
      },
      "source": [
        "sum2 = sum_num2(3,1000, 7)\n",
        "print('sum2 합계', sum2)"
      ],
      "execution_count": null,
      "outputs": [
        {
          "output_type": "stream",
          "text": [
            "sum2 합계 71071\n"
          ],
          "name": "stdout"
        }
      ]
    },
    {
      "cell_type": "markdown",
      "metadata": {
        "id": "gpqDRLO8HmOD",
        "colab_type": "text"
      },
      "source": [
        "*   리턴값은 2개 이상도 가능합니다. "
      ]
    },
    {
      "cell_type": "code",
      "metadata": {
        "trusted": true,
        "id": "2-oLX8BKHVjz",
        "colab_type": "code",
        "colab": {
          "base_uri": "https://localhost:8080/",
          "height": 34
        },
        "outputId": "a6e95574-be96-4903-b0c8-cf478d6a7cfc"
      },
      "source": [
        "def sum_num3(start_num, end_num, n):\n",
        "    sum_=0\n",
        "    cnt = 0\n",
        "    for i in range(start_num, end_num+1):\n",
        "        if i % n==0:\n",
        "            #print(i)\n",
        "            sum_ += i\n",
        "            cnt += 1\n",
        "    return sum_, cnt\n",
        "sum3, cnt = sum_num3(1,20,3)\n",
        "print('총합계는',sum3, '배수의 개수는', cnt)"
      ],
      "execution_count": null,
      "outputs": [
        {
          "output_type": "stream",
          "text": [
            "총합계는 63 배수의 개수는 6\n"
          ],
          "name": "stdout"
        }
      ]
    },
    {
      "cell_type": "code",
      "metadata": {
        "id": "c4i5_43kHqtn",
        "colab_type": "code",
        "colab": {}
      },
      "source": [
        ""
      ],
      "execution_count": null,
      "outputs": []
    }
  ]
}