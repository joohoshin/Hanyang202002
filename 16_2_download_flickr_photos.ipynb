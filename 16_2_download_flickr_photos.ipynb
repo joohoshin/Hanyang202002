{
  "nbformat": 4,
  "nbformat_minor": 0,
  "metadata": {
    "kernelspec": {
      "display_name": "Python 3",
      "language": "python",
      "name": "python3"
    },
    "language_info": {
      "codemirror_mode": {
        "name": "ipython",
        "version": 3
      },
      "file_extension": ".py",
      "mimetype": "text/x-python",
      "name": "python",
      "nbconvert_exporter": "python",
      "pygments_lexer": "ipython3",
      "version": "3.6.0"
    },
    "colab": {
      "name": "16-2. download_flickr_photos.ipynb",
      "provenance": [],
      "collapsed_sections": [],
      "include_colab_link": true
    }
  },
  "cells": [
    {
      "cell_type": "markdown",
      "metadata": {
        "id": "view-in-github",
        "colab_type": "text"
      },
      "source": [
        "<a href=\"https://colab.research.google.com/github/joohoshin/MLDL_Basic/blob/master/16_2_download_flickr_photos.ipynb\" target=\"_parent\"><img src=\"https://colab.research.google.com/assets/colab-badge.svg\" alt=\"Open In Colab\"/></a>"
      ]
    },
    {
      "cell_type": "markdown",
      "metadata": {
        "id": "BJVFxllfPZak"
      },
      "source": [
        "flickr를 통해서 웹에서 사진을 다운 받는 방법을 알아봅시다\n",
        "\n",
        "https://towardsdatascience.com/classify-butterfly-images-with-deep-learning-in-keras-b3101fe0f98\n"
      ]
    },
    {
      "cell_type": "code",
      "metadata": {
        "id": "FOokkWIzQdQO",
        "outputId": "01a7b29f-a9c8-4d73-ed4e-44057d695e88",
        "colab": {
          "base_uri": "https://localhost:8080/"
        }
      },
      "source": [
        "!pip install flickrapi"
      ],
      "execution_count": null,
      "outputs": [
        {
          "output_type": "stream",
          "text": [
            "Requirement already satisfied: flickrapi in /usr/local/lib/python3.6/dist-packages (2.4.0)\n",
            "Requirement already satisfied: requests-toolbelt>=0.3.1 in /usr/local/lib/python3.6/dist-packages (from flickrapi) (0.9.1)\n",
            "Requirement already satisfied: six>=1.5.2 in /usr/local/lib/python3.6/dist-packages (from flickrapi) (1.15.0)\n",
            "Requirement already satisfied: requests>=2.2.1 in /usr/local/lib/python3.6/dist-packages (from flickrapi) (2.23.0)\n",
            "Requirement already satisfied: requests-oauthlib>=0.4.0 in /usr/local/lib/python3.6/dist-packages (from flickrapi) (1.3.0)\n",
            "Requirement already satisfied: idna<3,>=2.5 in /usr/local/lib/python3.6/dist-packages (from requests>=2.2.1->flickrapi) (2.10)\n",
            "Requirement already satisfied: urllib3!=1.25.0,!=1.25.1,<1.26,>=1.21.1 in /usr/local/lib/python3.6/dist-packages (from requests>=2.2.1->flickrapi) (1.24.3)\n",
            "Requirement already satisfied: certifi>=2017.4.17 in /usr/local/lib/python3.6/dist-packages (from requests>=2.2.1->flickrapi) (2020.6.20)\n",
            "Requirement already satisfied: chardet<4,>=3.0.2 in /usr/local/lib/python3.6/dist-packages (from requests>=2.2.1->flickrapi) (3.0.4)\n",
            "Requirement already satisfied: oauthlib>=3.0.0 in /usr/local/lib/python3.6/dist-packages (from requests-oauthlib>=0.4.0->flickrapi) (3.1.0)\n"
          ],
          "name": "stdout"
        }
      ]
    },
    {
      "cell_type": "markdown",
      "metadata": {
        "id": "uNCPS2GYSyL9"
      },
      "source": [
        "flickr search api 문서\n",
        "\n",
        "https://www.flickr.com/services/api/flickr.photos.search.html\n",
        "\n",
        "flickrapi 문서\n",
        "\n",
        "https://pypi.python.org/pypi/flickrapi"
      ]
    },
    {
      "cell_type": "code",
      "metadata": {
        "id": "MtYMvrhZUSaC",
        "outputId": "bca61d06-e88b-4a3a-dfe7-68f46240c1b2",
        "colab": {
          "base_uri": "https://localhost:8080/"
        }
      },
      "source": [
        "from google.colab import drive\n",
        "drive.mount('/g')"
      ],
      "execution_count": null,
      "outputs": [
        {
          "output_type": "stream",
          "text": [
            "Mounted at /g\n"
          ],
          "name": "stdout"
        }
      ]
    },
    {
      "cell_type": "code",
      "metadata": {
        "id": "lCwPUtNPQZvv"
      },
      "source": [
        "from flickrapi import FlickrAPI  \n",
        "import time\n",
        "\n",
        "apikey='f68e1737cc5b1a1d394803b602cbbeba'\n",
        "apisecret= 'b2c77120f11fbc78'\n",
        "\n",
        "keyword= 'meadow brown butterfly'\n",
        "size='url_q'\n",
        "\n",
        "# 사진 요청\n",
        "flickr = FlickrAPI(apikey, apisecret)\n",
        "photos = flickr.walk(\n",
        "              text=keyword,\n",
        "              extras=size,\n",
        "              license='1,2,4,5',\n",
        "              per_page=50)        \n"
      ],
      "execution_count": null,
      "outputs": []
    },
    {
      "cell_type": "code",
      "metadata": {
        "id": "SKHJRHztmJJf",
        "outputId": "5644bdf3-c0c3-435c-a3e0-e394abf30d70",
        "colab": {
          "base_uri": "https://localhost:8080/"
        }
      },
      "source": [
        "count =0\n",
        "for photh in photos:\n",
        "  count +=1\n",
        "  if count>10: break\n",
        "  url = photo.get(size)\n",
        "  print(url)"
      ],
      "execution_count": null,
      "outputs": [
        {
          "output_type": "stream",
          "text": [
            "https://live.staticflickr.com/65535/50037669913_0329a023b4_q.jpg\n",
            "https://live.staticflickr.com/65535/50037669913_0329a023b4_q.jpg\n",
            "https://live.staticflickr.com/65535/50037669913_0329a023b4_q.jpg\n",
            "https://live.staticflickr.com/65535/50037669913_0329a023b4_q.jpg\n",
            "https://live.staticflickr.com/65535/50037669913_0329a023b4_q.jpg\n",
            "https://live.staticflickr.com/65535/50037669913_0329a023b4_q.jpg\n",
            "https://live.staticflickr.com/65535/50037669913_0329a023b4_q.jpg\n",
            "https://live.staticflickr.com/65535/50037669913_0329a023b4_q.jpg\n",
            "https://live.staticflickr.com/65535/50037669913_0329a023b4_q.jpg\n",
            "https://live.staticflickr.com/65535/50037669913_0329a023b4_q.jpg\n"
          ],
          "name": "stdout"
        }
      ]
    },
    {
      "cell_type": "code",
      "metadata": {
        "id": "oQYWSw5iUzZh",
        "outputId": "a7cf3337-83bb-41bb-82b1-558534838c05",
        "colab": {
          "base_uri": "https://localhost:8080/"
        }
      },
      "source": [
        "import requests\n",
        "\n",
        "num_image = 50\n",
        "path = '/g/My Drive/ML_DL_202002/butterfly/'\n",
        "\n",
        "urls = []\n",
        "count = 0\n",
        "for photo in photos: #photos에 이미지 주소가 있음\n",
        "    count += 1        \n",
        "    if count>num_image: break  # 빠져나가지 않으면 계속 가져옴, 하루 개수 제한이 있으므로, 지정한 개수만 받도록 함\n",
        "    print(count)\n",
        "    try:\n",
        "        url=photo.get(size)\n",
        "        print(url)\n",
        "        img = requests.get(url).content\n",
        "        file = open(path+keyword+str(count)+'.jpg', 'wb') #지정 경로에 파일 저장\n",
        "        file.write(img)\n",
        "        file.close()        \n",
        "    except Exception as e: # 오류 발생 시 표시\n",
        "        print(e, 'Download failure')"
      ],
      "execution_count": null,
      "outputs": [
        {
          "output_type": "stream",
          "text": [
            "1\n",
            "https://live.staticflickr.com/65535/50274637971_3c9d53bc92_q.jpg\n",
            "2\n",
            "https://live.staticflickr.com/65535/50270252907_257d3b640b_q.jpg\n",
            "3\n",
            "https://live.staticflickr.com/65535/50254423188_e674ba8320_q.jpg\n",
            "4\n",
            "https://live.staticflickr.com/65535/50236538883_7831e1f4c5_q.jpg\n",
            "5\n",
            "https://live.staticflickr.com/65535/50228671658_1ec4cf6f7f_q.jpg\n",
            "6\n",
            "https://live.staticflickr.com/65535/50221707056_5a092f911e_q.jpg\n",
            "7\n",
            "https://live.staticflickr.com/65535/50221144431_1c04c4a2d0_q.jpg\n",
            "8\n",
            "https://live.staticflickr.com/65535/50218390838_c8daac96b2_q.jpg\n",
            "9\n",
            "https://live.staticflickr.com/65535/50215246602_4ed8a427d1_q.jpg\n",
            "10\n",
            "https://live.staticflickr.com/65535/50195798268_cee8db1f39_q.jpg\n",
            "11\n",
            "https://live.staticflickr.com/65535/50188177701_b59411875f_q.jpg\n",
            "12\n",
            "https://live.staticflickr.com/65535/50184406603_ea7fa06bfc_q.jpg\n",
            "13\n",
            "https://live.staticflickr.com/65535/50159227327_7f89bafb75_q.jpg\n",
            "14\n",
            "https://live.staticflickr.com/65535/50154062096_c561d7b89e_q.jpg\n",
            "15\n",
            "https://live.staticflickr.com/65535/50144413982_c27eafb0ed_q.jpg\n",
            "16\n",
            "https://live.staticflickr.com/65535/50138057347_74fe9ec20e_q.jpg\n",
            "17\n",
            "https://live.staticflickr.com/65535/50134523231_c0e4737c48_q.jpg\n",
            "18\n",
            "https://live.staticflickr.com/65535/50133655936_db50c3a0eb_q.jpg\n",
            "19\n",
            "https://live.staticflickr.com/65535/50130739781_a3ddd8e1d3_q.jpg\n",
            "20\n",
            "https://live.staticflickr.com/65535/50125852121_5391028667_q.jpg\n",
            "21\n",
            "https://live.staticflickr.com/65535/50125332371_1f5924fcb8_q.jpg\n",
            "22\n",
            "https://live.staticflickr.com/65535/50124491343_ef766ba32a_q.jpg\n",
            "23\n",
            "https://live.staticflickr.com/65535/50123179411_f47fbeb998_q.jpg\n",
            "24\n",
            "https://live.staticflickr.com/65535/50123083631_825943312c_q.jpg\n",
            "25\n",
            "https://live.staticflickr.com/65535/50111373876_a5a8189e70_q.jpg\n",
            "26\n",
            "https://live.staticflickr.com/65535/50104329708_a9aef1b74e_q.jpg\n",
            "27\n",
            "https://live.staticflickr.com/65535/50100238963_14f2fcc144_q.jpg\n",
            "28\n",
            "https://live.staticflickr.com/65535/50099563703_ff3803019b_q.jpg\n",
            "29\n",
            "https://live.staticflickr.com/65535/50093534618_06751db162_q.jpg\n",
            "30\n",
            "https://live.staticflickr.com/65535/50087396777_34be4b250e_q.jpg\n",
            "31\n",
            "https://live.staticflickr.com/65535/50067512481_649d6fd88e_q.jpg\n",
            "32\n",
            "https://live.staticflickr.com/65535/50065357782_57cd094102_q.jpg\n",
            "33\n",
            "https://live.staticflickr.com/65535/50064286397_33433e4ca1_q.jpg\n",
            "34\n",
            "https://live.staticflickr.com/65535/50058333018_11bfdc5d5f_q.jpg\n",
            "35\n",
            "https://live.staticflickr.com/65535/50058332943_48e0636f54_q.jpg\n",
            "36\n",
            "https://live.staticflickr.com/65535/50058337891_f060d3d068_q.jpg\n",
            "37\n",
            "https://live.staticflickr.com/65535/50050935097_49d858bd2f_q.jpg\n",
            "38\n",
            "https://live.staticflickr.com/65535/50085804828_13b54450fd_q.jpg\n",
            "39\n",
            "https://live.staticflickr.com/65535/50086386236_296216c1d1_q.jpg\n",
            "40\n",
            "https://live.staticflickr.com/65535/50037669913_0329a023b4_q.jpg\n",
            "41\n",
            "https://live.staticflickr.com/65535/50037204623_eb8df813f9_q.jpg\n",
            "42\n",
            "https://live.staticflickr.com/65535/50037584791_e24effdb7e_q.jpg\n",
            "43\n",
            "https://live.staticflickr.com/65535/50036941292_ebf48c30da_q.jpg\n",
            "44\n",
            "https://live.staticflickr.com/65535/50033644408_52db042998_q.jpg\n",
            "45\n",
            "https://live.staticflickr.com/65535/50026706806_e19d686025_q.jpg\n",
            "46\n",
            "https://live.staticflickr.com/65535/50018467602_13cbc4bfb3_q.jpg\n",
            "47\n",
            "https://live.staticflickr.com/65535/50017365507_dbaf1c7dbd_q.jpg\n",
            "48\n",
            "https://live.staticflickr.com/65535/50014267042_7eb47f5336_q.jpg\n",
            "49\n",
            "https://live.staticflickr.com/65535/50012659222_d357925c13_q.jpg\n",
            "50\n",
            "https://live.staticflickr.com/65535/50010178896_f54534da87_q.jpg\n"
          ],
          "name": "stdout"
        }
      ]
    },
    {
      "cell_type": "code",
      "metadata": {
        "id": "Vek_z_w4VH1S"
      },
      "source": [
        ""
      ],
      "execution_count": null,
      "outputs": []
    }
  ]
}