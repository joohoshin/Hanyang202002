{
  "nbformat": 4,
  "nbformat_minor": 0,
  "metadata": {
    "kernelspec": {
      "name": "python3",
      "display_name": "Python 3",
      "language": "python"
    },
    "language_info": {
      "mimetype": "text/x-python",
      "nbconvert_exporter": "python",
      "name": "python",
      "pygments_lexer": "ipython3",
      "version": "3.5.4",
      "file_extension": ".py",
      "codemirror_mode": {
        "version": 3,
        "name": "ipython"
      }
    },
    "colab": {
      "name": "5-1. 조건 검색.ipynb",
      "provenance": [],
      "include_colab_link": true
    }
  },
  "cells": [
    {
      "cell_type": "markdown",
      "metadata": {
        "id": "view-in-github",
        "colab_type": "text"
      },
      "source": [
        "<a href=\"https://colab.research.google.com/github/joohoshin/MLDL_Basic/blob/master/5_1_%EC%A1%B0%EA%B1%B4_%EA%B2%80%EC%83%89.ipynb\" target=\"_parent\"><img src=\"https://colab.research.google.com/assets/colab-badge.svg\" alt=\"Open In Colab\"/></a>"
      ]
    },
    {
      "cell_type": "markdown",
      "metadata": {
        "id": "OshWSQr2wVek",
        "colab_type": "text"
      },
      "source": [
        "# 조건 검색\n",
        "* pandas에서는 특정 조건을 만족하는 행만 쉽게 추출할 수 있습니다"
      ]
    },
    {
      "cell_type": "code",
      "metadata": {
        "id": "JsO2Q21qwc1c",
        "colab_type": "code",
        "colab": {
          "base_uri": "https://localhost:8080/",
          "height": 125
        },
        "outputId": "261fe431-9960-4c9d-fc5b-c474f3c63e67"
      },
      "source": [
        "from google.colab import drive\n",
        "drive.mount('/g')"
      ],
      "execution_count": null,
      "outputs": [
        {
          "output_type": "stream",
          "text": [
            "Go to this URL in a browser: https://accounts.google.com/o/oauth2/auth?client_id=947318989803-6bn6qk8qdgf4n4g3pfee6491hc0brc4i.apps.googleusercontent.com&redirect_uri=urn%3aietf%3awg%3aoauth%3a2.0%3aoob&scope=email%20https%3a%2f%2fwww.googleapis.com%2fauth%2fdocs.test%20https%3a%2f%2fwww.googleapis.com%2fauth%2fdrive%20https%3a%2f%2fwww.googleapis.com%2fauth%2fdrive.photos.readonly%20https%3a%2f%2fwww.googleapis.com%2fauth%2fpeopleapi.readonly&response_type=code\n",
            "\n",
            "Enter your authorization code:\n",
            "4/4AFWYR9CokUg35I_Emq6LoABqGkHvk5Ex5egKTWVd6uc5JtfOw-dsc0\n",
            "Mounted at /g\n"
          ],
          "name": "stdout"
        }
      ]
    },
    {
      "cell_type": "code",
      "metadata": {
        "trusted": false,
        "id": "ds7grp0OwVel",
        "colab_type": "code",
        "colab": {}
      },
      "source": [
        "import pandas as pd\n",
        "\n",
        "# 지난 강의에서 만든 성적데이터를 불러와 봅시다\n",
        "grade = pd.read_csv('/g/My Drive/ML_DL_202002/grade.csv', index_col = 'id') # 인덱스 컬럼 지정"
      ],
      "execution_count": null,
      "outputs": []
    },
    {
      "cell_type": "code",
      "metadata": {
        "trusted": false,
        "id": "qKCOWzqswVes",
        "colab_type": "code",
        "colab": {
          "base_uri": "https://localhost:8080/",
          "height": 431
        },
        "outputId": "1fce2d85-5c3b-410a-80b5-175d33aff2fa"
      },
      "source": [
        "grade"
      ],
      "execution_count": null,
      "outputs": [
        {
          "output_type": "execute_result",
          "data": {
            "text/html": [
              "<div>\n",
              "<style scoped>\n",
              "    .dataframe tbody tr th:only-of-type {\n",
              "        vertical-align: middle;\n",
              "    }\n",
              "\n",
              "    .dataframe tbody tr th {\n",
              "        vertical-align: top;\n",
              "    }\n",
              "\n",
              "    .dataframe thead th {\n",
              "        text-align: right;\n",
              "    }\n",
              "</style>\n",
              "<table border=\"1\" class=\"dataframe\">\n",
              "  <thead>\n",
              "    <tr style=\"text-align: right;\">\n",
              "      <th></th>\n",
              "      <th>머신러닝</th>\n",
              "      <th>딥러닝</th>\n",
              "      <th>파이썬</th>\n",
              "    </tr>\n",
              "    <tr>\n",
              "      <th>id</th>\n",
              "      <th></th>\n",
              "      <th></th>\n",
              "      <th></th>\n",
              "    </tr>\n",
              "  </thead>\n",
              "  <tbody>\n",
              "    <tr>\n",
              "      <th>12250</th>\n",
              "      <td>70</td>\n",
              "      <td>71</td>\n",
              "      <td>48</td>\n",
              "    </tr>\n",
              "    <tr>\n",
              "      <th>18711</th>\n",
              "      <td>74</td>\n",
              "      <td>67</td>\n",
              "      <td>93</td>\n",
              "    </tr>\n",
              "    <tr>\n",
              "      <th>13660</th>\n",
              "      <td>90</td>\n",
              "      <td>58</td>\n",
              "      <td>74</td>\n",
              "    </tr>\n",
              "    <tr>\n",
              "      <th>14831</th>\n",
              "      <td>82</td>\n",
              "      <td>76</td>\n",
              "      <td>69</td>\n",
              "    </tr>\n",
              "    <tr>\n",
              "      <th>18425</th>\n",
              "      <td>70</td>\n",
              "      <td>55</td>\n",
              "      <td>43</td>\n",
              "    </tr>\n",
              "    <tr>\n",
              "      <th>...</th>\n",
              "      <td>...</td>\n",
              "      <td>...</td>\n",
              "      <td>...</td>\n",
              "    </tr>\n",
              "    <tr>\n",
              "      <th>10170</th>\n",
              "      <td>98</td>\n",
              "      <td>55</td>\n",
              "      <td>60</td>\n",
              "    </tr>\n",
              "    <tr>\n",
              "      <th>12298</th>\n",
              "      <td>87</td>\n",
              "      <td>75</td>\n",
              "      <td>40</td>\n",
              "    </tr>\n",
              "    <tr>\n",
              "      <th>15967</th>\n",
              "      <td>71</td>\n",
              "      <td>51</td>\n",
              "      <td>48</td>\n",
              "    </tr>\n",
              "    <tr>\n",
              "      <th>15749</th>\n",
              "      <td>94</td>\n",
              "      <td>84</td>\n",
              "      <td>76</td>\n",
              "    </tr>\n",
              "    <tr>\n",
              "      <th>18402</th>\n",
              "      <td>81</td>\n",
              "      <td>62</td>\n",
              "      <td>54</td>\n",
              "    </tr>\n",
              "  </tbody>\n",
              "</table>\n",
              "<p>100 rows × 3 columns</p>\n",
              "</div>"
            ],
            "text/plain": [
              "       머신러닝  딥러닝  파이썬\n",
              "id                   \n",
              "12250    70   71   48\n",
              "18711    74   67   93\n",
              "13660    90   58   74\n",
              "14831    82   76   69\n",
              "18425    70   55   43\n",
              "...     ...  ...  ...\n",
              "10170    98   55   60\n",
              "12298    87   75   40\n",
              "15967    71   51   48\n",
              "15749    94   84   76\n",
              "18402    81   62   54\n",
              "\n",
              "[100 rows x 3 columns]"
            ]
          },
          "metadata": {
            "tags": []
          },
          "execution_count": 3
        }
      ]
    },
    {
      "cell_type": "markdown",
      "metadata": {
        "id": "mpL01FN_wVez",
        "colab_type": "text"
      },
      "source": [
        "* df.query()를 사용해서 특정 조건만 추출할 수 있습니다"
      ]
    },
    {
      "cell_type": "code",
      "metadata": {
        "trusted": false,
        "id": "nJTxNwGNwVe0",
        "colab_type": "code",
        "colab": {}
      },
      "source": [
        "머신러닝A = grade.query('머신러닝>=90')"
      ],
      "execution_count": null,
      "outputs": []
    },
    {
      "cell_type": "code",
      "metadata": {
        "trusted": false,
        "id": "Ikd5kaslwVe5",
        "colab_type": "code",
        "colab": {
          "base_uri": "https://localhost:8080/",
          "height": 994
        },
        "outputId": "78f2f6d7-91ff-4923-eb78-1b3d96718fac"
      },
      "source": [
        "머신러닝A\n"
      ],
      "execution_count": null,
      "outputs": [
        {
          "output_type": "execute_result",
          "data": {
            "text/html": [
              "<div>\n",
              "<style scoped>\n",
              "    .dataframe tbody tr th:only-of-type {\n",
              "        vertical-align: middle;\n",
              "    }\n",
              "\n",
              "    .dataframe tbody tr th {\n",
              "        vertical-align: top;\n",
              "    }\n",
              "\n",
              "    .dataframe thead th {\n",
              "        text-align: right;\n",
              "    }\n",
              "</style>\n",
              "<table border=\"1\" class=\"dataframe\">\n",
              "  <thead>\n",
              "    <tr style=\"text-align: right;\">\n",
              "      <th></th>\n",
              "      <th>머신러닝</th>\n",
              "      <th>딥러닝</th>\n",
              "      <th>파이썬</th>\n",
              "    </tr>\n",
              "    <tr>\n",
              "      <th>id</th>\n",
              "      <th></th>\n",
              "      <th></th>\n",
              "      <th></th>\n",
              "    </tr>\n",
              "  </thead>\n",
              "  <tbody>\n",
              "    <tr>\n",
              "      <th>13660</th>\n",
              "      <td>90</td>\n",
              "      <td>58</td>\n",
              "      <td>74</td>\n",
              "    </tr>\n",
              "    <tr>\n",
              "      <th>12489</th>\n",
              "      <td>97</td>\n",
              "      <td>97</td>\n",
              "      <td>46</td>\n",
              "    </tr>\n",
              "    <tr>\n",
              "      <th>19010</th>\n",
              "      <td>97</td>\n",
              "      <td>60</td>\n",
              "      <td>91</td>\n",
              "    </tr>\n",
              "    <tr>\n",
              "      <th>14734</th>\n",
              "      <td>100</td>\n",
              "      <td>99</td>\n",
              "      <td>79</td>\n",
              "    </tr>\n",
              "    <tr>\n",
              "      <th>12101</th>\n",
              "      <td>92</td>\n",
              "      <td>50</td>\n",
              "      <td>78</td>\n",
              "    </tr>\n",
              "    <tr>\n",
              "      <th>11680</th>\n",
              "      <td>95</td>\n",
              "      <td>50</td>\n",
              "      <td>52</td>\n",
              "    </tr>\n",
              "    <tr>\n",
              "      <th>13992</th>\n",
              "      <td>94</td>\n",
              "      <td>86</td>\n",
              "      <td>43</td>\n",
              "    </tr>\n",
              "    <tr>\n",
              "      <th>18386</th>\n",
              "      <td>92</td>\n",
              "      <td>76</td>\n",
              "      <td>70</td>\n",
              "    </tr>\n",
              "    <tr>\n",
              "      <th>12154</th>\n",
              "      <td>99</td>\n",
              "      <td>69</td>\n",
              "      <td>83</td>\n",
              "    </tr>\n",
              "    <tr>\n",
              "      <th>14047</th>\n",
              "      <td>95</td>\n",
              "      <td>51</td>\n",
              "      <td>91</td>\n",
              "    </tr>\n",
              "    <tr>\n",
              "      <th>10142</th>\n",
              "      <td>90</td>\n",
              "      <td>99</td>\n",
              "      <td>66</td>\n",
              "    </tr>\n",
              "    <tr>\n",
              "      <th>17842</th>\n",
              "      <td>93</td>\n",
              "      <td>87</td>\n",
              "      <td>85</td>\n",
              "    </tr>\n",
              "    <tr>\n",
              "      <th>16798</th>\n",
              "      <td>90</td>\n",
              "      <td>50</td>\n",
              "      <td>72</td>\n",
              "    </tr>\n",
              "    <tr>\n",
              "      <th>12601</th>\n",
              "      <td>91</td>\n",
              "      <td>85</td>\n",
              "      <td>77</td>\n",
              "    </tr>\n",
              "    <tr>\n",
              "      <th>18908</th>\n",
              "      <td>92</td>\n",
              "      <td>51</td>\n",
              "      <td>56</td>\n",
              "    </tr>\n",
              "    <tr>\n",
              "      <th>11994</th>\n",
              "      <td>95</td>\n",
              "      <td>77</td>\n",
              "      <td>80</td>\n",
              "    </tr>\n",
              "    <tr>\n",
              "      <th>10850</th>\n",
              "      <td>99</td>\n",
              "      <td>78</td>\n",
              "      <td>93</td>\n",
              "    </tr>\n",
              "    <tr>\n",
              "      <th>11899</th>\n",
              "      <td>100</td>\n",
              "      <td>58</td>\n",
              "      <td>72</td>\n",
              "    </tr>\n",
              "    <tr>\n",
              "      <th>19380</th>\n",
              "      <td>91</td>\n",
              "      <td>100</td>\n",
              "      <td>78</td>\n",
              "    </tr>\n",
              "    <tr>\n",
              "      <th>16389</th>\n",
              "      <td>93</td>\n",
              "      <td>92</td>\n",
              "      <td>77</td>\n",
              "    </tr>\n",
              "    <tr>\n",
              "      <th>15814</th>\n",
              "      <td>91</td>\n",
              "      <td>60</td>\n",
              "      <td>58</td>\n",
              "    </tr>\n",
              "    <tr>\n",
              "      <th>10266</th>\n",
              "      <td>93</td>\n",
              "      <td>54</td>\n",
              "      <td>41</td>\n",
              "    </tr>\n",
              "    <tr>\n",
              "      <th>18713</th>\n",
              "      <td>94</td>\n",
              "      <td>89</td>\n",
              "      <td>89</td>\n",
              "    </tr>\n",
              "    <tr>\n",
              "      <th>19427</th>\n",
              "      <td>100</td>\n",
              "      <td>74</td>\n",
              "      <td>50</td>\n",
              "    </tr>\n",
              "    <tr>\n",
              "      <th>12529</th>\n",
              "      <td>95</td>\n",
              "      <td>51</td>\n",
              "      <td>44</td>\n",
              "    </tr>\n",
              "    <tr>\n",
              "      <th>12074</th>\n",
              "      <td>90</td>\n",
              "      <td>95</td>\n",
              "      <td>80</td>\n",
              "    </tr>\n",
              "    <tr>\n",
              "      <th>18758</th>\n",
              "      <td>90</td>\n",
              "      <td>100</td>\n",
              "      <td>63</td>\n",
              "    </tr>\n",
              "    <tr>\n",
              "      <th>18655</th>\n",
              "      <td>93</td>\n",
              "      <td>89</td>\n",
              "      <td>85</td>\n",
              "    </tr>\n",
              "    <tr>\n",
              "      <th>16246</th>\n",
              "      <td>92</td>\n",
              "      <td>80</td>\n",
              "      <td>84</td>\n",
              "    </tr>\n",
              "    <tr>\n",
              "      <th>10170</th>\n",
              "      <td>98</td>\n",
              "      <td>55</td>\n",
              "      <td>60</td>\n",
              "    </tr>\n",
              "    <tr>\n",
              "      <th>15749</th>\n",
              "      <td>94</td>\n",
              "      <td>84</td>\n",
              "      <td>76</td>\n",
              "    </tr>\n",
              "  </tbody>\n",
              "</table>\n",
              "</div>"
            ],
            "text/plain": [
              "       머신러닝  딥러닝  파이썬\n",
              "id                   \n",
              "13660    90   58   74\n",
              "12489    97   97   46\n",
              "19010    97   60   91\n",
              "14734   100   99   79\n",
              "12101    92   50   78\n",
              "11680    95   50   52\n",
              "13992    94   86   43\n",
              "18386    92   76   70\n",
              "12154    99   69   83\n",
              "14047    95   51   91\n",
              "10142    90   99   66\n",
              "17842    93   87   85\n",
              "16798    90   50   72\n",
              "12601    91   85   77\n",
              "18908    92   51   56\n",
              "11994    95   77   80\n",
              "10850    99   78   93\n",
              "11899   100   58   72\n",
              "19380    91  100   78\n",
              "16389    93   92   77\n",
              "15814    91   60   58\n",
              "10266    93   54   41\n",
              "18713    94   89   89\n",
              "19427   100   74   50\n",
              "12529    95   51   44\n",
              "12074    90   95   80\n",
              "18758    90  100   63\n",
              "18655    93   89   85\n",
              "16246    92   80   84\n",
              "10170    98   55   60\n",
              "15749    94   84   76"
            ]
          },
          "metadata": {
            "tags": []
          },
          "execution_count": 5
        }
      ]
    },
    {
      "cell_type": "code",
      "metadata": {
        "trusted": false,
        "id": "ax1ljYa3wVe-",
        "colab_type": "code",
        "colab": {
          "base_uri": "https://localhost:8080/",
          "height": 34
        },
        "outputId": "8f9cf872-3621-44b9-f921-3e9683f33e0f"
      },
      "source": [
        "print('머신러닝 A 학점 학생수: ',len(머신러닝A), '명')"
      ],
      "execution_count": null,
      "outputs": [
        {
          "output_type": "stream",
          "text": [
            "머신러닝 A 학점 학생수:  31 명\n"
          ],
          "name": "stdout"
        }
      ]
    },
    {
      "cell_type": "markdown",
      "metadata": {
        "id": "xx9A68YJwVfD",
        "colab_type": "text"
      },
      "source": [
        "* &, and 나 |, or를 사용해서 다양한 조건을 검색할 수 있습니다. "
      ]
    },
    {
      "cell_type": "code",
      "metadata": {
        "trusted": false,
        "id": "AvUgyB_6wVfE",
        "colab_type": "code",
        "colab": {
          "base_uri": "https://localhost:8080/",
          "height": 195
        },
        "outputId": "6bba9a0a-5d11-4d79-f242-d3ad6de9fadf"
      },
      "source": [
        "# 3과목 모두 80점 이상인 학생 추출\n",
        "point = 85\n",
        "\n",
        "#all = grade.query('머신러닝>=@point and 딥러닝 >=@point and 파이썬 >=@point')\n",
        "all = grade.query('머신러닝>=@point & 딥러닝 >=@point & 파이썬 >=@point')\n",
        "all"
      ],
      "execution_count": null,
      "outputs": [
        {
          "output_type": "execute_result",
          "data": {
            "text/html": [
              "<div>\n",
              "<style scoped>\n",
              "    .dataframe tbody tr th:only-of-type {\n",
              "        vertical-align: middle;\n",
              "    }\n",
              "\n",
              "    .dataframe tbody tr th {\n",
              "        vertical-align: top;\n",
              "    }\n",
              "\n",
              "    .dataframe thead th {\n",
              "        text-align: right;\n",
              "    }\n",
              "</style>\n",
              "<table border=\"1\" class=\"dataframe\">\n",
              "  <thead>\n",
              "    <tr style=\"text-align: right;\">\n",
              "      <th></th>\n",
              "      <th>머신러닝</th>\n",
              "      <th>딥러닝</th>\n",
              "      <th>파이썬</th>\n",
              "    </tr>\n",
              "    <tr>\n",
              "      <th>id</th>\n",
              "      <th></th>\n",
              "      <th></th>\n",
              "      <th></th>\n",
              "    </tr>\n",
              "  </thead>\n",
              "  <tbody>\n",
              "    <tr>\n",
              "      <th>11358</th>\n",
              "      <td>87</td>\n",
              "      <td>95</td>\n",
              "      <td>87</td>\n",
              "    </tr>\n",
              "    <tr>\n",
              "      <th>17842</th>\n",
              "      <td>93</td>\n",
              "      <td>87</td>\n",
              "      <td>85</td>\n",
              "    </tr>\n",
              "    <tr>\n",
              "      <th>18713</th>\n",
              "      <td>94</td>\n",
              "      <td>89</td>\n",
              "      <td>89</td>\n",
              "    </tr>\n",
              "    <tr>\n",
              "      <th>18655</th>\n",
              "      <td>93</td>\n",
              "      <td>89</td>\n",
              "      <td>85</td>\n",
              "    </tr>\n",
              "  </tbody>\n",
              "</table>\n",
              "</div>"
            ],
            "text/plain": [
              "       머신러닝  딥러닝  파이썬\n",
              "id                   \n",
              "11358    87   95   87\n",
              "17842    93   87   85\n",
              "18713    94   89   89\n",
              "18655    93   89   85"
            ]
          },
          "metadata": {
            "tags": []
          },
          "execution_count": 9
        }
      ]
    },
    {
      "cell_type": "code",
      "metadata": {
        "trusted": false,
        "id": "gKJM2L1bwVfJ",
        "colab_type": "code",
        "colab": {
          "base_uri": "https://localhost:8080/",
          "height": 431
        },
        "outputId": "d5e4409d-a2de-463c-deac-6185a7d6b484"
      },
      "source": [
        "# 3과목 중 1과목 이상 70점 미만인 학생 추출\n",
        "point = 70\n",
        "\n",
        "#all = grade.query('머신러닝 < @point or 딥러닝 < @point or 파이썬 < @point')\n",
        "all = grade.query('머신러닝 < @point | 딥러닝 < @point | 파이썬 < @point')\n",
        "all"
      ],
      "execution_count": null,
      "outputs": [
        {
          "output_type": "execute_result",
          "data": {
            "text/html": [
              "<div>\n",
              "<style scoped>\n",
              "    .dataframe tbody tr th:only-of-type {\n",
              "        vertical-align: middle;\n",
              "    }\n",
              "\n",
              "    .dataframe tbody tr th {\n",
              "        vertical-align: top;\n",
              "    }\n",
              "\n",
              "    .dataframe thead th {\n",
              "        text-align: right;\n",
              "    }\n",
              "</style>\n",
              "<table border=\"1\" class=\"dataframe\">\n",
              "  <thead>\n",
              "    <tr style=\"text-align: right;\">\n",
              "      <th></th>\n",
              "      <th>머신러닝</th>\n",
              "      <th>딥러닝</th>\n",
              "      <th>파이썬</th>\n",
              "    </tr>\n",
              "    <tr>\n",
              "      <th>id</th>\n",
              "      <th></th>\n",
              "      <th></th>\n",
              "      <th></th>\n",
              "    </tr>\n",
              "  </thead>\n",
              "  <tbody>\n",
              "    <tr>\n",
              "      <th>12250</th>\n",
              "      <td>70</td>\n",
              "      <td>71</td>\n",
              "      <td>48</td>\n",
              "    </tr>\n",
              "    <tr>\n",
              "      <th>18711</th>\n",
              "      <td>74</td>\n",
              "      <td>67</td>\n",
              "      <td>93</td>\n",
              "    </tr>\n",
              "    <tr>\n",
              "      <th>13660</th>\n",
              "      <td>90</td>\n",
              "      <td>58</td>\n",
              "      <td>74</td>\n",
              "    </tr>\n",
              "    <tr>\n",
              "      <th>14831</th>\n",
              "      <td>82</td>\n",
              "      <td>76</td>\n",
              "      <td>69</td>\n",
              "    </tr>\n",
              "    <tr>\n",
              "      <th>18425</th>\n",
              "      <td>70</td>\n",
              "      <td>55</td>\n",
              "      <td>43</td>\n",
              "    </tr>\n",
              "    <tr>\n",
              "      <th>...</th>\n",
              "      <td>...</td>\n",
              "      <td>...</td>\n",
              "      <td>...</td>\n",
              "    </tr>\n",
              "    <tr>\n",
              "      <th>15794</th>\n",
              "      <td>73</td>\n",
              "      <td>72</td>\n",
              "      <td>65</td>\n",
              "    </tr>\n",
              "    <tr>\n",
              "      <th>10170</th>\n",
              "      <td>98</td>\n",
              "      <td>55</td>\n",
              "      <td>60</td>\n",
              "    </tr>\n",
              "    <tr>\n",
              "      <th>12298</th>\n",
              "      <td>87</td>\n",
              "      <td>75</td>\n",
              "      <td>40</td>\n",
              "    </tr>\n",
              "    <tr>\n",
              "      <th>15967</th>\n",
              "      <td>71</td>\n",
              "      <td>51</td>\n",
              "      <td>48</td>\n",
              "    </tr>\n",
              "    <tr>\n",
              "      <th>18402</th>\n",
              "      <td>81</td>\n",
              "      <td>62</td>\n",
              "      <td>54</td>\n",
              "    </tr>\n",
              "  </tbody>\n",
              "</table>\n",
              "<p>69 rows × 3 columns</p>\n",
              "</div>"
            ],
            "text/plain": [
              "       머신러닝  딥러닝  파이썬\n",
              "id                   \n",
              "12250    70   71   48\n",
              "18711    74   67   93\n",
              "13660    90   58   74\n",
              "14831    82   76   69\n",
              "18425    70   55   43\n",
              "...     ...  ...  ...\n",
              "15794    73   72   65\n",
              "10170    98   55   60\n",
              "12298    87   75   40\n",
              "15967    71   51   48\n",
              "18402    81   62   54\n",
              "\n",
              "[69 rows x 3 columns]"
            ]
          },
          "metadata": {
            "tags": []
          },
          "execution_count": 10
        }
      ]
    },
    {
      "cell_type": "markdown",
      "metadata": {
        "id": "rkty6P_sydBF",
        "colab_type": "text"
      },
      "source": [
        "# 연산하기"
      ]
    },
    {
      "cell_type": "markdown",
      "metadata": {
        "id": "YlCC0CrSyp0M",
        "colab_type": "text"
      },
      "source": [
        "\n",
        "\n",
        "*   컬럼명을 바꿔봅시다\n",
        "*   전체를 바꿀때는 df.columns = 컬럼명 리스트 (df는 dataframe 변수명을 넣습니다)\n",
        "*   부분만 바꿀때는 df = df.rename(columns={'이전컬럼명':'새로운컬럼명',...} 바꾸고 싶은 컬럼이름을 딕셔너리로 넣어줍니다. \n",
        "\n"
      ]
    },
    {
      "cell_type": "code",
      "metadata": {
        "id": "B1Agvrktyfa1",
        "colab_type": "code",
        "colab": {}
      },
      "source": [
        "grade.columns = ['퀴즈', '중간고사', '기말고사']"
      ],
      "execution_count": null,
      "outputs": []
    },
    {
      "cell_type": "code",
      "metadata": {
        "id": "t6M6powOzPkc",
        "colab_type": "code",
        "colab": {}
      },
      "source": [
        "grade = grade.rename(columns = {'중간고사':'중간평가', '기말고사':'기말평가'})"
      ],
      "execution_count": null,
      "outputs": []
    },
    {
      "cell_type": "code",
      "metadata": {
        "id": "Yp64IZqDzZgO",
        "colab_type": "code",
        "colab": {
          "base_uri": "https://localhost:8080/",
          "height": 225
        },
        "outputId": "9f833849-370b-442c-d978-567f99c00450"
      },
      "source": [
        "grade.head()"
      ],
      "execution_count": null,
      "outputs": [
        {
          "output_type": "execute_result",
          "data": {
            "text/html": [
              "<div>\n",
              "<style scoped>\n",
              "    .dataframe tbody tr th:only-of-type {\n",
              "        vertical-align: middle;\n",
              "    }\n",
              "\n",
              "    .dataframe tbody tr th {\n",
              "        vertical-align: top;\n",
              "    }\n",
              "\n",
              "    .dataframe thead th {\n",
              "        text-align: right;\n",
              "    }\n",
              "</style>\n",
              "<table border=\"1\" class=\"dataframe\">\n",
              "  <thead>\n",
              "    <tr style=\"text-align: right;\">\n",
              "      <th></th>\n",
              "      <th>퀴즈</th>\n",
              "      <th>중간평가</th>\n",
              "      <th>기말평가</th>\n",
              "    </tr>\n",
              "    <tr>\n",
              "      <th>id</th>\n",
              "      <th></th>\n",
              "      <th></th>\n",
              "      <th></th>\n",
              "    </tr>\n",
              "  </thead>\n",
              "  <tbody>\n",
              "    <tr>\n",
              "      <th>12250</th>\n",
              "      <td>70</td>\n",
              "      <td>71</td>\n",
              "      <td>48</td>\n",
              "    </tr>\n",
              "    <tr>\n",
              "      <th>18711</th>\n",
              "      <td>74</td>\n",
              "      <td>67</td>\n",
              "      <td>93</td>\n",
              "    </tr>\n",
              "    <tr>\n",
              "      <th>13660</th>\n",
              "      <td>90</td>\n",
              "      <td>58</td>\n",
              "      <td>74</td>\n",
              "    </tr>\n",
              "    <tr>\n",
              "      <th>14831</th>\n",
              "      <td>82</td>\n",
              "      <td>76</td>\n",
              "      <td>69</td>\n",
              "    </tr>\n",
              "    <tr>\n",
              "      <th>18425</th>\n",
              "      <td>70</td>\n",
              "      <td>55</td>\n",
              "      <td>43</td>\n",
              "    </tr>\n",
              "  </tbody>\n",
              "</table>\n",
              "</div>"
            ],
            "text/plain": [
              "       퀴즈  중간평가  기말평가\n",
              "id                   \n",
              "12250  70    71    48\n",
              "18711  74    67    93\n",
              "13660  90    58    74\n",
              "14831  82    76    69\n",
              "18425  70    55    43"
            ]
          },
          "metadata": {
            "tags": []
          },
          "execution_count": 13
        }
      ]
    },
    {
      "cell_type": "markdown",
      "metadata": {
        "id": "GRmY6smLzemH",
        "colab_type": "text"
      },
      "source": [
        "* 퀴즈 20% 중간 30% 기말 50% 의 비중으로 성적 합계를 계산하는 것으로 가정합시다\n",
        "* assign() 함수에 식을 적을 수 있습니다 .\n",
        "* df['column']은 df.column과 같습니다. "
      ]
    },
    {
      "cell_type": "code",
      "metadata": {
        "id": "JLvhGTpkza56",
        "colab_type": "code",
        "colab": {}
      },
      "source": [
        "grade = grade.assign(합계 = grade.퀴즈 * 0.2 + grade.중간평가 * 0.3 + grade.기말평가 * 0.5)"
      ],
      "execution_count": null,
      "outputs": []
    },
    {
      "cell_type": "code",
      "metadata": {
        "id": "Th0Wq6C2zlF9",
        "colab_type": "code",
        "colab": {
          "base_uri": "https://localhost:8080/",
          "height": 450
        },
        "outputId": "1f986a66-952d-4b65-f205-6ad8ae8f67e2"
      },
      "source": [
        "grade"
      ],
      "execution_count": null,
      "outputs": [
        {
          "output_type": "execute_result",
          "data": {
            "text/html": [
              "<div>\n",
              "<style scoped>\n",
              "    .dataframe tbody tr th:only-of-type {\n",
              "        vertical-align: middle;\n",
              "    }\n",
              "\n",
              "    .dataframe tbody tr th {\n",
              "        vertical-align: top;\n",
              "    }\n",
              "\n",
              "    .dataframe thead th {\n",
              "        text-align: right;\n",
              "    }\n",
              "</style>\n",
              "<table border=\"1\" class=\"dataframe\">\n",
              "  <thead>\n",
              "    <tr style=\"text-align: right;\">\n",
              "      <th></th>\n",
              "      <th>퀴즈</th>\n",
              "      <th>중간평가</th>\n",
              "      <th>기말평가</th>\n",
              "      <th>합계</th>\n",
              "    </tr>\n",
              "    <tr>\n",
              "      <th>id</th>\n",
              "      <th></th>\n",
              "      <th></th>\n",
              "      <th></th>\n",
              "      <th></th>\n",
              "    </tr>\n",
              "  </thead>\n",
              "  <tbody>\n",
              "    <tr>\n",
              "      <th>12250</th>\n",
              "      <td>70</td>\n",
              "      <td>71</td>\n",
              "      <td>48</td>\n",
              "      <td>59.3</td>\n",
              "    </tr>\n",
              "    <tr>\n",
              "      <th>18711</th>\n",
              "      <td>74</td>\n",
              "      <td>67</td>\n",
              "      <td>93</td>\n",
              "      <td>81.4</td>\n",
              "    </tr>\n",
              "    <tr>\n",
              "      <th>13660</th>\n",
              "      <td>90</td>\n",
              "      <td>58</td>\n",
              "      <td>74</td>\n",
              "      <td>72.4</td>\n",
              "    </tr>\n",
              "    <tr>\n",
              "      <th>14831</th>\n",
              "      <td>82</td>\n",
              "      <td>76</td>\n",
              "      <td>69</td>\n",
              "      <td>73.7</td>\n",
              "    </tr>\n",
              "    <tr>\n",
              "      <th>18425</th>\n",
              "      <td>70</td>\n",
              "      <td>55</td>\n",
              "      <td>43</td>\n",
              "      <td>52.0</td>\n",
              "    </tr>\n",
              "    <tr>\n",
              "      <th>...</th>\n",
              "      <td>...</td>\n",
              "      <td>...</td>\n",
              "      <td>...</td>\n",
              "      <td>...</td>\n",
              "    </tr>\n",
              "    <tr>\n",
              "      <th>10170</th>\n",
              "      <td>98</td>\n",
              "      <td>55</td>\n",
              "      <td>60</td>\n",
              "      <td>66.1</td>\n",
              "    </tr>\n",
              "    <tr>\n",
              "      <th>12298</th>\n",
              "      <td>87</td>\n",
              "      <td>75</td>\n",
              "      <td>40</td>\n",
              "      <td>59.9</td>\n",
              "    </tr>\n",
              "    <tr>\n",
              "      <th>15967</th>\n",
              "      <td>71</td>\n",
              "      <td>51</td>\n",
              "      <td>48</td>\n",
              "      <td>53.5</td>\n",
              "    </tr>\n",
              "    <tr>\n",
              "      <th>15749</th>\n",
              "      <td>94</td>\n",
              "      <td>84</td>\n",
              "      <td>76</td>\n",
              "      <td>82.0</td>\n",
              "    </tr>\n",
              "    <tr>\n",
              "      <th>18402</th>\n",
              "      <td>81</td>\n",
              "      <td>62</td>\n",
              "      <td>54</td>\n",
              "      <td>61.8</td>\n",
              "    </tr>\n",
              "  </tbody>\n",
              "</table>\n",
              "<p>100 rows × 4 columns</p>\n",
              "</div>"
            ],
            "text/plain": [
              "       퀴즈  중간평가  기말평가    합계\n",
              "id                         \n",
              "12250  70    71    48  59.3\n",
              "18711  74    67    93  81.4\n",
              "13660  90    58    74  72.4\n",
              "14831  82    76    69  73.7\n",
              "18425  70    55    43  52.0\n",
              "...    ..   ...   ...   ...\n",
              "10170  98    55    60  66.1\n",
              "12298  87    75    40  59.9\n",
              "15967  71    51    48  53.5\n",
              "15749  94    84    76  82.0\n",
              "18402  81    62    54  61.8\n",
              "\n",
              "[100 rows x 4 columns]"
            ]
          },
          "metadata": {
            "tags": []
          },
          "execution_count": 30
        }
      ]
    },
    {
      "cell_type": "markdown",
      "metadata": {
        "id": "U1axTeGqzpmi",
        "colab_type": "text"
      },
      "source": [
        "* 성적순으로 정렬해봅시다. \n",
        "* sort_values() 함수를 사용합니다. 기본값은 오름차순, 내림차순은 옵션에 ascending= False를 넣어줘야 함"
      ]
    },
    {
      "cell_type": "code",
      "metadata": {
        "id": "qKwSKceZzmK5",
        "colab_type": "code",
        "colab": {}
      },
      "source": [
        "grade_sort = grade.sort_values('합계', ascending = False)"
      ],
      "execution_count": null,
      "outputs": []
    },
    {
      "cell_type": "code",
      "metadata": {
        "id": "9lmDyzlBzqQA",
        "colab_type": "code",
        "colab": {
          "base_uri": "https://localhost:8080/",
          "height": 225
        },
        "outputId": "062eff71-4b21-46d0-b66c-0a7069892eaa"
      },
      "source": [
        "grade_sort.head()"
      ],
      "execution_count": null,
      "outputs": [
        {
          "output_type": "execute_result",
          "data": {
            "text/html": [
              "<div>\n",
              "<style scoped>\n",
              "    .dataframe tbody tr th:only-of-type {\n",
              "        vertical-align: middle;\n",
              "    }\n",
              "\n",
              "    .dataframe tbody tr th {\n",
              "        vertical-align: top;\n",
              "    }\n",
              "\n",
              "    .dataframe thead th {\n",
              "        text-align: right;\n",
              "    }\n",
              "</style>\n",
              "<table border=\"1\" class=\"dataframe\">\n",
              "  <thead>\n",
              "    <tr style=\"text-align: right;\">\n",
              "      <th></th>\n",
              "      <th>퀴즈</th>\n",
              "      <th>중간평가</th>\n",
              "      <th>기말평가</th>\n",
              "      <th>합계</th>\n",
              "    </tr>\n",
              "    <tr>\n",
              "      <th>id</th>\n",
              "      <th></th>\n",
              "      <th></th>\n",
              "      <th></th>\n",
              "      <th></th>\n",
              "    </tr>\n",
              "  </thead>\n",
              "  <tbody>\n",
              "    <tr>\n",
              "      <th>18713</th>\n",
              "      <td>94</td>\n",
              "      <td>89</td>\n",
              "      <td>89</td>\n",
              "      <td>90.0</td>\n",
              "    </tr>\n",
              "    <tr>\n",
              "      <th>10850</th>\n",
              "      <td>99</td>\n",
              "      <td>78</td>\n",
              "      <td>93</td>\n",
              "      <td>89.7</td>\n",
              "    </tr>\n",
              "    <tr>\n",
              "      <th>10776</th>\n",
              "      <td>73</td>\n",
              "      <td>96</td>\n",
              "      <td>92</td>\n",
              "      <td>89.4</td>\n",
              "    </tr>\n",
              "    <tr>\n",
              "      <th>11358</th>\n",
              "      <td>87</td>\n",
              "      <td>95</td>\n",
              "      <td>87</td>\n",
              "      <td>89.4</td>\n",
              "    </tr>\n",
              "    <tr>\n",
              "      <th>14734</th>\n",
              "      <td>100</td>\n",
              "      <td>99</td>\n",
              "      <td>79</td>\n",
              "      <td>89.2</td>\n",
              "    </tr>\n",
              "  </tbody>\n",
              "</table>\n",
              "</div>"
            ],
            "text/plain": [
              "        퀴즈  중간평가  기말평가    합계\n",
              "id                          \n",
              "18713   94    89    89  90.0\n",
              "10850   99    78    93  89.7\n",
              "10776   73    96    92  89.4\n",
              "11358   87    95    87  89.4\n",
              "14734  100    99    79  89.2"
            ]
          },
          "metadata": {
            "tags": []
          },
          "execution_count": 17
        }
      ]
    },
    {
      "cell_type": "markdown",
      "metadata": {
        "id": "rg0h4Uluz7K5",
        "colab_type": "text"
      },
      "source": [
        "* 특정 컬럼만 선택하기\n",
        "* filter() 함수를 사용합니다. 입력값에 가져오고 싶은 컬럼명을 리스트 형태로 입력합니다"
      ]
    },
    {
      "cell_type": "code",
      "metadata": {
        "id": "k5gzPo2hz6EJ",
        "colab_type": "code",
        "colab": {}
      },
      "source": [
        "grade_final = grade_sort.filter(['기말평가','합계'])"
      ],
      "execution_count": null,
      "outputs": []
    },
    {
      "cell_type": "code",
      "metadata": {
        "id": "a8sCcOga0EBl",
        "colab_type": "code",
        "colab": {
          "base_uri": "https://localhost:8080/",
          "height": 225
        },
        "outputId": "d300de27-6372-4003-fdc9-0fbc416b1966"
      },
      "source": [
        "grade_final.head()"
      ],
      "execution_count": null,
      "outputs": [
        {
          "output_type": "execute_result",
          "data": {
            "text/html": [
              "<div>\n",
              "<style scoped>\n",
              "    .dataframe tbody tr th:only-of-type {\n",
              "        vertical-align: middle;\n",
              "    }\n",
              "\n",
              "    .dataframe tbody tr th {\n",
              "        vertical-align: top;\n",
              "    }\n",
              "\n",
              "    .dataframe thead th {\n",
              "        text-align: right;\n",
              "    }\n",
              "</style>\n",
              "<table border=\"1\" class=\"dataframe\">\n",
              "  <thead>\n",
              "    <tr style=\"text-align: right;\">\n",
              "      <th></th>\n",
              "      <th>기말평가</th>\n",
              "      <th>합계</th>\n",
              "    </tr>\n",
              "    <tr>\n",
              "      <th>id</th>\n",
              "      <th></th>\n",
              "      <th></th>\n",
              "    </tr>\n",
              "  </thead>\n",
              "  <tbody>\n",
              "    <tr>\n",
              "      <th>18713</th>\n",
              "      <td>89</td>\n",
              "      <td>90.0</td>\n",
              "    </tr>\n",
              "    <tr>\n",
              "      <th>10850</th>\n",
              "      <td>93</td>\n",
              "      <td>89.7</td>\n",
              "    </tr>\n",
              "    <tr>\n",
              "      <th>10776</th>\n",
              "      <td>92</td>\n",
              "      <td>89.4</td>\n",
              "    </tr>\n",
              "    <tr>\n",
              "      <th>11358</th>\n",
              "      <td>87</td>\n",
              "      <td>89.4</td>\n",
              "    </tr>\n",
              "    <tr>\n",
              "      <th>14734</th>\n",
              "      <td>79</td>\n",
              "      <td>89.2</td>\n",
              "    </tr>\n",
              "  </tbody>\n",
              "</table>\n",
              "</div>"
            ],
            "text/plain": [
              "       기말평가    합계\n",
              "id               \n",
              "18713    89  90.0\n",
              "10850    93  89.7\n",
              "10776    92  89.4\n",
              "11358    87  89.4\n",
              "14734    79  89.2"
            ]
          },
          "metadata": {
            "tags": []
          },
          "execution_count": 19
        }
      ]
    },
    {
      "cell_type": "code",
      "metadata": {
        "id": "08Gu9tz10Gk0",
        "colab_type": "code",
        "colab": {}
      },
      "source": [
        ""
      ],
      "execution_count": null,
      "outputs": []
    }
  ]
}