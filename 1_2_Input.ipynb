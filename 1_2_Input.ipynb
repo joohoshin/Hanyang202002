{
  "nbformat": 4,
  "nbformat_minor": 0,
  "metadata": {
    "kernelspec": {
      "name": "python36",
      "display_name": "Python 3.6",
      "language": "python"
    },
    "language_info": {
      "mimetype": "text/x-python",
      "nbconvert_exporter": "python",
      "name": "python",
      "pygments_lexer": "ipython3",
      "version": "3.6.6",
      "file_extension": ".py",
      "codemirror_mode": {
        "version": 3,
        "name": "ipython"
      }
    },
    "colab": {
      "name": "1-2. Input.ipynb",
      "provenance": [],
      "include_colab_link": true
    }
  },
  "cells": [
    {
      "cell_type": "markdown",
      "metadata": {
        "id": "view-in-github",
        "colab_type": "text"
      },
      "source": [
        "<a href=\"https://colab.research.google.com/github/joohoshin/MLDL_Basic/blob/master/1_2_Input.ipynb\" target=\"_parent\"><img src=\"https://colab.research.google.com/assets/colab-badge.svg\" alt=\"Open In Colab\"/></a>"
      ]
    },
    {
      "cell_type": "markdown",
      "metadata": {
        "collapsed": true,
        "id": "Hc89fL2cx9oC",
        "colab_type": "text"
      },
      "source": [
        "# Input\n",
        "* input() 명령을 사용하면 컴퓨터에 값을 입력할 수 있습니다. \n",
        "* 입력받은 값은 문자로 저장됩니다. "
      ]
    },
    {
      "cell_type": "code",
      "metadata": {
        "trusted": true,
        "id": "myYfw1Tyx9oD",
        "colab_type": "code",
        "colab": {
          "base_uri": "https://localhost:8080/",
          "height": 53
        },
        "outputId": "17756989-112b-4845-cbe4-1128695b73ae"
      },
      "source": [
        "input()"
      ],
      "execution_count": null,
      "outputs": [
        {
          "output_type": "stream",
          "text": [
            "3\n"
          ],
          "name": "stdout"
        },
        {
          "output_type": "execute_result",
          "data": {
            "application/vnd.google.colaboratory.intrinsic+json": {
              "type": "string"
            },
            "text/plain": [
              "'3'"
            ]
          },
          "metadata": {
            "tags": []
          },
          "execution_count": 1
        }
      ]
    },
    {
      "cell_type": "code",
      "metadata": {
        "trusted": true,
        "id": "CLQIb7FCx9oJ",
        "colab_type": "code",
        "colab": {
          "base_uri": "https://localhost:8080/",
          "height": 35
        },
        "outputId": "b0cd7cd1-df4e-4d14-e405-3d29f3c09fce"
      },
      "source": [
        "id = input('id를 입력하세요: ')"
      ],
      "execution_count": null,
      "outputs": [
        {
          "output_type": "stream",
          "text": [
            "id를 입력하세요: abc\n"
          ],
          "name": "stdout"
        }
      ]
    },
    {
      "cell_type": "code",
      "metadata": {
        "trusted": true,
        "id": "leEyr16dx9oN",
        "colab_type": "code",
        "colab": {
          "base_uri": "https://localhost:8080/",
          "height": 35
        },
        "outputId": "091611e4-6bc9-4127-aa62-3fa8d87a2f0b"
      },
      "source": [
        "print(id)"
      ],
      "execution_count": null,
      "outputs": [
        {
          "output_type": "stream",
          "text": [
            "abc\n"
          ],
          "name": "stdout"
        }
      ]
    },
    {
      "cell_type": "markdown",
      "metadata": {
        "id": "JxSRx6Qex9oQ",
        "colab_type": "text"
      },
      "source": [
        "# Data Type\n",
        "* input으로 저장된 값은 문자로 저장이 되므로 문자를 숫자로 바꾸어야 계산이 됩니다. \n",
        "* str(): 문자로 변경합니다. string의 약자입니다. \n",
        "* int(): 정수로 변경합니다. integer의 약자입니다. \n",
        "* float(): 실수로 변경합니다. \n",
        "* type() 명령을 통해 변수나 값의 데이터 타입을 확인할 수 있습니다. "
      ]
    },
    {
      "cell_type": "code",
      "metadata": {
        "trusted": true,
        "id": "Juon7uKpx9oR",
        "colab_type": "code",
        "colab": {
          "base_uri": "https://localhost:8080/",
          "height": 35
        },
        "outputId": "61982917-75aa-4c25-e428-d912e171a24c"
      },
      "source": [
        "키 = input('당신의 키는 몇 cm 입니까? ')"
      ],
      "execution_count": null,
      "outputs": [
        {
          "output_type": "stream",
          "text": [
            "당신의 키는 몇 cm 입니까? 170\n"
          ],
          "name": "stdout"
        }
      ]
    },
    {
      "cell_type": "code",
      "metadata": {
        "trusted": true,
        "id": "jPdlqIHjx9oU",
        "colab_type": "code",
        "colab": {
          "base_uri": "https://localhost:8080/",
          "height": 35
        },
        "outputId": "b1f837db-08ab-4518-f0b2-473b79c3badd"
      },
      "source": [
        "키"
      ],
      "execution_count": null,
      "outputs": [
        {
          "output_type": "execute_result",
          "data": {
            "application/vnd.google.colaboratory.intrinsic+json": {
              "type": "string"
            },
            "text/plain": [
              "'170'"
            ]
          },
          "metadata": {
            "tags": []
          },
          "execution_count": 5
        }
      ]
    },
    {
      "cell_type": "code",
      "metadata": {
        "trusted": true,
        "id": "PbgHN8rCx9oY",
        "colab_type": "code",
        "colab": {
          "base_uri": "https://localhost:8080/",
          "height": 35
        },
        "outputId": "9b30647c-ca83-4881-d059-fac652156521"
      },
      "source": [
        "type(키)"
      ],
      "execution_count": null,
      "outputs": [
        {
          "output_type": "execute_result",
          "data": {
            "text/plain": [
              "str"
            ]
          },
          "metadata": {
            "tags": []
          },
          "execution_count": 6
        }
      ]
    },
    {
      "cell_type": "code",
      "metadata": {
        "trusted": true,
        "id": "0NguYMowx9oc",
        "colab_type": "code",
        "colab": {
          "base_uri": "https://localhost:8080/",
          "height": 35
        },
        "outputId": "4fab7aa8-c60c-4818-c220-39cb84dfb38a"
      },
      "source": [
        "키 + '3'"
      ],
      "execution_count": null,
      "outputs": [
        {
          "output_type": "execute_result",
          "data": {
            "application/vnd.google.colaboratory.intrinsic+json": {
              "type": "string"
            },
            "text/plain": [
              "'1703'"
            ]
          },
          "metadata": {
            "tags": []
          },
          "execution_count": 7
        }
      ]
    },
    {
      "cell_type": "markdown",
      "metadata": {
        "id": "MVaeG9Z5x9oi",
        "colab_type": "text"
      },
      "source": [
        "* 숫자 연산을 하려면 문자인 입력값을 정수나 실수로 변경을 해야합니다. "
      ]
    },
    {
      "cell_type": "code",
      "metadata": {
        "trusted": true,
        "id": "_30n-_s6x9oi",
        "colab_type": "code",
        "colab": {
          "base_uri": "https://localhost:8080/",
          "height": 35
        },
        "outputId": "59fce42b-68a9-4380-a0c7-4fc882657ff4"
      },
      "source": [
        "평균키 = 175\n",
        "차이 = float(키) - 평균키\n",
        "print('당신은 평균보다 {}cm 큽니다.'.format(차이))"
      ],
      "execution_count": null,
      "outputs": [
        {
          "output_type": "stream",
          "text": [
            "당신은 평균보다 -5.0cm 큽니다.\n"
          ],
          "name": "stdout"
        }
      ]
    },
    {
      "cell_type": "markdown",
      "metadata": {
        "id": "6mtbkNPlx9ol",
        "colab_type": "text"
      },
      "source": [
        "# 주석\n",
        "* 작성한 코드에 설명을 달기 위해서는 실행하지 않게 하는 것이 필요합니다. \n",
        "* Sharp 기호 뒤의 적힌 부분은 실행되지 않습니다. "
      ]
    },
    {
      "cell_type": "code",
      "metadata": {
        "trusted": true,
        "id": "g-1R0tS0x9ol",
        "colab_type": "code",
        "colab": {
          "base_uri": "https://localhost:8080/",
          "height": 35
        },
        "outputId": "fcffc755-d6d9-4510-b973-22e608534333"
      },
      "source": [
        "#print('hello')\n",
        "print('good-bye')"
      ],
      "execution_count": null,
      "outputs": [
        {
          "output_type": "stream",
          "text": [
            "good-bye\n"
          ],
          "name": "stdout"
        }
      ]
    },
    {
      "cell_type": "markdown",
      "metadata": {
        "id": "QFhoEQ24x9oo",
        "colab_type": "text"
      },
      "source": [
        "* 여러 줄 주석은 ''' 또는 \"\"\"를 사용합니다. "
      ]
    },
    {
      "cell_type": "code",
      "metadata": {
        "trusted": true,
        "id": "dVKQrCVGx9oo",
        "colab_type": "code",
        "colab": {
          "base_uri": "https://localhost:8080/",
          "height": 35
        },
        "outputId": "723487fe-cdeb-4c7b-ff44-b623e5e2bcad"
      },
      "source": [
        "'''\n",
        "print(10)\n",
        "print(100)\n",
        "'''\n",
        "print(1000)"
      ],
      "execution_count": null,
      "outputs": [
        {
          "output_type": "stream",
          "text": [
            "1000\n"
          ],
          "name": "stdout"
        }
      ]
    },
    {
      "cell_type": "markdown",
      "metadata": {
        "id": "xIm9Ee-Lx9ow",
        "colab_type": "text"
      },
      "source": [
        "# 활용"
      ]
    },
    {
      "cell_type": "code",
      "metadata": {
        "trusted": true,
        "id": "CBhRy0Ffx9ox",
        "colab_type": "code",
        "colab": {
          "base_uri": "https://localhost:8080/",
          "height": 125
        },
        "outputId": "8c3ba8a8-95c6-4594-872f-777311886968"
      },
      "source": [
        "id = input('id를 입력하세요: ')\n",
        "pw = input('비밀번호를 입력하세요: ')\n",
        "print('{}님 반갑습니다.'.format(id))\n",
        "print()  #빈줄 삽입\n",
        "수입 = input('이번달 수입은 얼마인가요? (만원) ')\n",
        "지난달 = 1000\n",
        "print('{}님 수입이 {}만원이 증가하였습니다.'.format(id, int(수입)-지난달)) #입력값을 숫자로 변경"
      ],
      "execution_count": null,
      "outputs": [
        {
          "output_type": "stream",
          "text": [
            "id를 입력하세요: abc\n",
            "비밀번호를 입력하세요: rrr\n",
            "abc님 반갑습니다.\n",
            "\n",
            "이번달 수입은 얼마인가요? (만원) 2000\n",
            "abc님 수입이 1000만원이 증가하였습니다.\n"
          ],
          "name": "stdout"
        }
      ]
    },
    {
      "cell_type": "code",
      "metadata": {
        "trusted": true,
        "id": "loMt-aS1x9o0",
        "colab_type": "code",
        "colab": {}
      },
      "source": [
        ""
      ],
      "execution_count": null,
      "outputs": []
    }
  ]
}