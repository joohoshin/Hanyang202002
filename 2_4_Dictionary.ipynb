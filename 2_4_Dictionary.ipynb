{
  "nbformat": 4,
  "nbformat_minor": 0,
  "metadata": {
    "kernelspec": {
      "name": "python36",
      "display_name": "Python 3.6",
      "language": "python"
    },
    "language_info": {
      "mimetype": "text/x-python",
      "nbconvert_exporter": "python",
      "name": "python",
      "pygments_lexer": "ipython3",
      "version": "3.6.6",
      "file_extension": ".py",
      "codemirror_mode": {
        "version": 3,
        "name": "ipython"
      }
    },
    "colab": {
      "name": "2-4. Dictionary.ipynb",
      "provenance": [],
      "include_colab_link": true
    }
  },
  "cells": [
    {
      "cell_type": "markdown",
      "metadata": {
        "id": "view-in-github",
        "colab_type": "text"
      },
      "source": [
        "<a href=\"https://colab.research.google.com/github/joohoshin/MLDL_Basic/blob/master/2_4_Dictionary.ipynb\" target=\"_parent\"><img src=\"https://colab.research.google.com/assets/colab-badge.svg\" alt=\"Open In Colab\"/></a>"
      ]
    },
    {
      "cell_type": "markdown",
      "metadata": {
        "collapsed": true,
        "id": "ucbir7DpQQSx",
        "colab_type": "text"
      },
      "source": [
        "# Dictionary\n",
        "* 여러 값을 저장할 수 있으며, 이름: 값 형대로 저장할 수 있음\n",
        "* {} 기호를 사용하며, 리스트와 동일하게 값 구분은 ,를 사용함"
      ]
    },
    {
      "cell_type": "code",
      "metadata": {
        "trusted": true,
        "id": "aX7eL979QQSy",
        "colab_type": "code",
        "colab": {
          "base_uri": "https://localhost:8080/",
          "height": 34
        },
        "outputId": "8ca52ba7-bc65-4b39-91a7-3cbdf6892243"
      },
      "source": [
        "전화번호 = {'손흥민':'000-1111', '박지성':'0000-1234', '메시':'00-0000-1111'}\n",
        "전화번호"
      ],
      "execution_count": null,
      "outputs": [
        {
          "output_type": "execute_result",
          "data": {
            "text/plain": [
              "{'메시': '00-0000-1111', '박지성': '0000-1234', '손흥민': '000-1111'}"
            ]
          },
          "metadata": {
            "tags": []
          },
          "execution_count": 1
        }
      ]
    },
    {
      "cell_type": "markdown",
      "metadata": {
        "id": "O0_DEKDVQQS3",
        "colab_type": "text"
      },
      "source": [
        "* 값은 이름(key)를 []안에 넣어서 가져온다\n",
        "* key는 중복하여 사용할 수 없다. "
      ]
    },
    {
      "cell_type": "code",
      "metadata": {
        "trusted": true,
        "id": "XIbCxtyFQQS3",
        "colab_type": "code",
        "colab": {
          "base_uri": "https://localhost:8080/",
          "height": 35
        },
        "outputId": "373b15bd-3dfd-47bb-fba5-5828f95ab624"
      },
      "source": [
        "전화번호['박지성']"
      ],
      "execution_count": null,
      "outputs": [
        {
          "output_type": "execute_result",
          "data": {
            "application/vnd.google.colaboratory.intrinsic+json": {
              "type": "string"
            },
            "text/plain": [
              "'0000-1234'"
            ]
          },
          "metadata": {
            "tags": []
          },
          "execution_count": 2
        }
      ]
    },
    {
      "cell_type": "markdown",
      "metadata": {
        "id": "baX4TugFQQS7",
        "colab_type": "text"
      },
      "source": [
        "* 추가할 때는 변수명[key] = 값"
      ]
    },
    {
      "cell_type": "code",
      "metadata": {
        "trusted": true,
        "id": "VeEX8VncQQS7",
        "colab_type": "code",
        "colab": {
          "base_uri": "https://localhost:8080/",
          "height": 87
        },
        "outputId": "f192f314-6a67-4138-83d3-3674c88f7df4"
      },
      "source": [
        "전화번호['호날두']='00-0011-1111'\n",
        "전화번호"
      ],
      "execution_count": null,
      "outputs": [
        {
          "output_type": "execute_result",
          "data": {
            "text/plain": [
              "{'메시': '00-0000-1111',\n",
              " '박지성': '0000-1234',\n",
              " '손흥민': '000-1111',\n",
              " '호날두': '00-0011-1111'}"
            ]
          },
          "metadata": {
            "tags": []
          },
          "execution_count": 3
        }
      ]
    },
    {
      "cell_type": "markdown",
      "metadata": {
        "id": "-DkzC6bOQQS_",
        "colab_type": "text"
      },
      "source": [
        "* 삭제는 리스트와 동일하게 del을 사용"
      ]
    },
    {
      "cell_type": "code",
      "metadata": {
        "trusted": true,
        "id": "50gAeltMQQS_",
        "colab_type": "code",
        "colab": {},
        "outputId": "85975b3b-01c5-465c-9598-aca7bcaff3e3"
      },
      "source": [
        "del 전화번호['박지성']\n",
        "전화번호"
      ],
      "execution_count": null,
      "outputs": [
        {
          "output_type": "execute_result",
          "data": {
            "text/plain": [
              "{'손흥민': '000-1111', '메시': '00-0000-1111', '호날두': '00-0011-1111'}"
            ]
          },
          "metadata": {
            "tags": []
          },
          "execution_count": 29
        }
      ]
    },
    {
      "cell_type": "markdown",
      "metadata": {
        "id": "1h1jD_WdQQTC",
        "colab_type": "text"
      },
      "source": [
        "# 활용: 메모장"
      ]
    },
    {
      "cell_type": "code",
      "metadata": {
        "trusted": true,
        "id": "PYMF2qnxQQTD",
        "colab_type": "code",
        "colab": {
          "base_uri": "https://localhost:8080/",
          "height": 210
        },
        "outputId": "3350e282-2c7e-4fa1-acd0-540b214563b2"
      },
      "source": [
        "memo = {} # 빈 메모장\n",
        "\n",
        "print('메모장 프로그램 1.0 ')\n",
        "while True:\n",
        "    print()\n",
        "    menu = input('0: 종료, 1:메모추가, 2:메모읽기, 3: 메모삭제 >> ')\n",
        "    if menu =='0': break\n",
        "    elif menu=='1':\n",
        "        title = input('제목을 입력하세요. >> ')\n",
        "        body = input('내용을 입력하세요. >> ')\n",
        "        memo[title] = body\n",
        "    elif menu=='2':\n",
        "        print(memo)\n",
        "    elif menu=='3':\n",
        "        title = input('삭제하고 싶은 제목을 입력하세요 >> ')\n",
        "        del memo[title]\n",
        "    else:\n",
        "        print('잘못입력하였습니다. ')\n",
        "print('프로그램이 종료되었습니다. ')\n",
        "        \n",
        "        \n",
        "        "
      ],
      "execution_count": null,
      "outputs": [
        {
          "output_type": "stream",
          "text": [
            "메모장 프로그램 1.0 \n",
            "\n",
            "0: 종료, 1:메모추가, 2:메모읽기, 3: 메모삭제 >> 1\n",
            "제목을 입력하세요. >> 테스트\n",
            "내용을 입력하세요. >> 테스트입니다\n",
            "\n",
            "0: 종료, 1:메모추가, 2:메모읽기, 3: 메모삭제 >> 2\n",
            "{'테스트': '테스트입니다'}\n",
            "\n",
            "0: 종료, 1:메모추가, 2:메모읽기, 3: 메모삭제 >> 0\n",
            "프로그램이 종료되었습니다. \n"
          ],
          "name": "stdout"
        }
      ]
    },
    {
      "cell_type": "code",
      "metadata": {
        "trusted": true,
        "id": "lAOv8ou7QQTH",
        "colab_type": "code",
        "colab": {}
      },
      "source": [
        ""
      ],
      "execution_count": null,
      "outputs": []
    }
  ]
}